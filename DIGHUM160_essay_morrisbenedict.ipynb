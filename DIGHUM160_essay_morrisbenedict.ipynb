{
 "cells": [
  {
   "cell_type": "markdown",
   "metadata": {},
   "source": [
    "<img src=\"../../Img/backdrop-wh.png\" alt=\"Drawing\" style=\"width: 300px;\"/>\n",
    "\n",
    "<div style=\"display: block; width: 100%; height: 100px;\">\n",
    "\n",
    "<p style=\"float: left;\">\n",
    "    <span style=\"font-weight: bold; font-size: 20px;\">\n",
    "        DIGHUM160 - Critical Digital Humanities \n",
    "        <br />\n",
    "        Instructor: Tom van Nuenen<br />\n",
    "        Final Project\n",
    "    </span>\n",
    "</p>"
   ]
  },
  {
   "cell_type": "markdown",
   "metadata": {},
   "source": [
    "**Project title:** ```Analyzing the Intersection of Abortion and Patriarchal Relationship Dynamics```\n",
    "\n",
    "**Student name:** ```Elle Morris-Benedict```"
   ]
  },
  {
   "cell_type": "markdown",
   "metadata": {},
   "source": [
    "## Loading Packages"
   ]
  },
  {
   "cell_type": "code",
   "execution_count": 1,
   "metadata": {},
   "outputs": [
    {
     "name": "stderr",
     "output_type": "stream",
     "text": [
      "[nltk_data] Error loading averaged_perceptron_tagger: HTTP Error 503:\n",
      "[nltk_data]     Timed out while waiting\n",
      "[nltk_data] Error loading vader_lexicon: HTTP Error 503: Request\n",
      "[nltk_data]     timedout\n"
     ]
    },
    {
     "name": "stdout",
     "output_type": "stream",
     "text": [
      "Requirement already satisfied: inflect in /opt/anaconda3/lib/python3.11/site-packages (7.3.1)\r\n",
      "Requirement already satisfied: more-itertools>=8.5.0 in /opt/anaconda3/lib/python3.11/site-packages (from inflect) (10.1.0)\r\n",
      "Requirement already satisfied: typeguard>=4.0.1 in /opt/anaconda3/lib/python3.11/site-packages (from inflect) (4.3.0)\r\n",
      "Requirement already satisfied: typing-extensions>=4.10.0 in /opt/anaconda3/lib/python3.11/site-packages (from typeguard>=4.0.1->inflect) (4.12.2)\r\n"
     ]
    },
    {
     "data": {
      "text/html": [
       "    <style>\n",
       "        .bk-notebook-logo {\n",
       "            display: block;\n",
       "            width: 20px;\n",
       "            height: 20px;\n",
       "            background-image: url(data:image/png;base64,iVBORw0KGgoAAAANSUhEUgAAABQAAAAUCAYAAACNiR0NAAAABHNCSVQICAgIfAhkiAAAAAlwSFlzAAALEgAACxIB0t1+/AAAABx0RVh0U29mdHdhcmUAQWRvYmUgRmlyZXdvcmtzIENTNui8sowAAAOkSURBVDiNjZRtaJVlGMd/1/08zzln5zjP1LWcU9N0NkN8m2CYjpgQYQXqSs0I84OLIC0hkEKoPtiH3gmKoiJDU7QpLgoLjLIQCpEsNJ1vqUOdO7ppbuec5+V+rj4ctwzd8IIbbi6u+8f1539dt3A78eXC7QizUF7gyV1fD1Yqg4JWz84yffhm0qkFqBogB9rM8tZdtwVsPUhWhGcFJngGeWrPzHm5oaMmkfEg1usvLFyc8jLRqDOMru7AyC8saQr7GG7f5fvDeH7Ej8CM66nIF+8yngt6HWaKh7k49Soy9nXurCi1o3qUbS3zWfrYeQDTB/Qj6kX6Ybhw4B+bOYoLKCC9H3Nu/leUTZ1JdRWkkn2ldcCamzrcf47KKXdAJllSlxAOkRgyHsGC/zRday5Qld9DyoM4/q/rUoy/CXh3jzOu3bHUVZeU+DEn8FInkPBFlu3+nW3Nw0mk6vCDiWg8CeJaxEwuHS3+z5RgY+YBR6V1Z1nxSOfoaPa4LASWxxdNp+VWTk7+4vzaou8v8PN+xo+KY2xsw6une2frhw05CTYOmQvsEhjhWjn0bmXPjpE1+kplmmkP3suftwTubK9Vq22qKmrBhpY4jvd5afdRA3wGjFAgcnTK2s4hY0/GPNIb0nErGMCRxWOOX64Z8RAC4oCXdklmEvcL8o0BfkNK4lUg9HTl+oPlQxdNo3Mg4Nv175e/1LDGzZen30MEjRUtmXSfiTVu1kK8W4txyV6BMKlbgk3lMwYCiusNy9fVfvvwMxv8Ynl6vxoByANLTWplvuj/nF9m2+PDtt1eiHPBr1oIfhCChQMBw6Aw0UulqTKZdfVvfG7VcfIqLG9bcldL/+pdWTLxLUy8Qq38heUIjh4XlzZxzQm19lLFlr8vdQ97rjZVOLf8nclzckbcD4wxXMidpX30sFd37Fv/GtwwhzhxGVAprjbg0gCAEeIgwCZyTV2Z1REEW8O4py0wsjeloKoMr6iCY6dP92H6Vw/oTyICIthibxjm/DfN9lVz8IqtqKYLUXfoKVMVQVVJOElGjrnnUt9T9wbgp8AyYKaGlqingHZU/uG2NTZSVqwHQTWkx9hxjkpWDaCg6Ckj5qebgBVbT3V3NNXMSiWSDdGV3hrtzla7J+duwPOToIg42ChPQOQjspnSlp1V+Gjdged7+8UN5CRAV7a5EdFNwCjEaBR27b3W890TE7g24NAP/mMDXRWrGoFPQI9ls/MWO2dWFAar/xcOIImbbpA3zgAAAABJRU5ErkJggg==);\n",
       "        }\n",
       "    </style>\n",
       "    <div>\n",
       "        <a href=\"https://bokeh.org\" target=\"_blank\" class=\"bk-notebook-logo\"></a>\n",
       "        <span id=\"f443ba5b-0bec-4852-8442-aebb59d52eda\">Loading BokehJS ...</span>\n",
       "    </div>\n"
      ]
     },
     "metadata": {},
     "output_type": "display_data"
    },
    {
     "data": {
      "application/javascript": [
       "(function(root) {\n",
       "  function now() {\n",
       "    return new Date();\n",
       "  }\n",
       "\n",
       "  const force = true;\n",
       "\n",
       "  if (typeof root._bokeh_onload_callbacks === \"undefined\" || force === true) {\n",
       "    root._bokeh_onload_callbacks = [];\n",
       "    root._bokeh_is_loading = undefined;\n",
       "  }\n",
       "\n",
       "const JS_MIME_TYPE = 'application/javascript';\n",
       "  const HTML_MIME_TYPE = 'text/html';\n",
       "  const EXEC_MIME_TYPE = 'application/vnd.bokehjs_exec.v0+json';\n",
       "  const CLASS_NAME = 'output_bokeh rendered_html';\n",
       "\n",
       "  /**\n",
       "   * Render data to the DOM node\n",
       "   */\n",
       "  function render(props, node) {\n",
       "    const script = document.createElement(\"script\");\n",
       "    node.appendChild(script);\n",
       "  }\n",
       "\n",
       "  /**\n",
       "   * Handle when an output is cleared or removed\n",
       "   */\n",
       "  function handleClearOutput(event, handle) {\n",
       "    function drop(id) {\n",
       "      const view = Bokeh.index.get_by_id(id)\n",
       "      if (view != null) {\n",
       "        view.model.document.clear()\n",
       "        Bokeh.index.delete(view)\n",
       "      }\n",
       "    }\n",
       "\n",
       "    const cell = handle.cell;\n",
       "\n",
       "    const id = cell.output_area._bokeh_element_id;\n",
       "    const server_id = cell.output_area._bokeh_server_id;\n",
       "\n",
       "    // Clean up Bokeh references\n",
       "    if (id != null) {\n",
       "      drop(id)\n",
       "    }\n",
       "\n",
       "    if (server_id !== undefined) {\n",
       "      // Clean up Bokeh references\n",
       "      const cmd_clean = \"from bokeh.io.state import curstate; print(curstate().uuid_to_server['\" + server_id + \"'].get_sessions()[0].document.roots[0]._id)\";\n",
       "      cell.notebook.kernel.execute(cmd_clean, {\n",
       "        iopub: {\n",
       "          output: function(msg) {\n",
       "            const id = msg.content.text.trim()\n",
       "            drop(id)\n",
       "          }\n",
       "        }\n",
       "      });\n",
       "      // Destroy server and session\n",
       "      const cmd_destroy = \"import bokeh.io.notebook as ion; ion.destroy_server('\" + server_id + \"')\";\n",
       "      cell.notebook.kernel.execute(cmd_destroy);\n",
       "    }\n",
       "  }\n",
       "\n",
       "  /**\n",
       "   * Handle when a new output is added\n",
       "   */\n",
       "  function handleAddOutput(event, handle) {\n",
       "    const output_area = handle.output_area;\n",
       "    const output = handle.output;\n",
       "\n",
       "    // limit handleAddOutput to display_data with EXEC_MIME_TYPE content only\n",
       "    if ((output.output_type != \"display_data\") || (!Object.prototype.hasOwnProperty.call(output.data, EXEC_MIME_TYPE))) {\n",
       "      return\n",
       "    }\n",
       "\n",
       "    const toinsert = output_area.element.find(\".\" + CLASS_NAME.split(' ')[0]);\n",
       "\n",
       "    if (output.metadata[EXEC_MIME_TYPE][\"id\"] !== undefined) {\n",
       "      toinsert[toinsert.length - 1].firstChild.textContent = output.data[JS_MIME_TYPE];\n",
       "      // store reference to embed id on output_area\n",
       "      output_area._bokeh_element_id = output.metadata[EXEC_MIME_TYPE][\"id\"];\n",
       "    }\n",
       "    if (output.metadata[EXEC_MIME_TYPE][\"server_id\"] !== undefined) {\n",
       "      const bk_div = document.createElement(\"div\");\n",
       "      bk_div.innerHTML = output.data[HTML_MIME_TYPE];\n",
       "      const script_attrs = bk_div.children[0].attributes;\n",
       "      for (let i = 0; i < script_attrs.length; i++) {\n",
       "        toinsert[toinsert.length - 1].firstChild.setAttribute(script_attrs[i].name, script_attrs[i].value);\n",
       "        toinsert[toinsert.length - 1].firstChild.textContent = bk_div.children[0].textContent\n",
       "      }\n",
       "      // store reference to server id on output_area\n",
       "      output_area._bokeh_server_id = output.metadata[EXEC_MIME_TYPE][\"server_id\"];\n",
       "    }\n",
       "  }\n",
       "\n",
       "  function register_renderer(events, OutputArea) {\n",
       "\n",
       "    function append_mime(data, metadata, element) {\n",
       "      // create a DOM node to render to\n",
       "      const toinsert = this.create_output_subarea(\n",
       "        metadata,\n",
       "        CLASS_NAME,\n",
       "        EXEC_MIME_TYPE\n",
       "      );\n",
       "      this.keyboard_manager.register_events(toinsert);\n",
       "      // Render to node\n",
       "      const props = {data: data, metadata: metadata[EXEC_MIME_TYPE]};\n",
       "      render(props, toinsert[toinsert.length - 1]);\n",
       "      element.append(toinsert);\n",
       "      return toinsert\n",
       "    }\n",
       "\n",
       "    /* Handle when an output is cleared or removed */\n",
       "    events.on('clear_output.CodeCell', handleClearOutput);\n",
       "    events.on('delete.Cell', handleClearOutput);\n",
       "\n",
       "    /* Handle when a new output is added */\n",
       "    events.on('output_added.OutputArea', handleAddOutput);\n",
       "\n",
       "    /**\n",
       "     * Register the mime type and append_mime function with output_area\n",
       "     */\n",
       "    OutputArea.prototype.register_mime_type(EXEC_MIME_TYPE, append_mime, {\n",
       "      /* Is output safe? */\n",
       "      safe: true,\n",
       "      /* Index of renderer in `output_area.display_order` */\n",
       "      index: 0\n",
       "    });\n",
       "  }\n",
       "\n",
       "  // register the mime type if in Jupyter Notebook environment and previously unregistered\n",
       "  if (root.Jupyter !== undefined) {\n",
       "    const events = require('base/js/events');\n",
       "    const OutputArea = require('notebook/js/outputarea').OutputArea;\n",
       "\n",
       "    if (OutputArea.prototype.mime_types().indexOf(EXEC_MIME_TYPE) == -1) {\n",
       "      register_renderer(events, OutputArea);\n",
       "    }\n",
       "  }\n",
       "  if (typeof (root._bokeh_timeout) === \"undefined\" || force === true) {\n",
       "    root._bokeh_timeout = Date.now() + 5000;\n",
       "    root._bokeh_failed_load = false;\n",
       "  }\n",
       "\n",
       "  const NB_LOAD_WARNING = {'data': {'text/html':\n",
       "     \"<div style='background-color: #fdd'>\\n\"+\n",
       "     \"<p>\\n\"+\n",
       "     \"BokehJS does not appear to have successfully loaded. If loading BokehJS from CDN, this \\n\"+\n",
       "     \"may be due to a slow or bad network connection. Possible fixes:\\n\"+\n",
       "     \"</p>\\n\"+\n",
       "     \"<ul>\\n\"+\n",
       "     \"<li>re-rerun `output_notebook()` to attempt to load from CDN again, or</li>\\n\"+\n",
       "     \"<li>use INLINE resources instead, as so:</li>\\n\"+\n",
       "     \"</ul>\\n\"+\n",
       "     \"<code>\\n\"+\n",
       "     \"from bokeh.resources import INLINE\\n\"+\n",
       "     \"output_notebook(resources=INLINE)\\n\"+\n",
       "     \"</code>\\n\"+\n",
       "     \"</div>\"}};\n",
       "\n",
       "  function display_loaded() {\n",
       "    const el = document.getElementById(\"f443ba5b-0bec-4852-8442-aebb59d52eda\");\n",
       "    if (el != null) {\n",
       "      el.textContent = \"BokehJS is loading...\";\n",
       "    }\n",
       "    if (root.Bokeh !== undefined) {\n",
       "      if (el != null) {\n",
       "        el.textContent = \"BokehJS \" + root.Bokeh.version + \" successfully loaded.\";\n",
       "      }\n",
       "    } else if (Date.now() < root._bokeh_timeout) {\n",
       "      setTimeout(display_loaded, 100)\n",
       "    }\n",
       "  }\n",
       "\n",
       "  function run_callbacks() {\n",
       "    try {\n",
       "      root._bokeh_onload_callbacks.forEach(function(callback) {\n",
       "        if (callback != null)\n",
       "          callback();\n",
       "      });\n",
       "    } finally {\n",
       "      delete root._bokeh_onload_callbacks\n",
       "    }\n",
       "    console.debug(\"Bokeh: all callbacks have finished\");\n",
       "  }\n",
       "\n",
       "  function load_libs(css_urls, js_urls, callback) {\n",
       "    if (css_urls == null) css_urls = [];\n",
       "    if (js_urls == null) js_urls = [];\n",
       "\n",
       "    root._bokeh_onload_callbacks.push(callback);\n",
       "    if (root._bokeh_is_loading > 0) {\n",
       "      console.debug(\"Bokeh: BokehJS is being loaded, scheduling callback at\", now());\n",
       "      return null;\n",
       "    }\n",
       "    if (js_urls == null || js_urls.length === 0) {\n",
       "      run_callbacks();\n",
       "      return null;\n",
       "    }\n",
       "    console.debug(\"Bokeh: BokehJS not loaded, scheduling load and callback at\", now());\n",
       "    root._bokeh_is_loading = css_urls.length + js_urls.length;\n",
       "\n",
       "    function on_load() {\n",
       "      root._bokeh_is_loading--;\n",
       "      if (root._bokeh_is_loading === 0) {\n",
       "        console.debug(\"Bokeh: all BokehJS libraries/stylesheets loaded\");\n",
       "        run_callbacks()\n",
       "      }\n",
       "    }\n",
       "\n",
       "    function on_error(url) {\n",
       "      console.error(\"failed to load \" + url);\n",
       "    }\n",
       "\n",
       "    for (let i = 0; i < css_urls.length; i++) {\n",
       "      const url = css_urls[i];\n",
       "      const element = document.createElement(\"link\");\n",
       "      element.onload = on_load;\n",
       "      element.onerror = on_error.bind(null, url);\n",
       "      element.rel = \"stylesheet\";\n",
       "      element.type = \"text/css\";\n",
       "      element.href = url;\n",
       "      console.debug(\"Bokeh: injecting link tag for BokehJS stylesheet: \", url);\n",
       "      document.body.appendChild(element);\n",
       "    }\n",
       "\n",
       "    for (let i = 0; i < js_urls.length; i++) {\n",
       "      const url = js_urls[i];\n",
       "      const element = document.createElement('script');\n",
       "      element.onload = on_load;\n",
       "      element.onerror = on_error.bind(null, url);\n",
       "      element.async = false;\n",
       "      element.src = url;\n",
       "      console.debug(\"Bokeh: injecting script tag for BokehJS library: \", url);\n",
       "      document.head.appendChild(element);\n",
       "    }\n",
       "  };\n",
       "\n",
       "  function inject_raw_css(css) {\n",
       "    const element = document.createElement(\"style\");\n",
       "    element.appendChild(document.createTextNode(css));\n",
       "    document.body.appendChild(element);\n",
       "  }\n",
       "\n",
       "  const js_urls = [\"https://cdn.bokeh.org/bokeh/release/bokeh-3.3.4.min.js\", \"https://cdn.bokeh.org/bokeh/release/bokeh-gl-3.3.4.min.js\", \"https://cdn.bokeh.org/bokeh/release/bokeh-widgets-3.3.4.min.js\", \"https://cdn.bokeh.org/bokeh/release/bokeh-tables-3.3.4.min.js\", \"https://cdn.bokeh.org/bokeh/release/bokeh-mathjax-3.3.4.min.js\"];\n",
       "  const css_urls = [];\n",
       "\n",
       "  const inline_js = [    function(Bokeh) {\n",
       "      Bokeh.set_log_level(\"info\");\n",
       "    },\n",
       "function(Bokeh) {\n",
       "    }\n",
       "  ];\n",
       "\n",
       "  function run_inline_js() {\n",
       "    if (root.Bokeh !== undefined || force === true) {\n",
       "          for (let i = 0; i < inline_js.length; i++) {\n",
       "      inline_js[i].call(root, root.Bokeh);\n",
       "    }\n",
       "if (force === true) {\n",
       "        display_loaded();\n",
       "      }} else if (Date.now() < root._bokeh_timeout) {\n",
       "      setTimeout(run_inline_js, 100);\n",
       "    } else if (!root._bokeh_failed_load) {\n",
       "      console.log(\"Bokeh: BokehJS failed to load within specified timeout.\");\n",
       "      root._bokeh_failed_load = true;\n",
       "    } else if (force !== true) {\n",
       "      const cell = $(document.getElementById(\"f443ba5b-0bec-4852-8442-aebb59d52eda\")).parents('.cell').data().cell;\n",
       "      cell.output_area.append_execute_result(NB_LOAD_WARNING)\n",
       "    }\n",
       "  }\n",
       "\n",
       "  if (root._bokeh_is_loading === 0) {\n",
       "    console.debug(\"Bokeh: BokehJS loaded, going straight to plotting\");\n",
       "    run_inline_js();\n",
       "  } else {\n",
       "    load_libs(css_urls, js_urls, function() {\n",
       "      console.debug(\"Bokeh: BokehJS plotting callback run at\", now());\n",
       "      run_inline_js();\n",
       "    });\n",
       "  }\n",
       "}(window));"
      ],
      "application/vnd.bokehjs_load.v0+json": "(function(root) {\n  function now() {\n    return new Date();\n  }\n\n  const force = true;\n\n  if (typeof root._bokeh_onload_callbacks === \"undefined\" || force === true) {\n    root._bokeh_onload_callbacks = [];\n    root._bokeh_is_loading = undefined;\n  }\n\n\n  if (typeof (root._bokeh_timeout) === \"undefined\" || force === true) {\n    root._bokeh_timeout = Date.now() + 5000;\n    root._bokeh_failed_load = false;\n  }\n\n  const NB_LOAD_WARNING = {'data': {'text/html':\n     \"<div style='background-color: #fdd'>\\n\"+\n     \"<p>\\n\"+\n     \"BokehJS does not appear to have successfully loaded. If loading BokehJS from CDN, this \\n\"+\n     \"may be due to a slow or bad network connection. Possible fixes:\\n\"+\n     \"</p>\\n\"+\n     \"<ul>\\n\"+\n     \"<li>re-rerun `output_notebook()` to attempt to load from CDN again, or</li>\\n\"+\n     \"<li>use INLINE resources instead, as so:</li>\\n\"+\n     \"</ul>\\n\"+\n     \"<code>\\n\"+\n     \"from bokeh.resources import INLINE\\n\"+\n     \"output_notebook(resources=INLINE)\\n\"+\n     \"</code>\\n\"+\n     \"</div>\"}};\n\n  function display_loaded() {\n    const el = document.getElementById(\"f443ba5b-0bec-4852-8442-aebb59d52eda\");\n    if (el != null) {\n      el.textContent = \"BokehJS is loading...\";\n    }\n    if (root.Bokeh !== undefined) {\n      if (el != null) {\n        el.textContent = \"BokehJS \" + root.Bokeh.version + \" successfully loaded.\";\n      }\n    } else if (Date.now() < root._bokeh_timeout) {\n      setTimeout(display_loaded, 100)\n    }\n  }\n\n  function run_callbacks() {\n    try {\n      root._bokeh_onload_callbacks.forEach(function(callback) {\n        if (callback != null)\n          callback();\n      });\n    } finally {\n      delete root._bokeh_onload_callbacks\n    }\n    console.debug(\"Bokeh: all callbacks have finished\");\n  }\n\n  function load_libs(css_urls, js_urls, callback) {\n    if (css_urls == null) css_urls = [];\n    if (js_urls == null) js_urls = [];\n\n    root._bokeh_onload_callbacks.push(callback);\n    if (root._bokeh_is_loading > 0) {\n      console.debug(\"Bokeh: BokehJS is being loaded, scheduling callback at\", now());\n      return null;\n    }\n    if (js_urls == null || js_urls.length === 0) {\n      run_callbacks();\n      return null;\n    }\n    console.debug(\"Bokeh: BokehJS not loaded, scheduling load and callback at\", now());\n    root._bokeh_is_loading = css_urls.length + js_urls.length;\n\n    function on_load() {\n      root._bokeh_is_loading--;\n      if (root._bokeh_is_loading === 0) {\n        console.debug(\"Bokeh: all BokehJS libraries/stylesheets loaded\");\n        run_callbacks()\n      }\n    }\n\n    function on_error(url) {\n      console.error(\"failed to load \" + url);\n    }\n\n    for (let i = 0; i < css_urls.length; i++) {\n      const url = css_urls[i];\n      const element = document.createElement(\"link\");\n      element.onload = on_load;\n      element.onerror = on_error.bind(null, url);\n      element.rel = \"stylesheet\";\n      element.type = \"text/css\";\n      element.href = url;\n      console.debug(\"Bokeh: injecting link tag for BokehJS stylesheet: \", url);\n      document.body.appendChild(element);\n    }\n\n    for (let i = 0; i < js_urls.length; i++) {\n      const url = js_urls[i];\n      const element = document.createElement('script');\n      element.onload = on_load;\n      element.onerror = on_error.bind(null, url);\n      element.async = false;\n      element.src = url;\n      console.debug(\"Bokeh: injecting script tag for BokehJS library: \", url);\n      document.head.appendChild(element);\n    }\n  };\n\n  function inject_raw_css(css) {\n    const element = document.createElement(\"style\");\n    element.appendChild(document.createTextNode(css));\n    document.body.appendChild(element);\n  }\n\n  const js_urls = [\"https://cdn.bokeh.org/bokeh/release/bokeh-3.3.4.min.js\", \"https://cdn.bokeh.org/bokeh/release/bokeh-gl-3.3.4.min.js\", \"https://cdn.bokeh.org/bokeh/release/bokeh-widgets-3.3.4.min.js\", \"https://cdn.bokeh.org/bokeh/release/bokeh-tables-3.3.4.min.js\", \"https://cdn.bokeh.org/bokeh/release/bokeh-mathjax-3.3.4.min.js\"];\n  const css_urls = [];\n\n  const inline_js = [    function(Bokeh) {\n      Bokeh.set_log_level(\"info\");\n    },\nfunction(Bokeh) {\n    }\n  ];\n\n  function run_inline_js() {\n    if (root.Bokeh !== undefined || force === true) {\n          for (let i = 0; i < inline_js.length; i++) {\n      inline_js[i].call(root, root.Bokeh);\n    }\nif (force === true) {\n        display_loaded();\n      }} else if (Date.now() < root._bokeh_timeout) {\n      setTimeout(run_inline_js, 100);\n    } else if (!root._bokeh_failed_load) {\n      console.log(\"Bokeh: BokehJS failed to load within specified timeout.\");\n      root._bokeh_failed_load = true;\n    } else if (force !== true) {\n      const cell = $(document.getElementById(\"f443ba5b-0bec-4852-8442-aebb59d52eda\")).parents('.cell').data().cell;\n      cell.output_area.append_execute_result(NB_LOAD_WARNING)\n    }\n  }\n\n  if (root._bokeh_is_loading === 0) {\n    console.debug(\"Bokeh: BokehJS loaded, going straight to plotting\");\n    run_inline_js();\n  } else {\n    load_libs(css_urls, js_urls, function() {\n      console.debug(\"Bokeh: BokehJS plotting callback run at\", now());\n      run_inline_js();\n    });\n  }\n}(window));"
     },
     "metadata": {},
     "output_type": "display_data"
    },
    {
     "data": {
      "text/html": [
       "    <style>\n",
       "        .bk-notebook-logo {\n",
       "            display: block;\n",
       "            width: 20px;\n",
       "            height: 20px;\n",
       "            background-image: url(data:image/png;base64,iVBORw0KGgoAAAANSUhEUgAAABQAAAAUCAYAAACNiR0NAAAABHNCSVQICAgIfAhkiAAAAAlwSFlzAAALEgAACxIB0t1+/AAAABx0RVh0U29mdHdhcmUAQWRvYmUgRmlyZXdvcmtzIENTNui8sowAAAOkSURBVDiNjZRtaJVlGMd/1/08zzln5zjP1LWcU9N0NkN8m2CYjpgQYQXqSs0I84OLIC0hkEKoPtiH3gmKoiJDU7QpLgoLjLIQCpEsNJ1vqUOdO7ppbuec5+V+rj4ctwzd8IIbbi6u+8f1539dt3A78eXC7QizUF7gyV1fD1Yqg4JWz84yffhm0qkFqBogB9rM8tZdtwVsPUhWhGcFJngGeWrPzHm5oaMmkfEg1usvLFyc8jLRqDOMru7AyC8saQr7GG7f5fvDeH7Ej8CM66nIF+8yngt6HWaKh7k49Soy9nXurCi1o3qUbS3zWfrYeQDTB/Qj6kX6Ybhw4B+bOYoLKCC9H3Nu/leUTZ1JdRWkkn2ldcCamzrcf47KKXdAJllSlxAOkRgyHsGC/zRday5Qld9DyoM4/q/rUoy/CXh3jzOu3bHUVZeU+DEn8FInkPBFlu3+nW3Nw0mk6vCDiWg8CeJaxEwuHS3+z5RgY+YBR6V1Z1nxSOfoaPa4LASWxxdNp+VWTk7+4vzaou8v8PN+xo+KY2xsw6une2frhw05CTYOmQvsEhjhWjn0bmXPjpE1+kplmmkP3suftwTubK9Vq22qKmrBhpY4jvd5afdRA3wGjFAgcnTK2s4hY0/GPNIb0nErGMCRxWOOX64Z8RAC4oCXdklmEvcL8o0BfkNK4lUg9HTl+oPlQxdNo3Mg4Nv175e/1LDGzZen30MEjRUtmXSfiTVu1kK8W4txyV6BMKlbgk3lMwYCiusNy9fVfvvwMxv8Ynl6vxoByANLTWplvuj/nF9m2+PDtt1eiHPBr1oIfhCChQMBw6Aw0UulqTKZdfVvfG7VcfIqLG9bcldL/+pdWTLxLUy8Qq38heUIjh4XlzZxzQm19lLFlr8vdQ97rjZVOLf8nclzckbcD4wxXMidpX30sFd37Fv/GtwwhzhxGVAprjbg0gCAEeIgwCZyTV2Z1REEW8O4py0wsjeloKoMr6iCY6dP92H6Vw/oTyICIthibxjm/DfN9lVz8IqtqKYLUXfoKVMVQVVJOElGjrnnUt9T9wbgp8AyYKaGlqingHZU/uG2NTZSVqwHQTWkx9hxjkpWDaCg6Ckj5qebgBVbT3V3NNXMSiWSDdGV3hrtzla7J+duwPOToIg42ChPQOQjspnSlp1V+Gjdged7+8UN5CRAV7a5EdFNwCjEaBR27b3W890TE7g24NAP/mMDXRWrGoFPQI9ls/MWO2dWFAar/xcOIImbbpA3zgAAAABJRU5ErkJggg==);\n",
       "        }\n",
       "    </style>\n",
       "    <div>\n",
       "        <a href=\"https://bokeh.org\" target=\"_blank\" class=\"bk-notebook-logo\"></a>\n",
       "        <span id=\"d652508e-3128-4a73-b2f5-33d31f79eb80\">Loading BokehJS ...</span>\n",
       "    </div>\n"
      ]
     },
     "metadata": {},
     "output_type": "display_data"
    },
    {
     "data": {
      "application/javascript": [
       "(function(root) {\n",
       "  function now() {\n",
       "    return new Date();\n",
       "  }\n",
       "\n",
       "  const force = true;\n",
       "\n",
       "  if (typeof root._bokeh_onload_callbacks === \"undefined\" || force === true) {\n",
       "    root._bokeh_onload_callbacks = [];\n",
       "    root._bokeh_is_loading = undefined;\n",
       "  }\n",
       "\n",
       "const JS_MIME_TYPE = 'application/javascript';\n",
       "  const HTML_MIME_TYPE = 'text/html';\n",
       "  const EXEC_MIME_TYPE = 'application/vnd.bokehjs_exec.v0+json';\n",
       "  const CLASS_NAME = 'output_bokeh rendered_html';\n",
       "\n",
       "  /**\n",
       "   * Render data to the DOM node\n",
       "   */\n",
       "  function render(props, node) {\n",
       "    const script = document.createElement(\"script\");\n",
       "    node.appendChild(script);\n",
       "  }\n",
       "\n",
       "  /**\n",
       "   * Handle when an output is cleared or removed\n",
       "   */\n",
       "  function handleClearOutput(event, handle) {\n",
       "    function drop(id) {\n",
       "      const view = Bokeh.index.get_by_id(id)\n",
       "      if (view != null) {\n",
       "        view.model.document.clear()\n",
       "        Bokeh.index.delete(view)\n",
       "      }\n",
       "    }\n",
       "\n",
       "    const cell = handle.cell;\n",
       "\n",
       "    const id = cell.output_area._bokeh_element_id;\n",
       "    const server_id = cell.output_area._bokeh_server_id;\n",
       "\n",
       "    // Clean up Bokeh references\n",
       "    if (id != null) {\n",
       "      drop(id)\n",
       "    }\n",
       "\n",
       "    if (server_id !== undefined) {\n",
       "      // Clean up Bokeh references\n",
       "      const cmd_clean = \"from bokeh.io.state import curstate; print(curstate().uuid_to_server['\" + server_id + \"'].get_sessions()[0].document.roots[0]._id)\";\n",
       "      cell.notebook.kernel.execute(cmd_clean, {\n",
       "        iopub: {\n",
       "          output: function(msg) {\n",
       "            const id = msg.content.text.trim()\n",
       "            drop(id)\n",
       "          }\n",
       "        }\n",
       "      });\n",
       "      // Destroy server and session\n",
       "      const cmd_destroy = \"import bokeh.io.notebook as ion; ion.destroy_server('\" + server_id + \"')\";\n",
       "      cell.notebook.kernel.execute(cmd_destroy);\n",
       "    }\n",
       "  }\n",
       "\n",
       "  /**\n",
       "   * Handle when a new output is added\n",
       "   */\n",
       "  function handleAddOutput(event, handle) {\n",
       "    const output_area = handle.output_area;\n",
       "    const output = handle.output;\n",
       "\n",
       "    // limit handleAddOutput to display_data with EXEC_MIME_TYPE content only\n",
       "    if ((output.output_type != \"display_data\") || (!Object.prototype.hasOwnProperty.call(output.data, EXEC_MIME_TYPE))) {\n",
       "      return\n",
       "    }\n",
       "\n",
       "    const toinsert = output_area.element.find(\".\" + CLASS_NAME.split(' ')[0]);\n",
       "\n",
       "    if (output.metadata[EXEC_MIME_TYPE][\"id\"] !== undefined) {\n",
       "      toinsert[toinsert.length - 1].firstChild.textContent = output.data[JS_MIME_TYPE];\n",
       "      // store reference to embed id on output_area\n",
       "      output_area._bokeh_element_id = output.metadata[EXEC_MIME_TYPE][\"id\"];\n",
       "    }\n",
       "    if (output.metadata[EXEC_MIME_TYPE][\"server_id\"] !== undefined) {\n",
       "      const bk_div = document.createElement(\"div\");\n",
       "      bk_div.innerHTML = output.data[HTML_MIME_TYPE];\n",
       "      const script_attrs = bk_div.children[0].attributes;\n",
       "      for (let i = 0; i < script_attrs.length; i++) {\n",
       "        toinsert[toinsert.length - 1].firstChild.setAttribute(script_attrs[i].name, script_attrs[i].value);\n",
       "        toinsert[toinsert.length - 1].firstChild.textContent = bk_div.children[0].textContent\n",
       "      }\n",
       "      // store reference to server id on output_area\n",
       "      output_area._bokeh_server_id = output.metadata[EXEC_MIME_TYPE][\"server_id\"];\n",
       "    }\n",
       "  }\n",
       "\n",
       "  function register_renderer(events, OutputArea) {\n",
       "\n",
       "    function append_mime(data, metadata, element) {\n",
       "      // create a DOM node to render to\n",
       "      const toinsert = this.create_output_subarea(\n",
       "        metadata,\n",
       "        CLASS_NAME,\n",
       "        EXEC_MIME_TYPE\n",
       "      );\n",
       "      this.keyboard_manager.register_events(toinsert);\n",
       "      // Render to node\n",
       "      const props = {data: data, metadata: metadata[EXEC_MIME_TYPE]};\n",
       "      render(props, toinsert[toinsert.length - 1]);\n",
       "      element.append(toinsert);\n",
       "      return toinsert\n",
       "    }\n",
       "\n",
       "    /* Handle when an output is cleared or removed */\n",
       "    events.on('clear_output.CodeCell', handleClearOutput);\n",
       "    events.on('delete.Cell', handleClearOutput);\n",
       "\n",
       "    /* Handle when a new output is added */\n",
       "    events.on('output_added.OutputArea', handleAddOutput);\n",
       "\n",
       "    /**\n",
       "     * Register the mime type and append_mime function with output_area\n",
       "     */\n",
       "    OutputArea.prototype.register_mime_type(EXEC_MIME_TYPE, append_mime, {\n",
       "      /* Is output safe? */\n",
       "      safe: true,\n",
       "      /* Index of renderer in `output_area.display_order` */\n",
       "      index: 0\n",
       "    });\n",
       "  }\n",
       "\n",
       "  // register the mime type if in Jupyter Notebook environment and previously unregistered\n",
       "  if (root.Jupyter !== undefined) {\n",
       "    const events = require('base/js/events');\n",
       "    const OutputArea = require('notebook/js/outputarea').OutputArea;\n",
       "\n",
       "    if (OutputArea.prototype.mime_types().indexOf(EXEC_MIME_TYPE) == -1) {\n",
       "      register_renderer(events, OutputArea);\n",
       "    }\n",
       "  }\n",
       "  if (typeof (root._bokeh_timeout) === \"undefined\" || force === true) {\n",
       "    root._bokeh_timeout = Date.now() + 5000;\n",
       "    root._bokeh_failed_load = false;\n",
       "  }\n",
       "\n",
       "  const NB_LOAD_WARNING = {'data': {'text/html':\n",
       "     \"<div style='background-color: #fdd'>\\n\"+\n",
       "     \"<p>\\n\"+\n",
       "     \"BokehJS does not appear to have successfully loaded. If loading BokehJS from CDN, this \\n\"+\n",
       "     \"may be due to a slow or bad network connection. Possible fixes:\\n\"+\n",
       "     \"</p>\\n\"+\n",
       "     \"<ul>\\n\"+\n",
       "     \"<li>re-rerun `output_notebook()` to attempt to load from CDN again, or</li>\\n\"+\n",
       "     \"<li>use INLINE resources instead, as so:</li>\\n\"+\n",
       "     \"</ul>\\n\"+\n",
       "     \"<code>\\n\"+\n",
       "     \"from bokeh.resources import INLINE\\n\"+\n",
       "     \"output_notebook(resources=INLINE)\\n\"+\n",
       "     \"</code>\\n\"+\n",
       "     \"</div>\"}};\n",
       "\n",
       "  function display_loaded() {\n",
       "    const el = document.getElementById(\"d652508e-3128-4a73-b2f5-33d31f79eb80\");\n",
       "    if (el != null) {\n",
       "      el.textContent = \"BokehJS is loading...\";\n",
       "    }\n",
       "    if (root.Bokeh !== undefined) {\n",
       "      if (el != null) {\n",
       "        el.textContent = \"BokehJS \" + root.Bokeh.version + \" successfully loaded.\";\n",
       "      }\n",
       "    } else if (Date.now() < root._bokeh_timeout) {\n",
       "      setTimeout(display_loaded, 100)\n",
       "    }\n",
       "  }\n",
       "\n",
       "  function run_callbacks() {\n",
       "    try {\n",
       "      root._bokeh_onload_callbacks.forEach(function(callback) {\n",
       "        if (callback != null)\n",
       "          callback();\n",
       "      });\n",
       "    } finally {\n",
       "      delete root._bokeh_onload_callbacks\n",
       "    }\n",
       "    console.debug(\"Bokeh: all callbacks have finished\");\n",
       "  }\n",
       "\n",
       "  function load_libs(css_urls, js_urls, callback) {\n",
       "    if (css_urls == null) css_urls = [];\n",
       "    if (js_urls == null) js_urls = [];\n",
       "\n",
       "    root._bokeh_onload_callbacks.push(callback);\n",
       "    if (root._bokeh_is_loading > 0) {\n",
       "      console.debug(\"Bokeh: BokehJS is being loaded, scheduling callback at\", now());\n",
       "      return null;\n",
       "    }\n",
       "    if (js_urls == null || js_urls.length === 0) {\n",
       "      run_callbacks();\n",
       "      return null;\n",
       "    }\n",
       "    console.debug(\"Bokeh: BokehJS not loaded, scheduling load and callback at\", now());\n",
       "    root._bokeh_is_loading = css_urls.length + js_urls.length;\n",
       "\n",
       "    function on_load() {\n",
       "      root._bokeh_is_loading--;\n",
       "      if (root._bokeh_is_loading === 0) {\n",
       "        console.debug(\"Bokeh: all BokehJS libraries/stylesheets loaded\");\n",
       "        run_callbacks()\n",
       "      }\n",
       "    }\n",
       "\n",
       "    function on_error(url) {\n",
       "      console.error(\"failed to load \" + url);\n",
       "    }\n",
       "\n",
       "    for (let i = 0; i < css_urls.length; i++) {\n",
       "      const url = css_urls[i];\n",
       "      const element = document.createElement(\"link\");\n",
       "      element.onload = on_load;\n",
       "      element.onerror = on_error.bind(null, url);\n",
       "      element.rel = \"stylesheet\";\n",
       "      element.type = \"text/css\";\n",
       "      element.href = url;\n",
       "      console.debug(\"Bokeh: injecting link tag for BokehJS stylesheet: \", url);\n",
       "      document.body.appendChild(element);\n",
       "    }\n",
       "\n",
       "    for (let i = 0; i < js_urls.length; i++) {\n",
       "      const url = js_urls[i];\n",
       "      const element = document.createElement('script');\n",
       "      element.onload = on_load;\n",
       "      element.onerror = on_error.bind(null, url);\n",
       "      element.async = false;\n",
       "      element.src = url;\n",
       "      console.debug(\"Bokeh: injecting script tag for BokehJS library: \", url);\n",
       "      document.head.appendChild(element);\n",
       "    }\n",
       "  };\n",
       "\n",
       "  function inject_raw_css(css) {\n",
       "    const element = document.createElement(\"style\");\n",
       "    element.appendChild(document.createTextNode(css));\n",
       "    document.body.appendChild(element);\n",
       "  }\n",
       "\n",
       "  const js_urls = [\"https://cdn.bokeh.org/bokeh/release/bokeh-3.3.4.min.js\", \"https://cdn.bokeh.org/bokeh/release/bokeh-gl-3.3.4.min.js\", \"https://cdn.bokeh.org/bokeh/release/bokeh-widgets-3.3.4.min.js\", \"https://cdn.bokeh.org/bokeh/release/bokeh-tables-3.3.4.min.js\", \"https://cdn.bokeh.org/bokeh/release/bokeh-mathjax-3.3.4.min.js\"];\n",
       "  const css_urls = [];\n",
       "\n",
       "  const inline_js = [    function(Bokeh) {\n",
       "      Bokeh.set_log_level(\"info\");\n",
       "    },\n",
       "function(Bokeh) {\n",
       "    }\n",
       "  ];\n",
       "\n",
       "  function run_inline_js() {\n",
       "    if (root.Bokeh !== undefined || force === true) {\n",
       "          for (let i = 0; i < inline_js.length; i++) {\n",
       "      inline_js[i].call(root, root.Bokeh);\n",
       "    }\n",
       "if (force === true) {\n",
       "        display_loaded();\n",
       "      }} else if (Date.now() < root._bokeh_timeout) {\n",
       "      setTimeout(run_inline_js, 100);\n",
       "    } else if (!root._bokeh_failed_load) {\n",
       "      console.log(\"Bokeh: BokehJS failed to load within specified timeout.\");\n",
       "      root._bokeh_failed_load = true;\n",
       "    } else if (force !== true) {\n",
       "      const cell = $(document.getElementById(\"d652508e-3128-4a73-b2f5-33d31f79eb80\")).parents('.cell').data().cell;\n",
       "      cell.output_area.append_execute_result(NB_LOAD_WARNING)\n",
       "    }\n",
       "  }\n",
       "\n",
       "  if (root._bokeh_is_loading === 0) {\n",
       "    console.debug(\"Bokeh: BokehJS loaded, going straight to plotting\");\n",
       "    run_inline_js();\n",
       "  } else {\n",
       "    load_libs(css_urls, js_urls, function() {\n",
       "      console.debug(\"Bokeh: BokehJS plotting callback run at\", now());\n",
       "      run_inline_js();\n",
       "    });\n",
       "  }\n",
       "}(window));"
      ],
      "application/vnd.bokehjs_load.v0+json": "(function(root) {\n  function now() {\n    return new Date();\n  }\n\n  const force = true;\n\n  if (typeof root._bokeh_onload_callbacks === \"undefined\" || force === true) {\n    root._bokeh_onload_callbacks = [];\n    root._bokeh_is_loading = undefined;\n  }\n\n\n  if (typeof (root._bokeh_timeout) === \"undefined\" || force === true) {\n    root._bokeh_timeout = Date.now() + 5000;\n    root._bokeh_failed_load = false;\n  }\n\n  const NB_LOAD_WARNING = {'data': {'text/html':\n     \"<div style='background-color: #fdd'>\\n\"+\n     \"<p>\\n\"+\n     \"BokehJS does not appear to have successfully loaded. If loading BokehJS from CDN, this \\n\"+\n     \"may be due to a slow or bad network connection. Possible fixes:\\n\"+\n     \"</p>\\n\"+\n     \"<ul>\\n\"+\n     \"<li>re-rerun `output_notebook()` to attempt to load from CDN again, or</li>\\n\"+\n     \"<li>use INLINE resources instead, as so:</li>\\n\"+\n     \"</ul>\\n\"+\n     \"<code>\\n\"+\n     \"from bokeh.resources import INLINE\\n\"+\n     \"output_notebook(resources=INLINE)\\n\"+\n     \"</code>\\n\"+\n     \"</div>\"}};\n\n  function display_loaded() {\n    const el = document.getElementById(\"d652508e-3128-4a73-b2f5-33d31f79eb80\");\n    if (el != null) {\n      el.textContent = \"BokehJS is loading...\";\n    }\n    if (root.Bokeh !== undefined) {\n      if (el != null) {\n        el.textContent = \"BokehJS \" + root.Bokeh.version + \" successfully loaded.\";\n      }\n    } else if (Date.now() < root._bokeh_timeout) {\n      setTimeout(display_loaded, 100)\n    }\n  }\n\n  function run_callbacks() {\n    try {\n      root._bokeh_onload_callbacks.forEach(function(callback) {\n        if (callback != null)\n          callback();\n      });\n    } finally {\n      delete root._bokeh_onload_callbacks\n    }\n    console.debug(\"Bokeh: all callbacks have finished\");\n  }\n\n  function load_libs(css_urls, js_urls, callback) {\n    if (css_urls == null) css_urls = [];\n    if (js_urls == null) js_urls = [];\n\n    root._bokeh_onload_callbacks.push(callback);\n    if (root._bokeh_is_loading > 0) {\n      console.debug(\"Bokeh: BokehJS is being loaded, scheduling callback at\", now());\n      return null;\n    }\n    if (js_urls == null || js_urls.length === 0) {\n      run_callbacks();\n      return null;\n    }\n    console.debug(\"Bokeh: BokehJS not loaded, scheduling load and callback at\", now());\n    root._bokeh_is_loading = css_urls.length + js_urls.length;\n\n    function on_load() {\n      root._bokeh_is_loading--;\n      if (root._bokeh_is_loading === 0) {\n        console.debug(\"Bokeh: all BokehJS libraries/stylesheets loaded\");\n        run_callbacks()\n      }\n    }\n\n    function on_error(url) {\n      console.error(\"failed to load \" + url);\n    }\n\n    for (let i = 0; i < css_urls.length; i++) {\n      const url = css_urls[i];\n      const element = document.createElement(\"link\");\n      element.onload = on_load;\n      element.onerror = on_error.bind(null, url);\n      element.rel = \"stylesheet\";\n      element.type = \"text/css\";\n      element.href = url;\n      console.debug(\"Bokeh: injecting link tag for BokehJS stylesheet: \", url);\n      document.body.appendChild(element);\n    }\n\n    for (let i = 0; i < js_urls.length; i++) {\n      const url = js_urls[i];\n      const element = document.createElement('script');\n      element.onload = on_load;\n      element.onerror = on_error.bind(null, url);\n      element.async = false;\n      element.src = url;\n      console.debug(\"Bokeh: injecting script tag for BokehJS library: \", url);\n      document.head.appendChild(element);\n    }\n  };\n\n  function inject_raw_css(css) {\n    const element = document.createElement(\"style\");\n    element.appendChild(document.createTextNode(css));\n    document.body.appendChild(element);\n  }\n\n  const js_urls = [\"https://cdn.bokeh.org/bokeh/release/bokeh-3.3.4.min.js\", \"https://cdn.bokeh.org/bokeh/release/bokeh-gl-3.3.4.min.js\", \"https://cdn.bokeh.org/bokeh/release/bokeh-widgets-3.3.4.min.js\", \"https://cdn.bokeh.org/bokeh/release/bokeh-tables-3.3.4.min.js\", \"https://cdn.bokeh.org/bokeh/release/bokeh-mathjax-3.3.4.min.js\"];\n  const css_urls = [];\n\n  const inline_js = [    function(Bokeh) {\n      Bokeh.set_log_level(\"info\");\n    },\nfunction(Bokeh) {\n    }\n  ];\n\n  function run_inline_js() {\n    if (root.Bokeh !== undefined || force === true) {\n          for (let i = 0; i < inline_js.length; i++) {\n      inline_js[i].call(root, root.Bokeh);\n    }\nif (force === true) {\n        display_loaded();\n      }} else if (Date.now() < root._bokeh_timeout) {\n      setTimeout(run_inline_js, 100);\n    } else if (!root._bokeh_failed_load) {\n      console.log(\"Bokeh: BokehJS failed to load within specified timeout.\");\n      root._bokeh_failed_load = true;\n    } else if (force !== true) {\n      const cell = $(document.getElementById(\"d652508e-3128-4a73-b2f5-33d31f79eb80\")).parents('.cell').data().cell;\n      cell.output_area.append_execute_result(NB_LOAD_WARNING)\n    }\n  }\n\n  if (root._bokeh_is_loading === 0) {\n    console.debug(\"Bokeh: BokehJS loaded, going straight to plotting\");\n    run_inline_js();\n  } else {\n    load_libs(css_urls, js_urls, function() {\n      console.debug(\"Bokeh: BokehJS plotting callback run at\", now());\n      run_inline_js();\n    });\n  }\n}(window));"
     },
     "metadata": {},
     "output_type": "display_data"
    },
    {
     "name": "stdout",
     "output_type": "stream",
     "text": [
      "Spacy and en_core_web_sm are already installed.\n"
     ]
    }
   ],
   "source": [
    "# setting up my environment\n",
    "import pandas as pd\n",
    "import json\n",
    "import utils \n",
    "!pip install inflect\n",
    "from tqdm import tqdm \n",
    "from gensim import corpora, models, similarities\n",
    "from gensim.models.coherencemodel import CoherenceModel\n",
    "from gensim.models.ldamodel import LdaModel\n",
    "#%pip install pyLDAvis\n",
    "import pyLDAvis\n",
    "import pyLDAvis.gensim_models as gensimvis\n",
    "pyLDAvis.enable_notebook()\n",
    "import logging\n",
    "logging.getLogger().setLevel(logging.CRITICAL)\n",
    "for handler in logging.root.handlers[:]:\n",
    "    logging.root.removeHandler(handler)\n",
    "import warnings\n",
    "warnings.simplefilter(\"ignore\", DeprecationWarning)\n",
    "import matplotlib.pyplot as plt\n",
    "#%matplotlib inline\n",
    "import re\n",
    "from pprint import pprint\n",
    "import os\n",
    "import numpy as np\n",
    "import pickle\n",
    "from gensim.models import Word2Vec\n",
    "import multiprocessing\n",
    "from sklearn.manifold import TSNE\n",
    "import bokeh\n",
    "from bokeh.plotting import figure, show, output_notebook\n",
    "from bokeh.models import HoverTool, ColumnDataSource, LabelSet\n",
    "output_notebook()\n",
    "bokeh.io.output_notebook()\n",
    "#!pip install Networkx\n",
    "import networkx as nx\n",
    "from utils import calculate_biased_words\n",
    "try:\n",
    "    import spacy\n",
    "    nlp = spacy.load('en_core_web_sm')\n",
    "    print(\"Spacy and en_core_web_sm are already installed.\")\n",
    "except:\n",
    "    import spacy\n",
    "    from spacy.cli.download import download\n",
    "    download('en_core_web_sm')\n",
    "    nlp = spacy.load('en_core_web_sm')\n",
    "from bokeh.io import show, output_notebook, output_file\n",
    "#%pip install -U scikit-learn"
   ]
  },
  {
   "cell_type": "markdown",
   "metadata": {},
   "source": [
    "## Introduction\n",
    "<img src=\"Images/accessmap.png\" width=\"600\" />\n",
    "<img src=\"Images/accesslegend.png\" width=\"400\" />\n",
    "\n",
    "**Figure 1:** ```Map of Abortion Access by State, 2024```\n",
    "\n",
    "   After Roe v. Wade was overturned in 2021, as seen above in the map above, many states around the U.S. have opted to outright ban abortion procedures.\n",
    "\n",
    "   Abortion is a highly polarized topic globally, particularly in the United States, where it has escalated into a considerable source of political tension. Growing up in a liberal bubble in North Carolina, I witnessed firsthand how the overturning of Roe v. Wade affected women, especially those in states with increasingly restrictive abortion laws. A poignant personal experience that compelled me to explore this issue was a recent call from my lifelong friend, who shared, in tears, that her abusive boyfriend had gotten her pregnant. Despite finally leaving him two weeks prior, she found herself unexpectedly pregnant and unable to confide in her orthodox Catholic parents, fearing their reaction. Due to recent law changes in North Carolina—made possible by the Supreme Court's decision—she learned she was ineligible for an abortion at 12 weeks and reluctantly reached out to her ex-boyfriend to drive her to Virginia, where abortions are permitted up to 24 weeks. Sadly, she has since reconciled with her abusive partner, and I attribute part of this cycle of dependency to the harsh abortion laws in North Carolina.\n",
    "\n",
    "   This distressing experience prompted me to investigate the intersectionality of abortion laws and patriarchal dynamics in relationships. I have chosen to analyze the subreddit r/abortion, which has emerged as an essential platform for public discourse. It serves as a stigma-free online forum where individuals seek advice and support regarding all issues surrounding abortion, from physical and financial concerns to emotional struggles. Many submissions express urgent requests for advice, while others convey deep-seeded feelings of anger and disempowerment towards a predominantly male-controlled government regulating women's bodies. The community also seeks to understand opposing ideologies, such as pro-life versus pro-choice. Through these discussions, r/abortion acts as a repository of personal experiences and sentiments related to abortion, showcasing the diverse perspectives that shape the conversation. I am working with both the submissions and comments datasets in order to gauge the difference in tone (if any) between those posting about their struggles with abortion and users commenting underneath submissions.\n",
    "\n",
    "   My research questions include: How does the language used in r/abortion reflect the power dynamics between men and women, especially within romantic and familial relationships? Do women with partners feel more or less comfortable seeking an abortion than single women? Does the involvement of a partner in the decision-making process exert more pressure than the loneliness of making the choice alone? By answering these questions, I aim to contribute to a more nuanced understanding of the personal and societal impacts of abortion laws on women's autonomy and decision-making processes. These inquiries are not only relevant to the individual lives of women but speak to broader societal norms that dictate how reproductive health is approached and discussed."
   ]
  },
  {
   "cell_type": "markdown",
   "metadata": {},
   "source": [
    "## Analysis"
   ]
  },
  {
   "cell_type": "markdown",
   "metadata": {},
   "source": [
    "<img src=\"Images/community_rules.png\" width=\"800\" />\n",
    "\n",
    "**Figure 2:** ```Community Guidelines for r/abortion```\n",
    "\n",
    "The stipulation that users on this subreddit must refrain from publishing anti-abortion rhetoric or suggesting adoption shapes the sentiment, topics, and language bias illuminated on the page. By laying out these rules, the subreddit fosters a safe environment in which people can discuss abortion in a way that affirms their experiences and choices without worrying about criticism or retaliation from other parties.\n",
    "\n",
    "This carefully constructed environment promotes language that highlights empathy, empowerment, and validation while at the same time lowering the frequency of guilt or shame that is frequently connected to the subject in larger social contexts. The ban of posts projecting alternative views on abortion guided my research to analyze the language bias between discussions of men vs. women within a pro-choice community--rather than delving into a more broadly researched comparison of gendered biases between pro-life and pro-choice individuals. This makes my research more niche because it is not just backing up the popular idea that the anti-abortion community's stance on the procedure is more about the patriarchy controlling women's bodies than faith or ethics. My project goes deeper, seeking to understand how the system of patriarchy in our society seeps into pro-choice discussions in regards to the impact male romantic partners and family members have on women seeking an abortion.\n",
    "\n",
    "\n",
    "R/abortion's anonymity also has a role to play in the quantity and kind of linguistic prejudice that might arise in conversations about abortion. In contrast to conventional social settings, wherein one's personal identity and cultural perceptions may impede candid communication, the anonymity of online platforms enables people to openly discuss their experiences and feelings without worrying about shame or reprisals. Because of their anonymity, people may express their thoughts about reproductive options in a more authentic way, exposing a range of unfiltered viewpoints that would not otherwise be discussed in public. As a result, words that express vulnerability, rage, and helplessness in relation to social standards and the demands made by spouses and families may become more prevalent."
   ]
  },
  {
   "cell_type": "markdown",
   "metadata": {},
   "source": [
    "## Uploading Data"
   ]
  },
  {
   "cell_type": "code",
   "execution_count": 3,
   "metadata": {},
   "outputs": [
    {
     "name": "stderr",
     "output_type": "stream",
     "text": [
      "/var/folders/9q/6g8vlvxx6slcp43g6vr27drr0000gn/T/ipykernel_32102/1966832663.py:2: DtypeWarning: Columns (0,2) have mixed types. Specify dtype option on import or set low_memory=False.\n",
      "  comments_df = pd.read_csv('Original Data/abortioncomments.csv')\n"
     ]
    }
   ],
   "source": [
    "#comments from r/abortion\n",
    "comments_df = pd.read_csv('Original Data/abortioncomments.csv')\n",
    "\n",
    "#submissions from r/abortion\n",
    "submissions_df = pd.read_csv('Original Data/abortionssubmissions.csv')"
   ]
  },
  {
   "cell_type": "markdown",
   "metadata": {},
   "source": [
    "## Text Preprocessing: Comments"
   ]
  },
  {
   "cell_type": "code",
   "execution_count": 4,
   "metadata": {},
   "outputs": [
    {
     "data": {
      "text/html": [
       "<div>\n",
       "<style scoped>\n",
       "    .dataframe tbody tr th:only-of-type {\n",
       "        vertical-align: middle;\n",
       "    }\n",
       "\n",
       "    .dataframe tbody tr th {\n",
       "        vertical-align: top;\n",
       "    }\n",
       "\n",
       "    .dataframe thead th {\n",
       "        text-align: right;\n",
       "    }\n",
       "</style>\n",
       "<table border=\"1\" class=\"dataframe\">\n",
       "  <thead>\n",
       "    <tr style=\"text-align: right;\">\n",
       "      <th></th>\n",
       "      <th>idint</th>\n",
       "      <th>idstr</th>\n",
       "      <th>created</th>\n",
       "      <th>author</th>\n",
       "      <th>parent</th>\n",
       "      <th>submission</th>\n",
       "      <th>body</th>\n",
       "      <th>score</th>\n",
       "      <th>subreddit</th>\n",
       "      <th>distinguish</th>\n",
       "      <th>textlen</th>\n",
       "    </tr>\n",
       "  </thead>\n",
       "  <tbody>\n",
       "    <tr>\n",
       "      <th>0</th>\n",
       "      <td>26202711227</td>\n",
       "      <td>t1_c1cf1dn</td>\n",
       "      <td>1294818655</td>\n",
       "      <td>[deleted]</td>\n",
       "      <td>t3_cro39</td>\n",
       "      <td>t3_cro39</td>\n",
       "      <td>Amen brother</td>\n",
       "      <td>1.0</td>\n",
       "      <td>abortion</td>\n",
       "      <td>NaN</td>\n",
       "      <td>12.0</td>\n",
       "    </tr>\n",
       "  </tbody>\n",
       "</table>\n",
       "</div>"
      ],
      "text/plain": [
       "         idint       idstr     created     author    parent submission  \\\n",
       "0  26202711227  t1_c1cf1dn  1294818655  [deleted]  t3_cro39   t3_cro39   \n",
       "\n",
       "           body  score subreddit distinguish  textlen  \n",
       "0  Amen brother    1.0  abortion         NaN     12.0  "
      ]
     },
     "execution_count": 4,
     "metadata": {},
     "output_type": "execute_result"
    }
   ],
   "source": [
    "# Glancing at column names\n",
    "comments_df.head(1)"
   ]
  },
  {
   "cell_type": "code",
   "execution_count": 5,
   "metadata": {},
   "outputs": [
    {
     "data": {
      "text/plain": [
       "['author', 'body', 'score']"
      ]
     },
     "execution_count": 5,
     "metadata": {},
     "output_type": "execute_result"
    }
   ],
   "source": [
    "# Selecting all rows that don't have '[removed]' or '[deleted]'\n",
    "comments_df = comments_df.loc[~comments_df['body'].isin(['[removed]', '[deleted]' ]),:]\n",
    "\n",
    "# Selecting all rows that have >5 characters in body\n",
    "comments_df = comments_df.loc[comments_df['body'].str.len() > 5]\n",
    "\n",
    "# Dropping unneccesary columns\n",
    "comments_df = comments_df.dropna(subset=['body'])\n",
    "comments_df = comments_df.drop(['idint', 'idstr', 'created', 'parent', 'submission','subreddit','distinguish','textlen'], axis=1)\n",
    "\n",
    "list(comments_df)"
   ]
  },
  {
   "cell_type": "code",
   "execution_count": 6,
   "metadata": {},
   "outputs": [],
   "source": [
    "def process_text(text_comments):\n",
    "    text_comments = text_comments.replace('\\n', '')\n",
    "    parsed = nlp(text_comments, disable=[\"tok2vec\", \"ner\"])\n",
    "# Gathering lowercased, lemmatized tokens that are not punctuation, space, or digit\n",
    "    tokens_comments = [\n",
    "        token.lemma_.lower() if token.lemma_ != '-PRON-'\n",
    "        else token.lower_ \n",
    "        for token in parsed \n",
    "        if not (token.is_punct or token.is_space or token.is_digit)]\n",
    "# Removing certain lemmatizations, and words that are not nouns or adjectives\n",
    "    tokens_comments = [\n",
    "        lemma\n",
    "        for lemma in tokens_comments\n",
    "        if not lemma in [\"'s\",  \"’s\", \"’\"]]\n",
    "# Removing stop words\n",
    "    tokens_comments = [\n",
    "        token \n",
    "        for token in tokens_comments \n",
    "        if token not in spacy.lang.en.stop_words.STOP_WORDS]\n",
    "    return ' '.join(tokens_comments)\n",
    "def preprocess(comments_df, text_col_comments='body'):\n",
    "    comments_df['pp_text'] = comments_df[text_col_comments].apply(process_text)\n",
    "    return comments_df"
   ]
  },
  {
   "cell_type": "code",
   "execution_count": 7,
   "metadata": {},
   "outputs": [],
   "source": [
    "comments_df = preprocess(comments_df, text_col_comments='body')"
   ]
  },
  {
   "cell_type": "markdown",
   "metadata": {},
   "source": [
    "## Text Preprocessing: Submissions"
   ]
  },
  {
   "cell_type": "code",
   "execution_count": 8,
   "metadata": {},
   "outputs": [
    {
     "data": {
      "text/html": [
       "<div>\n",
       "<style scoped>\n",
       "    .dataframe tbody tr th:only-of-type {\n",
       "        vertical-align: middle;\n",
       "    }\n",
       "\n",
       "    .dataframe tbody tr th {\n",
       "        vertical-align: top;\n",
       "    }\n",
       "\n",
       "    .dataframe thead th {\n",
       "        text-align: right;\n",
       "    }\n",
       "</style>\n",
       "<table border=\"1\" class=\"dataframe\">\n",
       "  <thead>\n",
       "    <tr style=\"text-align: right;\">\n",
       "      <th></th>\n",
       "      <th>idint</th>\n",
       "      <th>idstr</th>\n",
       "      <th>created</th>\n",
       "      <th>nsfw</th>\n",
       "      <th>author</th>\n",
       "      <th>title</th>\n",
       "      <th>selftext</th>\n",
       "      <th>score</th>\n",
       "      <th>distinguish</th>\n",
       "      <th>textlen</th>\n",
       "      <th>num_comments</th>\n",
       "      <th>flair_text</th>\n",
       "      <th>flair_css_class</th>\n",
       "      <th>pp_text</th>\n",
       "    </tr>\n",
       "  </thead>\n",
       "  <tbody>\n",
       "    <tr>\n",
       "      <th>0</th>\n",
       "      <td>21446325</td>\n",
       "      <td>t3_cro39</td>\n",
       "      <td>1279642491</td>\n",
       "      <td>0</td>\n",
       "      <td>terriblecomic</td>\n",
       "      <td>Abortion:  Great thing, or greatest thing?</td>\n",
       "      <td>Costs a bit of money and saves hundreds of tho...</td>\n",
       "      <td>6</td>\n",
       "      <td>NaN</td>\n",
       "      <td>64</td>\n",
       "      <td>2</td>\n",
       "      <td>NaN</td>\n",
       "      <td>NaN</td>\n",
       "      <td>costs bit money saves hundreds thousands_dollars</td>\n",
       "    </tr>\n",
       "  </tbody>\n",
       "</table>\n",
       "</div>"
      ],
      "text/plain": [
       "      idint     idstr     created  nsfw         author  \\\n",
       "0  21446325  t3_cro39  1279642491     0  terriblecomic   \n",
       "\n",
       "                                        title  \\\n",
       "0  Abortion:  Great thing, or greatest thing?   \n",
       "\n",
       "                                            selftext  score distinguish  \\\n",
       "0  Costs a bit of money and saves hundreds of tho...      6         NaN   \n",
       "\n",
       "   textlen  num_comments flair_text flair_css_class  \\\n",
       "0       64             2        NaN             NaN   \n",
       "\n",
       "                                            pp_text  \n",
       "0  costs bit money saves hundreds thousands_dollars  "
      ]
     },
     "execution_count": 8,
     "metadata": {},
     "output_type": "execute_result"
    }
   ],
   "source": [
    "# Glancing at column names\n",
    "submissions_df.head(1)"
   ]
  },
  {
   "cell_type": "code",
   "execution_count": 9,
   "metadata": {},
   "outputs": [
    {
     "data": {
      "text/plain": [
       "['author', 'title', 'selftext', 'score', 'num_comments', 'pp_text']"
      ]
     },
     "execution_count": 9,
     "metadata": {},
     "output_type": "execute_result"
    }
   ],
   "source": [
    "# Selecting all rows that don't have '[removed]' or '[deleted]'\n",
    "submissions_df = submissions_df.loc[~submissions_df['selftext'].isin(['[removed]', '[deleted]' ]),:]\n",
    "\n",
    "# Selecting all rows that have >5 characters in body\n",
    "submissions_df = submissions_df.loc[submissions_df['selftext'].str.len() > 5]\n",
    "\n",
    "# Dropping unneccesary columns\n",
    "submissions_df = submissions_df.dropna(subset=['selftext'])\n",
    "submissions_df = submissions_df.drop(['idint', 'idstr', 'created', 'nsfw', 'distinguish','textlen','flair_text','flair_css_class'], axis=1)\n",
    "\n",
    "list(submissions_df)"
   ]
  },
  {
   "cell_type": "code",
   "execution_count": 10,
   "metadata": {},
   "outputs": [],
   "source": [
    "def process_text(text_subs):\n",
    "    text_subs = text_subs.replace('\\n', '')\n",
    "    parsed_subs = nlp(text_subs, disable=[\"tok2vec\", \"ner\"])\n",
    "    \n",
    "# Gathering lowercased, lemmatized tokens that are not punctuation, space, or digit\n",
    "    tokens_subs = [\n",
    "        token.lemma_.lower() if token.lemma_ != '-PRON-'\n",
    "        else token.lower_ \n",
    "        for token in parsed_subs\n",
    "        if not (token.is_punct or token.is_space or token.is_digit)]\n",
    "    \n",
    "# Removing certain lemmatizations, and words that are not nouns or adjectives\n",
    "    tokens_subs = [\n",
    "        lemma\n",
    "        for lemma in tokens_subs\n",
    "        if not lemma in [\"'s\",  \"’s\", \"’\"]]\n",
    "    \n",
    "# Removing stop words\n",
    "    tokens_subs = [\n",
    "        token \n",
    "        for token in tokens_subs \n",
    "        if token not in spacy.lang.en.stop_words.STOP_WORDS]\n",
    "    return ' '.join(tokens_subs)\n",
    "def preprocess(submissions_df, text_col='selftext'):\n",
    "    submissions_df['pp_text'] = submissions_df[text_col].apply(process_text)\n",
    "    return submissions_df"
   ]
  },
  {
   "cell_type": "code",
   "execution_count": 11,
   "metadata": {},
   "outputs": [],
   "source": [
    "submissions_df = preprocess(submissions_df, text_col='selftext')"
   ]
  },
  {
   "cell_type": "markdown",
   "metadata": {},
   "source": [
    "## Close Reading Example"
   ]
  },
  {
   "cell_type": "code",
   "execution_count": 12,
   "metadata": {},
   "outputs": [
    {
     "data": {
      "text/plain": [
       "'I really just need to get this out,\\n\\nYesterday I took two tests that came back positive after being a week late. I have a doctors appointment this Monday to ensure, but I definitely feel pregnant. I have all the early symptoms and know I had an accident with my boyfriend on March 10. \\n\\nI’m 22, he’s 24. I always thought I would definitely want an abortion if I were to get pregnant at this time in my life but now that I’m in this situation I can’t believe how hard it is.  My boyfriend and I are very in love and together 5 years, and if anything this experience made me realize I do want kids and a family with him, when I told him last night he was shocked. He said it’s not the best time, as we are living paycheck to paycheck and I just work retail and haven’t really figured out what I want for myself yet.  He also wants to establish his career in film.  He said he doesn’t wanna start off on the wrong foot, and that when we both have established jobs and everything together it will be so much better. And I have to agree with him, but part of me knows we could have this baby and we would grow and learn that way too. I feel soooo conflicted because I do feel this could be something meant for me, right now, but I also see how it would be a better experience to choose your pregnancy and be ready and happy and excited without any doubt. \\n\\nI’m crying and sad reading posts here, but I also don’t want to bring a child into the world just because I don’t know what else I’m doing with my life and because I feel attached to the idea of a family with my boyfriend. I know the opportunity will be there for us in the future but the fact it’s in my lap right now and I have to make the decision is just overwhelming. I thought I would just know, but I don’t.  I’m terrified I will regret it, but I want to be logical. \\n\\nThanks for reading, I’d appreciate any thoughts or advice '"
      ]
     },
     "execution_count": 12,
     "metadata": {},
     "output_type": "execute_result"
    }
   ],
   "source": [
    "# Pulling a specific submission\n",
    "doc_idx = 2004\n",
    "submissions_df['selftext'].iloc[doc_idx]"
   ]
  },
  {
   "cell_type": "markdown",
   "metadata": {},
   "source": [
    "**Close Reading Analysis:** This submission captures the complicated emotional terrain that surrounds unwanted pregnancies, especially in light of the pro-choice atmosphere that the subreddit has fostered. The author conveys a profound internal conflict between the emotional reality of her current circumstance and her early determination to have an abortion. This internal conflict highlights the tension that can arise between one's own desires and society norms, highlighting the psychological burden that comes with making such choices. The post's language is filled with uncertainty (\"I feel sooo conflicted,\" \"I thought I would just know\"), which highlights how tough it may be to make reproductive decisions in the face of unforeseen situations. The fact that relationship relationships, financial instability, and future aspirations are highlighted highlights how complex these decisions are."
   ]
  },
  {
   "cell_type": "markdown",
   "metadata": {},
   "source": [
    "# Topic Modeling: Comments"
   ]
  },
  {
   "cell_type": "markdown",
   "metadata": {},
   "source": [
    "Now that all of the r/abortion data is preprocessed and cleaned up to fit better within the context of my project, I will now use distant reading topic modeling techniques in python to identify the most common themes of discussion within the subreddit. First I will do the comments, then submissions, and we will see how they compare."
   ]
  },
  {
   "cell_type": "code",
   "execution_count": 13,
   "metadata": {},
   "outputs": [],
   "source": [
    "# Remove all rows that are '[removed]' or '[deleted]' for pp_text\n",
    "topics_comments_df = comments_df.loc[~comments_df['pp_text'].isin(['[removed]', '[deleted]' ]),:]\n",
    "\n",
    "# Select only rows that have >5 characters in body for pp_text\n",
    "topics_comments_df = comments_df.loc[comments_df['pp_text'].str.len() > 5]"
   ]
  },
  {
   "cell_type": "code",
   "execution_count": 14,
   "metadata": {},
   "outputs": [
    {
     "name": "stderr",
     "output_type": "stream",
     "text": [
      "100%|███████████████████████████████| 237219/237219 [00:00<00:00, 344999.16it/s]\n",
      "100%|████████████████████████████████| 237219/237219 [00:03<00:00, 67750.95it/s]\n",
      "100%|████████████████████████████████| 237219/237219 [00:02<00:00, 95493.03it/s]\n"
     ]
    }
   ],
   "source": [
    "# Creating a dictionary\n",
    "lemmas_split_comments = [lemma.split() for lemma in tqdm(topics_comments_df['pp_text'])]\n",
    "dictionary_comments = corpora.Dictionary(tqdm(lemmas_split_comments))\n",
    "dictionary_comments.filter_extremes(no_below=10, no_above=0.4)\n",
    "dictionary_comments.compactify() \n",
    "dictionary_comments.save('Dictionaries/abortioncomments.dict')\n",
    "corpus_comments = [dictionary_comments.doc2bow(text) for text in tqdm(lemmas_split_comments)]"
   ]
  },
  {
   "cell_type": "code",
   "execution_count": 15,
   "metadata": {},
   "outputs": [
    {
     "name": "stdout",
     "output_type": "stream",
     "text": [
      "CPU times: user 1e+03 ns, sys: 1e+03 ns, total: 2 µs\n",
      "Wall time: 1.91 µs\n"
     ]
    },
    {
     "name": "stderr",
     "output_type": "stream",
     "text": [
      "100%|████████████████████████████████| 237219/237219 [00:21<00:00, 10821.67it/s]\n"
     ]
    },
    {
     "data": {
      "text/html": [
       "\n",
       "<link rel=\"stylesheet\" type=\"text/css\" href=\"https://cdn.jsdelivr.net/gh/bmabey/pyLDAvis@3.4.0/pyLDAvis/js/ldavis.v1.0.0.css\">\n",
       "\n",
       "\n",
       "<div id=\"ldavis_el32102126903222885192405803\" style=\"background-color:white;\"></div>\n",
       "<script type=\"text/javascript\">\n",
       "\n",
       "var ldavis_el32102126903222885192405803_data = {\"mdsDat\": {\"x\": [-0.18262463263430145, 0.32478879470297334, 0.3146761044058263, -0.19551337941830554, -0.22795117367432546, -0.25662487530511946, 0.13463349914813305, 0.24314533825765275, -0.15196747345054726, -0.0025622020319862383], \"y\": [0.06638160890916626, 0.16121050207670562, 0.1718056593382945, 0.09818274040632186, 0.07634327419717951, 0.05987671819779611, -0.07049101760644513, -0.1651409082834266, -0.042089253762736076, -0.3560793234728565], \"topics\": [1, 2, 3, 4, 5, 6, 7, 8, 9, 10], \"cluster\": [1, 1, 1, 1, 1, 1, 1, 1, 1, 1], \"Freq\": [22.543507715141516, 21.2080267312006, 12.748170108771099, 9.444984744513736, 9.30428504703996, 8.607847803040771, 5.521121055383593, 5.347502279873409, 2.72776302246082, 2.546791492574497]}, \"tinfo\": {\"Term\": [\"abortion\", \"r\", \"messages\", \"contact\", \"users\", \"settings\", \"harassed\", \"action\", \"moderators\", \"message\", \"stories\", \"c\", \"trimester\", \"menu\", \"procedures](https://www.reddit.com\", \"private\", \"feel\", \"medical\", \"thank\", \"emergency\", \"concerns\", \"bot\", \"links\", \"report\", \"pregnancy\", \"messaging\", \"trolls\", \"index\", \"admins\", \"it](http://www.reddit.com\", \"child\", \"family\", \"future\", \"kids\", \"children\", \"relationship\", \"decide\", \"deserve\", \"mother\", \"human\", \"wants\", \"men\", \"respect\", \"kid\", \"therapy\", \"decisions\", \"loving\", \"parent\", \"pro\", \"shame\", \"father\", \"circumstances\", \"lives\", \"carry\", \"unfair\", \"space\", \"young\", \"abusive\", \"financially\", \"selfish\", \"baby\", \"choice\", \"world\", \"mental\", \"life\", \"ex\", \"decision\", \"parents\", \"support\", \"want\", \"person\", \"partner\", \"situation\", \"best\", \"feelings\", \"mom\", \"abortions\", \"man\", \"right\", \"care\", \"tell\", \"having\", \"love\", \"know\", \"ready\", \"difficult\", \"making\", \"way\", \"like\", \"time\", \"people\", \"pregnancy\", \"feel\", \"think\", \"abortion\", \"pregnant\", \"need\", \"going\", \"help\", \"sorry\", \"good\", \"usa\", \"automatically\", \"welcome\", \"sidebar\", \"mobile\", \"accessing\", \"shipping\", \"philippines\", \"performed\", \"ship\", \"here](https://www.reddit.com\", \"shipped\", \"sellers\", \"kit\", \"mexico\", \"legit\", \"ordering\", \"safe2choose\", \"ph\", \"usps\", \"picked\", \"contacted\", \"proceed\", \"prefs\", \"preference\", \"colorado\", \"helpline\", \"protocol\", \"mailed\", \"contact\", \"illegal\", \"action\", \"funding\", \"subreddit](/message\", \"compose/?to=/r\", \"moderators\", \"country\", \"limit\", \"wiki](https://www.reddit.com\", \"assistance\", \"private\", \"links\", \"web](https://www.womenonweb.org/\", \"/r\", \"a](https://ineedana.com/\", \"clinics\", \"stop\", \"access\", \"abortion\", \"community\", \"include\", \"work\", \"women\", \"questions\", \"r\", \"users\", \"settings\", \"concerns\", \"bot\", \"messaging\", \"trolls\", \"index\", \"report\", \"topics\", \"misinformation\", \"swallow\", \"women](https://www.womenhelp.org/\", \"ur\", \"worries\", \"options.org\", \"navigate\", \"thankyou\", \"click\", \"attachment\", \"\\ud83d\\ude14\", \"talkline/\", \"boundaries\", \"powerful\", \"messages](https://www.reddit.com\", \"dms\", \"improvement\", \"facility\", \"expressed\", \"whitelist\", \"workbook](https://www.pregnancyoptions.info\", \"admins\", \"it](http://www.reddit.com\", \"safe2choose](https://safe2choose.org/\", \"pm\", \"excerpts\", \"here](https://www.onlineabortionresources.org\", \"here](https://www.ourbodiesourselves.org\", \"abortion/).**if\", \"women](https://www.womenhelp.org\", \"book\", \"messages\", \"r\", \"list\", \"safe\", \"sending\", \"supportive\", \"message\", \"wiki\", \"help\", \"hard\", \"seeking\", \"good\", \"abortion\", \"women\", \"receive\", \"need\", \"blocked/\", \"people\", \"test\", \"mifepristone\", \"vaginally\", \"uterus\", \"effective\", \"tissue\", \"iud\", \"infection\", \"mife\", \"clot\", \"tongue\", \"vagina\", \"contains\", \"ectopic\", \"method\", \"false\", \"levels\", \"tablets\", \"lining\", \"lasted\", \"2nd\", \"snacks\", \"rare\", \"unlikely\", \"increase\", \"uterine\", \"ob\", \"fever\", \"condoms\", \"gyn\", \"successful\", \"confirm\", \"vaginal\", \"removed\", \"testing\", \"seller\", \"sac\", \"tests\", \"provider\", \"ultrasound\", \"doctor\", \"negative\", \"misoprostol\", \"period\", \"symptoms\", \"weeks\", \"positive\", \"cycle\", \"pregnancy\", \"early\", \"follow\", \"blood\", \"use\", \"wait\", \"likely\", \"bleeding\", \"days\", \"pregnant\", \"birth\", \"pills\", \"normal\", \"control\", \"week\", \"clinic\", \"pill\", \"abortion\", \"sure\", \"like\", \"time\", \"people\", \"know\", \"taking\", \"cramps\", \"ibuprofen\", \"pad\", \"minutes\", \"heating\", \"sedation\", \"mg\", \"hot\", \"tylenol\", \"water\", \"bathroom\", \"nauseous\", \"mild\", \"sickness\", \"woke\", \"monday\", \"\\ud83d\\ude2d\", \"iv\", \"anesthesia\", \"bottle\", \"round\", \"thursday\", \"sedated\", \"sore\", \"threw\", \"symptom\", \"manageable\", \"heat\", \"tender\", \"minimal\", \"surgical\", \"quick\", \"stomach\", \"drink\", \"pain\", \"cramping\", \"nausea\", \"hour\", \"anti\", \"bed\", \"eat\", \"meds\", \"hours\", \"took\", \"painful\", \"pads\", \"procedure\", \"bleeding\", \"day\", \"morning\", \"heavy\", \"night\", \"bad\", \"pill\", \"went\", \"pills\", \"home\", \"experience\", \"like\", \"days\", \"felt\", \"taking\", \"weeks\", \"got\", \"lot\", \"period\", \"sure\", \"feel\", \"good\", \"\\ufe0f\", \"\\u2764\", \"idk\", \"cry\", \"cried\", \"diarrhea\", \"hormone\", \"tho\", \"boat\", \"kindness\", \"breathe\", \"w\", \"august\", \"ugh\", \"\\ud83e\\udd7a\", \"\\u2640\", \"\\ud83d\\ude05\", \"tears\", \"september\", \"march\", \"someday\", \"walked\", \"praying\", \"disorder\", \"preg\", \"january\", \"chest\", \"waves\", \"air\", \"subside\", \"coping\", \"crying\", \"feeling\", \"everyday\", \"hormones\", \"feel\", \"better\", \"felt\", \"scared\", \"weird\", \"hope\", \"sad\", \"ago\", \"okay\", \"glad\", \"going\", \"sorry\", \"months\", \"relief\", \"thought\", \"makes\", \"got\", \"soon\", \"time\", \"went\", \"know\", \"like\", \"today\", \"right\", \"thing\", \"found\", \"way\", \"day\", \"weeks\", \"think\", \"things\", \"talk\", \"lot\", \"pregnant\", \"hard\", \"love\", \"normal\", \"ma\", \"evaluation\", \"substitute\", \"covid-19\", \"aid\", \"$\", \"insurance\", \"texas\", \"states\", \"package\", \"email\", \"funds\", \"er\", \"fund\", \"center\", \"terrified\", \"appt\", \"aidaccess\", \"service\", \"intended\", \"vomiting\", \"cover\", \"customs\", \"payment\", \"arrive\", \"gestational\", \"tbh\", \"june\", \"located\", \"android.)this\", \"source\", \"immediately.*i\", \"emergency\", \"legal\", \"local\", \"note\", \"constitute\", \"treatment\", \"pills](https://plancpills.org/).**if\", \"number\", \"information\", \"experiencing\", \"medical\", \"sa\", \"advice\", \"state\", \"plan\", \"pills\", \"think\", \"read\", \"online\", \"find\", \"help\", \"access\", \"abortion\", \"medication\", \"trusted\", \"harassment\", \"732ee4fa66d3/\", \"ab64e640\", \"b968\", \"collection\", \"943a71f19cd5/\", \"ace2\", \"collection/21abc0ef-9dd6\", \"4ffc\", \"ab69\", \"collection/04af6a3c-2b17\", \"40d746cc043f/\", \"abortion](https://www.reddit.com\", \"procedures](https://www.reddit.com\", \"trimester\", \"reddit\", \"menu.*i\", \"hcg\", \"ve\", \"mins\", \"forum\", \"posts\", \"folks\", \"consultation\", \"manage\", \"ongoing\", \"banned\", \"ban\", \"rape\", \"old\", \"providers\", \"probably\", \"second\", \"interface\", \"find\", \"deactivate\", \"story\", \"blocked/\", \"here](https://old.reddit.com\", \"subreddit\", \"selecting\", \"abortion\", \"women\", \"c\", \"dose\", \"ordered\", \"mail\", \"toilet\", \"unprotected\", \"orally\", \"tampons\", \"tracking\", \"vibes\", \"rn\", \"reassurance\", \"=\", \"july\", \"store\", \"nt\", \"sperm\", \"updated\", \"paranoid\", \"hg\", \"ovulate\", \"u\", \"smell\", \"uncommon\", \"omg\", \"trigger\", \"abortionrx\", \"honey\", \"horror\", \"closed\", \"track\", \"white\", \"d\", \"condom\", \"b\", \"s\", \"m\", \"sex\", \"buy\", \"plan\", \"order\", \"op\", \"medications\", \"oh\", \"yes\", \"received\", \"sent\", \"yeah\", \"says\", \"got\", \"use\", \"lol\", \"post\", \"bc\", \"said\", \"new\", \"sure\", \"sorry\", \"know\", \"harassed\", \"menu\", \"thank\", \"sharing\", \"thanks\", \"appreciate\", \"\\ud83d\\udc9c\", \"\\ud83d\\udc95\", \"reply\", \"\\u2665\", \"\\ud83e\\udd0d\", \"\\ud83d\\udc97\", \"checking\", \"\\ud83d\\ude4f\", \"india\", \"reassuring\", \"xx\", \"\\ud83e\\udec2\", \"\\ud83e\\udd1e\", \"dosage\", \"\\ud83d\\udc96\", \"\\ud83d\\udc93\", \"illinois\", \"killers\", \"breaths\", \"\\ud83d\\ude29\", \"manipulate\", \"town\", \"brutal\", \"appreciated\", \"stories\", \"subreddit\", \"read\", \"advice\", \"response\", \"words\", \"comment\", \"glad\", \"story\", \"helpful\", \"good\", \"update\", \"hear\", \"<3\", \"hope\", \"luck\", \"support\", \"kind\", \"experience\", \"help\", \"think\", \"information\", \"find\"], \"Freq\": [335610.0, 109468.0, 88139.0, 90623.0, 58631.0, 58567.0, 26053.0, 59141.0, 59028.0, 61116.0, 21568.0, 20862.0, 25416.0, 20179.0, 25016.0, 59397.0, 48741.0, 28743.0, 17535.0, 22391.0, 30927.0, 30267.0, 51840.0, 29834.0, 38274.0, 29515.0, 29498.0, 29437.0, 29394.0, 29390.0, 12939.824582605212, 7768.39150754124, 5691.230310369534, 5333.70953979923, 5091.680877442812, 5076.510894073145, 4672.669075773624, 4675.179381943675, 3136.837502675343, 2899.7823434538113, 2833.189590252806, 2565.9400931828454, 2415.2787102272237, 2375.9244994813703, 2365.0041760673353, 2357.408533605671, 2356.909790498289, 2193.4938974647284, 2434.723956381441, 2179.2675319577766, 1896.5164436779646, 1858.49870060179, 1821.0165687066435, 1819.8800079251805, 1774.4468663029459, 1714.4454077906898, 1713.6643166859667, 1701.095887968626, 1697.4519909452672, 1661.3424779142358, 14676.151089693667, 13552.372879009095, 5589.753805174922, 3262.290954743198, 19023.595008120625, 1988.5035163612815, 19184.08091341246, 3287.086987319283, 15796.466978617587, 30461.454415611155, 8573.17239780853, 7581.596544895401, 9471.121368051607, 18026.451256796376, 9065.157996936372, 3621.314918605115, 7217.1089373417335, 3140.7035298424203, 19781.029098920804, 9116.960098281006, 9056.324406490718, 12599.246330456433, 9936.885573911672, 23342.994611860624, 6099.203810789018, 4587.945423243892, 4900.597748186645, 11155.930886898293, 22080.253257988403, 17465.186450834502, 20979.408627692883, 16450.770416652224, 18393.101791337296, 16130.065694779856, 31868.451529465583, 10098.580752019108, 12981.844355075693, 10116.281523821961, 11115.969172227802, 8513.687809206533, 9073.09692212821, 31188.598593622362, 29872.12023996668, 29830.19421702252, 29206.42785625102, 28870.276664275814, 2016.31733110966, 643.2059255797549, 623.1448427048865, 30019.91725547666, 545.769745361647, 28815.796573721636, 490.6518545282874, 490.04579974638654, 482.0901083636892, 480.9647569798575, 479.6230641267056, 427.0103699337368, 393.60969903703415, 370.59825997646493, 365.4805389749875, 284.88096139101117, 278.0986009297637, 274.75118516693715, 28665.57321950609, 263.6853503231582, 260.5261193632484, 251.16322089932632, 243.44995624661198, 242.88612442125955, 90319.09870194625, 30454.648091810974, 57984.14910212793, 28448.987806030807, 28531.091778163023, 28611.13937428937, 56702.1851853323, 28540.014045270927, 26883.36115528074, 27440.33075062036, 26509.74199089283, 52908.889798753604, 46335.86425282276, 26509.32886587816, 26432.66334543162, 26182.53156416052, 24035.679638571375, 26734.65464813399, 22960.740682486132, 226522.34028339694, 23421.974721720624, 23088.646036841925, 42327.5989565575, 32681.863623332465, 24163.877880064436, 26412.39247251024, 58631.18390197315, 58566.918337869436, 30926.42115798101, 30266.278641608427, 29514.617277041085, 29498.179317712405, 29436.63611688421, 29824.288416141684, 1882.1839864312815, 1091.769831600199, 491.399775341207, 481.0072716789648, 479.71124190227187, 474.8357688786534, 368.3251878889522, 306.9819598396512, 286.89155822327064, 259.18073432925263, 252.96932963358665, 245.82075161197523, 238.03078971365468, 210.52910329365616, 199.66507389559766, 259.0329409519739, 191.9389463429297, 189.55304175614575, 169.2947799892783, 168.20208193187443, 261.24888605052564, 163.9898693320917, 28974.338432756398, 28900.397267113225, 28707.70806089465, 29807.27410897183, 1844.3459862096618, 1835.1415629294231, 1842.2406255366247, 1760.131559288184, 26008.024350909815, 2224.590547820399, 71660.74070328899, 80302.85234347546, 24371.51708704298, 23088.22765543405, 26834.974163694395, 22937.48211702675, 39573.52534184633, 13293.60843356025, 24125.503659660546, 14441.503379309694, 9896.49287252053, 13405.14100687001, 33552.08772077448, 12148.099493744929, 7450.69270308375, 10003.019003087738, 6252.80189862302, 9638.20286547938, 12871.915447418818, 3418.376662276972, 3007.991184933551, 2681.9717690708826, 2440.9028074421835, 2356.2295321499014, 2406.6354237417727, 1641.938026399947, 1477.5597581707725, 1376.3458509867987, 1328.3965543062811, 1200.7913502475847, 1192.150747263541, 1154.7274710679353, 1137.703106143956, 1156.962065384198, 1132.0734559546397, 1108.958362682309, 935.2220013355167, 917.2912698536121, 911.3397316735011, 901.1800507867506, 1078.3237393962745, 1156.8455300892101, 800.9121561888935, 768.3266393857348, 982.3915927949297, 723.5103228854182, 690.2866080050687, 685.4016080530557, 3328.9091352465575, 2043.710704467407, 1303.8665612226391, 2811.2921358253984, 951.3591362043563, 1860.9837051820377, 1256.9636794074252, 2266.0332733632, 2617.4616742289218, 5245.6257165356865, 7874.860716487112, 3341.4376234108086, 5571.893649492821, 11565.977338316203, 4714.611963770094, 21949.650389470116, 5214.215421282498, 1746.2959837590065, 21819.22010555406, 3558.3309176060907, 2437.8569283845245, 5347.10925103693, 5787.104990976937, 4679.224021982826, 3667.3859853528215, 8671.728720358706, 7315.782381340929, 8627.313498091653, 4170.269250651998, 8368.13145041415, 5382.924202859441, 3682.697590370569, 4665.504779950202, 4454.300604986523, 4051.8803751252644, 13791.022282247437, 5073.248561770127, 5722.661487732113, 4964.106650342595, 4531.70853107788, 4309.533562113884, 3603.919044447439, 8258.272515073897, 5799.063291849514, 4647.730497378712, 4188.870439850861, 3601.491640179635, 2469.800515006263, 2151.2125172707365, 2044.418907942898, 1659.8596939583088, 3341.1363040646597, 1449.3051041368626, 1418.2003277827728, 1396.2621653451652, 1295.972975942405, 1235.853734133039, 1226.2309663115138, 1147.4227710145462, 1020.0434837425735, 962.2187907554058, 946.3572137518793, 910.9400246553954, 875.1785222054569, 803.4314980601458, 785.2795144770723, 777.8172220727421, 773.260755156171, 771.6998059610969, 758.9481232975857, 750.569380840518, 749.8236080921322, 5651.408064941057, 1756.6104782455416, 1560.4265962153652, 1198.1295694864025, 20258.01065771998, 7115.341541269221, 5784.795717446709, 3826.6899876650878, 2291.8460511360727, 1678.7938005824233, 2263.2437810923957, 3332.722986561787, 11614.54541914252, 10752.513952434874, 4465.72306041301, 2851.336229997567, 7118.363180480092, 10551.494467054757, 10032.575272503767, 2831.9889135350813, 3049.9058747238378, 2715.934433136549, 5592.187520715923, 4913.435920288047, 5825.303131012848, 8755.134690183853, 4006.279707491385, 5831.872558786885, 10275.383730605035, 5853.472409896104, 5122.870075740064, 4419.710014614173, 6279.544503448794, 4889.499844323423, 4497.153383225276, 4391.276646627996, 4286.506649638727, 4601.894299980422, 4267.788446845872, 13784.833419556986, 13030.886038196062, 1611.4357056103397, 1694.771305902828, 1111.8141604228854, 1043.0777988225818, 990.8909481313306, 986.4214406957233, 964.7676864440946, 720.5471806396987, 665.510196796934, 623.930419724038, 595.8238429514413, 723.2792979603081, 542.409439919654, 490.9951666873721, 487.03952473682415, 436.3180959352768, 433.4180660971387, 419.83686058644946, 419.6752829147148, 385.8161969132837, 372.26463222427276, 347.78596689234786, 341.0677065118118, 334.1018005855121, 322.3237776469102, 320.2101094229416, 301.48442256768766, 296.77501217562053, 456.56242520570197, 1457.5593293698894, 10434.507726447033, 792.8935440549104, 3645.2207420362247, 25724.003729627395, 9554.318912438488, 8109.305862475675, 3324.996946218049, 1440.8384647925068, 9074.30965878955, 2927.389802498664, 4154.931193918473, 6375.236770833305, 3718.2898253277676, 11266.837015105444, 8563.193653220751, 3142.5161603543597, 2254.8727187977006, 3596.119586910458, 3305.774990671608, 7113.7465240339925, 3588.5847179822854, 12044.264306882085, 5484.732012385027, 12948.391017194863, 14226.79480728713, 3270.0129873808196, 8383.74014156689, 4636.521499944849, 3413.085401431476, 5193.519307648474, 4845.467238128789, 5671.117878744871, 5788.226497164761, 3883.935250141945, 3711.122221039704, 4093.97308445759, 4355.23088429718, 4160.234945799575, 3707.667305634791, 3675.219756229828, 16684.69567703978, 10895.082383454877, 10833.701300763154, 1807.309183274267, 1621.7300687695129, 843.9274842079993, 822.195206368107, 822.102655586854, 844.8309202894992, 590.5217395943048, 511.142364159781, 469.1397596826191, 421.8087383565352, 419.4799449992007, 410.7851377008962, 396.27894394830145, 367.6306898420907, 366.19206444612536, 352.37092204539084, 10889.791588874758, 340.8285103029716, 339.7741838420629, 318.0824377264267, 293.6648829915443, 282.220038332885, 273.2020055825458, 263.54705290290036, 263.1774015711639, 257.36641642107423, 10587.692997130394, 11033.44805876431, 10587.692997130394, 22086.710913735234, 11840.418636534778, 11357.17052605139, 11111.862096944398, 10600.029088255462, 11072.677149585385, 7030.2323878669395, 11392.756577339824, 19204.181366350367, 11041.477353209018, 23477.85921364553, 11515.473796652808, 8684.055154859054, 2720.12815828738, 6264.273092872212, 9477.464058475958, 11018.512319028046, 5454.658723028486, 5797.997340942905, 6195.756821494618, 8870.99388799529, 5381.955243622298, 14091.25604443408, 4975.885555685489, 13533.112528973554, 13370.535059039312, 12510.83530482197, 12511.045194544939, 12511.045194544939, 12532.9001562914, 12507.072059826074, 12507.475514515781, 12507.475514515781, 12510.979895520015, 12510.979895520015, 12510.979895520015, 12510.809651633606, 12506.810086357036, 25012.513198767745, 25409.806459051255, 13579.669179005406, 2181.887431807337, 506.0341134474245, 318.48486796622063, 305.0579746014291, 304.40352678467235, 15302.434696701035, 269.71881279382495, 254.4387194977376, 238.53991308194054, 202.62486634694073, 194.67229292968486, 190.7632668889354, 168.88687889992184, 13790.661211704446, 11855.49973227392, 13601.308032074143, 12796.678676947744, 9699.350805114975, 14615.381677535024, 8803.327690914522, 2486.8816864153237, 6911.422151279829, 6911.422151279829, 5582.578054336683, 6095.188226581289, 13317.94291341809, 6160.8238524310045, 20861.46643122467, 2364.77560784144, 1810.1036509424573, 1610.472451569468, 1466.8522182643142, 1406.9019603733743, 1020.2248341826148, 911.0848295349138, 889.411735553628, 706.6045351149598, 680.6807195281935, 675.0278947468297, 665.8274074134986, 633.3052259776289, 605.1717112505904, 5157.326366664247, 559.7868800412656, 528.264912130554, 508.6827546349846, 493.267550428452, 492.1537787891089, 3387.3638981569948, 454.96119152567064, 450.6907918008836, 441.42398375311365, 426.80175323088065, 417.4749690512191, 386.0062361534427, 384.99229255511597, 376.59543582208175, 641.4711002523036, 425.5207919280082, 617.4586397249368, 987.7088486281388, 1670.1019115053641, 1746.099502206154, 4124.811382148961, 4666.3258644542475, 1012.4900941188438, 7543.254217913487, 1646.9684730630936, 2090.0062113005015, 764.4137937985215, 1692.709443534932, 3740.6683218811995, 828.4833214752917, 988.1080616581019, 1236.3166564379437, 1041.0556848307579, 2371.1257418983837, 1770.245793771626, 1150.4532398762349, 1627.4669115926943, 1150.2497175642125, 1576.9182345616016, 1154.744755164812, 1399.2266016368812, 1237.6267135998412, 1167.3646255217336, 26052.803282519322, 20178.291755135087, 17534.848571504626, 3922.1283064222002, 3350.9161152066945, 1850.63666027876, 1741.2891238181344, 1523.7660091454995, 1143.6611306633608, 917.7505823679702, 603.6279158769568, 581.4566446077378, 531.3364552698816, 429.35859434468125, 379.2960680923478, 371.8299711775596, 341.1549682647836, 322.1034272694432, 317.36549773398536, 298.3661126755503, 285.91736520103166, 277.37508351715326, 273.32908786868734, 232.45755301236207, 230.18451212947832, 204.25581517148558, 202.0492303004883, 199.06271286102134, 197.41716297059475, 189.79774518715766, 20173.992662043023, 10110.136351383224, 12113.452274357687, 6194.059429441715, 803.7190077547851, 1404.04818788852, 1058.1984217060212, 1622.6777303690808, 1400.9169805318086, 1348.2463334842907, 4312.838935013004, 709.3125043286595, 1124.48829356276, 853.2311430953041, 1547.9179564960057, 1066.0193131995889, 1444.3936512162106, 1051.6973947382205, 1145.2095187174675, 1423.0236006529738, 1274.6677735717935, 1136.4270513081776, 894.0472593762574], \"Total\": [335610.0, 109468.0, 88139.0, 90623.0, 58631.0, 58567.0, 26053.0, 59141.0, 59028.0, 61116.0, 21568.0, 20862.0, 25416.0, 20179.0, 25016.0, 59397.0, 48741.0, 28743.0, 17535.0, 22391.0, 30927.0, 30267.0, 51840.0, 29834.0, 38274.0, 29515.0, 29498.0, 29437.0, 29394.0, 29390.0, 12940.589853054338, 7769.1568737416355, 5691.995636963001, 5334.47488478673, 5092.446167290577, 5077.27615845016, 4673.434426082076, 4675.946612847767, 3137.602777550513, 2900.5491983518373, 2833.955074203748, 2566.7164888068505, 2416.044017516468, 2376.6897751477504, 2365.769510494802, 2358.173806996115, 2357.6750699225945, 2194.259176804224, 2435.574267737185, 2180.032861878701, 1897.281712760648, 1859.2640067534594, 1821.7819488669174, 1820.6453392154197, 1775.2121767715269, 1715.2108195503129, 1714.4296279388232, 1701.861159799584, 1698.2172706732397, 1662.107741035232, 14695.077144332563, 13569.011485897227, 5595.574583998154, 3264.3782288504926, 19405.042359652143, 1991.7195605600355, 20352.772287612668, 3337.1955925815764, 17464.62155060028, 36077.867657134666, 9468.247991633605, 8463.058253934116, 10926.147987315551, 23232.234107132495, 10766.335934828987, 3848.753201260306, 8662.817267205211, 3298.489388863411, 30057.4910774118, 12013.091081201888, 12096.82547124085, 18949.10019526767, 14253.006339800333, 43873.06248971525, 7669.543587522848, 5238.557074980303, 5878.351760672956, 19448.084676900307, 53091.36880738192, 38448.19878882458, 54106.054315831425, 38274.160982632304, 48741.714451799045, 39271.85339767361, 335610.92671414075, 24025.90484305619, 48003.79967721723, 26428.310837570436, 72248.41391125601, 18715.71084708828, 48170.996256476734, 31189.405667164894, 29872.927265308477, 29831.00127495823, 29207.234868002834, 28871.084840575073, 2017.1243580681137, 644.0145173239401, 623.9529602008923, 30063.07325828088, 546.5779215475927, 28859.343487060527, 491.4603180405357, 490.8545130269358, 482.8989896130791, 481.773161824306, 480.4318539541674, 427.8192255166143, 394.41875390211, 371.40690446936657, 366.2897486077844, 285.69449600451, 278.9068897939284, 275.5618975392471, 28751.333894712203, 264.49536910428697, 261.3339698528365, 251.97132305260556, 244.25958126410987, 243.69467167785064, 90623.1379954127, 30624.169133701358, 59141.31175543687, 29185.799716303598, 29363.371232792742, 29458.020084691725, 59028.3184562324, 29691.426774478296, 27969.06055797176, 29146.529639518798, 28285.951052844386, 59397.70651543689, 51840.834833544555, 29152.20974890159, 29181.68072417327, 29158.665664495515, 28016.596619876927, 32088.26294742095, 28381.281922110054, 335610.92671414075, 29836.60290478528, 29492.762432325704, 59600.283919397174, 58436.51461776254, 31873.257731055463, 109468.83583684378, 58631.99009167498, 58567.7245309372, 30927.227411607084, 30267.085445686975, 29515.423472878163, 29498.985506437868, 29437.44230442026, 29834.5834011195, 1882.9901194863053, 1092.577288746099, 492.207923708092, 481.814031899251, 480.5190789700321, 475.6439404708959, 369.13427729438166, 307.79088026461915, 287.6987129916736, 259.9890605166548, 253.7823284217109, 246.62844876156348, 238.8394636095575, 211.33738702696678, 200.4754699914024, 260.09537802236423, 192.74667688717915, 190.36570009761965, 170.10315412581514, 169.01286384020054, 262.5213747497813, 164.79959038247353, 29394.66941373254, 29390.635774771443, 29389.980186991375, 30780.797827619117, 1863.205976176604, 1855.3058803735019, 1862.998387327631, 1779.6256519411256, 28903.79612358142, 2349.8327923760453, 88139.26947402426, 109468.83583684378, 31524.911795148197, 31402.015499986413, 37361.86690655713, 33409.357548711596, 61116.054954230014, 29462.361352180433, 72248.41391125601, 42388.5836023983, 29694.397290203397, 48170.996256476734, 335610.92671414075, 58436.51461776254, 26966.739170117482, 48003.79967721723, 20633.466293186015, 54106.054315831425, 12873.869220817665, 3419.165813417529, 3008.780389360513, 2682.760987570268, 2441.6923437919627, 2357.0186978031456, 2407.4448395346903, 1642.727178386181, 1478.348957720631, 1377.1350567232635, 1329.1857502416085, 1201.5805148026648, 1192.9399016401278, 1155.5166106661845, 1138.492308555828, 1157.7676465247382, 1132.8628787720675, 1109.7475234625056, 936.0111660861761, 918.0815915091401, 912.1290551671871, 901.9695089841545, 1079.3535731213751, 1157.9686490578745, 801.7020054201162, 769.1157800024178, 983.4230682797786, 724.2995224756318, 691.0758065412084, 686.1907586432279, 3350.2989985166064, 2052.328187929009, 1305.5727220951974, 2842.2837351279695, 952.5271854457148, 1895.7245655149347, 1268.8370060203931, 2333.259827315692, 2753.715777122512, 5757.416611042596, 8942.43699519486, 3601.0413544185926, 6326.721365732036, 15957.95701024073, 5739.635850661274, 33908.45012374721, 6528.587846999509, 1878.3506316895607, 38274.160982632304, 4420.515708280388, 2822.2666971492, 7669.2125125531165, 8987.402430778577, 6926.658560693504, 5209.614510188801, 19223.89509469366, 17087.846580103465, 24025.90484305619, 7355.426292964623, 26601.362265322252, 12581.21654722276, 6285.792664346514, 10642.029710270846, 10138.420252798554, 9136.355780952674, 335610.92671414075, 17704.965791991115, 53091.36880738192, 38448.19878882458, 54106.054315831425, 43873.06248971525, 9900.440935984208, 8259.045609465673, 5799.897870575222, 4648.50374690444, 4189.643312550658, 3602.2644751049497, 2470.573360981443, 2151.9853718340587, 2045.1929895984495, 1660.632532095633, 3342.839674584908, 1450.077971617372, 1418.9732098691268, 1397.0350184058098, 1296.7458754525394, 1236.6265984464, 1227.0039224015168, 1148.1957340580227, 1020.8163280429184, 962.9916562894836, 947.1301813841121, 911.7129502752267, 875.9514263162337, 804.2043632365323, 786.05800655499, 778.590116877594, 774.0338925659864, 772.4726844095468, 759.7209971657234, 751.3429318924863, 750.5964877084181, 5692.537876373926, 1758.588114784831, 1567.2116176572827, 1203.894837777854, 21405.191555088757, 7360.808912107569, 5965.191365059385, 3951.7035002861044, 2345.1291744224454, 1707.0392647660867, 2330.846098235713, 3667.7025917940177, 14274.24729422896, 15104.684284015979, 5511.048845863509, 3295.133032867126, 10568.801623881289, 19223.89509469366, 18980.996978604166, 3575.786387946429, 4026.020313946021, 3429.0368851804174, 10749.390105949715, 9136.355780952674, 12616.706716930978, 26601.362265322252, 7047.399548892373, 15758.881497807988, 53091.36880738192, 17087.846580103465, 13882.260782477337, 9900.440935984208, 33908.45012374721, 17883.737572286896, 17232.25486214736, 15957.95701024073, 17704.965791991115, 48741.714451799045, 48170.996256476734, 13785.605169971377, 13031.657786210897, 1612.20755145618, 1695.6113871085836, 1112.5859265852312, 1043.8499754252668, 991.6629538591382, 987.1933332510858, 965.5396080552474, 721.3190622907545, 666.2820290033841, 624.7022309371554, 596.622781338964, 724.2793936610469, 543.1812013223479, 491.76690680491555, 487.81131030135117, 437.0898968479855, 434.19005851178105, 420.60866386181755, 420.44707778859527, 386.58803386150043, 373.03642503290644, 348.55785906536426, 341.8397063967844, 334.87355976353064, 323.09565382070133, 320.9819714090258, 302.2563430017094, 297.54696833427676, 457.8431883501294, 1527.3871497373243, 14894.51247236606, 874.1347845607401, 5099.181829215224, 48741.714451799045, 16559.77004860339, 13882.260782477337, 5100.635796507195, 1874.8649240905481, 17696.549729733975, 4468.910730264498, 6949.853507623295, 12022.189703427426, 6359.4208354378925, 26428.310837570436, 18715.71084708828, 5290.228908023868, 3507.587537541279, 6753.080684836797, 6021.060230803406, 17883.737572286896, 6903.170320609085, 38448.19878882458, 12616.706716930978, 43873.06248971525, 53091.36880738192, 6397.770832127161, 30057.4910774118, 12466.492277817577, 7503.7543392946245, 19448.084676900307, 18980.996978604166, 33908.45012374721, 39271.85339767361, 12550.638837326946, 10831.31986879615, 17232.25486214736, 24025.90484305619, 42388.5836023983, 14253.006339800333, 12581.21654722276, 16685.545298088586, 10895.931800721351, 10836.054482168673, 1808.1584495225786, 1622.5794257053888, 844.7768497819711, 823.0445590552501, 822.9520770508632, 845.7044463461818, 591.3712127214126, 511.9917834629563, 469.98907087345503, 422.65844999000325, 420.3292681674236, 411.63488460251233, 397.1288829303473, 368.4804597400563, 367.041570245523, 353.2233612280783, 10916.729033471405, 341.6785757834198, 340.6235433622544, 318.93190854138004, 294.51430695947846, 283.0696258052597, 274.0517886853364, 264.39731302294473, 264.02726508889, 258.21579949672406, 10623.402478694934, 11074.993954615786, 10623.402478694934, 22391.884682823304, 11947.53603179765, 11572.779726052417, 11323.948881310875, 10815.6278291246, 11422.371193511939, 7250.302453022814, 12106.34454840319, 21034.350479452205, 12308.205957934495, 28743.831590056598, 17464.86414753607, 17182.82808666706, 4414.066549647189, 14848.514465412773, 26601.362265322252, 39271.85339767361, 19619.977028330602, 23499.458760311252, 28863.277981466133, 72248.41391125601, 28381.281922110054, 335610.92671414075, 27992.298770724705, 13533.964569318876, 13371.387065597539, 12511.691517748191, 12511.901650283236, 12511.901650283236, 12533.759807470402, 12507.942649683231, 12508.34695301454, 12508.34695301454, 12511.853893624291, 12511.853893624291, 12511.853893624291, 12511.686447567421, 12507.69919739509, 25016.67141619333, 25416.490064993337, 13584.722844294987, 2182.7425605772255, 506.88734916708285, 319.33886039501914, 305.9124617166054, 305.25725815399784, 15350.569538792051, 270.572151407428, 255.29208583785132, 239.39367155336694, 203.47847839012826, 195.5253556137357, 191.6164920137691, 169.7399594132962, 15001.423099613872, 13036.761540616162, 18171.03006576921, 19485.1566297365, 17402.94030969757, 28863.277981466133, 18471.52551656296, 5097.756740985837, 20633.466293186015, 20633.466293186015, 15693.492380849942, 21692.40464802907, 335610.92671414075, 58436.51461776254, 20862.249072876322, 2365.5572134665454, 1810.8850892813982, 1611.253896113375, 1467.6337628218967, 1407.683459955961, 1021.0063566165591, 911.8663033498011, 890.1931540503982, 707.3861049043363, 681.4656276940053, 675.8094260672739, 666.6088195608039, 634.0867334504147, 605.9531509554436, 5164.22097641001, 560.5683157509078, 529.0463368892034, 509.4642685173019, 494.04918283385564, 492.9352301795933, 3392.8198891546717, 455.7426392388745, 451.47232642106604, 442.20543145702885, 427.58334573643054, 418.3010802491642, 386.78769889200385, 385.7738411689782, 377.3768960091774, 643.1335777097414, 426.64244353976665, 626.3098682540394, 1020.0448409613206, 1882.5960925757947, 1998.5264541196411, 5489.93131778015, 6545.889221941957, 1169.2860381040584, 14848.514465412773, 2291.564491830612, 3415.2050263058636, 883.3881666687942, 2731.341804295183, 8792.344826096009, 1015.8365013294358, 1389.7059331520843, 2643.912889896154, 2030.2517287645762, 17883.737572286896, 8987.402430778577, 3019.2414170635507, 8655.164484454206, 3386.1147260077364, 11457.11174754111, 4352.223962374734, 17704.965791991115, 18715.71084708828, 43873.06248971525, 26053.619296788183, 20179.108250149904, 17535.664487718463, 3922.9442114919925, 3351.731999044264, 1851.4525234151763, 1742.105133100319, 1524.581957748739, 1144.4770540539555, 918.5665397951655, 604.443961501704, 582.2725806859397, 532.1524751310322, 430.17447420557534, 380.1120786960099, 372.64594510988843, 341.97094095578797, 322.9199079530076, 318.1814876801368, 299.1822545786634, 286.73328358203537, 278.1910679965103, 274.1450271843067, 233.2738310173743, 231.00074232995408, 205.0718733872122, 202.86535883931802, 199.8788721992273, 198.2335751200588, 190.61375729821575, 21568.000517880086, 15693.492380849942, 19619.977028330602, 17182.82808666706, 1256.9628467363198, 3276.26610136382, 2399.113177383828, 6359.4208354378925, 5097.756740985837, 4756.297807899303, 48170.996256476734, 1632.304804594436, 4684.371365530146, 2695.174138890272, 17696.549729733975, 6685.401454942217, 17464.62155060028, 8472.465771476178, 15758.881497807988, 72248.41391125601, 39271.85339767361, 21034.350479452205, 28863.277981466133], \"Category\": [\"Default\", \"Default\", \"Default\", \"Default\", \"Default\", \"Default\", \"Default\", \"Default\", \"Default\", \"Default\", \"Default\", \"Default\", \"Default\", \"Default\", \"Default\", \"Default\", \"Default\", \"Default\", \"Default\", \"Default\", \"Default\", \"Default\", \"Default\", \"Default\", \"Default\", \"Default\", \"Default\", \"Default\", \"Default\", \"Default\", \"Topic1\", \"Topic1\", \"Topic1\", \"Topic1\", \"Topic1\", \"Topic1\", \"Topic1\", \"Topic1\", \"Topic1\", \"Topic1\", \"Topic1\", \"Topic1\", \"Topic1\", \"Topic1\", \"Topic1\", \"Topic1\", \"Topic1\", \"Topic1\", \"Topic1\", \"Topic1\", \"Topic1\", \"Topic1\", \"Topic1\", \"Topic1\", \"Topic1\", \"Topic1\", \"Topic1\", \"Topic1\", \"Topic1\", \"Topic1\", \"Topic1\", \"Topic1\", \"Topic1\", \"Topic1\", \"Topic1\", \"Topic1\", \"Topic1\", \"Topic1\", \"Topic1\", \"Topic1\", \"Topic1\", \"Topic1\", \"Topic1\", \"Topic1\", \"Topic1\", \"Topic1\", \"Topic1\", \"Topic1\", \"Topic1\", \"Topic1\", \"Topic1\", \"Topic1\", \"Topic1\", \"Topic1\", \"Topic1\", \"Topic1\", \"Topic1\", \"Topic1\", \"Topic1\", \"Topic1\", \"Topic1\", \"Topic1\", \"Topic1\", \"Topic1\", \"Topic1\", \"Topic1\", \"Topic1\", \"Topic1\", \"Topic1\", \"Topic1\", \"Topic1\", \"Topic2\", \"Topic2\", \"Topic2\", \"Topic2\", \"Topic2\", \"Topic2\", \"Topic2\", \"Topic2\", \"Topic2\", \"Topic2\", \"Topic2\", \"Topic2\", \"Topic2\", \"Topic2\", \"Topic2\", \"Topic2\", \"Topic2\", \"Topic2\", \"Topic2\", \"Topic2\", \"Topic2\", \"Topic2\", \"Topic2\", \"Topic2\", \"Topic2\", \"Topic2\", \"Topic2\", \"Topic2\", \"Topic2\", \"Topic2\", \"Topic2\", \"Topic2\", \"Topic2\", \"Topic2\", \"Topic2\", \"Topic2\", \"Topic2\", \"Topic2\", \"Topic2\", \"Topic2\", \"Topic2\", \"Topic2\", \"Topic2\", \"Topic2\", \"Topic2\", \"Topic2\", \"Topic2\", \"Topic2\", \"Topic2\", \"Topic2\", \"Topic2\", \"Topic2\", \"Topic2\", \"Topic2\", \"Topic2\", \"Topic3\", \"Topic3\", \"Topic3\", \"Topic3\", \"Topic3\", \"Topic3\", \"Topic3\", \"Topic3\", \"Topic3\", \"Topic3\", \"Topic3\", \"Topic3\", \"Topic3\", \"Topic3\", \"Topic3\", \"Topic3\", \"Topic3\", \"Topic3\", \"Topic3\", \"Topic3\", \"Topic3\", \"Topic3\", \"Topic3\", \"Topic3\", \"Topic3\", \"Topic3\", \"Topic3\", \"Topic3\", \"Topic3\", \"Topic3\", \"Topic3\", \"Topic3\", \"Topic3\", \"Topic3\", \"Topic3\", \"Topic3\", \"Topic3\", \"Topic3\", \"Topic3\", \"Topic3\", \"Topic3\", \"Topic3\", \"Topic3\", \"Topic3\", \"Topic3\", \"Topic3\", \"Topic3\", \"Topic3\", \"Topic3\", \"Topic3\", \"Topic3\", \"Topic3\", \"Topic3\", \"Topic3\", \"Topic3\", \"Topic3\", \"Topic3\", \"Topic3\", \"Topic4\", \"Topic4\", \"Topic4\", \"Topic4\", \"Topic4\", \"Topic4\", \"Topic4\", \"Topic4\", \"Topic4\", \"Topic4\", \"Topic4\", \"Topic4\", \"Topic4\", \"Topic4\", \"Topic4\", \"Topic4\", \"Topic4\", \"Topic4\", \"Topic4\", \"Topic4\", \"Topic4\", \"Topic4\", \"Topic4\", \"Topic4\", \"Topic4\", \"Topic4\", \"Topic4\", \"Topic4\", \"Topic4\", \"Topic4\", \"Topic4\", \"Topic4\", \"Topic4\", \"Topic4\", \"Topic4\", \"Topic4\", \"Topic4\", \"Topic4\", \"Topic4\", \"Topic4\", \"Topic4\", \"Topic4\", \"Topic4\", \"Topic4\", \"Topic4\", \"Topic4\", \"Topic4\", \"Topic4\", \"Topic4\", \"Topic4\", \"Topic4\", \"Topic4\", \"Topic4\", \"Topic4\", \"Topic4\", \"Topic4\", \"Topic4\", \"Topic4\", \"Topic4\", \"Topic4\", \"Topic4\", \"Topic4\", \"Topic4\", \"Topic4\", \"Topic4\", \"Topic4\", \"Topic4\", \"Topic4\", \"Topic4\", \"Topic4\", \"Topic4\", \"Topic4\", \"Topic5\", \"Topic5\", \"Topic5\", \"Topic5\", \"Topic5\", \"Topic5\", \"Topic5\", \"Topic5\", \"Topic5\", \"Topic5\", \"Topic5\", \"Topic5\", \"Topic5\", \"Topic5\", \"Topic5\", \"Topic5\", \"Topic5\", \"Topic5\", \"Topic5\", \"Topic5\", \"Topic5\", \"Topic5\", \"Topic5\", \"Topic5\", \"Topic5\", \"Topic5\", \"Topic5\", \"Topic5\", \"Topic5\", \"Topic5\", \"Topic5\", \"Topic5\", \"Topic5\", \"Topic5\", \"Topic5\", \"Topic5\", \"Topic5\", \"Topic5\", \"Topic5\", \"Topic5\", \"Topic5\", \"Topic5\", \"Topic5\", \"Topic5\", \"Topic5\", \"Topic5\", \"Topic5\", \"Topic5\", \"Topic5\", \"Topic5\", \"Topic5\", \"Topic5\", \"Topic5\", \"Topic5\", \"Topic5\", \"Topic5\", \"Topic5\", \"Topic5\", \"Topic5\", \"Topic5\", \"Topic5\", \"Topic5\", \"Topic5\", \"Topic5\", \"Topic5\", \"Topic5\", \"Topic5\", \"Topic5\", \"Topic5\", \"Topic6\", \"Topic6\", \"Topic6\", \"Topic6\", \"Topic6\", \"Topic6\", \"Topic6\", \"Topic6\", \"Topic6\", \"Topic6\", \"Topic6\", \"Topic6\", \"Topic6\", \"Topic6\", \"Topic6\", \"Topic6\", \"Topic6\", \"Topic6\", \"Topic6\", \"Topic6\", \"Topic6\", \"Topic6\", \"Topic6\", \"Topic6\", \"Topic6\", \"Topic6\", \"Topic6\", \"Topic6\", \"Topic6\", \"Topic6\", \"Topic6\", \"Topic6\", \"Topic6\", \"Topic6\", \"Topic6\", \"Topic6\", \"Topic6\", \"Topic6\", \"Topic6\", \"Topic6\", \"Topic6\", \"Topic6\", \"Topic6\", \"Topic6\", \"Topic6\", \"Topic6\", \"Topic6\", \"Topic6\", \"Topic6\", \"Topic6\", \"Topic6\", \"Topic6\", \"Topic6\", \"Topic6\", \"Topic6\", \"Topic6\", \"Topic6\", \"Topic6\", \"Topic6\", \"Topic6\", \"Topic6\", \"Topic6\", \"Topic6\", \"Topic6\", \"Topic6\", \"Topic6\", \"Topic6\", \"Topic6\", \"Topic6\", \"Topic6\", \"Topic6\", \"Topic6\", \"Topic7\", \"Topic7\", \"Topic7\", \"Topic7\", \"Topic7\", \"Topic7\", \"Topic7\", \"Topic7\", \"Topic7\", \"Topic7\", \"Topic7\", \"Topic7\", \"Topic7\", \"Topic7\", \"Topic7\", \"Topic7\", \"Topic7\", \"Topic7\", \"Topic7\", \"Topic7\", \"Topic7\", \"Topic7\", \"Topic7\", \"Topic7\", \"Topic7\", \"Topic7\", \"Topic7\", \"Topic7\", \"Topic7\", \"Topic7\", \"Topic7\", \"Topic7\", \"Topic7\", \"Topic7\", \"Topic7\", \"Topic7\", \"Topic7\", \"Topic7\", \"Topic7\", \"Topic7\", \"Topic7\", \"Topic7\", \"Topic7\", \"Topic7\", \"Topic7\", \"Topic7\", \"Topic7\", \"Topic7\", \"Topic7\", \"Topic7\", \"Topic7\", \"Topic7\", \"Topic7\", \"Topic7\", \"Topic7\", \"Topic7\", \"Topic8\", \"Topic8\", \"Topic8\", \"Topic8\", \"Topic8\", \"Topic8\", \"Topic8\", \"Topic8\", \"Topic8\", \"Topic8\", \"Topic8\", \"Topic8\", \"Topic8\", \"Topic8\", \"Topic8\", \"Topic8\", \"Topic8\", \"Topic8\", \"Topic8\", \"Topic8\", \"Topic8\", \"Topic8\", \"Topic8\", \"Topic8\", \"Topic8\", \"Topic8\", \"Topic8\", \"Topic8\", \"Topic8\", \"Topic8\", \"Topic8\", \"Topic8\", \"Topic8\", \"Topic8\", \"Topic8\", \"Topic8\", \"Topic8\", \"Topic8\", \"Topic8\", \"Topic8\", \"Topic8\", \"Topic8\", \"Topic8\", \"Topic8\", \"Topic9\", \"Topic9\", \"Topic9\", \"Topic9\", \"Topic9\", \"Topic9\", \"Topic9\", \"Topic9\", \"Topic9\", \"Topic9\", \"Topic9\", \"Topic9\", \"Topic9\", \"Topic9\", \"Topic9\", \"Topic9\", \"Topic9\", \"Topic9\", \"Topic9\", \"Topic9\", \"Topic9\", \"Topic9\", \"Topic9\", \"Topic9\", \"Topic9\", \"Topic9\", \"Topic9\", \"Topic9\", \"Topic9\", \"Topic9\", \"Topic9\", \"Topic9\", \"Topic9\", \"Topic9\", \"Topic9\", \"Topic9\", \"Topic9\", \"Topic9\", \"Topic9\", \"Topic9\", \"Topic9\", \"Topic9\", \"Topic9\", \"Topic9\", \"Topic9\", \"Topic9\", \"Topic9\", \"Topic9\", \"Topic9\", \"Topic9\", \"Topic9\", \"Topic9\", \"Topic9\", \"Topic9\", \"Topic9\", \"Topic9\", \"Topic9\", \"Topic9\", \"Topic9\", \"Topic10\", \"Topic10\", \"Topic10\", \"Topic10\", \"Topic10\", \"Topic10\", \"Topic10\", \"Topic10\", \"Topic10\", \"Topic10\", \"Topic10\", \"Topic10\", \"Topic10\", \"Topic10\", \"Topic10\", \"Topic10\", \"Topic10\", \"Topic10\", \"Topic10\", \"Topic10\", \"Topic10\", \"Topic10\", \"Topic10\", \"Topic10\", \"Topic10\", \"Topic10\", \"Topic10\", \"Topic10\", \"Topic10\", \"Topic10\", \"Topic10\", \"Topic10\", \"Topic10\", \"Topic10\", \"Topic10\", \"Topic10\", \"Topic10\", \"Topic10\", \"Topic10\", \"Topic10\", \"Topic10\", \"Topic10\", \"Topic10\", \"Topic10\", \"Topic10\", \"Topic10\", \"Topic10\", \"Topic10\", \"Topic10\", \"Topic10\", \"Topic10\", \"Topic10\", \"Topic10\"], \"logprob\": [30.0, 29.0, 28.0, 27.0, 26.0, 25.0, 24.0, 23.0, 22.0, 21.0, 20.0, 19.0, 18.0, 17.0, 16.0, 15.0, 14.0, 13.0, 12.0, 11.0, 10.0, 9.0, 8.0, 7.0, 6.0, 5.0, 4.0, 3.0, 2.0, 1.0, -4.9124, -5.4227, -5.7338, -5.7987, -5.8451, -5.8481, -5.931, -5.9305, -6.3295, -6.4081, -6.4313, -6.5304, -6.5909, -6.6073, -6.612, -6.6152, -6.6154, -6.6872, -6.5829, -6.6937, -6.8327, -6.853, -6.8733, -6.874, -6.8992, -6.9336, -6.9341, -6.9415, -6.9436, -6.9651, -4.7865, -4.8662, -5.7518, -6.2903, -4.5271, -6.7854, -4.5187, -6.2827, -4.7129, -4.0563, -5.3241, -5.447, -5.2245, -4.5809, -5.2683, -6.1859, -5.4963, -6.3283, -4.488, -5.2626, -5.2693, -4.9391, -5.1765, -4.3224, -5.6646, -5.9493, -5.8834, -5.0608, -4.3781, -4.6125, -4.4292, -4.6724, -4.5608, -4.6921, -4.0111, -5.1603, -4.9092, -5.1586, -5.0644, -5.3311, -5.2674, -3.9716, -4.0147, -4.0161, -4.0373, -4.0489, -6.7104, -7.853, -7.8846, -4.0098, -8.0172, -4.0507, -8.1237, -8.1249, -8.1413, -8.1436, -8.1464, -8.2626, -8.3441, -8.4043, -8.4182, -8.6674, -8.6914, -8.7036, -4.056, -8.7447, -8.7567, -8.7933, -8.8245, -8.8268, -2.9083, -3.9954, -3.3515, -4.0636, -4.0607, -4.0579, -3.3739, -4.0604, -4.1202, -4.0997, -4.1342, -3.4431, -3.5758, -4.1342, -4.1371, -4.1466, -4.2321, -4.1257, -4.2779, -1.9888, -4.258, -4.2723, -3.6662, -3.9248, -4.2268, -4.1378, -2.8314, -2.8325, -3.4711, -3.4926, -3.5178, -3.5183, -3.5204, -3.5074, -6.2702, -6.8149, -7.6132, -7.6345, -7.6372, -7.6475, -7.9015, -8.0836, -8.1513, -8.2529, -8.2772, -8.3058, -8.338, -8.4608, -8.5138, -8.2535, -8.5533, -8.5658, -8.6788, -8.6853, -8.245, -8.7106, -3.5363, -3.5388, -3.5455, -3.5079, -6.2906, -6.2956, -6.2917, -6.3373, -3.6443, -6.1031, -2.6307, -2.5169, -3.7093, -3.7634, -3.613, -3.7699, -3.2245, -4.3154, -3.7194, -4.2326, -4.6105, -4.307, -3.3896, -4.4055, -4.8944, -4.5998, -5.0696, -4.6369, -4.0477, -5.3736, -5.5015, -5.6162, -5.7104, -5.7457, -5.7245, -6.1069, -6.2124, -6.2833, -6.3188, -6.4198, -6.427, -6.4589, -6.4738, -6.457, -6.4787, -6.4994, -6.6697, -6.6891, -6.6956, -6.7068, -6.5274, -6.4571, -6.8248, -6.8663, -6.6205, -6.9264, -6.9734, -6.9805, -5.4001, -5.888, -6.3374, -5.5691, -6.6526, -5.9817, -6.3741, -5.7847, -5.6406, -4.9454, -4.5391, -5.3964, -4.885, -4.1547, -5.0521, -3.514, -4.9514, -6.0453, -3.52, -5.3335, -5.7117, -4.9262, -4.8471, -5.0596, -5.3033, -4.4427, -4.6127, -4.4478, -5.1748, -4.4783, -4.9195, -5.2991, -5.0626, -5.1089, -5.2036, -3.9788, -4.9788, -4.8583, -5.0005, -5.0917, -5.1419, -5.3208, -4.4765, -4.8301, -5.0514, -5.1553, -5.3064, -5.6836, -5.8217, -5.8726, -6.081, -5.3815, -6.2167, -6.2384, -6.254, -6.3285, -6.376, -6.3838, -6.4502, -6.5679, -6.6263, -6.6429, -6.681, -6.7211, -6.8066, -6.8295, -6.839, -6.8449, -6.8469, -6.8636, -6.8747, -6.8757, -4.8559, -6.0244, -6.1428, -6.407, -3.5792, -4.6255, -4.8325, -5.2458, -5.7584, -6.0697, -5.771, -5.384, -4.1355, -4.2126, -5.0913, -5.54, -4.6251, -4.2315, -4.2819, -5.5468, -5.4727, -5.5886, -4.8664, -4.9958, -4.8256, -4.4181, -5.1999, -4.8244, -4.258, -4.8207, -4.954, -5.1017, -4.7505, -5.0007, -5.0843, -5.1081, -5.1323, -5.0613, -5.1367, -3.8864, -3.9426, -6.0328, -5.9824, -6.404, -6.4678, -6.5191, -6.5236, -6.5458, -6.8377, -6.9172, -6.9817, -7.0278, -6.8339, -7.1217, -7.2213, -7.2294, -7.3393, -7.346, -7.3779, -7.3782, -7.4624, -7.4981, -7.5661, -7.5856, -7.6063, -7.6422, -7.6487, -7.709, -7.7247, -7.294, -6.1332, -4.1648, -6.742, -5.2165, -3.2625, -4.253, -4.417, -5.3085, -6.1447, -4.3045, -5.4359, -5.0857, -4.6575, -5.1967, -4.0881, -4.3625, -5.3649, -5.6969, -5.2301, -5.3143, -4.5479, -5.2322, -4.0214, -4.808, -3.949, -3.8548, -5.3252, -4.3837, -4.976, -5.2823, -4.8626, -4.9319, -4.7746, -4.7541, -5.1531, -5.1986, -5.1004, -5.0386, -5.0844, -5.1996, -5.2083, -3.2514, -3.6776, -3.6832, -5.474, -5.5824, -6.2356, -6.2616, -6.2618, -6.2345, -6.5926, -6.737, -6.8227, -6.9291, -6.9346, -6.9556, -6.9915, -7.0665, -7.0705, -7.1089, -3.678, -7.1422, -7.1453, -7.2113, -7.2912, -7.3309, -7.3634, -7.3994, -7.4008, -7.4231, -3.7062, -3.6649, -3.7062, -2.9709, -3.5944, -3.636, -3.6579, -3.705, -3.6614, -4.1156, -3.6329, -3.1107, -3.6642, -2.9098, -3.6222, -3.9044, -5.0652, -4.231, -3.817, -3.6663, -4.3694, -4.3084, -4.242, -3.8831, -4.3828, -3.4203, -4.4613, -3.4288, -3.4409, -3.5073, -3.5073, -3.5073, -3.5056, -3.5076, -3.5076, -3.5076, -3.5073, -3.5073, -3.5073, -3.5073, -3.5076, -2.8145, -2.7988, -3.4253, -5.2537, -6.7151, -7.1781, -7.2212, -7.2233, -3.3059, -7.3443, -7.4026, -7.4671, -7.6303, -7.6704, -7.6906, -7.8124, -3.4099, -3.5611, -3.4238, -3.4847, -3.7619, -3.3518, -3.8588, -5.1229, -4.1007, -4.1007, -4.3143, -4.2264, -3.4448, -4.2157, -2.3229, -4.5001, -4.7674, -4.8842, -4.9777, -5.0194, -5.3407, -5.4539, -5.478, -5.7081, -5.7454, -5.7538, -5.7675, -5.8176, -5.863, -3.7204, -5.941, -5.9989, -6.0367, -6.0675, -6.0697, -4.1407, -6.1483, -6.1577, -6.1785, -6.2122, -6.2343, -6.3127, -6.3153, -6.3374, -5.8048, -6.2152, -5.8429, -5.3731, -4.8479, -4.8034, -3.9437, -3.8204, -5.3484, -3.3401, -4.8618, -4.6236, -5.6294, -4.8344, -4.0415, -5.5489, -5.3727, -5.1486, -5.3205, -4.4974, -4.7897, -5.2206, -4.8737, -5.2208, -4.9053, -5.2169, -5.0249, -5.1476, -5.206, -2.032, -2.2875, -2.4279, -3.9255, -4.0829, -4.6766, -4.7375, -4.8709, -5.1579, -5.378, -5.7969, -5.8343, -5.9245, -6.1376, -6.2616, -6.2814, -6.3675, -6.425, -6.4398, -6.5016, -6.5442, -6.5745, -6.5892, -6.7512, -6.761, -6.8805, -6.8914, -6.9063, -6.9146, -6.9539, -2.2877, -2.9786, -2.7978, -3.4685, -5.5106, -4.9528, -5.2356, -4.808, -4.955, -4.9933, -3.8305, -5.6356, -5.1748, -5.4508, -4.8552, -5.2282, -4.9244, -5.2417, -5.1565, -4.9393, -5.0494, -5.1642, -5.4041], \"loglift\": [30.0, 29.0, 28.0, 27.0, 26.0, 25.0, 24.0, 23.0, 22.0, 21.0, 20.0, 19.0, 18.0, 17.0, 16.0, 15.0, 14.0, 13.0, 12.0, 11.0, 10.0, 9.0, 8.0, 7.0, 6.0, 5.0, 4.0, 3.0, 2.0, 1.0, 1.4897, 1.4896, 1.4896, 1.4896, 1.4896, 1.4896, 1.4896, 1.4896, 1.4895, 1.4895, 1.4895, 1.4894, 1.4894, 1.4894, 1.4894, 1.4894, 1.4894, 1.4894, 1.4894, 1.4894, 1.4893, 1.4893, 1.4893, 1.4893, 1.4893, 1.4893, 1.4893, 1.4893, 1.4893, 1.4893, 1.4884, 1.4885, 1.4887, 1.4891, 1.4699, 1.4881, 1.4306, 1.4746, 1.3893, 1.3205, 1.3904, 1.3797, 1.3468, 1.236, 1.3177, 1.4288, 1.3071, 1.4407, 1.0713, 1.2139, 1.2002, 1.0816, 1.129, 0.8587, 1.2606, 1.3571, 1.3078, 0.9339, 0.6124, 0.7006, 0.5423, 0.6453, 0.5152, 0.5999, -0.8646, 0.623, 0.182, 0.5294, -0.382, 0.702, -0.1797, 1.5508, 1.5508, 1.5508, 1.5508, 1.5508, 1.5504, 1.5495, 1.5495, 1.5494, 1.5493, 1.5493, 1.5491, 1.5491, 1.5491, 1.5491, 1.5491, 1.5489, 1.5487, 1.5486, 1.5486, 1.5479, 1.5479, 1.5478, 1.5478, 1.5477, 1.5477, 1.5476, 1.5475, 1.5475, 1.5474, 1.5452, 1.531, 1.5252, 1.522, 1.5216, 1.5106, 1.5112, 1.5112, 1.4905, 1.4859, 1.4351, 1.4385, 1.4558, 1.4518, 1.4431, 1.3975, 1.3683, 1.3388, 1.1577, 1.3087, 1.306, 1.2086, 0.9697, 1.2739, 0.129, 2.0598, 2.0598, 2.0598, 2.0598, 2.0598, 2.0598, 2.0598, 2.0594, 2.0594, 2.059, 2.0581, 2.0581, 2.0581, 2.0581, 2.0576, 2.0572, 2.057, 2.0567, 2.0566, 2.0565, 2.0564, 2.056, 2.0557, 2.0557, 2.0556, 2.0555, 2.055, 2.055, 2.0549, 2.0549, 2.0454, 2.043, 2.0363, 2.0276, 2.0496, 2.0489, 2.0486, 2.0488, 1.9542, 2.005, 1.8528, 1.7499, 1.8024, 1.7522, 1.7288, 1.6837, 1.6252, 1.264, 0.9629, 0.983, 0.961, 0.7807, -0.2431, 0.489, 0.7735, 0.4914, 0.8659, 0.3346, 2.3595, 2.3595, 2.3594, 2.3594, 2.3594, 2.3594, 2.3594, 2.3592, 2.3592, 2.3591, 2.3591, 2.359, 2.359, 2.359, 2.359, 2.359, 2.359, 2.359, 2.3588, 2.3588, 2.3588, 2.3588, 2.3587, 2.3587, 2.3587, 2.3587, 2.3586, 2.3586, 2.3585, 2.3585, 2.3533, 2.3555, 2.3584, 2.3487, 2.3585, 2.3412, 2.3503, 2.3305, 2.3089, 2.2666, 2.2326, 2.2849, 2.2326, 2.0378, 2.163, 1.9248, 2.1349, 2.2868, 1.7977, 2.1427, 2.2133, 1.999, 1.9195, 1.9674, 2.0087, 1.5636, 1.5114, 1.3355, 1.7922, 1.2032, 1.5107, 1.825, 1.5351, 1.5372, 1.5466, -0.8322, 1.1098, 0.1321, 0.3126, -0.1202, 0.0392, 1.3491, 2.3746, 2.3746, 2.3745, 2.3745, 2.3745, 2.3744, 2.3743, 2.3743, 2.3742, 2.3742, 2.3742, 2.3742, 2.3741, 2.3741, 2.3741, 2.3741, 2.374, 2.3739, 2.3739, 2.3739, 2.3738, 2.3738, 2.3737, 2.3737, 2.3737, 2.3737, 2.3737, 2.3737, 2.3737, 2.3737, 2.3674, 2.3736, 2.3704, 2.3699, 2.3196, 2.3408, 2.344, 2.3425, 2.3517, 2.358, 2.3453, 2.2789, 2.1685, 2.0348, 2.1644, 2.23, 1.9795, 1.7748, 1.7371, 2.1415, 2.097, 2.1416, 1.7212, 1.7544, 1.6019, 1.2634, 1.8099, 1.3806, 0.7324, 1.3034, 1.3778, 1.5682, 0.6883, 1.0779, 1.0314, 1.0844, 0.9563, 0.0146, -0.049, 2.4524, 2.4524, 2.452, 2.452, 2.4518, 2.4518, 2.4517, 2.4517, 2.4517, 2.4514, 2.4513, 2.4513, 2.4512, 2.4511, 2.4511, 2.4509, 2.4509, 2.4507, 2.4507, 2.4507, 2.4507, 2.4505, 2.4504, 2.4503, 2.4502, 2.4502, 2.4501, 2.4501, 2.4499, 2.4499, 2.4497, 2.4057, 2.0966, 2.355, 2.1168, 1.8134, 1.9025, 1.9149, 2.0246, 2.1892, 1.7846, 2.0295, 1.9381, 1.8182, 1.9158, 1.5999, 1.6706, 1.9317, 2.0107, 1.8224, 1.8529, 1.5306, 1.7983, 1.2918, 1.6194, 1.2322, 1.1356, 1.7813, 1.1757, 1.4634, 1.6647, 1.1322, 1.0871, 0.6642, 0.5378, 1.2796, 1.3814, 1.0152, 0.7447, 0.1312, 1.1059, 1.2219, 2.8965, 2.8965, 2.8964, 2.8961, 2.8961, 2.8956, 2.8956, 2.8956, 2.8956, 2.8952, 2.8949, 2.8948, 2.8946, 2.8946, 2.8945, 2.8944, 2.8943, 2.8943, 2.8942, 2.8941, 2.8941, 2.8941, 2.8939, 2.8937, 2.8936, 2.8935, 2.8934, 2.8934, 2.8933, 2.8932, 2.8928, 2.8932, 2.8829, 2.8876, 2.8778, 2.8777, 2.8765, 2.8655, 2.8658, 2.8358, 2.8056, 2.788, 2.6942, 2.4801, 2.2142, 2.4125, 2.0336, 1.8645, 1.6257, 1.6165, 1.4971, 1.3579, 0.7993, 1.2339, -0.2738, 1.1693, 2.9285, 2.9285, 2.9285, 2.9285, 2.9285, 2.9285, 2.9285, 2.9285, 2.9285, 2.9285, 2.9285, 2.9285, 2.9285, 2.9285, 2.9284, 2.9283, 2.9282, 2.9281, 2.9269, 2.9259, 2.9257, 2.9257, 2.9254, 2.9254, 2.9252, 2.925, 2.9243, 2.9242, 2.9241, 2.9235, 2.8444, 2.8336, 2.6389, 2.5081, 2.344, 2.248, 2.1874, 2.2108, 1.8348, 1.8348, 1.8949, 1.6591, -0.2983, 0.6788, 3.6017, 3.6014, 3.6013, 3.6012, 3.6012, 3.6011, 3.6009, 3.6008, 3.6008, 3.6006, 3.6005, 3.6005, 3.6005, 3.6005, 3.6004, 3.6004, 3.6003, 3.6002, 3.6002, 3.6001, 3.6001, 3.6001, 3.6, 3.6, 3.5999, 3.5999, 3.5997, 3.5997, 3.5997, 3.5996, 3.5991, 3.5991, 3.5875, 3.5695, 3.4819, 3.4667, 3.3158, 3.2632, 3.4577, 2.9244, 3.2714, 3.1106, 3.457, 3.1232, 2.7471, 3.3978, 3.2606, 2.8416, 2.9338, 1.5812, 1.977, 2.6368, 1.9306, 2.522, 1.6186, 2.2749, 1.0638, 0.8855, -0.0249, 3.6703, 3.6703, 3.6703, 3.6701, 3.6701, 3.6699, 3.6699, 3.6698, 3.6696, 3.6694, 3.669, 3.6689, 3.6688, 3.6684, 3.6682, 3.6681, 3.6679, 3.6678, 3.6678, 3.6676, 3.6675, 3.6674, 3.6674, 3.6668, 3.6668, 3.6663, 3.6663, 3.6662, 3.6662, 3.666, 3.6035, 3.2306, 3.1881, 2.65, 3.2231, 2.823, 2.8518, 2.3045, 2.3787, 2.4097, 1.2572, 2.8369, 2.2434, 2.5201, 1.2339, 1.8343, 1.1778, 1.5839, 1.0485, -0.257, 0.2425, 0.7521, 0.1958]}, \"token.table\": {\"Topic\": [7, 2, 3, 4, 8, 8, 8, 8, 1, 5, 10, 9, 2, 3, 8, 8, 1, 2, 3, 4, 5, 6, 7, 8, 9, 2, 3, 8, 9, 1, 4, 5, 7, 1, 2, 7, 8, 2, 8, 2, 3, 2, 3, 1, 4, 5, 6, 7, 8, 10, 1, 4, 5, 6, 9, 7, 7, 6, 2, 3, 7, 8, 5, 4, 5, 8, 10, 10, 7, 7, 2, 7, 3, 6, 2, 4, 9, 8, 1, 6, 1, 4, 5, 6, 8, 8, 5, 1, 4, 5, 6, 9, 5, 6, 1, 4, 5, 6, 10, 1, 4, 5, 6, 10, 1, 4, 4, 5, 2, 3, 8, 4, 5, 6, 3, 7, 3, 5, 3, 6, 10, 10, 4, 5, 9, 9, 1, 4, 5, 6, 7, 9, 10, 1, 7, 10, 6, 1, 1, 1, 6, 1, 3, 4, 5, 7, 2, 7, 9, 4, 8, 8, 8, 2, 1, 6, 9, 10, 2, 3, 2, 3, 3, 4, 9, 4, 4, 7, 2, 3, 7, 8, 8, 2, 3, 7, 2, 4, 1, 4, 6, 9, 1, 2, 7, 8, 7, 7, 4, 5, 5, 6, 6, 5, 6, 7, 4, 9, 5, 9, 1, 4, 5, 6, 9, 4, 5, 6, 9, 2, 3, 8, 1, 1, 6, 1, 1, 6, 1, 4, 5, 6, 6, 3, 4, 5, 6, 7, 10, 9, 4, 5, 6, 1, 4, 5, 6, 9, 5, 6, 4, 4, 7, 4, 7, 7, 7, 1, 6, 1, 6, 2, 3, 1, 4, 5, 6, 10, 1, 4, 5, 6, 7, 10, 3, 3, 4, 1, 1, 1, 4, 5, 6, 1, 4, 5, 6, 1, 6, 1, 5, 6, 4, 1, 1, 2, 3, 4, 5, 6, 7, 8, 10, 8, 1, 4, 6, 8, 1, 2, 3, 4, 5, 6, 7, 7, 2, 7, 7, 1, 7, 1, 5, 6, 10, 1, 2, 4, 5, 6, 7, 9, 10, 1, 2, 3, 4, 5, 6, 7, 8, 9, 10, 1, 4, 5, 6, 9, 4, 10, 8, 1, 2, 3, 4, 5, 6, 1, 4, 5, 6, 9, 8, 1, 5, 6, 10, 5, 5, 4, 5, 1, 2, 3, 4, 5, 6, 7, 8, 9, 10, 1, 4, 5, 7, 10, 2, 2, 3, 8, 2, 3, 2, 3, 2, 3, 9, 1, 4, 5, 6, 7, 9, 9, 1, 4, 5, 6, 10, 6, 1, 4, 6, 9, 5, 4, 5, 4, 5, 1, 5, 6, 2, 8, 10, 2, 3, 7, 8, 3, 2, 3, 8, 4, 3, 10, 4, 1, 4, 7, 8, 10, 7, 1, 4, 7, 2, 3, 8, 2, 3, 4, 5, 6, 9, 7, 1, 1, 10, 1, 4, 5, 6, 9, 10, 6, 2, 1, 4, 5, 6, 7, 9, 10, 4, 7, 8, 2, 4, 1, 5, 6, 1, 4, 5, 6, 9, 1, 4, 7, 2, 7, 4, 2, 3, 1, 2, 3, 7, 1, 5, 7, 7, 5, 6, 9, 1, 4, 5, 6, 10, 1, 6, 10, 1, 1, 4, 5, 7, 10, 5, 6, 9, 7, 9, 2, 1, 4, 5, 6, 9, 1, 4, 5, 6, 1, 9, 8, 5, 10, 6, 1, 4, 5, 7, 2, 4, 5, 7, 7, 9, 4, 5, 1, 1, 6, 10, 8, 2, 3, 6, 2, 3, 3, 3, 4, 2, 5, 4, 4, 5, 5, 8, 5, 3, 4, 5, 2, 2, 3, 1, 5, 6, 5, 1, 4, 6, 4, 5, 6, 9, 1, 4, 5, 5, 3, 1, 2, 3, 4, 5, 6, 7, 8, 9, 10, 1, 4, 6, 1, 4, 6, 7, 9, 1, 5, 6, 9, 1, 4, 5, 6, 1, 4, 5, 7, 8, 1, 5, 6, 9, 1, 4, 7, 4, 6, 9, 10, 1, 4, 5, 6, 9, 10, 1, 6, 8, 9, 8, 2, 3, 4, 7, 9, 10, 1, 4, 5, 9, 3, 9, 1, 2, 7, 9, 9, 2, 9, 7, 5, 4, 5, 1, 5, 6, 1, 4, 5, 6, 9, 1, 1, 7, 1, 5, 6, 7, 1, 2, 3, 4, 5, 6, 7, 8, 9, 10, 2, 3, 4, 5, 1, 4, 5, 6, 9, 2, 2, 2, 4, 5, 7, 4, 5, 7, 2, 3, 7, 8, 1, 4, 7, 9, 1, 2, 3, 5, 6, 7, 1, 4, 5, 6, 9, 10, 1, 4, 5, 6, 8, 9, 10, 8, 10, 3, 6, 2, 2, 3, 6, 1, 4, 6, 9, 1, 4, 6, 9, 2, 3, 1, 1, 3, 4, 5, 6, 7, 8, 9, 1, 4, 5, 6, 7, 2, 8, 2, 2, 4, 7, 4, 7, 8, 1, 2, 3, 4, 5, 6, 7, 5, 7, 10, 2, 3, 8, 8, 4, 1, 4, 5, 6, 7, 8, 9, 10, 1, 5, 6, 9, 10, 2, 3, 8, 4, 5, 6, 7, 9, 10, 3, 8, 1, 1, 5, 6, 4, 8, 10, 3, 7, 1, 1, 9, 10, 1, 4, 5, 6, 9, 10, 9, 5, 1, 9, 2, 4, 5, 6, 7, 10, 4, 5, 1, 6, 1, 2, 3, 4, 5, 6, 7, 8, 2, 2, 3, 1, 4, 5, 6, 7, 9, 1, 4, 7, 9, 1, 5, 6, 10, 1, 4, 5, 6, 7, 8, 5, 5, 2, 3, 2, 3, 8, 1, 4, 9, 2, 1, 2, 3, 5, 6, 7, 9, 6, 7, 3, 1, 4, 9, 1, 10, 2, 2, 2, 5, 2, 1, 4, 5, 6, 7, 10, 9, 4, 6, 1, 4, 5, 6, 9, 10, 5, 1, 4, 5, 6, 9, 10, 1, 4, 7, 8, 1, 9, 1, 6, 7, 7, 4, 5, 1, 2, 3, 4, 5, 6, 8, 9, 9, 1, 5, 7, 8, 10, 1, 6, 8, 10, 8, 10, 2, 3, 6, 7, 8, 4, 5, 1, 5, 6, 10, 1, 2, 3, 6, 1, 4, 5, 6, 7, 9, 10, 4, 5, 7, 3, 5, 4, 5, 4, 1, 4, 5, 6, 9, 10, 1, 4, 5, 6, 3, 9, 7, 6, 1, 4, 5, 6, 7, 9, 5, 7, 4, 9, 4, 4, 9, 7, 10, 10, 3, 1, 1, 4, 5, 6, 9, 1, 4, 5, 6, 9, 10, 1, 4, 5, 6, 7, 9, 10, 6, 1, 4, 5, 6, 9, 5, 5, 1, 4, 5, 6, 9, 10, 4, 4, 5, 6, 9, 10, 9, 4, 1, 4, 5, 6, 9, 3, 10, 1, 9, 9, 1, 4, 7, 9, 7, 8, 3, 8, 5, 4, 9, 6, 4, 5, 6, 7, 9, 1, 4, 9, 5, 10, 9, 3, 2, 1, 4, 5, 7, 9, 3, 2, 4, 4, 4, 4, 5, 4, 8, 9, 7, 6, 1, 4, 5, 6, 7, 6, 1, 4, 5, 6, 7, 9, 1, 4, 5, 6, 1, 4, 5, 6, 7, 9, 10, 2, 3, 1, 4, 5, 6, 1, 4, 5, 6, 7, 1, 4, 5, 6, 9, 2, 1, 4, 5, 6, 7, 10, 9, 2, 3, 2, 3, 2, 3, 5, 1, 2, 3, 4, 5, 6, 7, 8, 9, 10, 2, 3, 3, 1, 6, 10, 1, 2, 3, 4, 5, 6, 7, 9, 10, 3, 1, 6, 3, 10, 4, 5, 6, 9, 1, 4, 5, 6, 9, 10, 1, 6, 10, 6, 6, 10, 10, 10, 10, 10, 6, 3, 10, 5, 10, 10, 10, 6, 10], \"Freq\": [0.9990804082969702, 0.9058080050236331, 0.09416866786989535, 0.9987621760749852, 0.9999451354883054, 0.9999317532292535, 0.9999447302751022, 0.9999246359125851, 0.585119891603488, 0.09795285439652557, 0.31649160909180424, 0.9990866914104062, 0.897949182629479, 0.10202798832535233, 0.9999279365912203, 0.9999317532292535, 0.09495519204934534, 0.6749541864378626, 0.09997290710554899, 0.04109222585516887, 0.003331238380543746, 0.0040165557575786845, 0.04198611808608401, 0.03968285577109267, 2.979640769717125e-06, 0.010676402635169797, 0.9889720335736232, 0.9999440986400412, 0.9968896082018501, 0.8331008005122496, 0.12409357912576809, 0.011889896418561965, 0.03082138197821403, 0.999493989392363, 0.8090191296860535, 0.18963202630418274, 0.0013389106279373736, 0.9994425935795102, 0.9998923156657231, 0.9804314155184345, 0.019546404462253555, 0.014288304933403514, 0.9856889217629367, 0.07984715863301904, 0.05045735170176933, 0.003317265336794523, 0.00040738346241336247, 0.50538828394252, 0.00011639527497524643, 0.3604761665983382, 0.03625975709035898, 0.1202903052680163, 0.2453289120597701, 0.597854328216038, 0.00014388792496174198, 0.9996428984022543, 0.9971622553684415, 0.9958434519876981, 0.0006589226016841958, 0.0002823954007217982, 0.9966675009474664, 0.0024474268062555844, 0.9989702337678558, 0.009807562095450202, 0.9773448835987766, 0.012792472298413307, 0.9997555846507251, 0.9967800996795025, 0.9986961052415229, 0.9962213331712405, 0.9372143772176329, 0.06275199998345148, 0.9969173250691794, 0.9989561556171784, 0.9999689596770935, 0.11261045363689169, 0.8870729130830619, 0.9999279365912203, 0.998701800327743, 0.0012249000004019744, 0.3227159834937921, 9.302853372550939e-05, 0.5202155605930485, 0.15693913639493434, 0.9967826776949618, 0.9973131074888641, 0.9992566112729996, 0.14264135715491894, 0.1721737292366827, 0.048728413934910196, 0.2965050157009081, 0.3396222789402832, 0.9835743293403805, 0.016402668982448274, 0.7759047157012705, 0.041063635791579504, 0.0883255562309446, 0.07541246321472463, 0.019197464950780355, 0.25779343478021527, 0.042573054935594226, 0.1223446940418637, 0.5769403785172585, 0.00030193655982690943, 0.4328776977950901, 0.5669283918987204, 0.4511052498613415, 0.5488481885709194, 0.36198474332286856, 0.3030513589500465, 0.3349412988491558, 0.6972032645135242, 0.3026386341754048, 0.9994411331749152, 0.9468758829219419, 0.05276971212688575, 0.9999641377532394, 0.9988067306835682, 0.998403562040238, 0.9995767122763225, 0.9956677960431631, 0.9937771635339187, 0.132559523460423, 0.000855222732002729, 0.8654854047867618, 0.9999401276021603, 0.7589220741251436, 0.11196119224507163, 0.03163215840381206, 0.0765831203460713, 0.01498365398075308, 0.001498365398075308, 0.004328611149995334, 0.9996455436973256, 0.9984576511217571, 0.9978343140643131, 0.9966088871585089, 0.9999544183796074, 0.9999123864492779, 0.998746298806298, 0.0011791573775753223, 0.9993201574661436, 0.9961957610266782, 0.43931893617948437, 0.3191818763980268, 0.24145773591544178, 0.8579200509653334, 0.14205865380437788, 0.9990012742879515, 0.9991757840178985, 0.9999393791262898, 0.9999317532292535, 0.9998923156657231, 0.99872205724719, 0.18298428108286177, 0.029177448008656775, 0.3463779899313397, 0.4409962856165553, 0.7850089393468958, 0.21497085376872124, 0.9712465371991551, 0.028718834380849507, 0.9999603129116378, 0.03137116988880827, 0.9685848703169553, 0.9984432872182392, 0.9959420778908598, 0.0038980120465395684, 0.00018491760548697403, 0.00018491760548697403, 0.9800633090809623, 0.019601266181619247, 0.9949387939950791, 0.9966439255786077, 0.0033104128441809842, 4.4138837922413126e-05, 0.9967484138000374, 0.9992121131677836, 0.41394938378396384, 0.5859245120969788, 0.9981583468497851, 0.0021841539318376044, 3.367975569498616e-05, 0.9612202275349051, 0.0331071998481714, 0.005624519201062689, 0.99816940615408, 0.9993593207924425, 0.03328438530675711, 0.9666057202350077, 0.9998733982695925, 0.9994733650936701, 0.9996394296987907, 0.0451751869274705, 0.9545713411630723, 0.9970780329078953, 0.9295389106502909, 0.06974203739701496, 0.012773230002429239, 0.985135363937355, 0.09967864186126302, 0.11337655247644715, 0.5285812969313171, 0.2552552958867967, 0.0030556877526179992, 0.428140548061715, 0.34252414267430537, 0.19809400699684326, 0.03119175944736114, 0.2771292493091553, 0.246270942587878, 0.4765713580129896, 0.9999070435053818, 0.9425742954769842, 0.057387759441050755, 0.9995022389814386, 0.999797556959875, 0.999185730281863, 0.8758136895964336, 0.0005726767804684614, 0.004963198764059999, 0.11873498581712766, 0.9983995223436932, 0.9961261231620807, 0.8806324276292428, 0.1186477467574129, 0.00022365268003282356, 0.0004473053600656471, 0.996048380007269, 0.9997644472670654, 0.0033225493410896168, 0.9951035276563402, 0.0016612746705448084, 0.10157185940069065, 0.8048834649168315, 0.08392685932662858, 0.008596282087363573, 0.0009048717986698499, 0.9708920729313413, 0.028744926595846165, 0.9995529180096453, 0.9997164492104327, 0.9980628918373491, 0.013576347159075752, 0.9863841437582439, 0.9984421227352279, 0.9999144817773832, 0.09266305543567079, 0.9071827525986041, 0.9986345665253843, 0.0015062361486054062, 0.009660767639301448, 0.9896919737151039, 0.3087782594644706, 0.03223579034277663, 0.37007702613990806, 0.21619554664929128, 0.07265744083165204, 0.01917419978237059, 0.02453647599269457, 0.007962167706238634, 0.02079913196731725, 0.8970438126998038, 0.03046747846774988, 0.9940071789969893, 0.9935147932354083, 0.9993369597716412, 0.9998510940427081, 0.9998515176956837, 0.3773564431794647, 0.00045135876420095817, 0.09441604694785498, 0.5277614931957022, 0.16690710787696483, 0.0004028329232750559, 0.1320620600136725, 0.700593592395868, 0.8419763283323547, 0.1579924693318627, 0.04682234473079862, 0.369032110855202, 0.58412675911084, 0.999586466004274, 0.9992832067520093, 0.19966547125037473, 0.015452160363988743, 0.0007275680888873624, 0.010255245443364727, 0.0007968602878290159, 0.021099474577733507, 0.2146672323212427, 0.5063527437661334, 0.03097361292691914, 0.9978854017146559, 0.1353521977160635, 0.8638446545334105, 0.00035432512491116096, 0.9958813161017008, 0.15685481517384556, 0.0014659328520920147, 0.2553388495098455, 0.026120258091821353, 0.07183070975250871, 0.4548389840172769, 0.033449922352281426, 0.9968375550595869, 0.9747548560099242, 0.025217743120085213, 0.997895544950403, 0.999825081214656, 0.9961620805673921, 0.07909525301376989, 0.0809822173003807, 0.5846444348015835, 0.2552119197641124, 0.38277134176956606, 0.0004918967420921667, 0.05108158475572501, 0.13269860573209452, 0.4263231225501879, 0.0005297349530223334, 0.0025729983432513336, 0.0035567918274356674, 0.18834985167615478, 0.26603145037252546, 0.2782794843732894, 0.052168321091389504, 0.08860103239874667, 0.013555874919489593, 0.021527476709817316, 0.0003113906949346767, 0.0016399909933226306, 0.0895352044835507, 0.11809611897195416, 0.07805974530532576, 0.2733768587376344, 0.3977915674083721, 0.13257855022845802, 0.9982646827748273, 0.9999762299133518, 0.9999710526966544, 0.19741164457135926, 0.36323459506037503, 0.34070494394115325, 2.3591257716462627e-05, 0.0004954164120457152, 0.09813963210048453, 0.6648864521359417, 0.11631159143643267, 0.14491453270619062, 0.06913257022764374, 0.004644019984757748, 0.998249415440056, 0.329393184185638, 0.00042695163212655603, 0.4299402935514419, 0.23994681725512448, 0.9990509711217498, 0.9996489777156318, 0.2421746349919367, 0.7575719351029815, 0.15385804889300375, 0.31393076708728124, 0.3339312061526276, 0.010713037949188998, 0.04127426248641033, 0.003626377186934777, 0.12278470238663515, 0.00016609361161533333, 2.7682268602555552e-05, 0.019695934110718277, 0.5430694427313046, 0.08304778547381546, 0.08851422198601597, 0.001681980465292465, 0.2834137084017803, 0.9961451047649468, 0.36198474332286856, 0.3030513589500465, 0.3349412988491558, 0.010240898927229727, 0.9890552384982395, 0.010735382347103854, 0.988728714168265, 0.9984981125062682, 0.0014899853844312025, 0.9978763595400815, 0.20702671813595533, 0.20376310297685526, 0.5684366229284695, 0.002837926225304391, 0.01660186841803069, 0.0011351704901217563, 0.9979634851515178, 0.2538912990734461, 0.0366173073224111, 0.1092303318737973, 0.5127553188943801, 0.08747467860353762, 0.9993314725970571, 0.06628514364078267, 0.21866253005761144, 0.7148205579013397, 0.9979940548414757, 0.9994166860513816, 0.031378872425783556, 0.9684431030118844, 0.18627952460057395, 0.8137031508972045, 0.9998106571155044, 0.99984519200247, 0.9992509950377734, 0.9944759600509393, 0.005518517066117509, 0.9958232793931481, 0.0006589226016841958, 0.0002823954007217982, 0.9966675009474664, 0.0024474268062555844, 0.9980789601412853, 0.7828700364362334, 0.21710411205774188, 3.390662377912571e-05, 0.9991243561630505, 0.9999849747673155, 0.9970743400214354, 0.9995573346592491, 0.026860824656883546, 0.005895119039740813, 0.9129827906385692, 0.00023770641289277473, 0.05400689700923842, 0.9987308596554613, 0.00219846072265918, 0.0002748075903323975, 0.997551552906603, 0.2355923727276894, 0.20703398022874753, 0.557319615386795, 0.01667197687573026, 0.98330639124205, 0.9998152233740166, 0.9992003183917685, 0.9973913743320091, 0.9982861438458092, 0.9961092461850706, 0.9997097748494721, 0.9999109781568033, 0.994539331686633, 0.4744781635511507, 0.031513848176158515, 0.08686963392379277, 0.28268039843408105, 0.00023605878783639338, 0.12416692240194291, 0.9995576682948858, 0.9981383485316475, 0.5320576835836814, 0.09823795640002, 0.030200763858474828, 0.2951241437279487, 0.004011573161578543, 0.026599465224785, 0.013766989713599092, 0.9988219004507407, 0.9909993130373117, 0.008872122228205662, 0.9991011129869657, 0.9992383201989964, 0.9803637450210145, 0.014223107318429353, 0.005410964740706819, 0.41588680977707165, 0.10779529947256254, 0.19353428308240087, 0.26797199468742744, 0.014804666326303366, 0.29541533197707276, 0.7038908527354943, 0.000575858346933865, 0.9611692156867168, 0.03879286534315693, 0.998919707239814, 0.8938127664953699, 0.10617112972182571, 6.344189043243596e-05, 0.20989749449571438, 0.7731028768096646, 0.016938984745460402, 0.9995707780135796, 0.01857807761742809, 0.9813545465168876, 0.9952915371596405, 0.29808812071587193, 0.32061033428107116, 0.38089037647028084, 0.4228117595918652, 0.05559342103884255, 0.26096410690153965, 0.23757773041025199, 0.02298016151501216, 0.6971862471043568, 0.26015564096437105, 0.04265766712684402, 0.9997136713488612, 0.3839709578102198, 0.05654110714930389, 0.3990785023130761, 0.0008974778912587919, 0.15945190534697867, 0.0005464549238137005, 0.24809053541142004, 0.7513755202438381, 0.9999673191328875, 0.9992217886228858, 0.9971494178634773, 0.3889680405484834, 0.0360401643035956, 0.023749970024950096, 0.5490727335838114, 0.0021590881840863724, 0.8337371085528458, 0.006634512800155271, 0.025007009785200637, 0.13473164455699935, 0.9522540865539426, 0.04759754587359726, 0.9983555473675954, 0.9993880891595435, 0.9957343193324424, 0.9985528974695169, 0.03767764908470463, 0.08495735832396002, 0.060534727061298296, 0.8168013344512423, 0.6934050025323264, 0.052585892000390745, 0.07623525375600126, 0.17776317839262523, 0.1335766138287444, 0.864851974281023, 0.09106518089751313, 0.9087432572796745, 0.9997208539353781, 0.9992714603873185, 0.00030633705100776166, 0.999945079329762, 0.9996598038675577, 0.3338402652998441, 0.6475221613966589, 0.018636674125203277, 0.18695412496987251, 0.8130428176639175, 0.9957885525275653, 0.9999856524884845, 0.9995675784964656, 0.9983951745643566, 0.9995421103475165, 0.9997639544311858, 0.9996590357177314, 0.9992591320960652, 0.9992053150818236, 0.9970172456803977, 0.9998464517137459, 0.9994716266281157, 0.8807089293010597, 0.11917705181137815, 0.999962424668797, 0.9605897894930331, 0.039387874511856755, 0.9408241606175927, 0.0005196488045388526, 0.05846049051062092, 0.9991818099492691, 0.21019884381815543, 0.19564370805017164, 0.5941141781658836, 0.12864303123659956, 0.7919936183957608, 0.07075366718012976, 0.008110104143176929, 0.9998078859584055, 0.030175058767491537, 0.969792860944103, 0.9993141450012178, 0.997430462319289, 0.2704369255619843, 0.26916619281978116, 0.208379338037015, 0.07132768703776261, 0.02676871432345939, 0.04745457683178248, 0.10015873810676479, 0.0019581783240507256, 0.0002708118958793557, 0.004103841806787159, 0.07081284964614662, 0.9277871790893172, 0.0011107897983709274, 0.46918541363064636, 0.18680104861984106, 0.04595351749565586, 0.03239722983443738, 0.2653815635374126, 0.0011665083036251859, 0.7920591381615012, 0.20530546143803272, 0.0011665083036251859, 0.095857184833705, 0.42786005469306304, 0.1841634305635941, 0.2921021179634045, 0.005475121854561287, 0.009713925870995831, 0.0018544767571901132, 0.981283129804597, 0.001677859923172007, 0.0007745601937391655, 0.00019364004843479138, 0.00019364004843479138, 0.9986017297782193, 0.01511604095425629, 0.04377869784566029, 0.9410768010483165, 0.9985529439712373, 0.3716122231219313, 0.6198418657590441, 0.008786890004853548, 0.2672558060769912, 0.04982453403053772, 0.11012968790723196, 0.5302694565019666, 0.001829949496947963, 0.04059160702320936, 0.06319400457576595, 0.017465009703428985, 0.9193127817556838, 0.9972740464696305, 0.997648506152032, 0.7518471033826477, 0.000170216686298992, 4.2554171574748e-05, 0.2467290867903889, 8.5108343149496e-05, 0.001106408460943448, 0.3853355771801151, 0.000585616378693184, 0.002049657325426144, 0.6119691157343773, 0.9969271959713536, 0.99901434833384, 0.13920620656203633, 0.01527340824348361, 0.1265510968745785, 0.7187229536290716, 0.9995112394007566, 0.9980851128987365, 0.9981027321190807, 0.9993722847622151, 0.9998916324624293, 0.13444070256991766, 0.8652154470131721, 0.008829633666841358, 0.9464059196977366, 0.044755497634042435, 0.1734697018186576, 0.00018145366299022762, 0.8103720589143565, 0.01596792234314003, 0.9990887123082193, 0.9994261494642316, 0.9849587501873852, 0.014682987149127434, 0.8958936323610263, 0.0073259568987580626, 0.09677352742069119, 0.9982537114587469, 0.3877384936912974, 0.24488941519661048, 0.17813163650301372, 0.0837614211072482, 0.026374127961174578, 0.003714926222982544, 0.0017373286813948214, 0.05995632172813618, 3.696444002967705e-05, 0.013658360590965672, 0.9985672370249433, 0.0013970627566638114, 0.7247794935515698, 0.2751605357241002, 0.9054473443846559, 0.008132444362255745, 0.05164630250835142, 0.03443086833890095, 0.00021123232109755184, 0.9989044240576305, 0.9984727050568275, 0.9975690956100918, 0.4435028688842814, 0.5377417558806699, 0.01860698117234152, 0.31457035607941747, 0.3291184832068953, 0.35625995035428293, 0.008551367394907892, 0.005103235380832129, 0.9696147223581045, 0.01655103366756366, 0.038387678533615154, 0.03165299808912127, 0.4218603830430971, 0.5079969459281739, 0.000714731311488611, 0.0016243893442922978, 0.9683634637064104, 0.028231886803800135, 3.2487786885845954e-05, 0.0010071213934612247, 0.03002180633750378, 0.798641317570126, 0.001531724813137948, 0.1357108184440222, 0.0013785523318241531, 0.0324725660385245, 0.1813945884933698, 0.34707601518094455, 0.018601610667154485, 0.20080496484170493, 0.0004621518178175027, 0.18798025189726922, 0.06354587494990663, 0.9968359780613147, 0.0030617756482081947, 0.9976282884313836, 0.9972216519263098, 0.9981271161534339, 0.9970320022359763, 0.0029563845737130396, 0.9975435668207318, 0.4298200033036644, 0.5700712815076684, 2.6127287295827877e-05, 5.2254574591655754e-05, 0.420337967122131, 0.35907076367587126, 0.18126268410900886, 0.03929092394923177, 0.8907582986600578, 0.10922980668140497, 0.999764216700434, 0.07682558418247298, 0.0001100653068516805, 0.063727812667123, 0.06257212694518036, 0.034285343084298474, 0.012657510287943256, 0.7484991192448531, 0.0012107183753684854, 0.08534553226562969, 0.08364240634458608, 0.6734916836660223, 0.14978046294511285, 0.007664066644696236, 0.0001199200305304444, 0.9998532412193353, 0.997960902634708, 0.9948432677334859, 0.9503522555746937, 0.04938781305241053, 0.0004602369983762409, 0.09012974551534716, 0.9093516026250559, 0.021271750936817355, 0.758127713329284, 0.13864287225633612, 0.0057728645610241784, 0.029931047778353623, 3.1374263918609665e-05, 0.04621429075211204, 0.9990969376106438, 0.0005686379838421422, 0.0005686379838421422, 0.2412741470948442, 0.7335695075782703, 0.025148709940637063, 0.9956406292551627, 0.9987459409455043, 0.016207970047101405, 0.03883796596192223, 0.02869524256766695, 0.004689098252620531, 0.27803294530483696, 0.007543331971606942, 0.008562701156959231, 0.6173809471086141, 0.7952233311408677, 0.05815209143938793, 0.1465537012956772, 0.9988022865085144, 0.9982665983130503, 0.627662094894889, 0.2763033362319401, 0.09600715843571238, 0.012797334987457889, 0.087612524144904, 0.016734976522060314, 0.06004903340268701, 0.8150917976627023, 0.007875283069204854, 0.00029444840692350465, 0.9996523415052984, 0.9999456089364568, 0.0533129958977679, 0.30362749000600436, 0.6428920093554364, 0.9889934510262534, 0.010554892753748702, 0.9995831685290101, 0.9996452639885327, 0.0003351814860476572, 0.9995678814173504, 0.1551358502809481, 0.20446109498565979, 0.6396370442352937, 0.6581054935375301, 0.03526575113238875, 0.026582391655451523, 0.278932129711271, 0.0010646264492796605, 3.326957653998939e-05, 0.9993167260752667, 0.9992180101478086, 0.12609290183802296, 0.8736436770205877, 0.00017177345180914206, 0.042256269145048944, 0.19175643003627224, 0.10638502448712864, 0.6593237658607569, 5.725781726971402e-05, 0.9906709798309564, 0.008669356227637646, 0.34482675824423864, 0.6549694493062209, 0.0671294490635772, 0.03225907585455584, 0.7352394307304889, 0.055888132403500004, 0.003280044237926211, 0.0002547607175088319, 0.05556968150661396, 0.05037893188737151, 0.9989383012395655, 0.023205187470724038, 0.9767954866708881, 0.29937737150343635, 0.22702056655406355, 0.10622223356258952, 0.229551745496804, 8.728203250829049e-05, 0.1376437652655741, 0.35808367489601156, 0.12806293737684046, 0.0004925497591416941, 0.5127442992665036, 0.05862014304270631, 0.28780725748057817, 0.6518795171137073, 0.0015684319208750853, 0.06620424072092486, 0.04239124250812708, 0.19727837312498847, 0.030228137817538556, 0.007082314123633821, 0.6567563321749421, 0.9985024164359351, 0.9997679239198082, 0.6666914235208711, 0.333261520794188, 0.4386788903490515, 0.2803285342804311, 0.28097392146673694, 0.9993335323529977, 0.981682694761355, 0.017935094906978005, 0.9982591317707027, 0.1604309553104273, 0.12130014839286897, 0.7182456933192054, 0.11801057769683743, 0.03238095119730295, 0.13815872510849259, 0.7109417729541181, 0.9972591299859328, 0.996536578940235, 0.9999876291772815, 0.00015276763264614673, 0.2868976141094635, 0.7128137739269206, 0.9995262172893068, 0.9997593104971448, 0.9989426547893548, 0.9990633668199886, 0.9984246980515972, 0.9994248098515994, 0.9999577204754776, 0.8668196706648243, 0.0014643770172777099, 0.0006406649450589981, 0.13087869591919532, 9.152356357985687e-05, 9.152356357985687e-05, 0.9983704855000735, 0.9989251200018431, 0.9989366609682562, 0.04780412255146027, 0.28566584748933227, 0.13472070900866076, 0.5199060479914877, 0.00405610736800269, 0.007822492781148044, 0.9986540350124709, 0.4549119223716034, 0.015601865319768404, 0.00016029313684693566, 0.45753004360677, 0.06614763447216879, 0.005663690835258394, 0.0029796855993990327, 0.0002708805090362757, 0.99620821873241, 0.0005417610180725514, 0.9992940695473048, 0.9989861793202733, 0.3778828391550465, 0.005663711618031273, 0.6162118240418025, 0.9991670301022711, 0.00382845554001762, 0.9953984404045813, 0.02770483405277169, 0.8331706843654119, 0.08155630001811419, 0.039422514147082324, 0.003988997478914259, 0.010658102638974036, 0.003459208751245959, 3.116404280401765e-05, 0.9984270220330719, 0.00843842709708395, 0.015161349784321165, 0.0005563798085989418, 0.04043026609152311, 0.935367188222921, 0.2359861525615591, 0.0011769882920776016, 0.48786164706616586, 0.27482676620012, 0.3557525542761076, 0.6442160708815059, 0.9716527361182847, 0.02833462116471252, 0.9981617411955538, 0.999810403115631, 9.228451200993456e-05, 0.9936426574087756, 0.006268097268123846, 0.9044570450172207, 0.011451722524907833, 0.0013169480903644007, 0.08268143662983456, 0.0966196370371236, 0.21670575345377166, 0.6865441805206023, 0.0001197269356098186, 0.2866992266257945, 0.286529782638427, 0.24213545794814442, 0.10025435919243209, 0.0026546224687573564, 0.07901737944237323, 0.0027111037978798536, 0.001581017148318543, 0.9927031005720096, 0.005445725733097204, 0.9975459076339284, 0.9986642799806105, 0.8214806866984037, 0.1784085308969598, 0.9993264022250996, 0.14514505053780688, 0.36402419077122894, 0.44644476226660157, 0.016362907576287205, 0.00191910644413245, 0.026059445399272217, 0.6450737384396508, 0.0035083443624884395, 0.008678536054576667, 0.34261752445248944, 0.9964852390937797, 0.9990499667038701, 0.9984972879701306, 0.9975064698226952, 0.748626159940048, 0.19575383687478287, 0.024882561190586842, 0.010829287428461384, 0.0053733105561067935, 0.014466605343364445, 0.9995435747407346, 0.997157389001733, 0.9998548050484587, 7.767672506591507e-05, 0.9983967014600216, 0.9711734516112287, 0.02871519031683686, 0.9988430953910766, 0.9999621064990764, 0.9997816057356398, 0.9975713725500962, 0.9996747314176684, 0.45666414201610805, 0.029278484425764875, 0.12593759054370096, 0.3719570747459499, 0.016203435216450696, 0.5688953440971367, 0.07609174420346856, 0.044937951550530125, 0.30946631883379255, 0.0005577405334285654, 7.967721906122362e-05, 0.41072673185716035, 0.05535771327076668, 0.06640888510126933, 0.14738290911278637, 0.28058263225877556, 0.007078861218616899, 0.03246600019329693, 0.9987911858691794, 0.25558705434625095, 0.03139307967636454, 0.16836760184918154, 0.532497709982108, 0.012142606289914587, 0.999242069909697, 0.9989138366721602, 0.4542475473539324, 0.12910877899026169, 0.10096701854153826, 0.31325264588209345, 0.0023928299087639156, 2.6009020747433862e-05, 0.9995678024089945, 0.006095873238246812, 0.40639154921645415, 0.5111155253606943, 0.05501916358622764, 0.02125740411286068, 0.9995681737242961, 0.9991079123129383, 0.0005958416495685345, 0.180937247585645, 0.7118983619789391, 0.10625842750638866, 0.00033102313864918583, 0.9994741770144947, 0.995602975994625, 0.0015548869389794468, 0.9966825278858253, 0.9986596683596483, 0.004552469808504971, 0.02600160640626878, 0.9694134267226068, 0.9986357145519177, 0.00023606721402747601, 0.9997446514063609, 0.9999665918532129, 0.9999287297292722, 0.999619101707688, 0.0014737003918135368, 0.9982846454144898, 0.9982335633565661, 0.911172554360282, 0.0013895120920477042, 0.08614974970695766, 0.001215823080541741, 0.9989538086978436, 0.9993171651324906, 0.9991634928470106, 0.9995144789468632, 0.5648454856010063, 0.4343551510749604, 0.9980222207087646, 0.9989197536731638, 0.999986993430743, 0.08155860446281367, 0.6439012878940009, 0.0653136436830445, 0.012128087157498893, 0.1969423327410371, 0.9999831134560939, 0.996478884236628, 0.9985492691329071, 0.9997163416443755, 0.9995168739876245, 0.9987953776388087, 0.0007659473754898839, 0.9997406293382952, 0.9958073990952339, 0.999454180819132, 0.9980139937604695, 0.9988758949426162, 0.04576521236355869, 0.6755060840665335, 0.09788269395108136, 0.18031782410752303, 0.0004331092652702715, 0.99847891344275, 0.8443126486710782, 0.06513688731089046, 0.03985823146938743, 0.040994662269279565, 8.315347316283887e-05, 0.009562649413726471, 0.99966298893993, 0.00029914686235264136, 0.9994496671201748, 0.9969407272168116, 0.5736297525098022, 0.08936612673557155, 0.04612279383303089, 0.26707000130296815, 0.0029822988208648735, 0.00817561228478474, 0.012751898406456701, 0.9093307240971267, 0.09062777822870002, 9.396703704321357e-05, 0.4384501948436345, 0.22467518557032365, 0.3367778607628774, 5.8982347842531856e-05, 0.647331267571787, 0.18520457222555, 0.16724444730749907, 0.00017694704352759556, 0.0005333717576934648, 0.14507711809262241, 0.08373936595787397, 0.7685887028362827, 0.002133487030773859, 0.999966435087143, 0.03978851306152196, 0.05159825100209321, 0.4616894194887757, 0.4347410241881433, 0.00015851997235666118, 0.01204751789910625, 0.9984941874642466, 0.0038092136343302963, 0.9942047585602073, 0.5487679621716217, 0.45121977295333615, 0.9414499887079191, 0.05849753027503651, 0.999493300202998, 0.09548824115365508, 0.5592736016816766, 0.20788371927143404, 0.0022246364426478783, 0.0021219609145256683, 0.002738014083258927, 0.024761914865472922, 0.10543065479348906, 3.4225176040736586e-05, 5.1337764061104886e-05, 0.10015985400748412, 0.8998126020817433, 0.9983104852798865, 0.4966019088995013, 0.07447502505929829, 0.42853661960350325, 0.06224802561372638, 0.7101979590775769, 0.0880197149244228, 0.02600658752055954, 0.05506685176933962, 0.010352299677538862, 0.043623953260293426, 0.004479844430960902, 1.6778443561651318e-05, 0.9951481045516084, 0.9990037512833632, 0.0008935632837954948, 0.9986461711879302, 0.9971607501120585, 0.002269363723339487, 0.00037822728722324787, 0.5298964293997703, 0.4674889270079344, 0.09917718393071566, 0.2461231949840237, 0.05061220968941338, 0.17833695459101165, 0.42548376729909093, 0.00022747060534567811, 0.9997494047397327, 0.9984405074959227, 0.9993832348875981, 0.9999495239806256, 0.9999561013126435, 0.9957185253822555, 0.9996182837231012, 0.9974426283099235, 0.9978144588494265, 0.9993656335204337, 0.998336835812909, 0.9974518399449893, 0.9947731818629836, 0.9989585973692859, 0.9972697724388592, 0.9992655042816524, 0.996286749148258, 0.9978254009537291, 0.99715128138479], \"Term\": [\"$\", \"/r\", \"/r\", \"2nd\", \"40d746cc043f/\", \"4ffc\", \"732ee4fa66d3/\", \"943a71f19cd5/\", \"<3\", \"<3\", \"<3\", \"=\", \"a](https://ineedana.com/\", \"a](https://ineedana.com/\", \"ab64e640\", \"ab69\", \"abortion\", \"abortion\", \"abortion\", \"abortion\", \"abortion\", \"abortion\", \"abortion\", \"abortion\", \"abortion\", \"abortion/).**if\", \"abortion/).**if\", \"abortion](https://www.reddit.com\", \"abortionrx\", \"abortions\", \"abortions\", \"abortions\", \"abortions\", \"abusive\", \"access\", \"access\", \"access\", \"accessing\", \"ace2\", \"action\", \"action\", \"admins\", \"admins\", \"advice\", \"advice\", \"advice\", \"advice\", \"advice\", \"advice\", \"advice\", \"ago\", \"ago\", \"ago\", \"ago\", \"ago\", \"aid\", \"aidaccess\", \"air\", \"android.)this\", \"android.)this\", \"android.)this\", \"android.)this\", \"anesthesia\", \"anti\", \"anti\", \"anti\", \"appreciate\", \"appreciated\", \"appt\", \"arrive\", \"assistance\", \"assistance\", \"attachment\", \"august\", \"automatically\", \"b\", \"b\", \"b968\", \"baby\", \"baby\", \"bad\", \"bad\", \"bad\", \"bad\", \"ban\", \"banned\", \"bathroom\", \"bc\", \"bc\", \"bc\", \"bc\", \"bc\", \"bed\", \"bed\", \"best\", \"best\", \"best\", \"best\", \"best\", \"better\", \"better\", \"better\", \"better\", \"better\", \"birth\", \"birth\", \"bleeding\", \"bleeding\", \"blocked/\", \"blocked/\", \"blocked/\", \"blood\", \"blood\", \"boat\", \"book\", \"book\", \"bot\", \"bottle\", \"boundaries\", \"breathe\", \"breaths\", \"brutal\", \"buy\", \"buy\", \"buy\", \"c\", \"care\", \"care\", \"care\", \"care\", \"care\", \"care\", \"care\", \"carry\", \"center\", \"checking\", \"chest\", \"child\", \"children\", \"choice\", \"choice\", \"circumstances\", \"click\", \"clinic\", \"clinic\", \"clinic\", \"clinics\", \"clinics\", \"closed\", \"clot\", \"collection\", \"collection/04af6a3c-2b17\", \"collection/21abc0ef-9dd6\", \"colorado\", \"comment\", \"comment\", \"comment\", \"comment\", \"community\", \"community\", \"compose/?to=/r\", \"compose/?to=/r\", \"concerns\", \"condom\", \"condom\", \"condoms\", \"confirm\", \"confirm\", \"constitute\", \"constitute\", \"constitute\", \"constitute\", \"consultation\", \"contact\", \"contact\", \"contact\", \"contacted\", \"contains\", \"control\", \"control\", \"coping\", \"coping\", \"country\", \"country\", \"country\", \"country\", \"cover\", \"covid-19\", \"cramping\", \"cramping\", \"cramps\", \"cried\", \"cry\", \"crying\", \"crying\", \"customs\", \"cycle\", \"cycle\", \"d\", \"d\", \"day\", \"day\", \"day\", \"day\", \"day\", \"days\", \"days\", \"days\", \"days\", \"deactivate\", \"deactivate\", \"deactivate\", \"decide\", \"decision\", \"decision\", \"decisions\", \"deserve\", \"diarrhea\", \"difficult\", \"difficult\", \"difficult\", \"difficult\", \"disorder\", \"dms\", \"doctor\", \"doctor\", \"doctor\", \"doctor\", \"dosage\", \"dose\", \"drink\", \"drink\", \"drink\", \"early\", \"early\", \"early\", \"early\", \"early\", \"eat\", \"eat\", \"ectopic\", \"effective\", \"email\", \"emergency\", \"emergency\", \"er\", \"evaluation\", \"everyday\", \"everyday\", \"ex\", \"ex\", \"excerpts\", \"excerpts\", \"experience\", \"experience\", \"experience\", \"experience\", \"experience\", \"experiencing\", \"experiencing\", \"experiencing\", \"experiencing\", \"experiencing\", \"experiencing\", \"expressed\", \"facility\", \"false\", \"family\", \"father\", \"feel\", \"feel\", \"feel\", \"feel\", \"feeling\", \"feeling\", \"feeling\", \"feeling\", \"feelings\", \"feelings\", \"felt\", \"felt\", \"felt\", \"fever\", \"financially\", \"find\", \"find\", \"find\", \"find\", \"find\", \"find\", \"find\", \"find\", \"find\", \"folks\", \"follow\", \"follow\", \"follow\", \"forum\", \"found\", \"found\", \"found\", \"found\", \"found\", \"found\", \"found\", \"fund\", \"funding\", \"funding\", \"funds\", \"future\", \"gestational\", \"glad\", \"glad\", \"glad\", \"glad\", \"going\", \"going\", \"going\", \"going\", \"going\", \"going\", \"going\", \"going\", \"good\", \"good\", \"good\", \"good\", \"good\", \"good\", \"good\", \"good\", \"good\", \"good\", \"got\", \"got\", \"got\", \"got\", \"got\", \"gyn\", \"harassed\", \"harassment\", \"hard\", \"hard\", \"hard\", \"hard\", \"hard\", \"hard\", \"having\", \"having\", \"having\", \"having\", \"having\", \"hcg\", \"hear\", \"hear\", \"hear\", \"hear\", \"heat\", \"heating\", \"heavy\", \"heavy\", \"help\", \"help\", \"help\", \"help\", \"help\", \"help\", \"help\", \"help\", \"help\", \"help\", \"helpful\", \"helpful\", \"helpful\", \"helpful\", \"helpful\", \"helpline\", \"here](https://old.reddit.com\", \"here](https://old.reddit.com\", \"here](https://old.reddit.com\", \"here](https://www.onlineabortionresources.org\", \"here](https://www.onlineabortionresources.org\", \"here](https://www.ourbodiesourselves.org\", \"here](https://www.ourbodiesourselves.org\", \"here](https://www.reddit.com\", \"here](https://www.reddit.com\", \"hg\", \"home\", \"home\", \"home\", \"home\", \"home\", \"home\", \"honey\", \"hope\", \"hope\", \"hope\", \"hope\", \"hope\", \"hormone\", \"hormones\", \"hormones\", \"hormones\", \"horror\", \"hot\", \"hour\", \"hour\", \"hours\", \"hours\", \"human\", \"ibuprofen\", \"idk\", \"illegal\", \"illegal\", \"illinois\", \"immediately.*i\", \"immediately.*i\", \"immediately.*i\", \"immediately.*i\", \"improvement\", \"include\", \"include\", \"include\", \"increase\", \"index\", \"india\", \"infection\", \"information\", \"information\", \"information\", \"information\", \"information\", \"insurance\", \"intended\", \"intended\", \"intended\", \"interface\", \"interface\", \"interface\", \"it](http://www.reddit.com\", \"it](http://www.reddit.com\", \"iud\", \"iv\", \"january\", \"july\", \"june\", \"kid\", \"kids\", \"killers\", \"kind\", \"kind\", \"kind\", \"kind\", \"kind\", \"kind\", \"kindness\", \"kit\", \"know\", \"know\", \"know\", \"know\", \"know\", \"know\", \"know\", \"lasted\", \"legal\", \"legal\", \"legit\", \"levels\", \"life\", \"life\", \"life\", \"like\", \"like\", \"like\", \"like\", \"like\", \"likely\", \"likely\", \"likely\", \"limit\", \"limit\", \"lining\", \"links\", \"links\", \"list\", \"list\", \"list\", \"list\", \"lives\", \"local\", \"local\", \"located\", \"lol\", \"lol\", \"lol\", \"lot\", \"lot\", \"lot\", \"lot\", \"lot\", \"love\", \"love\", \"love\", \"loving\", \"luck\", \"luck\", \"luck\", \"luck\", \"luck\", \"m\", \"m\", \"m\", \"ma\", \"mail\", \"mailed\", \"makes\", \"makes\", \"makes\", \"makes\", \"makes\", \"making\", \"making\", \"making\", \"making\", \"man\", \"man\", \"manage\", \"manageable\", \"manipulate\", \"march\", \"medical\", \"medical\", \"medical\", \"medical\", \"medication\", \"medication\", \"medication\", \"medication\", \"medications\", \"medications\", \"meds\", \"meds\", \"men\", \"mental\", \"mental\", \"menu\", \"menu.*i\", \"message\", \"message\", \"message\", \"messages\", \"messages\", \"messages](https://www.reddit.com\", \"messaging\", \"method\", \"mexico\", \"mg\", \"mife\", \"mifepristone\", \"mild\", \"minimal\", \"mins\", \"minutes\", \"misinformation\", \"misoprostol\", \"misoprostol\", \"mobile\", \"moderators\", \"moderators\", \"mom\", \"mom\", \"mom\", \"monday\", \"months\", \"months\", \"months\", \"morning\", \"morning\", \"morning\", \"morning\", \"mother\", \"nausea\", \"nausea\", \"nauseous\", \"navigate\", \"need\", \"need\", \"need\", \"need\", \"need\", \"need\", \"need\", \"need\", \"need\", \"need\", \"negative\", \"negative\", \"negative\", \"new\", \"new\", \"new\", \"new\", \"new\", \"night\", \"night\", \"night\", \"night\", \"normal\", \"normal\", \"normal\", \"normal\", \"note\", \"note\", \"note\", \"note\", \"note\", \"nt\", \"nt\", \"nt\", \"nt\", \"number\", \"number\", \"number\", \"ob\", \"oh\", \"oh\", \"oh\", \"okay\", \"okay\", \"okay\", \"okay\", \"okay\", \"okay\", \"old\", \"old\", \"old\", \"omg\", \"ongoing\", \"online\", \"online\", \"online\", \"online\", \"online\", \"online\", \"op\", \"op\", \"op\", \"op\", \"options.org\", \"orally\", \"order\", \"order\", \"order\", \"order\", \"ordered\", \"ordering\", \"ovulate\", \"package\", \"pad\", \"pads\", \"pads\", \"pain\", \"pain\", \"pain\", \"painful\", \"painful\", \"painful\", \"painful\", \"paranoid\", \"parent\", \"parents\", \"parents\", \"partner\", \"partner\", \"partner\", \"payment\", \"people\", \"people\", \"people\", \"people\", \"people\", \"people\", \"people\", \"people\", \"people\", \"people\", \"performed\", \"performed\", \"period\", \"period\", \"person\", \"person\", \"person\", \"person\", \"person\", \"ph\", \"philippines\", \"picked\", \"pill\", \"pill\", \"pill\", \"pills\", \"pills\", \"pills\", \"pills](https://plancpills.org/).**if\", \"pills](https://plancpills.org/).**if\", \"pills](https://plancpills.org/).**if\", \"pills](https://plancpills.org/).**if\", \"plan\", \"plan\", \"plan\", \"plan\", \"pm\", \"pm\", \"pm\", \"pm\", \"pm\", \"pm\", \"positive\", \"positive\", \"positive\", \"positive\", \"positive\", \"positive\", \"post\", \"post\", \"post\", \"post\", \"post\", \"post\", \"post\", \"posts\", \"posts\", \"powerful\", \"praying\", \"preference\", \"prefs\", \"prefs\", \"preg\", \"pregnancy\", \"pregnancy\", \"pregnancy\", \"pregnancy\", \"pregnant\", \"pregnant\", \"pregnant\", \"pregnant\", \"private\", \"private\", \"pro\", \"probably\", \"probably\", \"probably\", \"probably\", \"probably\", \"probably\", \"probably\", \"probably\", \"procedure\", \"procedure\", \"procedure\", \"procedure\", \"procedure\", \"procedures](https://www.reddit.com\", \"procedures](https://www.reddit.com\", \"proceed\", \"protocol\", \"provider\", \"provider\", \"providers\", \"providers\", \"providers\", \"questions\", \"questions\", \"questions\", \"questions\", \"questions\", \"questions\", \"questions\", \"quick\", \"quick\", \"quick\", \"r\", \"r\", \"r\", \"rape\", \"rare\", \"read\", \"read\", \"read\", \"read\", \"read\", \"read\", \"read\", \"read\", \"ready\", \"ready\", \"ready\", \"reassurance\", \"reassuring\", \"receive\", \"receive\", \"receive\", \"received\", \"received\", \"received\", \"received\", \"received\", \"received\", \"reddit\", \"reddit\", \"relationship\", \"relief\", \"relief\", \"relief\", \"removed\", \"removed\", \"reply\", \"report\", \"report\", \"respect\", \"response\", \"response\", \"response\", \"right\", \"right\", \"right\", \"right\", \"right\", \"right\", \"rn\", \"round\", \"s\", \"s\", \"sa\", \"sa\", \"sa\", \"sa\", \"sa\", \"sa\", \"sac\", \"sac\", \"sad\", \"sad\", \"safe\", \"safe\", \"safe\", \"safe\", \"safe\", \"safe\", \"safe\", \"safe\", \"safe2choose\", \"safe2choose](https://safe2choose.org/\", \"safe2choose](https://safe2choose.org/\", \"said\", \"said\", \"said\", \"said\", \"said\", \"said\", \"says\", \"says\", \"says\", \"says\", \"scared\", \"scared\", \"scared\", \"scared\", \"second\", \"second\", \"second\", \"second\", \"second\", \"second\", \"sedated\", \"sedation\", \"seeking\", \"seeking\", \"selecting\", \"selecting\", \"selecting\", \"selfish\", \"seller\", \"seller\", \"sellers\", \"sending\", \"sending\", \"sending\", \"sent\", \"sent\", \"sent\", \"sent\", \"september\", \"service\", \"settings\", \"sex\", \"sex\", \"sex\", \"shame\", \"sharing\", \"ship\", \"shipped\", \"shipping\", \"sickness\", \"sidebar\", \"situation\", \"situation\", \"situation\", \"situation\", \"situation\", \"situation\", \"smell\", \"snacks\", \"someday\", \"soon\", \"soon\", \"soon\", \"soon\", \"soon\", \"soon\", \"sore\", \"sorry\", \"sorry\", \"sorry\", \"sorry\", \"sorry\", \"sorry\", \"source\", \"source\", \"source\", \"source\", \"space\", \"sperm\", \"state\", \"state\", \"state\", \"states\", \"stomach\", \"stomach\", \"stop\", \"stop\", \"stop\", \"stop\", \"stop\", \"stop\", \"stop\", \"stop\", \"store\", \"stories\", \"stories\", \"stories\", \"stories\", \"stories\", \"story\", \"story\", \"story\", \"story\", \"subreddit\", \"subreddit\", \"subreddit](/message\", \"subreddit](/message\", \"subside\", \"substitute\", \"substitute\", \"successful\", \"successful\", \"support\", \"support\", \"support\", \"support\", \"supportive\", \"supportive\", \"supportive\", \"supportive\", \"sure\", \"sure\", \"sure\", \"sure\", \"sure\", \"sure\", \"sure\", \"surgical\", \"surgical\", \"surgical\", \"swallow\", \"symptom\", \"symptoms\", \"symptoms\", \"tablets\", \"taking\", \"taking\", \"taking\", \"taking\", \"taking\", \"taking\", \"talk\", \"talk\", \"talk\", \"talk\", \"talkline/\", \"tampons\", \"tbh\", \"tears\", \"tell\", \"tell\", \"tell\", \"tell\", \"tell\", \"tell\", \"tender\", \"terrified\", \"test\", \"test\", \"testing\", \"tests\", \"tests\", \"texas\", \"thank\", \"thanks\", \"thankyou\", \"therapy\", \"thing\", \"thing\", \"thing\", \"thing\", \"thing\", \"things\", \"things\", \"things\", \"things\", \"things\", \"things\", \"think\", \"think\", \"think\", \"think\", \"think\", \"think\", \"think\", \"tho\", \"thought\", \"thought\", \"thought\", \"thought\", \"thought\", \"threw\", \"thursday\", \"time\", \"time\", \"time\", \"time\", \"time\", \"time\", \"tissue\", \"today\", \"today\", \"today\", \"today\", \"today\", \"toilet\", \"tongue\", \"took\", \"took\", \"took\", \"took\", \"took\", \"topics\", \"town\", \"track\", \"track\", \"tracking\", \"treatment\", \"treatment\", \"treatment\", \"trigger\", \"trimester\", \"trimester\", \"trolls\", \"trusted\", \"tylenol\", \"u\", \"u\", \"ugh\", \"ultrasound\", \"ultrasound\", \"ultrasound\", \"ultrasound\", \"uncommon\", \"unfair\", \"unlikely\", \"unprotected\", \"update\", \"update\", \"updated\", \"ur\", \"usa\", \"use\", \"use\", \"use\", \"use\", \"use\", \"users\", \"usps\", \"uterine\", \"uterus\", \"vagina\", \"vaginal\", \"vaginal\", \"vaginally\", \"ve\", \"vibes\", \"vomiting\", \"w\", \"wait\", \"wait\", \"wait\", \"wait\", \"wait\", \"walked\", \"want\", \"want\", \"want\", \"want\", \"want\", \"want\", \"wants\", \"water\", \"water\", \"waves\", \"way\", \"way\", \"way\", \"way\", \"way\", \"way\", \"way\", \"web](https://www.womenonweb.org/\", \"web](https://www.womenonweb.org/\", \"week\", \"week\", \"week\", \"week\", \"weeks\", \"weeks\", \"weeks\", \"weeks\", \"weeks\", \"weird\", \"weird\", \"weird\", \"weird\", \"weird\", \"welcome\", \"went\", \"went\", \"went\", \"went\", \"went\", \"went\", \"white\", \"whitelist\", \"whitelist\", \"wiki\", \"wiki\", \"wiki](https://www.reddit.com\", \"wiki](https://www.reddit.com\", \"woke\", \"women\", \"women\", \"women\", \"women\", \"women\", \"women\", \"women\", \"women\", \"women\", \"women\", \"women](https://www.womenhelp.org\", \"women](https://www.womenhelp.org\", \"women](https://www.womenhelp.org/\", \"words\", \"words\", \"words\", \"work\", \"work\", \"work\", \"work\", \"work\", \"work\", \"work\", \"work\", \"work\", \"workbook](https://www.pregnancyoptions.info\", \"world\", \"world\", \"worries\", \"xx\", \"yeah\", \"yeah\", \"yeah\", \"yeah\", \"yes\", \"yes\", \"yes\", \"yes\", \"yes\", \"yes\", \"young\", \"\\u2640\", \"\\u2665\", \"\\u2764\", \"\\ufe0f\", \"\\ud83d\\udc93\", \"\\ud83d\\udc95\", \"\\ud83d\\udc96\", \"\\ud83d\\udc97\", \"\\ud83d\\udc9c\", \"\\ud83d\\ude05\", \"\\ud83d\\ude14\", \"\\ud83d\\ude29\", \"\\ud83d\\ude2d\", \"\\ud83d\\ude4f\", \"\\ud83e\\udd0d\", \"\\ud83e\\udd1e\", \"\\ud83e\\udd7a\", \"\\ud83e\\udec2\"]}, \"R\": 30, \"lambda.step\": 0.01, \"plot.opts\": {\"xlab\": \"PC1\", \"ylab\": \"PC2\"}, \"topic.order\": [10, 5, 2, 4, 6, 1, 3, 7, 9, 8]};\n",
       "\n",
       "function LDAvis_load_lib(url, callback){\n",
       "  var s = document.createElement('script');\n",
       "  s.src = url;\n",
       "  s.async = true;\n",
       "  s.onreadystatechange = s.onload = callback;\n",
       "  s.onerror = function(){console.warn(\"failed to load library \" + url);};\n",
       "  document.getElementsByTagName(\"head\")[0].appendChild(s);\n",
       "}\n",
       "\n",
       "if(typeof(LDAvis) !== \"undefined\"){\n",
       "   // already loaded: just create the visualization\n",
       "   !function(LDAvis){\n",
       "       new LDAvis(\"#\" + \"ldavis_el32102126903222885192405803\", ldavis_el32102126903222885192405803_data);\n",
       "   }(LDAvis);\n",
       "}else if(typeof define === \"function\" && define.amd){\n",
       "   // require.js is available: use it to load d3/LDAvis\n",
       "   require.config({paths: {d3: \"https://d3js.org/d3.v5\"}});\n",
       "   require([\"d3\"], function(d3){\n",
       "      window.d3 = d3;\n",
       "      LDAvis_load_lib(\"https://cdn.jsdelivr.net/gh/bmabey/pyLDAvis@3.4.0/pyLDAvis/js/ldavis.v3.0.0.js\", function(){\n",
       "        new LDAvis(\"#\" + \"ldavis_el32102126903222885192405803\", ldavis_el32102126903222885192405803_data);\n",
       "      });\n",
       "    });\n",
       "}else{\n",
       "    // require.js not available: dynamically load d3 & LDAvis\n",
       "    LDAvis_load_lib(\"https://d3js.org/d3.v5.js\", function(){\n",
       "         LDAvis_load_lib(\"https://cdn.jsdelivr.net/gh/bmabey/pyLDAvis@3.4.0/pyLDAvis/js/ldavis.v3.0.0.js\", function(){\n",
       "                 new LDAvis(\"#\" + \"ldavis_el32102126903222885192405803\", ldavis_el32102126903222885192405803_data);\n",
       "            })\n",
       "         });\n",
       "}\n",
       "</script>"
      ],
      "text/plain": [
       "PreparedData(topic_coordinates=              x         y  topics  cluster       Freq\n",
       "topic                                                \n",
       "9     -0.182625  0.066382       1        1  22.543508\n",
       "4      0.324789  0.161211       2        1  21.208027\n",
       "1      0.314676  0.171806       3        1  12.748170\n",
       "3     -0.195513  0.098183       4        1   9.444985\n",
       "5     -0.227951  0.076343       5        1   9.304285\n",
       "0     -0.256625  0.059877       6        1   8.607848\n",
       "2      0.134633 -0.070491       7        1   5.521121\n",
       "6      0.243145 -0.165141       8        1   5.347502\n",
       "8     -0.151967 -0.042089       9        1   2.727763\n",
       "7     -0.002562 -0.356079      10        1   2.546791, topic_info=             Term           Freq          Total Category  logprob  loglift\n",
       "44       abortion  335610.000000  335610.000000  Default  30.0000  30.0000\n",
       "492             r  109468.000000  109468.000000  Default  29.0000  29.0000\n",
       "4496     messages   88139.000000   88139.000000  Default  28.0000  28.0000\n",
       "619       contact   90623.000000   90623.000000  Default  27.0000  27.0000\n",
       "5309        users   58631.000000   58631.000000  Default  26.0000  26.0000\n",
       "...           ...            ...            ...      ...      ...      ...\n",
       "331    experience    1145.209519   15758.881498  Topic10  -5.1565   1.0485\n",
       "237          help    1423.023601   72248.413911  Topic10  -4.9393  -0.2570\n",
       "22          think    1274.667774   39271.853398  Topic10  -5.0494   0.2425\n",
       "419   information    1136.427051   21034.350479  Topic10  -5.1642   0.7521\n",
       "417          find     894.047259   28863.277981  Topic10  -5.4041   0.1958\n",
       "\n",
       "[639 rows x 6 columns], token_table=       Topic      Freq           Term\n",
       "term                                 \n",
       "590        7  0.999080              $\n",
       "2845       2  0.905808             /r\n",
       "2845       3  0.094169             /r\n",
       "4752       4  0.998762            2nd\n",
       "12506      8  0.999945  40d746cc043f/\n",
       "...      ...       ...            ...\n",
       "10104     10  0.997270              🙏\n",
       "12272     10  0.999266              🤍\n",
       "10827     10  0.996287              🤞\n",
       "12046      6  0.997825              🥺\n",
       "12505     10  0.997151              🫂\n",
       "\n",
       "[1228 rows x 3 columns], R=30, lambda_step=0.01, plot_opts={'xlab': 'PC1', 'ylab': 'PC2'}, topic_order=[10, 5, 2, 4, 6, 1, 3, 7, 9, 8])"
      ]
     },
     "execution_count": 15,
     "metadata": {},
     "output_type": "execute_result"
    }
   ],
   "source": [
    "# Running the Model\n",
    "%time\n",
    "lda_model_comments = LdaModel(corpus=tqdm(corpus_comments),\n",
    "            id2word=dictionary_comments,\n",
    "            num_topics=10,\n",
    "            random_state=100,\n",
    "            passes=2,\n",
    "            per_word_topics=False)\n",
    "pyLDAvis.enable_notebook()\n",
    "lda_viz_comments = gensimvis.prepare(lda_model_comments, corpus_comments, dictionary_comments)\n",
    "lda_viz_comments"
   ]
  },
  {
   "cell_type": "markdown",
   "metadata": {},
   "source": [
    "### Tweaking"
   ]
  },
  {
   "cell_type": "code",
   "execution_count": 16,
   "metadata": {},
   "outputs": [],
   "source": [
    "def POS(text_comments, allowed_postags = ['NOUN', 'ADJ']):\n",
    "    parsed_comments = nlp(text_comments)\n",
    "    return [token.lemma_ for token in parsed_comments if token.pos_ in allowed_postags]"
   ]
  },
  {
   "cell_type": "code",
   "execution_count": 17,
   "metadata": {},
   "outputs": [
    {
     "name": "stderr",
     "output_type": "stream",
     "text": [
      "100%|██████████████████████████████████| 237219/237219 [37:44<00:00, 104.77it/s]\n"
     ]
    }
   ],
   "source": [
    "pos_lemmas_split_comments = [POS(text_comments) for text_comments in tqdm(topics_comments_df['pp_text'])]"
   ]
  },
  {
   "cell_type": "code",
   "execution_count": 18,
   "metadata": {},
   "outputs": [],
   "source": [
    "with open('Tweaked Data/abortioncomments_pos_lemmas.json', 'w' ) as write:\n",
    "    json.dump(pos_lemmas_split_comments, write)"
   ]
  },
  {
   "cell_type": "code",
   "execution_count": 19,
   "metadata": {},
   "outputs": [
    {
     "name": "stderr",
     "output_type": "stream",
     "text": [
      "/var/folders/9q/6g8vlvxx6slcp43g6vr27drr0000gn/T/ipykernel_32102/1199849567.py:3: SettingWithCopyWarning: \n",
      "A value is trying to be set on a copy of a slice from a DataFrame.\n",
      "Try using .loc[row_indexer,col_indexer] = value instead\n",
      "\n",
      "See the caveats in the documentation: https://pandas.pydata.org/pandas-docs/stable/user_guide/indexing.html#returning-a-view-versus-a-copy\n",
      "  topics_comments_df['pos_lemmas'] = str_pos_lemmas_comments\n"
     ]
    }
   ],
   "source": [
    "# turn my POS tagged lemmas into a string so I can save in my DF\n",
    "str_pos_lemmas_comments = [' '.join(t) for t in pos_lemmas_split_comments]\n",
    "topics_comments_df['pos_lemmas'] = str_pos_lemmas_comments"
   ]
  },
  {
   "cell_type": "code",
   "execution_count": 20,
   "metadata": {},
   "outputs": [],
   "source": [
    "topics_comments_df.to_csv('Tweaked Data/abortioncomments_pos_lemmas.csv', index=False)"
   ]
  },
  {
   "cell_type": "code",
   "execution_count": 21,
   "metadata": {},
   "outputs": [
    {
     "name": "stderr",
     "output_type": "stream",
     "text": [
      "100%|███████████████████████████████| 237219/237219 [00:02<00:00, 108536.70it/s]\n",
      "100%|███████████████████████████████| 237219/237219 [00:01<00:00, 124964.31it/s]\n"
     ]
    }
   ],
   "source": [
    "pos_dictionary_comments = corpora.Dictionary(tqdm(pos_lemmas_split_comments))\n",
    "pos_dictionary_comments.filter_extremes(no_below=10, no_above=0.4)\n",
    "pos_dictionary_comments.compactify() \n",
    "pos_dictionary_comments.save('Dictionaries/abortioncomments_pos_lda.dict') \n",
    "pos_corpus_comments = [pos_dictionary_comments.doc2bow(text_comments) for text_comments in tqdm(pos_lemmas_split_comments)]"
   ]
  },
  {
   "cell_type": "code",
   "execution_count": 22,
   "metadata": {},
   "outputs": [
    {
     "name": "stderr",
     "output_type": "stream",
     "text": [
      "100%|█████████████████████████████████| 237219/237219 [00:35<00:00, 6646.34it/s]\n"
     ]
    }
   ],
   "source": [
    "logging.basicConfig(filename='Tweaked Data/gensim_abortion_comments.log', filemode='w', format=\"%(asctime)s:%(levelname)s:%(message)s\", level=logging.INFO)\n",
    "lda_model_tweak_comments = LdaModel(corpus=tqdm(pos_corpus_comments),\n",
    "                           id2word=pos_dictionary_comments,\n",
    "                           num_topics=20,\n",
    "                           random_state=100,\n",
    "                           eval_every=1,\n",
    "                           passes=5,\n",
    "                           per_word_topics=False)"
   ]
  },
  {
   "cell_type": "markdown",
   "metadata": {},
   "source": [
    "### Calculating Coherence"
   ]
  },
  {
   "cell_type": "code",
   "execution_count": 23,
   "metadata": {},
   "outputs": [
    {
     "name": "stderr",
     "output_type": "stream",
     "text": [
      "100%|████████████████████████████████| 237219/237219 [00:09<00:00, 24084.17it/s]\n"
     ]
    },
    {
     "name": "stdout",
     "output_type": "stream",
     "text": [
      "\n",
      "Coherence Score:  0.6024042119765817\n"
     ]
    }
   ],
   "source": [
    "# Printing initial coherence score\n",
    "coherence_model_comments = CoherenceModel(model=lda_model_tweak_comments, corpus=pos_corpus_comments, texts=tqdm(pos_lemmas_split_comments), dictionary=pos_dictionary_comments, coherence='c_v') \n",
    "coherence_comments = coherence_model_comments.get_coherence()\n",
    "print('\\nCoherence Score: ', coherence_comments)"
   ]
  },
  {
   "cell_type": "markdown",
   "metadata": {},
   "source": [
    "This is a high coherence score, meaning that the topics identified in this model are very closely related to the majority of the text in the comments data."
   ]
  },
  {
   "cell_type": "code",
   "execution_count": 24,
   "metadata": {},
   "outputs": [],
   "source": [
    "# Identifying coherance values for different numbers of topics\n",
    "def compute_coherence_values(dictionary_comments, corpus_comments, texts, start, limit, step):\n",
    "    coherence_values_comments = []\n",
    "    model_list = []\n",
    "    passes = 5\n",
    "    for num_topics in tqdm(range(start, limit, step)):\n",
    "        model = LdaModel(corpus=corpus_comments, id2word=dictionary_comments, num_topics=num_topics, random_state=100, \n",
    "                         update_every=1, passes=passes, alpha='auto', per_word_topics=False)\n",
    "        model_list.append(model)\n",
    "        coherencemodel = CoherenceModel(model=model, texts=texts, dictionary=dictionary_comments, coherence='c_v') \n",
    "        coherence_values_comments.append(coherencemodel.get_coherence())\n",
    "    return model_list, coherence_values_comments"
   ]
  },
  {
   "cell_type": "code",
   "execution_count": 25,
   "metadata": {},
   "outputs": [
    {
     "name": "stderr",
     "output_type": "stream",
     "text": [
      "100%|█████████████████████████████████████████████| 5/5 [06:32<00:00, 78.57s/it]\n"
     ]
    }
   ],
   "source": [
    "model_list, coherence_values_comments = compute_coherence_values(dictionary_comments=pos_dictionary_comments, \n",
    "                                                        corpus_comments=pos_corpus_comments, texts=pos_lemmas_split_comments, \n",
    "                                                        start=6, limit=30, step=5)"
   ]
  },
  {
   "cell_type": "code",
   "execution_count": 26,
   "metadata": {},
   "outputs": [
    {
     "data": {
      "image/png": "[encoded data removed]",
      "text/plain": [
       "<Figure size 640x480 with 1 Axes>"
      ]
     },
     "metadata": {},
     "output_type": "display_data"
    }
   ],
   "source": [
    "# Plotting coherence scores based on number of topics\n",
    "start=6; limit=30; step=5\n",
    "x = range(start, limit, step)\n",
    "plt.plot(x, coherence_values_comments)\n",
    "plt.xlabel(\"Num Topics\")\n",
    "plt.ylabel(\"Coherence score\")\n",
    "plt.legend((\"coherence_values\"), loc='best')\n",
    "plt.show()"
   ]
  },
  {
   "cell_type": "markdown",
   "metadata": {},
   "source": [
    "This model demonstrates that the highest coherence score attainable in the comments data topic divisions would be six topics, and only decreases the coherence value as the topic number increases."
   ]
  },
  {
   "cell_type": "code",
   "execution_count": 27,
   "metadata": {},
   "outputs": [
    {
     "name": "stdout",
     "output_type": "stream",
     "text": [
      "model_list[0]: Num Topics = 6, Coherence Value = 0.8303\n",
      "model_list[1]: Num Topics = 11, Coherence Value = 0.6582\n",
      "model_list[2]: Num Topics = 16, Coherence Value = 0.6062\n",
      "model_list[3]: Num Topics = 21, Coherence Value = 0.5502\n",
      "model_list[4]: Num Topics = 26, Coherence Value = 0.5654\n"
     ]
    }
   ],
   "source": [
    "# Printing Coherence Values\n",
    "c = 0\n",
    "for m, cv in zip(x, coherence_values_comments):\n",
    "    print(f\"model_list[{c}]: Num Topics = {m}, Coherence Value = {round(cv, 4)}\")\n",
    "    c += 1"
   ]
  },
  {
   "cell_type": "markdown",
   "metadata": {},
   "source": [
    "### Modeling\n",
    "I have opted to use model_list[0] because it yeilds the highest coherence score."
   ]
  },
  {
   "cell_type": "code",
   "execution_count": 28,
   "metadata": {},
   "outputs": [],
   "source": [
    "optimal_lda_model_comments = model_list[0]\n",
    "optimal_lda_model_comments.save('Models/abortioncomments_pos_lda_optimal.model')"
   ]
  },
  {
   "cell_type": "code",
   "execution_count": 29,
   "metadata": {},
   "outputs": [
    {
     "data": {
      "text/html": [
       "\n",
       "<link rel=\"stylesheet\" type=\"text/css\" href=\"https://cdn.jsdelivr.net/gh/bmabey/pyLDAvis@3.4.0/pyLDAvis/js/ldavis.v1.0.0.css\">\n",
       "\n",
       "\n",
       "<div id=\"ldavis_el3210213581781808325842582\" style=\"background-color:white;\"></div>\n",
       "<script type=\"text/javascript\">\n",
       "\n",
       "var ldavis_el3210213581781808325842582_data = {\"mdsDat\": {\"x\": [0.25083542073005066, 0.25988184448993756, -0.2120683440816959, -0.2309400087072831, 0.15729187030887712, -0.22500078273988705], \"y\": [-0.03182008644417244, -0.003758085324110258, 0.11932212819550016, -0.36098441172279927, 0.03472806817428665, 0.2425123871212952], \"topics\": [1, 2, 3, 4, 5, 6], \"cluster\": [1, 1, 1, 1, 1, 1], \"Freq\": [24.98208373633797, 21.614131044165344, 19.44034824830001, 18.102510792333344, 9.473186190652049, 6.387739988211274]}, \"tinfo\": {\"Term\": [\"abortion\", \"message\", \"r\", \"contact\", \"medical\", \"action\", \"private\", \"moderator\", \"setting\", \"user\", \"woman\", \"link\", \"information\", \"trimester\", \"week\", \"emergency\", \"resource\", \"list\", \"advice\", \"illegal\", \"concern\", \"assistance\", \"funding\", \"report\", \"community\", \"wiki\", \"limit\", \"sidebar\", \"harassment\", \"compose/?to=/r\", \"decision\", \"right\", \"life\", \"child\", \"baby\", \"choice\", \"year\", \"family\", \"kid\", \"man\", \"relationship\", \"future\", \"parent\", \"sad\", \"\\u2764\", \"mom\", \"regret\", \"heart\", \"loss\", \"mother\", \"mental\", \"guilt\", \"husband\", \"human\", \"world\", \"grief\", \"partner\", \"valid\", \"guy\", \"pro\", \"feeling\", \"emotion\", \"boyfriend\", \"situation\", \"love\", \"ready\", \"difficult\", \"person\", \"friend\", \"thing\", \"time\", \"way\", \"sorry\", \"pregnant\", \"reason\", \"pregnancy\", \"support\", \"good\", \"lot\", \"abortion\", \"body\", \"people\", \"hard\", \"woman\", \"period\", \"hour\", \"test\", \"doctor\", \"bleeding\", \"blood\", \"clot\", \"cramp\", \"pad\", \"symptom\", \"surgical\", \"ultrasound\", \"misoprostol\", \"nausea\", \"ibuprofen\", \"heavy\", \"minute\", \"miso\", \"aid\", \"morning\", \"successful\", \"heating\", \"mifepristone\", \"water\", \"hospital\", \"tissue\", \"effective\", \"uterus\", \"cycle\", \"med\", \"week\", \"pain\", \"tomorrow\", \"day\", \"procedure\", \"pill\", \"positive\", \"appointment\", \"normal\", \"pregnancy\", \"bad\", \"fine\", \"sure\", \"time\", \"pregnant\", \"lot\", \"abortion\", \"clinic\", \"good\", \"experience\", \"thing\", \"work\", \"link\", \"resource\", \"list\", \"illegal\", \"assistance\", \"funding\", \"report\", \"limit\", \"harassment\", \"country\", \"excellent\", \"excerpt\", \"fund\", \"topic\", \"wiki\", \"bot\", \"organization\", \"u\", \"philippine\", \"ship\", \"women](https://www.womenhelp.org/\", \"sidebar\", \"custom\", \"web\", \"national\", \"telemedicine\", \"setting\", \"transportation\", \"shipment\", \"bypass\", \"packaging\", \"emergency\", \"reddit\", \"old\", \"woman\", \"book\", \"safe\", \"clinic\", \"help\", \"able\", \"info\", \"available\", \"abortion\", \"r\", \"good\", \"selecting\", \"pill\", \"contact\", \"safe2choose](https://safe2choose.org/\", \"deactivate\", \"message\", \"action\", \"moderator\", \"user\", \"concern\", \"compose/?to=/r\", \"subreddit](/message\", \"index\", \"admin\", \"mobile\", \"pref\", \"community\", \"private\", \"\\ud83c\\udffc\", \"interface\", \"supportive\", \"deactivate\", \"safe2choose](https://safe2choose.org/\", \"question\", \"compose?to=%2fr%2fabortion\", \"contact\", \"hard\", \"work\", \"whitelist\", \"selecting\", \"people\", \"abortion.*please\", \"resources.**if\", \"users.**our\", \"day!**our\", \"abortion\", \"reddit\", \"setting\", \"jerk\", \"r\", \"sidebar\", \"advice\", \"number\", \"source\", \"thank\", \"glad\", \"helpful\", \"comment\", \"word\", \"website\", \"seller\", \"service\", \"response\", \"sub\", \"group\", \"reply\", \"email\", \"\\ufe0f\", \"healing\", \"sharing\", \"gentle\", \"hear\", \"site\", \"tampon\", \"text\", \"crisis\", \"compassion\", \"forum\", \"weekend\", \"news\", \"healthcare\", \"treatment\", \"local\", \"information\", \"state\", \"access\", \"medical\", \"subreddit\", \"legal\", \"free\", \"law\", \"story\", \"people\", \"option\", \"support\", \"help\", \"post\", \"good\", \"experience\", \"sorry\", \"question\", \"care\", \"note\", \"able\", \"trimester\", \"collection\", \"ab64e640\", \"collection/21abc0ef-9dd6\", \"ace2\", \"substitute\", \"order\", \"misinformation\", \"ban\", \"tonight\", \"delay\", \"evaluation\", \"\\ud83d\\ude0a\", \"prochoice\", \"gas\", \"omg\", \"politic\", \"haha\", \"debate\", \"threat\", \"w\", \"purchase\", \"crime\", \"vote\", \"=\", \"feedback\", \"bullet\", \"placebo\", \"warning\", \"reduction\", \"online\", \"preference\", \"provider\", \"note\", \"medication\", \"post\", \"second\", \"r\", \"abortion\", \"story\", \"legal\", \"subreddit\", \"people\"], \"Freq\": [266949.0, 133546.0, 68530.0, 82712.0, 42601.0, 53741.0, 53624.0, 53448.0, 55928.0, 52599.0, 66704.0, 50693.0, 32654.0, 25511.0, 44351.0, 44143.0, 34504.0, 30603.0, 21039.0, 29677.0, 28223.0, 29031.0, 28685.0, 28378.0, 26978.0, 28270.0, 28070.0, 28159.0, 27862.0, 26616.0, 22375.974559555132, 20554.416383336193, 19861.956925762875, 17783.618798645435, 15726.89741355489, 14637.421409228666, 11328.840701544046, 8055.759215822573, 6894.055569362605, 5715.182673846457, 5623.352437835532, 5575.209398079062, 5521.584512874773, 4537.993802142603, 4195.6893797693265, 4144.62476746181, 3781.261696903565, 5296.101239886855, 3699.1676236870862, 3437.1836216820348, 3225.579210066805, 3175.269207437822, 3149.858819041053, 3098.7936500314495, 5309.293965937675, 2957.031412108416, 8971.99509778596, 2888.751901173611, 2645.8945127616053, 2464.5479729631597, 13826.778552263813, 5550.2897425717265, 4994.230646773309, 10996.826917243578, 10677.652909870956, 7231.052950743288, 4912.9204100949155, 8090.796931755837, 7280.647869541895, 18898.797738314996, 29195.67532811068, 15239.401190053413, 9881.767111820574, 15543.268116849897, 6654.66866175914, 19687.165831386465, 9020.058529144031, 20802.725555283334, 10346.706880172795, 34622.57650678015, 7820.359965266202, 12479.698677950759, 8372.694167402455, 7569.525035951664, 18522.748482731327, 17011.720473165824, 14712.08232984816, 11826.769763160455, 8134.696547191249, 7831.362245615388, 7150.670711521024, 7042.7569283677185, 6868.319993416963, 6089.587547077915, 5267.199267320213, 5093.716481909412, 4927.3491185853045, 4712.410197357551, 4520.368456836448, 4414.829210397919, 4312.295944413128, 4239.685694238122, 4192.549454673225, 3365.541906282041, 3304.2042032211607, 3173.626599003864, 3112.347416472567, 2961.81985064755, 2889.7663883918704, 2586.659425828053, 2584.941137850372, 2483.340106310094, 2535.021681164514, 2345.7316096599466, 43899.066895521944, 18385.244985879115, 2968.4685534489254, 28976.539924787936, 9361.428452488191, 31048.484561331396, 6118.1079967794985, 5865.465478384859, 9154.78596024868, 22387.712054058764, 9416.56201611235, 4582.417557610863, 6517.568650064296, 12564.395270258256, 8744.484318652281, 7370.339921810811, 14070.921774725117, 8031.5761493088285, 7969.6286767792035, 5899.602453975087, 5341.475064748709, 5376.4924973601555, 50693.020555629955, 34503.455533460285, 30603.15371970601, 29677.27703200223, 29030.458474500472, 28684.336008166163, 28377.95620498089, 28069.408620169303, 27861.336240824054, 15921.863918969113, 2039.895939861041, 1840.816778475703, 1664.7714881967515, 2084.405209971365, 28246.76989338897, 2697.4370886744746, 653.5494458057929, 603.1456529794212, 520.7395723453653, 556.2872488080712, 459.3365837771803, 28114.947629873102, 382.0249957395898, 360.7176550459354, 258.26530732218004, 225.67166111995817, 55742.67637540841, 187.560303463846, 172.07439487747342, 154.40348457693105, 267.57003017331317, 41197.218627702394, 26228.92043129463, 28385.30170962832, 58996.40396196413, 2406.190168736661, 28760.55839857107, 31842.189076879742, 26074.59552013746, 28076.556581167333, 2878.9158040338816, 2580.9573819286775, 104940.39200974382, 32463.810422048813, 24984.506341772325, 13127.792679142789, 13286.889828988098, 17626.391824724695, 3551.183052132524, 3120.673057884776, 133545.52705453482, 53740.63887415585, 53447.578791870255, 52598.6888426936, 28223.170426226407, 26615.972588435077, 26529.255074162462, 26345.2252185041, 26313.5875737878, 26075.029696101705, 25970.830555733493, 26977.729620083224, 53610.02205034319, 44.401085376748846, 25327.539309918713, 26831.652997523855, 23112.29585662515, 22972.320215076255, 25734.03310393537, 3.9709041190736394, 65085.336417637496, 26801.753188445826, 25693.360972925067, 151.28400287742204, 13733.163031537484, 17447.350232431545, 3.666412024727475, 3.666412024727475, 3.666412024727475, 1.159690859242762, 30373.56856773266, 1725.235321393718, 185.0005682690102, 12.27472087242877, 100.62481323553503, 43.679303577165385, 21039.258219562496, 19118.842147358602, 18096.623618691323, 6504.31355603978, 4033.7425588479805, 3080.5979617523785, 2679.6994560163735, 2589.8367215018725, 1665.4265573777805, 1625.81704598873, 1197.9822654837267, 1092.9912954273473, 1088.3565732700156, 1082.7799185111803, 970.9075840492616, 925.7735598450267, 886.7398263964964, 865.6876221978393, 814.3848049677997, 783.3042484082208, 686.0795253172986, 683.6438949109787, 630.7746028110471, 591.5930986720074, 576.548353570267, 562.7169641633479, 534.9728059192364, 541.8329019003919, 523.6179477347604, 515.4543031623264, 18284.289018022377, 18496.15334563124, 32063.095280228627, 6022.414757402077, 3656.4261443073988, 39104.92767840987, 15401.79624378455, 12331.464123002841, 2389.805026385052, 1173.3185983842684, 3299.461131465734, 11708.463736219488, 3562.9248731905855, 4112.127732729637, 6822.304682562571, 4528.4703866337295, 8574.472846370309, 3434.580750958579, 2837.3222295629375, 3858.174090443992, 2165.365624114834, 2188.41004109779, 2629.4804312507267, 25510.427354632087, 12598.435182148965, 12563.200873676371, 12559.67983422072, 12559.447527607217, 10130.529289869086, 956.3241948793798, 494.25296021563787, 196.12332824432374, 186.98440457391513, 183.62786225688646, 10168.413487996693, 144.8168753289153, 134.04547991965825, 137.78242075768028, 135.54999263499184, 92.06492938544278, 88.39658091836556, 74.90254879609178, 77.61152041419655, 67.92537908562379, 65.70432074893631, 60.93525600393717, 48.54450236488131, 47.36768058277682, 42.53959615050815, 42.199748086942336, 42.04069118630198, 43.928542731137036, 41.30991553935455, 13003.735064690423, 134.38047936556325, 13594.187873225745, 9127.780070197381, 13503.57007383286, 12740.871021448025, 13043.164557300992, 35965.147356192654, 81524.55329504501, 3074.7753195255877, 4089.810028902104, 1594.7372162135418, 2560.2212950260987], \"Total\": [266949.0, 133546.0, 68530.0, 82712.0, 42601.0, 53741.0, 53624.0, 53448.0, 55928.0, 52599.0, 66704.0, 50693.0, 32654.0, 25511.0, 44351.0, 44143.0, 34504.0, 30603.0, 21039.0, 29677.0, 28223.0, 29031.0, 28685.0, 28378.0, 26978.0, 28270.0, 28070.0, 28159.0, 27862.0, 26616.0, 22376.58766327785, 20555.039567601478, 19862.570070441794, 17784.231558715033, 15727.51027659949, 14638.034957826987, 11329.454493566795, 8056.372897593288, 6894.66848484762, 5715.79564908792, 5623.9651348132575, 5575.823226988396, 5522.198096359204, 4538.6070708869765, 4196.3050918966455, 4145.237885898722, 3781.874645491273, 5297.005276975797, 3699.808758233116, 3437.7962393047296, 3226.1926718711475, 3175.8819874306737, 3150.472573849984, 3099.4068211143417, 5310.362665361507, 2957.648448079956, 8973.898066557036, 2889.412455956693, 2646.5079595113834, 2465.1614648704503, 13909.515353055653, 5553.01303761011, 5033.3527665140355, 11499.645824799978, 11365.434196158409, 7572.676233891784, 5076.622210410078, 8850.212239792414, 8006.532755761185, 24527.834369892615, 41846.30225277906, 19825.441582057916, 12719.593051280139, 24288.186736453885, 7872.480762143064, 42075.31247743323, 13132.688501305363, 62331.52481339889, 19714.462378358297, 266949.2577311436, 11460.983329063325, 46746.62975012034, 35179.645185705645, 66704.19263227443, 18523.3900072524, 17012.36131617698, 14712.723574788823, 11827.412137980293, 8135.336967321415, 7832.002959263321, 7151.31100168627, 7043.397335604972, 6868.9603603641835, 6090.228772837037, 5267.841195681051, 5094.358350286855, 4927.989507674431, 4713.050685354046, 4521.008715149525, 4415.471131512056, 4312.937106599483, 4240.326067306046, 4193.193656512939, 3366.1832469657033, 3304.846522516086, 3174.267037410003, 3112.9879076915377, 2962.460860873143, 2890.409795015961, 2587.3008553022905, 2585.58294604603, 2483.981608611591, 2535.6972084583276, 2346.372409382401, 44351.88368403051, 19499.060589534933, 2991.3292048324065, 34728.729992677276, 10462.451679006088, 44335.90725756976, 6870.616002883923, 6902.115688813039, 12611.592857389192, 42075.31247743323, 15864.746366591296, 5487.63143043682, 10445.508136270884, 41846.30225277906, 24288.186736453885, 19714.462378358297, 266949.2577311436, 39874.2774357848, 62331.52481339889, 14187.332395924434, 24527.834369892615, 35924.942665297, 50693.71653298643, 34504.14818211028, 30603.841829369445, 29677.966133485916, 29031.14690170074, 28685.024100134247, 28378.644437008006, 28070.098274162785, 27862.02457359953, 15922.552717603288, 2040.5831315351468, 1841.501560665628, 1665.472715714907, 2085.2884955249087, 28270.33044640105, 2699.9454028269233, 654.2662728103113, 603.8719193947658, 521.4537677406021, 557.0502612715148, 460.0257736620034, 28159.188288916932, 382.77281732916447, 361.4309961103318, 258.96199564930816, 226.38993916320243, 55928.238489228264, 188.2901074104509, 172.8384249729946, 155.09839800400857, 268.8073086945166, 44143.74630635036, 28348.005534452834, 31279.766912188632, 66704.19263227443, 2580.752629679005, 33702.63765833144, 39874.2774357848, 34773.83856486263, 39541.93665426583, 3404.6917878625873, 3045.1653987534974, 266949.2577311436, 68530.07906673648, 62331.52481339889, 26861.51706773043, 44335.90725756976, 82712.2907291232, 26524.064440414226, 26233.530184622174, 133546.22400293287, 53741.336081041605, 53448.27502583756, 52599.38514490072, 28223.875515974793, 26616.668756967614, 26529.951259676673, 26345.921245979393, 26314.283644509822, 26075.727509383694, 25971.526773983886, 26978.487415217438, 53624.75302005146, 45.19689244512372, 26083.911386113657, 30125.511129361268, 26233.530184622174, 26524.064440414226, 31180.54090335483, 4.9705593802993056, 82712.2907291232, 35179.645185705645, 35924.942665297, 254.1100937138103, 26861.51706773043, 46746.62975012034, 12.720353371742855, 12.720353371742855, 12.720353371742855, 4.670501752775854, 266949.2577311436, 28348.005534452834, 55928.238489228264, 227.65160974607733, 68530.07906673648, 28159.188288916932, 21039.974608211418, 19119.579325897874, 18097.346929411793, 6505.023296926191, 4034.454596722374, 3081.3098365958895, 2680.4099056164196, 2590.5495866618576, 1666.1371862949923, 1626.536696718707, 1198.6917260535854, 1093.7014476097024, 1089.0664912058953, 1083.4904918469174, 971.6179228858673, 926.4833045364595, 887.45204554475, 866.4030301369463, 815.0948121295316, 784.0200558785424, 686.7909413749412, 684.3558858649169, 631.4907074967541, 592.3035353049523, 577.2622595378567, 563.4338684591933, 535.6836690044215, 542.553109851149, 524.3320060827451, 516.1674009443764, 18317.774104225657, 18662.53567570338, 32654.164087350528, 6052.708615252282, 3697.4017385395914, 42601.33160376199, 16997.18703901533, 16421.92463787019, 2823.410073851284, 1424.8741029629696, 6374.886485559669, 46746.62975012034, 8467.405654166361, 13132.688501305363, 34773.83856486263, 17668.100551619587, 62331.52481339889, 14187.332395924434, 12719.593051280139, 31180.54090335483, 9516.194199965932, 11436.990457677684, 39541.93665426583, 25511.18515325761, 12599.192780299876, 12563.958494729344, 12560.437453112123, 12560.205159644538, 10131.397566022915, 957.1148650654857, 495.02823667055577, 196.90964781766914, 187.77408726080924, 184.41709215161052, 10222.908057730681, 145.5947133162241, 134.80525579247922, 138.57257551496258, 136.32770280311442, 92.84909697559972, 89.20293296949006, 75.6975568167746, 78.50315226846233, 68.71774735386443, 66.48688518736797, 61.758648437322094, 49.32568062882777, 48.134610640351596, 43.31420827557066, 42.97497711854656, 42.81818622181006, 44.74530177791135, 42.07875537532394, 13334.892573712528, 138.3683216647357, 15023.950946103932, 11436.990457677684, 18279.166523108757, 17668.100551619587, 18704.12691974217, 68530.07906673648, 266949.2577311436, 6374.886485559669, 16421.92463787019, 16997.18703901533, 46746.62975012034], \"Category\": [\"Default\", \"Default\", \"Default\", \"Default\", \"Default\", \"Default\", \"Default\", \"Default\", \"Default\", \"Default\", \"Default\", \"Default\", \"Default\", \"Default\", \"Default\", \"Default\", \"Default\", \"Default\", \"Default\", \"Default\", \"Default\", \"Default\", \"Default\", \"Default\", \"Default\", \"Default\", \"Default\", \"Default\", \"Default\", \"Default\", \"Topic1\", \"Topic1\", \"Topic1\", \"Topic1\", \"Topic1\", \"Topic1\", \"Topic1\", \"Topic1\", \"Topic1\", \"Topic1\", \"Topic1\", \"Topic1\", \"Topic1\", \"Topic1\", \"Topic1\", \"Topic1\", \"Topic1\", \"Topic1\", \"Topic1\", \"Topic1\", \"Topic1\", \"Topic1\", \"Topic1\", \"Topic1\", \"Topic1\", \"Topic1\", \"Topic1\", \"Topic1\", \"Topic1\", \"Topic1\", \"Topic1\", \"Topic1\", \"Topic1\", \"Topic1\", \"Topic1\", \"Topic1\", \"Topic1\", \"Topic1\", \"Topic1\", \"Topic1\", \"Topic1\", \"Topic1\", \"Topic1\", \"Topic1\", \"Topic1\", \"Topic1\", \"Topic1\", \"Topic1\", \"Topic1\", \"Topic1\", \"Topic1\", \"Topic1\", \"Topic1\", \"Topic1\", \"Topic2\", \"Topic2\", \"Topic2\", \"Topic2\", \"Topic2\", \"Topic2\", \"Topic2\", \"Topic2\", \"Topic2\", \"Topic2\", \"Topic2\", \"Topic2\", \"Topic2\", \"Topic2\", \"Topic2\", \"Topic2\", \"Topic2\", \"Topic2\", \"Topic2\", \"Topic2\", \"Topic2\", \"Topic2\", \"Topic2\", \"Topic2\", \"Topic2\", \"Topic2\", \"Topic2\", \"Topic2\", \"Topic2\", \"Topic2\", \"Topic2\", \"Topic2\", \"Topic2\", \"Topic2\", \"Topic2\", \"Topic2\", \"Topic2\", \"Topic2\", \"Topic2\", \"Topic2\", \"Topic2\", \"Topic2\", \"Topic2\", \"Topic2\", \"Topic2\", \"Topic2\", \"Topic2\", \"Topic2\", \"Topic2\", \"Topic2\", \"Topic2\", \"Topic2\", \"Topic3\", \"Topic3\", \"Topic3\", \"Topic3\", \"Topic3\", \"Topic3\", \"Topic3\", \"Topic3\", \"Topic3\", \"Topic3\", \"Topic3\", \"Topic3\", \"Topic3\", \"Topic3\", \"Topic3\", \"Topic3\", \"Topic3\", \"Topic3\", \"Topic3\", \"Topic3\", \"Topic3\", \"Topic3\", \"Topic3\", \"Topic3\", \"Topic3\", \"Topic3\", \"Topic3\", \"Topic3\", \"Topic3\", \"Topic3\", \"Topic3\", \"Topic3\", \"Topic3\", \"Topic3\", \"Topic3\", \"Topic3\", \"Topic3\", \"Topic3\", \"Topic3\", \"Topic3\", \"Topic3\", \"Topic3\", \"Topic3\", \"Topic3\", \"Topic3\", \"Topic3\", \"Topic3\", \"Topic3\", \"Topic3\", \"Topic3\", \"Topic4\", \"Topic4\", \"Topic4\", \"Topic4\", \"Topic4\", \"Topic4\", \"Topic4\", \"Topic4\", \"Topic4\", \"Topic4\", \"Topic4\", \"Topic4\", \"Topic4\", \"Topic4\", \"Topic4\", \"Topic4\", \"Topic4\", \"Topic4\", \"Topic4\", \"Topic4\", \"Topic4\", \"Topic4\", \"Topic4\", \"Topic4\", \"Topic4\", \"Topic4\", \"Topic4\", \"Topic4\", \"Topic4\", \"Topic4\", \"Topic4\", \"Topic4\", \"Topic4\", \"Topic4\", \"Topic4\", \"Topic4\", \"Topic5\", \"Topic5\", \"Topic5\", \"Topic5\", \"Topic5\", \"Topic5\", \"Topic5\", \"Topic5\", \"Topic5\", \"Topic5\", \"Topic5\", \"Topic5\", \"Topic5\", \"Topic5\", \"Topic5\", \"Topic5\", \"Topic5\", \"Topic5\", \"Topic5\", \"Topic5\", \"Topic5\", \"Topic5\", \"Topic5\", \"Topic5\", \"Topic5\", \"Topic5\", \"Topic5\", \"Topic5\", \"Topic5\", \"Topic5\", \"Topic5\", \"Topic5\", \"Topic5\", \"Topic5\", \"Topic5\", \"Topic5\", \"Topic5\", \"Topic5\", \"Topic5\", \"Topic5\", \"Topic5\", \"Topic5\", \"Topic5\", \"Topic5\", \"Topic5\", \"Topic5\", \"Topic5\", \"Topic5\", \"Topic5\", \"Topic5\", \"Topic5\", \"Topic5\", \"Topic5\", \"Topic6\", \"Topic6\", \"Topic6\", \"Topic6\", \"Topic6\", \"Topic6\", \"Topic6\", \"Topic6\", \"Topic6\", \"Topic6\", \"Topic6\", \"Topic6\", \"Topic6\", \"Topic6\", \"Topic6\", \"Topic6\", \"Topic6\", \"Topic6\", \"Topic6\", \"Topic6\", \"Topic6\", \"Topic6\", \"Topic6\", \"Topic6\", \"Topic6\", \"Topic6\", \"Topic6\", \"Topic6\", \"Topic6\", \"Topic6\", \"Topic6\", \"Topic6\", \"Topic6\", \"Topic6\", \"Topic6\", \"Topic6\", \"Topic6\", \"Topic6\", \"Topic6\", \"Topic6\", \"Topic6\", \"Topic6\", \"Topic6\"], \"logprob\": [30.0, 29.0, 28.0, 27.0, 26.0, 25.0, 24.0, 23.0, 22.0, 21.0, 20.0, 19.0, 18.0, 17.0, 16.0, 15.0, 14.0, 13.0, 12.0, 11.0, 10.0, 9.0, 8.0, 7.0, 6.0, 5.0, 4.0, 3.0, 2.0, 1.0, -3.9783, -4.0633, -4.0975, -4.208, -4.331, -4.4027, -4.659, -4.9999, -5.1557, -5.3432, -5.3594, -5.368, -5.3777, -5.5738, -5.6523, -5.6645, -5.7563, -5.4194, -5.7782, -5.8517, -5.9152, -5.9309, -5.939, -5.9553, -5.4169, -6.0021, -4.8922, -6.0255, -6.1133, -6.1843, -4.4597, -5.3725, -5.478, -4.6887, -4.7182, -5.1079, -5.4945, -4.9956, -5.1011, -4.1472, -3.7123, -4.3624, -4.7956, -4.3427, -5.191, -4.1064, -4.8869, -4.0512, -4.7497, -3.5418, -5.0296, -4.5622, -4.9614, -5.0622, -4.0225, -4.1076, -4.2528, -4.4711, -4.8454, -4.8834, -4.9743, -4.9895, -5.0146, -5.1349, -5.28, -5.3135, -5.3467, -5.3913, -5.4329, -5.4565, -5.48, -5.497, -5.5082, -5.7279, -5.7463, -5.7866, -5.8061, -5.8557, -5.8803, -5.9911, -5.9918, -6.0319, -6.0113, -6.0889, -3.1596, -4.03, -5.8535, -3.575, -4.7049, -3.506, -5.1303, -5.1724, -4.7272, -3.833, -4.699, -5.4193, -5.067, -4.4106, -4.7731, -4.9441, -4.2974, -4.8581, -4.8659, -5.1666, -5.266, -5.2595, -2.9097, -3.2945, -3.4144, -3.4451, -3.4672, -3.4792, -3.4899, -3.5008, -3.5083, -4.0678, -6.1226, -6.2253, -6.3258, -6.101, -3.4945, -5.8432, -7.2609, -7.3411, -7.488, -7.422, -7.6135, -3.4992, -7.7978, -7.8552, -8.1893, -8.3242, -2.8148, -8.5092, -8.5953, -8.7037, -8.1539, -3.1171, -3.5687, -3.4896, -2.758, -5.9575, -3.4765, -3.3747, -3.5746, -3.5006, -5.7781, -5.8874, -2.1821, -3.3554, -3.6173, -4.2608, -4.2487, -3.9661, -5.5682, -5.6975, -1.8698, -2.78, -2.7855, -2.8015, -3.4241, -3.4827, -3.486, -3.4929, -3.4941, -3.5032, -3.5072, -3.4692, -2.7825, -9.8787, -3.5323, -3.4746, -3.6239, -3.6299, -3.5164, -12.293, -2.5885, -3.4758, -3.518, -8.6528, -4.1444, -3.905, -12.3728, -12.3728, -12.3728, -13.5238, -3.3506, -6.2189, -8.4516, -11.1644, -9.0606, -9.8951, -3.0702, -3.166, -3.2209, -4.2442, -4.7219, -4.9915, -5.1309, -5.165, -5.6066, -5.6306, -5.936, -6.0277, -6.032, -6.0371, -6.1462, -6.1938, -6.2368, -6.2609, -6.322, -6.3609, -6.4934, -6.497, -6.5774, -6.6416, -6.6673, -6.6916, -6.7422, -6.7294, -6.7636, -6.7793, -3.2106, -3.1991, -2.6489, -4.3211, -4.8201, -2.4504, -3.3821, -3.6045, -5.2454, -5.9568, -4.9229, -3.6563, -4.8461, -4.7027, -4.1964, -4.6062, -3.9678, -4.8827, -5.0738, -4.7664, -5.344, -5.3335, -5.1498, -2.4835, -3.189, -3.1918, -3.1921, -3.1921, -3.407, -5.7672, -6.4273, -7.3516, -7.3993, -7.4174, -3.4033, -7.6548, -7.7321, -7.7046, -7.721, -8.1078, -8.1485, -8.3141, -8.2786, -8.4119, -8.4451, -8.5205, -8.7478, -8.7724, -8.8799, -8.8879, -8.8917, -8.8477, -8.9092, -3.1573, -7.7296, -3.1129, -3.5112, -3.1196, -3.1777, -3.1543, -2.14, -1.3216, -4.5993, -4.3141, -5.2558, -4.7825], \"loglift\": [30.0, 29.0, 28.0, 27.0, 26.0, 25.0, 24.0, 23.0, 22.0, 21.0, 20.0, 19.0, 18.0, 17.0, 16.0, 15.0, 14.0, 13.0, 12.0, 11.0, 10.0, 9.0, 8.0, 7.0, 6.0, 5.0, 4.0, 3.0, 2.0, 1.0, 1.387, 1.387, 1.387, 1.387, 1.387, 1.387, 1.387, 1.3869, 1.3869, 1.3869, 1.3869, 1.3869, 1.3869, 1.3869, 1.3869, 1.3869, 1.3868, 1.3868, 1.3868, 1.3868, 1.3868, 1.3868, 1.3868, 1.3868, 1.3868, 1.3868, 1.3868, 1.3868, 1.3868, 1.3868, 1.381, 1.3865, 1.3792, 1.3423, 1.3246, 1.3408, 1.3542, 1.2973, 1.292, 1.1263, 1.027, 1.1239, 1.1346, 0.9406, 1.219, 0.6275, 1.0114, 0.2896, 0.7423, -0.6555, 1.0048, 0.0664, -0.0485, -0.7891, 1.5318, 1.5318, 1.5318, 1.5318, 1.5317, 1.5317, 1.5317, 1.5317, 1.5317, 1.5317, 1.5317, 1.5317, 1.5317, 1.5317, 1.5317, 1.5317, 1.5317, 1.5317, 1.5317, 1.5316, 1.5316, 1.5316, 1.5316, 1.5316, 1.5316, 1.5316, 1.5316, 1.5316, 1.5316, 1.5315, 1.5216, 1.473, 1.5242, 1.3507, 1.4206, 1.1756, 1.4158, 1.3691, 1.2115, 0.9009, 1.0102, 1.3516, 1.0602, 0.3287, 0.5103, 0.5479, -1.4111, -0.0705, -0.525, 0.6544, 0.0075, -0.3676, 1.6378, 1.6378, 1.6378, 1.6378, 1.6378, 1.6378, 1.6378, 1.6378, 1.6378, 1.6378, 1.6375, 1.6374, 1.6374, 1.6374, 1.637, 1.6369, 1.6367, 1.6366, 1.6364, 1.6364, 1.6363, 1.6362, 1.6359, 1.6358, 1.6351, 1.6346, 1.6345, 1.6339, 1.6334, 1.6333, 1.6332, 1.5687, 1.5601, 1.5407, 1.515, 1.5678, 1.4792, 1.4129, 1.3499, 1.2954, 1.4701, 1.4724, 0.7042, 0.8907, 0.7236, 0.9219, 0.4328, 0.0918, -0.373, -0.4912, 1.7091, 1.7091, 1.7091, 1.7091, 1.7091, 1.7091, 1.7091, 1.7091, 1.7091, 1.7091, 1.7091, 1.7091, 1.7088, 1.6914, 1.6797, 1.5933, 1.5824, 1.5654, 1.5171, 1.4846, 1.4695, 1.4371, 1.3739, 1.1905, 1.0382, 0.7236, 0.4651, 0.4651, 0.4651, 0.316, -0.4644, -1.0901, -4.0023, -1.2112, -4.8145, -4.7596, 2.3567, 2.3567, 2.3567, 2.3566, 2.3565, 2.3565, 2.3564, 2.3564, 2.3563, 2.3563, 2.3561, 2.3561, 2.3561, 2.356, 2.356, 2.3559, 2.3559, 2.3559, 2.3558, 2.3558, 2.3557, 2.3557, 2.3556, 2.3555, 2.3555, 2.3554, 2.3554, 2.3554, 2.3553, 2.3553, 2.3549, 2.3477, 2.3384, 2.3517, 2.3456, 2.2711, 2.2581, 2.0702, 2.19, 2.1625, 1.6981, 0.9723, 1.4911, 1.1955, 0.728, 0.9953, 0.373, 0.9383, 0.8564, 0.2671, 0.8763, 0.703, -0.3539, 2.7508, 2.7507, 2.7507, 2.7507, 2.7507, 2.7507, 2.75, 2.7492, 2.7468, 2.7466, 2.7465, 2.7454, 2.7454, 2.7451, 2.7451, 2.7451, 2.7423, 2.7417, 2.7402, 2.7394, 2.7392, 2.7389, 2.7374, 2.7348, 2.7347, 2.7327, 2.7326, 2.7325, 2.7324, 2.7323, 2.7256, 2.7215, 2.6508, 2.5253, 2.448, 2.4238, 2.3903, 2.1061, 1.5646, 2.0217, 1.3607, 0.3845, -0.1539]}, \"token.table\": {\"Topic\": [6, 6, 1, 2, 3, 5, 1, 2, 3, 4, 5, 6, 3, 4, 3, 5, 6, 4, 4, 5, 2, 1, 2, 5, 3, 3, 5, 1, 1, 2, 6, 2, 2, 1, 2, 2, 3, 5, 3, 4, 1, 2, 6, 3, 1, 2, 5, 1, 1, 2, 3, 2, 6, 6, 5, 4, 5, 4, 4, 4, 3, 4, 3, 2, 6, 5, 3, 2, 1, 2, 3, 4, 3, 4, 6, 1, 6, 1, 5, 2, 2, 5, 2, 3, 6, 1, 5, 2, 6, 3, 3, 1, 2, 5, 1, 6, 1, 5, 1, 2, 5, 2, 5, 1, 5, 3, 3, 1, 6, 5, 5, 1, 2, 3, 5, 1, 5, 1, 1, 6, 3, 1, 4, 5, 5, 5, 5, 1, 2, 2, 1, 2, 3, 5, 5, 2, 2, 1, 1, 2, 3, 4, 2, 3, 3, 5, 6, 3, 4, 1, 4, 1, 1, 5, 5, 6, 1, 3, 3, 3, 2, 5, 1, 1, 2, 5, 1, 5, 1, 2, 2, 5, 2, 3, 6, 1, 4, 2, 2, 6, 2, 2, 4, 4, 1, 2, 1, 3, 2, 5, 1, 2, 5, 2, 5, 6, 5, 1, 3, 6, 5, 6, 1, 2, 5, 6, 3, 2, 3, 2, 1, 2, 1, 1, 5, 1, 2, 3, 4, 5, 6, 2, 1, 5, 3, 2, 3, 6, 6, 1, 2, 5, 2, 5, 6, 4, 4, 6, 1, 2, 1, 2, 3, 4, 1, 1, 2, 5, 6, 2, 6, 6, 2, 3, 4, 5, 6, 3, 4, 6, 1, 2, 1, 2, 3, 4, 5, 6, 1, 1, 5, 3, 3, 3, 4, 5, 1, 1, 1, 2, 3, 5, 3, 4, 1, 2, 6, 3, 4, 5, 5, 3, 4, 5, 3, 3, 3, 4, 5, 1, 5, 1, 5, 5, 2, 5, 5, 6, 5, 5, 6, 4, 6, 2, 1, 5, 1, 4, 5, 1, 2, 5, 2, 2, 5, 3, 2, 5, 5, 1, 2, 5, 6, 1, 2, 5, 2, 2, 5, 6, 3, 3, 2, 5, 6, 3, 2, 4, 3, 4, 2, 1, 6, 6, 6, 2, 1, 2, 3, 5, 3, 5, 1, 2, 5, 3, 4, 3, 4, 1, 3, 5, 6, 3, 5, 1, 2, 3, 4, 5, 1, 5, 1, 1, 5, 4, 6], \"Freq\": [0.9764283822958684, 0.9999237107692017, 0.127636641678134, 0.09582231728124621, 0.7100562687531142, 0.06648637427616688, 0.12969880603627806, 0.05271039192838485, 0.3931084165279444, 0.11378192341928516, 0.005308124892510932, 0.30539511775720096, 0.628913345895822, 0.314456672947911, 0.010818407851941806, 0.9888024776674811, 0.9999040493662946, 0.9999937463214331, 0.99998922089183, 0.9999536782610452, 0.9999538164633446, 0.0001448831119450521, 0.8497394515577307, 0.14995402086312892, 0.9999604940960609, 0.8475730090248963, 0.15237267577975663, 0.9999675551571408, 0.4064357444489936, 0.5935802427847663, 0.9953803796423858, 0.9999585797954321, 0.9998719408983197, 0.6823149266930403, 0.3175992753404945, 0.049210450679961645, 0.932286175873919, 0.018211741590222024, 0.9989090880045799, 0.0007407557196919391, 0.9921815997527846, 0.007748314455418222, 0.9773129112819051, 0.9929180570647791, 0.6616090285360654, 0.11075856354463356, 0.22750691657887254, 0.9999869795490309, 0.9999292966692613, 0.20143311720030707, 0.7985599250363767, 0.9999565112346258, 0.9999053288317216, 0.9999651721435853, 0.9998470735332082, 0.9999819331895842, 0.9992299567287644, 0.9999748745053816, 0.8047383994352638, 0.9999689795976354, 0.21310013112469442, 0.7868842638290444, 0.9999652871236735, 0.9999435875067045, 0.9877159158025934, 0.9995456839009939, 0.9979810025838385, 0.9997250426998926, 0.16562655764299003, 0.8343812171107307, 0.6423292739836759, 0.21410975799455864, 0.11896988236182937, 0.8810099074484462, 0.9907849493945621, 0.9999737375829285, 0.9977383216124694, 0.9677694727658569, 0.03210796337489002, 0.9999651540019503, 0.999774539800813, 0.9994783451206373, 0.06669121328237805, 0.933246573911049, 2.2653265381242543e-05, 0.9994574049097845, 0.00036016483059812056, 0.005282254295456035, 0.9946289199295734, 0.9997142328944433, 0.9997276349494666, 0.34206571500320326, 0.4158639436470017, 0.24211739769956794, 0.9999537139606088, 0.9927458381884388, 0.9940677046639497, 0.005895244939787652, 0.1649163234579625, 0.8349686122479383, 0.9987237449189144, 0.15336064853284476, 0.8464941108394896, 0.9093824033581677, 0.0905510565079895, 0.9997161672416206, 0.9999642984391203, 0.9998523577676547, 0.9958680459475132, 0.9986989416011822, 0.999887321393394, 0.33374765116492305, 0.12786467239265667, 0.4008405068670674, 0.13755479311099603, 0.9997807555254321, 0.9995473039674937, 0.9997222858298374, 0.999808064241954, 0.9865146477874052, 0.9999632268790509, 0.2380069485010655, 0.7618610096411749, 0.0001421276415269709, 0.9995348237218392, 0.9977383288013918, 0.998848352056948, 0.9998102178640134, 0.9999158743083503, 0.9998932998318812, 0.009231077535522806, 0.04471752513314007, 0.7498453169431687, 0.19618196556802672, 0.9998994464651981, 0.9998582225203264, 0.9999787615504829, 0.999868742266562, 0.9998499990592183, 0.9997768827239494, 0.99996744610188, 0.9999650326906092, 0.15419897973484023, 0.8455978336316285, 0.016291949736544766, 0.9818962112835241, 0.0017761900088714218, 0.02898338323609216, 0.971020014026114, 0.9444255643077203, 0.05271212451950067, 0.9999030432211369, 0.17615591404044426, 0.8232306261730722, 0.7508864077699997, 0.24905728714453806, 0.9999712992608826, 0.9999608738753938, 0.9999858654477234, 0.9999724926898349, 0.00889482559522253, 0.9910764711399752, 0.999781405395261, 0.524843122851704, 0.3738372296720845, 0.10129619371168966, 0.9395153599683181, 0.06044643681384478, 0.9998607981921036, 0.9998412829178727, 0.08206316254422619, 0.9179290535732165, 0.25613859330407407, 0.0050877593287652475, 0.7387645373725367, 0.9999402788702524, 0.9999983226561848, 0.9996826496855009, 0.9997827219418413, 0.9979228726880885, 0.9999231032470451, 0.9997992066190706, 0.9999721001309193, 0.9999948543552167, 0.9999426122443946, 0.9999455623915102, 0.9997683867078491, 0.9962851859907238, 0.999777068946593, 0.9993668017994447, 0.274033584740655, 0.725919406337007, 7.929212521430988e-05, 0.01049227071090574, 0.19130906929551467, 0.7981120587428966, 0.9999696998616968, 0.09251987101196427, 0.907455611152248, 0.9975962126818223, 0.024822097228777845, 0.975185958800686, 0.26891353656590306, 0.3103666113725047, 0.42079004426188515, 0.9988351815375792, 0.9995930207296678, 0.0037201369444029514, 0.9969967010999911, 0.9998601883962346, 0.0570796728842077, 0.9428659352885521, 0.9999641272631392, 0.9997884902922946, 0.00011143429450426823, 0.2669711178476535, 0.05108389658815677, 0.0034868823885550893, 0.37322476707435975, 0.2504565583141288, 0.05476330622515969, 0.9999789451470682, 0.9142153635165, 0.08576065516116964, 0.9991298025468908, 0.700290169311895, 0.29968936741970975, 0.9808916188656001, 0.9908550863362423, 0.06811616306362606, 0.8904587299642398, 0.04133544938049103, 0.02252647356387817, 0.2562810861739708, 0.7211301499431453, 0.9999797172500304, 0.021681263195986098, 0.968429756087379, 0.4678990800260597, 0.5320934933521321, 0.6399407320379201, 0.36001040731773615, 0.000261073463494836, 0.9997248841398684, 0.9999345013003199, 0.06891310202624454, 0.8947233676389391, 0.03622477901240871, 0.9940265252438018, 0.09511479404627407, 0.9048219106123511, 0.9926769740228336, 0.04695236059367022, 0.003720269008788078, 0.8253224368288999, 0.12373101582676212, 0.0002565702764681433, 0.47371899233306974, 0.001473805391376295, 0.524806048523252, 0.9548803853038639, 0.04503031550112261, 0.8453497952008157, 0.15458913610208755, 0.925250277947156, 0.06085084179567822, 0.013863409174319734, 0.9743634200750019, 0.9997687270009555, 0.9998283889053147, 0.9993640268758814, 0.9999772914802384, 0.9999667233602111, 0.628913345895822, 0.314456672947911, 0.9993586480010286, 0.9999494251714739, 0.9998662429072411, 0.028870143929505473, 0.058749110976794285, 0.8533753438401921, 0.05901615239032516, 0.1338784260601255, 0.8660814428198262, 0.06950337781486354, 0.23315710050047686, 0.697332736030204, 0.48872891158374193, 0.5112518390295192, 0.9996700371287106, 0.9994229324866847, 0.9966879255590368, 0.003307810240360616, 0.9986568284900853, 0.9981146023177199, 0.995149082311265, 0.9984307683707515, 0.0015625450403099082, 0.9994799696002218, 0.9562903212448527, 0.043653518347268896, 0.7769116480503632, 0.22304172692965799, 0.9999808298192466, 0.004956458654626575, 0.994926467272041, 0.5174994107695663, 0.4823615301959431, 0.9990207290238868, 0.9061499390838178, 0.09383905680033044, 0.9999641439342515, 0.999960759014704, 0.9997438542121945, 0.6868357533267792, 0.3131118201418754, 0.10469531907546666, 0.8906736846648451, 0.004614029597809089, 0.33516799320113116, 0.6240002798300408, 0.040878815508964016, 0.9998403149127311, 0.9999624360848222, 0.999222937897694, 0.9982775773312024, 0.999950819793144, 0.9994875342001867, 0.999842691274192, 0.7705123785081537, 0.21775261196952478, 0.011700992255243141, 0.9935906743369787, 0.6976960550453669, 0.3002415822575007, 0.0020551397703076294, 0.9998837184698973, 0.9922010573778643, 0.007354590047949129, 0.9958775607854023, 0.9993821020316019, 0.9984592530407426, 0.0018015289309844342, 0.9981562113369514, 0.9999535437789153, 0.9985561186623156, 0.9999296574245047, 0.999992677768007, 0.628913345895822, 0.314456672947911, 0.9996048245251945, 0.9998572526550016, 0.993397341411698, 0.9895551384976524, 0.9833434629268883, 0.999844433093031, 0.7686587931434193, 0.201760953643525, 0.0008574840529849812, 0.028650055417380547, 0.9988075286431708, 0.9993174713917039, 0.010191224418338486, 0.9897888511961088, 0.9989805424738958, 0.40140082005115774, 0.594230625762008, 0.9991747374002125, 0.0008135737940384779, 0.11348611985653959, 0.8844421568106221, 0.0010044346143181179, 0.0010644008599490502, 0.9977701821925371, 0.9997878493950908, 0.10140586817189517, 0.14964533277301906, 0.026722380852324833, 0.7151855533737311, 0.00698678916034743, 0.9997433950471225, 0.00018831105576325532, 0.9999598838967002, 0.9999272951108262, 0.999490625384189, 0.9735182579957916, 0.9959152822058008], \"Term\": [\"=\", \"ab64e640\", \"able\", \"able\", \"able\", \"able\", \"abortion\", \"abortion\", \"abortion\", \"abortion\", \"abortion\", \"abortion\", \"abortion.*please\", \"abortion.*please\", \"access\", \"access\", \"ace2\", \"action\", \"admin\", \"advice\", \"aid\", \"appointment\", \"appointment\", \"appointment\", \"assistance\", \"available\", \"available\", \"baby\", \"bad\", \"bad\", \"ban\", \"bleeding\", \"blood\", \"body\", \"body\", \"book\", \"book\", \"book\", \"bot\", \"bot\", \"boyfriend\", \"boyfriend\", \"bullet\", \"bypass\", \"care\", \"care\", \"care\", \"child\", \"choice\", \"clinic\", \"clinic\", \"clot\", \"collection\", \"collection/21abc0ef-9dd6\", \"comment\", \"community\", \"compassion\", \"compose/?to=/r\", \"compose?to=%2fr%2fabortion\", \"concern\", \"contact\", \"contact\", \"country\", \"cramp\", \"crime\", \"crisis\", \"custom\", \"cycle\", \"day\", \"day\", \"day!**our\", \"day!**our\", \"deactivate\", \"deactivate\", \"debate\", \"decision\", \"delay\", \"difficult\", \"difficult\", \"doctor\", \"effective\", \"email\", \"emergency\", \"emergency\", \"emergency\", \"emotion\", \"emotion\", \"evaluation\", \"evaluation\", \"excellent\", \"excerpt\", \"experience\", \"experience\", \"experience\", \"family\", \"feedback\", \"feeling\", \"feeling\", \"fine\", \"fine\", \"forum\", \"free\", \"free\", \"friend\", \"friend\", \"fund\", \"funding\", \"future\", \"gas\", \"gentle\", \"glad\", \"good\", \"good\", \"good\", \"good\", \"grief\", \"group\", \"guilt\", \"guy\", \"haha\", \"harassment\", \"hard\", \"hard\", \"hard\", \"healing\", \"healthcare\", \"hear\", \"heart\", \"heating\", \"heavy\", \"help\", \"help\", \"help\", \"help\", \"helpful\", \"hospital\", \"hour\", \"human\", \"husband\", \"ibuprofen\", \"illegal\", \"index\", \"info\", \"info\", \"information\", \"information\", \"information\", \"interface\", \"interface\", \"jerk\", \"jerk\", \"kid\", \"law\", \"law\", \"legal\", \"legal\", \"life\", \"limit\", \"link\", \"list\", \"local\", \"local\", \"loss\", \"lot\", \"lot\", \"lot\", \"love\", \"love\", \"man\", \"med\", \"medical\", \"medical\", \"medication\", \"medication\", \"medication\", \"mental\", \"message\", \"mifepristone\", \"minute\", \"misinformation\", \"miso\", \"misoprostol\", \"mobile\", \"moderator\", \"mom\", \"morning\", \"mother\", \"national\", \"nausea\", \"news\", \"normal\", \"normal\", \"normal\", \"note\", \"note\", \"note\", \"number\", \"old\", \"old\", \"omg\", \"online\", \"online\", \"option\", \"option\", \"option\", \"order\", \"organization\", \"packaging\", \"packaging\", \"pad\", \"pain\", \"pain\", \"parent\", \"partner\", \"partner\", \"people\", \"people\", \"people\", \"people\", \"people\", \"people\", \"period\", \"person\", \"person\", \"philippine\", \"pill\", \"pill\", \"placebo\", \"politic\", \"positive\", \"positive\", \"positive\", \"post\", \"post\", \"post\", \"pref\", \"preference\", \"preference\", \"pregnancy\", \"pregnancy\", \"pregnant\", \"pregnant\", \"private\", \"private\", \"pro\", \"procedure\", \"procedure\", \"procedure\", \"prochoice\", \"provider\", \"provider\", \"purchase\", \"question\", \"question\", \"question\", \"question\", \"question\", \"r\", \"r\", \"r\", \"ready\", \"ready\", \"reason\", \"reason\", \"reddit\", \"reddit\", \"reddit\", \"reduction\", \"regret\", \"relationship\", \"reply\", \"report\", \"resource\", \"resources.**if\", \"resources.**if\", \"response\", \"right\", \"sad\", \"safe\", \"safe\", \"safe\", \"safe\", \"safe2choose](https://safe2choose.org/\", \"safe2choose](https://safe2choose.org/\", \"second\", \"second\", \"second\", \"selecting\", \"selecting\", \"seller\", \"service\", \"setting\", \"setting\", \"sharing\", \"ship\", \"shipment\", \"sidebar\", \"sidebar\", \"site\", \"situation\", \"situation\", \"sorry\", \"sorry\", \"source\", \"state\", \"state\", \"story\", \"story\", \"sub\", \"subreddit\", \"subreddit\", \"subreddit](/message\", \"substitute\", \"successful\", \"support\", \"support\", \"supportive\", \"supportive\", \"supportive\", \"sure\", \"sure\", \"sure\", \"surgical\", \"symptom\", \"tampon\", \"telemedicine\", \"test\", \"text\", \"thank\", \"thing\", \"thing\", \"thing\", \"threat\", \"time\", \"time\", \"time\", \"tissue\", \"tomorrow\", \"tomorrow\", \"tonight\", \"topic\", \"transportation\", \"treatment\", \"treatment\", \"trimester\", \"u\", \"ultrasound\", \"user\", \"users.**our\", \"users.**our\", \"uterus\", \"valid\", \"vote\", \"w\", \"warning\", \"water\", \"way\", \"way\", \"way\", \"way\", \"web\", \"website\", \"week\", \"week\", \"weekend\", \"whitelist\", \"whitelist\", \"wiki\", \"wiki\", \"woman\", \"woman\", \"woman\", \"woman\", \"women](https://www.womenhelp.org/\", \"word\", \"work\", \"work\", \"work\", \"work\", \"work\", \"world\", \"world\", \"year\", \"\\u2764\", \"\\ufe0f\", \"\\ud83c\\udffc\", \"\\ud83d\\ude0a\"]}, \"R\": 30, \"lambda.step\": 0.01, \"plot.opts\": {\"xlab\": \"PC1\", \"ylab\": \"PC2\"}, \"topic.order\": [1, 6, 5, 3, 2, 4]};\n",
       "\n",
       "function LDAvis_load_lib(url, callback){\n",
       "  var s = document.createElement('script');\n",
       "  s.src = url;\n",
       "  s.async = true;\n",
       "  s.onreadystatechange = s.onload = callback;\n",
       "  s.onerror = function(){console.warn(\"failed to load library \" + url);};\n",
       "  document.getElementsByTagName(\"head\")[0].appendChild(s);\n",
       "}\n",
       "\n",
       "if(typeof(LDAvis) !== \"undefined\"){\n",
       "   // already loaded: just create the visualization\n",
       "   !function(LDAvis){\n",
       "       new LDAvis(\"#\" + \"ldavis_el3210213581781808325842582\", ldavis_el3210213581781808325842582_data);\n",
       "   }(LDAvis);\n",
       "}else if(typeof define === \"function\" && define.amd){\n",
       "   // require.js is available: use it to load d3/LDAvis\n",
       "   require.config({paths: {d3: \"https://d3js.org/d3.v5\"}});\n",
       "   require([\"d3\"], function(d3){\n",
       "      window.d3 = d3;\n",
       "      LDAvis_load_lib(\"https://cdn.jsdelivr.net/gh/bmabey/pyLDAvis@3.4.0/pyLDAvis/js/ldavis.v3.0.0.js\", function(){\n",
       "        new LDAvis(\"#\" + \"ldavis_el3210213581781808325842582\", ldavis_el3210213581781808325842582_data);\n",
       "      });\n",
       "    });\n",
       "}else{\n",
       "    // require.js not available: dynamically load d3 & LDAvis\n",
       "    LDAvis_load_lib(\"https://d3js.org/d3.v5.js\", function(){\n",
       "         LDAvis_load_lib(\"https://cdn.jsdelivr.net/gh/bmabey/pyLDAvis@3.4.0/pyLDAvis/js/ldavis.v3.0.0.js\", function(){\n",
       "                 new LDAvis(\"#\" + \"ldavis_el3210213581781808325842582\", ldavis_el3210213581781808325842582_data);\n",
       "            })\n",
       "         });\n",
       "}\n",
       "</script>"
      ],
      "text/plain": [
       "PreparedData(topic_coordinates=              x         y  topics  cluster       Freq\n",
       "topic                                                \n",
       "0      0.250835 -0.031820       1        1  24.982084\n",
       "5      0.259882 -0.003758       2        1  21.614131\n",
       "4     -0.212068  0.119322       3        1  19.440348\n",
       "2     -0.230940 -0.360984       4        1  18.102511\n",
       "1      0.157292  0.034728       5        1   9.473186\n",
       "3     -0.225001  0.242512       6        1   6.387740, topic_info=           Term           Freq          Total Category  logprob  loglift\n",
       "23     abortion  266949.000000  266949.000000  Default  30.0000  30.0000\n",
       "1160    message  133546.000000  133546.000000  Default  29.0000  29.0000\n",
       "287           r   68530.000000   68530.000000  Default  28.0000  28.0000\n",
       "365     contact   82712.000000   82712.000000  Default  27.0000  27.0000\n",
       "244     medical   42601.000000   42601.000000  Default  26.0000  26.0000\n",
       "...         ...            ...            ...      ...      ...      ...\n",
       "23     abortion   81524.553295  266949.257731   Topic6  -1.3216   1.5646\n",
       "12        story    3074.775320    6374.886486   Topic6  -4.5993   2.0217\n",
       "104       legal    4089.810029   16421.924638   Topic6  -4.3141   1.3607\n",
       "1205  subreddit    1594.737216   16997.187039   Topic6  -5.2558   0.3845\n",
       "9        people    2560.221295   46746.629750   Topic6  -4.7825  -0.1539\n",
       "\n",
       "[318 rows x 6 columns], token_table=      Topic      Freq      Term\n",
       "term                           \n",
       "801       6  0.976428         =\n",
       "7011      6  0.999924  ab64e640\n",
       "174       1  0.127637      able\n",
       "174       2  0.095822      able\n",
       "174       3  0.710056      able\n",
       "...     ...       ...       ...\n",
       "126       1  0.999960      year\n",
       "4085      1  0.999927         ❤\n",
       "4252      5  0.999491         ️\n",
       "6623      4  0.973518         🏼\n",
       "4105      6  0.995915         😊\n",
       "\n",
       "[387 rows x 3 columns], R=30, lambda_step=0.01, plot_opts={'xlab': 'PC1', 'ylab': 'PC2'}, topic_order=[1, 6, 5, 3, 2, 4])"
      ]
     },
     "execution_count": 29,
     "metadata": {},
     "output_type": "execute_result"
    }
   ],
   "source": [
    "lda_viz_comments = gensimvis.prepare(optimal_lda_model_comments, pos_corpus_comments, pos_dictionary_comments)\n",
    "lda_viz_comments"
   ]
  },
  {
   "cell_type": "markdown",
   "metadata": {},
   "source": [
    "From an initial look, the comments topic model has three general areas of topic similarity. Using close reading of this model I would summarize the three topics as \n",
    "   1) Emergency situations and urgent calls for help, \n",
    "   2) Unrest within legal frameworks for abortion, and \n",
    "   3) Decision-making surrounding procedure, relationships, and location. \n",
    "   \n",
    "We will see how my close reading matches up with distant through the code below."
   ]
  },
  {
   "cell_type": "markdown",
   "metadata": {},
   "source": [
    "### Naming Topics"
   ]
  },
  {
   "cell_type": "code",
   "execution_count": 30,
   "metadata": {},
   "outputs": [
    {
     "name": "stdout",
     "output_type": "stream",
     "text": [
      "[(0,\n",
      "  '0.029*\"abortion\" + 0.024*\"time\" + 0.019*\"decision\" + 0.017*\"good\" + '\n",
      "  '0.017*\"right\" + 0.017*\"life\" + 0.016*\"pregnancy\" + 0.016*\"thing\" + '\n",
      "  '0.015*\"child\" + 0.013*\"baby\" + 0.013*\"pregnant\" + 0.013*\"way\" + '\n",
      "  '0.012*\"choice\" + 0.012*\"feeling\" + 0.010*\"people\" + 0.009*\"year\" + '\n",
      "  '0.009*\"situation\" + 0.009*\"love\" + 0.009*\"lot\" + 0.008*\"sorry\"'),\n",
      " (1,\n",
      "  '0.086*\"medical\" + 0.071*\"information\" + 0.046*\"advice\" + 0.042*\"number\" + '\n",
      "  '0.041*\"local\" + 0.040*\"treatment\" + 0.040*\"source\" + 0.034*\"subreddit\" + '\n",
      "  '0.027*\"legal\" + 0.026*\"people\" + 0.019*\"good\" + 0.015*\"help\" + '\n",
      "  '0.014*\"thank\" + 0.013*\"state\" + 0.010*\"post\" + 0.009*\"support\" + '\n",
      "  '0.009*\"glad\" + 0.009*\"question\" + 0.008*\"access\" + 0.008*\"option\"'),\n",
      " (2,\n",
      "  '0.154*\"message\" + 0.075*\"contact\" + 0.062*\"action\" + 0.062*\"private\" + '\n",
      "  '0.062*\"moderator\" + 0.061*\"user\" + 0.035*\"abortion\" + 0.033*\"concern\" + '\n",
      "  '0.031*\"community\" + 0.031*\"supportive\" + 0.031*\"hard\" + '\n",
      "  '0.031*\"compose/?to=/r\" + 0.031*\"subreddit](/message\" + 0.030*\"index\" + '\n",
      "  '0.030*\"admin\" + 0.030*\"mobile\" + 0.030*\"pref\" + 0.030*\"question\" + '\n",
      "  '0.030*\"work\" + 0.029*\"interface\"'),\n",
      " (3,\n",
      "  '0.267*\"abortion\" + 0.118*\"r\" + 0.083*\"trimester\" + 0.044*\"provider\" + '\n",
      "  '0.044*\"medication\" + 0.043*\"second\" + 0.043*\"online\" + 0.042*\"post\" + '\n",
      "  '0.041*\"collection\" + 0.041*\"ab64e640\" + 0.041*\"collection/21abc0ef-9dd6\" + '\n",
      "  '0.041*\"ace2\" + 0.033*\"evaluation\" + 0.033*\"substitute\" + 0.030*\"note\" + '\n",
      "  '0.013*\"legal\" + 0.010*\"story\" + 0.008*\"people\" + 0.005*\"subreddit\" + '\n",
      "  '0.003*\"order\"'),\n",
      " (4,\n",
      "  '0.113*\"abortion\" + 0.063*\"woman\" + 0.060*\"setting\" + 0.054*\"link\" + '\n",
      "  '0.044*\"emergency\" + 0.037*\"resource\" + 0.035*\"r\" + 0.034*\"clinic\" + '\n",
      "  '0.033*\"list\" + 0.032*\"illegal\" + 0.031*\"assistance\" + 0.031*\"safe\" + '\n",
      "  '0.031*\"funding\" + 0.031*\"old\" + 0.031*\"report\" + 0.030*\"wiki\" + '\n",
      "  '0.030*\"sidebar\" + 0.030*\"able\" + 0.030*\"limit\" + 0.030*\"harassment\"'),\n",
      " (5,\n",
      "  '0.042*\"week\" + 0.030*\"pill\" + 0.028*\"day\" + 0.022*\"pregnancy\" + '\n",
      "  '0.018*\"period\" + 0.018*\"pain\" + 0.016*\"hour\" + 0.014*\"test\" + '\n",
      "  '0.014*\"abortion\" + 0.012*\"time\" + 0.011*\"doctor\" + 0.009*\"bad\" + '\n",
      "  '0.009*\"procedure\" + 0.009*\"normal\" + 0.008*\"pregnant\" + 0.008*\"bleeding\" + '\n",
      "  '0.008*\"clinic\" + 0.008*\"good\" + 0.008*\"blood\" + 0.007*\"lot\"')]\n"
     ]
    }
   ],
   "source": [
    "model_topics_comments = optimal_lda_model_comments.show_topics(formatted=False)\n",
    "pprint(optimal_lda_model_comments.print_topics(num_words=20))"
   ]
  },
  {
   "cell_type": "code",
   "execution_count": 31,
   "metadata": {},
   "outputs": [],
   "source": [
    "topic_names_comments = {0: 'Personal Reflections and Choices', \n",
    "               1: 'Helpful Resources', \n",
    "               2: 'Community Moderation and Support', \n",
    "               3: 'Understanding Medical Procedures',\n",
    "               4: 'Legal Struggles', \n",
    "               5: 'Medical Questions',} "
   ]
  },
  {
   "cell_type": "markdown",
   "metadata": {},
   "source": [
    "For the topic names, I wanted the comments dataset to be somewhat paralell to the topics we will see in the submissions data. Obviously the topics are slightly different but the overlap is interesting. For instance, both from the comments data one of the topics is \"personal reflections and choices\" which as we'll delve into below, you'll see that topic emulates the \"decision-making\" topic from the submissions data."
   ]
  },
  {
   "cell_type": "markdown",
   "metadata": {},
   "source": [
    "## Topic Modeling: Submissions"
   ]
  },
  {
   "cell_type": "code",
   "execution_count": 32,
   "metadata": {},
   "outputs": [],
   "source": [
    "# Remove all rows that are '[removed]' or '[deleted]' for pp_text\n",
    "topics_subs_df = submissions_df.loc[~submissions_df['pp_text'].isin(['[removed]', '[deleted]' ]),:]\n",
    "\n",
    "# Select only rows that have >5 characters in selftext for pp_text\n",
    "topics_subs_df = submissions_df.loc[submissions_df['pp_text'].str.len() > 5]"
   ]
  },
  {
   "cell_type": "code",
   "execution_count": 33,
   "metadata": {},
   "outputs": [
    {
     "name": "stderr",
     "output_type": "stream",
     "text": [
      "100%|█████████████████████████████████| 27376/27376 [00:00<00:00, 222920.57it/s]\n",
      "100%|██████████████████████████████████| 27376/27376 [00:01<00:00, 26468.09it/s]\n",
      "100%|██████████████████████████████████| 27376/27376 [00:00<00:00, 45164.62it/s]\n"
     ]
    }
   ],
   "source": [
    "# Creating a dictionary\n",
    "lemmas_split_subs = [lemma.split() for lemma in tqdm(topics_subs_df['pp_text'])]\n",
    "dictionary_subs = corpora.Dictionary(tqdm(lemmas_split_subs))\n",
    "dictionary_subs.filter_extremes(no_below=10, no_above=0.4)\n",
    "dictionary_subs.compactify() \n",
    "dictionary_subs.save('Dictionaries/abortionsubmissions.dict')\n",
    "corpus_subs = [dictionary_subs.doc2bow(text) for text in tqdm(lemmas_split_subs)]"
   ]
  },
  {
   "cell_type": "code",
   "execution_count": 34,
   "metadata": {},
   "outputs": [
    {
     "name": "stdout",
     "output_type": "stream",
     "text": [
      "CPU times: user 1e+03 ns, sys: 0 ns, total: 1e+03 ns\n",
      "Wall time: 2.15 µs\n"
     ]
    },
    {
     "name": "stderr",
     "output_type": "stream",
     "text": [
      "100%|███████████████████████████████████| 27376/27376 [00:05<00:00, 5024.65it/s]\n"
     ]
    },
    {
     "data": {
      "text/html": [
       "\n",
       "<link rel=\"stylesheet\" type=\"text/css\" href=\"https://cdn.jsdelivr.net/gh/bmabey/pyLDAvis@3.4.0/pyLDAvis/js/ldavis.v1.0.0.css\">\n",
       "\n",
       "\n",
       "<div id=\"ldavis_el3210213682816416636390533\" style=\"background-color:white;\"></div>\n",
       "<script type=\"text/javascript\">\n",
       "\n",
       "var ldavis_el3210213682816416636390533_data = {\"mdsDat\": {\"x\": [0.03321516674341036, -0.05344200229271155, -0.12536040600562506, -0.10317540726121095, -0.17603751558830527, -0.04038937823194099, 0.04843536788858378, 0.006139032266477041, 0.17349987481020634, 0.23711526767111601], \"y\": [0.13517846404349254, 0.1857814116683099, -0.17683049785676724, -0.032404409452624815, -0.03879403214338996, -0.015692756522695032, -0.10374680642604409, 0.149940502661636, -0.017204179688250994, -0.08622769628366632], \"topics\": [1, 2, 3, 4, 5, 6, 7, 8, 9, 10], \"cluster\": [1, 1, 1, 1, 1, 1, 1, 1, 1, 1], \"Freq\": [18.574885992868044, 18.0306509155968, 12.149936962239309, 11.788650510460826, 9.673575355781223, 9.360733724011158, 6.817766878796255, 5.876200623547248, 5.112124363195669, 2.615474673503484]}, \"tinfo\": {\"Term\": [\"bleeding\", \"pills\", \"m\", \"period\", \"test\", \"nt\", \"baby\", \"pain\", \"sa\", \"ma\", \"help\", \"sex\", \"pregnancy\", \"took\", \"procedure\", \"felt\", \"cramps\", \"appointment\", \"clots\", \"ultrasound\", \"need\", \"cramping\", \"room\", \"days\", \"blood\", \"support\", \"positive\", \"decision\", \"life\", \"want\", \"21f\", \"22f\", \"paycheck\", \"25f\", \"daycare\", \"savings\", \"daughters\", \"dads\", \"travelling\", \"eachother\", \"otc\", \"26f\", \"narcissistic\", \"wether\", \"desired\", \"perspectives\", \"teens\", \"commitment\", \"28f\", \"dilemma\", \"breakdowns\", \"grandfather\", \"sinking\", \"hypothetical\", \"brazil\", \"disappoint\", \"resenting\", \"addicted\", \"citizen\", \"selfishly\", \"careers\", \"graduate\", \"wife\", \"rocky\", \"financially\", \"married\", \"jobs\", \"siblings\", \"graduated\", \"grad\", \"stable\", \"kid\", \"youngest\", \"kids\", \"school\", \"career\", \"family\", \"job\", \"parents\", \"divorce\", \"wants\", \"dad\", \"marriage\", \"college\", \"mom\", \"raise\", \"relationship\", \"husband\", \"child\", \"want\", \"friends\", \"years\", \"house\", \"old\", \"year\", \"boyfriend\", \"found\", \"ready\", \"support\", \"baby\", \"situation\", \"tell\", \"right\", \"supportive\", \"decision\", \"going\", \"feel\", \"time\", \"having\", \"told\", \"work\", \"scared\", \"need\", \"think\", \"life\", \"partner\", \"pregnancy\", \"help\", \"wanted\", \"gender\", \"ppl\", \"tw\", \"spirit\", \"deserved\", \"\\ud83d\\udc94\", \"innocent\", \"disconnected\", \"ideation\", \"abuser\", \"grieve\", \"dna\", \"personality\", \"fantasy\", \"haunts\", \"existence\", \"fragile\", \"rage\", \"announcing\", \"forgiven\", \"existed\", \"longing\", \"heartbreak\", \"offended\", \"church\", \"emptiness\", \"beneficial\", \"apps\", \"struck\", \"sedate\", \"killed\", \"cruel\", \"grieving\", \"cells\", \"worthless\", \"mourning\", \"punished\", \"grief\", \"bpd\", \"deserve\", \"babies\", \"anger\", \"soul\", \"loved\", \"happiness\", \"sadness\", \"mourn\", \"regret\", \"guilt\", \"sad\", \"cry\", \"baby\", \"heart\", \"life\", \"angry\", \"feelings\", \"fucking\", \"feel\", \"suicidal\", \"mother\", \"choice\", \"man\", \"hurts\", \"wish\", \"love\", \"therapy\", \"wanted\", \"crying\", \"child\", \"think\", \"decision\", \"knew\", \"hard\", \"felt\", \"want\", \"thought\", \"time\", \"right\", \"things\", \"months\", \"told\", \"feeling\", \"way\", \"day\", \"pregnancy\", \"said\", \"having\", \"going\", \"got\", \"people\", \"aidaccess\", \"usps\", \"buccally\", \"placebo\", \"packages\", \"mife\", \"\\u2665\", \"brownish\", \"absorbed\", \"brown\", \"palm\", \"bucally\", \"sublingually\", \"1:30pm\", \"misoprotol\", \"gassy\", \"fleshy\", \"panty\", \"origin\", \"liners\", \"hypochondriac\", \"4:30\", \"ella\", \"\\ud83d\\udc96\", \"5/6\", \"5:00\", \"emails\", \"tapered\", \"fe\", \"3:30pm\", \"miso\", \"clots\", \"clotting\", \"orally\", \"soaking\", \"retained\", \"heavier\", \"bleeding\", \"vaginally\", \"dose\", \"misoprostol\", \"sized\", \"mifepristone\", \"doses\", \"liner\", \"heavy\", \"bleed\", \"flow\", \"bled\", \"leftover\", \"tissue\", \"clot\", \"cramping\", \"passing\", \"light\", \"spotting\", \"cramps\", \"passed\", \"pm\", \"size\", \"normal\", \"blood\", \"hours\", \"pills\", \"took\", \"ma\", \"period\", \"mg\", \"pain\", \"days\", \"yesterday\", \"started\", \"taking\", \"today\", \"day\", \"pill\", \"ago\", \"experience\", \"went\", \"little\", \"pregnancy\", \"week\", \"feel\", \"iv\", \"sedation\", \"carafem\", \"fentanyl\", \"speculum\", \"suction\", \"numbing\", \"vitals\", \"gown\", \"needle\", \"anesthesiologist\", \"waist\", \"valium\", \"dilation\", \"needles\", \"lidocaine\", \"recliner\", \"operating\", \"twilight\", \"loopy\", \"vein\", \"bp\", \"soften\", \"stirrups\", \"undress\", \"laminaria\", \"dilated\", \"undressed\", \"sedative\", \"wheeled\", \"anesthesia\", \"dressed\", \"pap\", \"antibiotic\", \"nurses\", \"cervix\", \"nurse\", \"room\", \"chair\", \"recovery\", \"sedated\", \"procedure\", \"paperwork\", \"op\", \"staff\", \"waiting\", \"juice\", \"gave\", \"walked\", \"awake\", \"asked\", \"pressure\", \"antibiotics\", \"minutes\", \"doctor\", \"called\", \"remember\", \"questions\", \"waited\", \"given\", \"pain\", \"ultrasound\", \"surgical\", \"surgery\", \"felt\", \"went\", \"clinic\", \"appointment\", \"told\", \"got\", \"experience\", \"said\", \"home\", \"wanted\", \"day\", \"feel\", \"time\", \"took\", \"blood\", \"going\", \"aug\", \"clumps\", \"flushed\", \"stringy\", \"yellow\", \"remedies\", \"def\", \"6w\", \"bathtub\", \"blacked\", \"epidural\", \"pm-\", \"6:30\", \"puke\", \"emetophobia\", \"sticky\", \"9:45\", \"writhing\", \"leaked\", \"hunched\", \"bucket\", \"untill\", \"smelling\", \"heaving\", \"7w\", \"disc\", \"pouring\", \"6:00\", \"sizes\", \"tub\", \"floor\", \"towel\", \"puking\", \"peak\", \"gatorade\", \"shower\", \"hot\", \"vomit\", \"taste\", \"bed\", \"bathroom\", \"agony\", \"toilet\", \"water\", \"eat\", \"bath\", \"ate\", \"laid\", \"couch\", \"throwing\", \"bottle\", \"contractions\", \"drink\", \"lay\", \"laying\", \"throw\", \"threw\", \"asleep\", \"food\", \"woke\", \"sleep\", \"nausea\", \"felt\", \"nauseous\", \"pain\", \"sat\", \"stomach\", \"hour\", \"minutes\", \"heating\", \"went\", \"night\", \"took\", \"started\", \"day\", \"pad\", \"cramps\", \"got\", \"hours\", \"worst\", \"bad\", \"sick\", \"morning\", \"feel\", \"pill\", \"time\", \"feeling\", \"pills\", \"came\", \"home\", \"blood\", \"going\", \"sa\", \"ovulating\", \"withdrawal\", \"19f\", \"ovulation\", \"ovulated\", \"\\u2640\", \"unprotected\", \"\\ud83d\\udc97\", \"ik\", \"intercourse\", \"flo\", \"\\ud83e\\udd26\", \"ejaculate\", \"likelihood\", \"ovulate\", \"chalked\", \"semen\", \"ejaculated\", \"cum\", \"regulating\", \"negatives\", \"attracted\", \"rly\", \"adjusting\", \"imbalance\", \"penis\", \"anal\", \"ineffective\", \"wack\", \"cycles\", \"sex\", \"condom\", \"pms\", \"b\", \"cycle\", \"depo\", \"condoms\", \"swings\", \"fertile\", \"irregular\", \"control\", \"period\", \"hormonal\", \"implantation\", \"breasts\", \"birth\", \"symptoms\", \"protected\", \"late\", \"ma\", \"plan\", \"negative\", \"hormones\", \"days\", \"ago\", \"month\", \"periods\", \"week\", \"test\", \"iud\", \"pregnancy\", \"having\", \"time\", \"normal\", \"scared\", \"feel\", \"months\", \"got\", \"day\", \"getting\", \"want\", \"took\", \"think\", \"right\", \"feeling\", \"=\", \"digital\", \"\\ud83d\\ude4f\", \"20f\", \"beta\", \"gravidarum\", \"york\", \"18f\", \"crush\", \"\\ud83d\\ude22\", \"z\", \"clearblue\", \"bypass\", \"judicial\", \"tn\", \"guarantee\", \"shall\", \"detection\", \"echo\", \"cystic\", \"throws\", \"regulations\", \"share&utm_medium\", \"arizona\", \"10/11\", \"testimonies\", \"9wks\", \"4days\", \"evaporation\", \"dreaded\", \"nexplanon\", \"bill\", \"hcg\", \"ohio\", \"ectopic\", \"chicago\", \"results\", \"vitamin\", \"insurance\", \"pocket\", \"levels\", \"test\", \"line\", \"parenthood\", \"testing\", \"$\", \"positive\", \"faint\", \"tests\", \"planned\", \"ultrasound\", \"urine\", \"tested\", \"appointment\", \"false\", \"negative\", \"cost\", \"clinic\", \"pregnancy\", \"confirm\", \"obgyn\", \"doctor\", \"pp\", \"week\", \"said\", \"called\", \"pay\", \"hospital\", \"told\", \"went\", \"wait\", \"took\", \"came\", \"state\", \"got\", \"today\", \"days\", \"period\", \"sure\", \"day\", \"going\", \"work\", \"need\", \"5wks\", \"respects\", \"preferably\", \"whichever\", \"assist\", \"regain\", \"don\\u2019t\", \"beach\", \"packs\", \"climate\", \"pph\", \"elaborate\", \"intermittently\", \"facilities\", \"decreasing\", \"labeled\", \"shadow\", \"foreigner\", \"woods\", \"rejecting\", \"p\", \"angels\", \"i\\u2019ll\", \"rung\", \"avail\", \"smears\", \"similarly\", \"con\", \"varying\", \"mercy\", \"\\u2764\", \"attentive\", \"forums\", \"educate\", \"\\ufe0f\", \"trolls\", \"threads\", \"gratitude\", \"unsuccessful\", \"shifted\", \"guide\", \"rainbow\", \"community\", \"brave\", \"women\", \"grateful\", \"sharing\", \"group\", \"customs\", \"openly\", \"sub\", \"fortunate\", \"support\", \"stories\", \"people\", \"journey\", \"woman\", \"thank\", \"posts\", \"healing\", \"subreddit\", \"helped\", \"reading\", \"decision\", \"experience\", \"read\", \"sending\", \"experiences\", \"process\", \"difficult\", \"share\", \"thankful\", \"post\", \"choice\", \"life\", \"body\", \"strong\", \"love\", \"feel\", \"hope\", \"emotional\", \"right\", \"time\", \"best\", \"going\", \"partner\", \"lot\", \"pregnancy\", \"need\", \"wade\", \"mas\", \"roe\", \"overturned\", \"6weeks\", \"de\", \"mods\", \"permanently\", \"jane\", \"msi\", \"anyones\", \"indication\", \"nipple\", \"transit\", \"orgasm\", \"submitted\", \"notification\", \"heyjane\", \"v\", \"md\", \"bans\", \"manila\", \"insights\", \"mod\", \"v.\", \"links\", \"methotrexate\", \"scam\", \"restricted\", \"tricks\", \"countries\", \">\", \"recommendations\", \"un\", \"relevant\", \"uk\", \"iuds\", \"effectiveness\", \"states\", \"legal\", \"ship\", \"y\\u2019\", \"accessible\", \"travel\", \"illegal\", \"advance\", \"state\", \"resources\", \"information\", \"country\", \"appreciated\", \"greatly\", \"option\", \"medical\", \"thank\", \"thanks\", \"advice\", \"abortions\", \"help\", \"surgical\", \"wondering\", \"currently\", \"access\", \"hi\", \"question\", \"live\", \"options\", \"find\", \"need\", \"ask\", \"experience\", \"looking\", \"pill\", \"clinic\", \"able\", \"pills\", \"process\", \"want\", \"people\", \"going\", \"philippines\", \"po\", \"india\", \"abortionrx\", \"shipping\", \"seller\", \"shipped\", \"sites\", \"mtp\", \"ph\", \"packaging\", \"shipment\", \"package\", \"kit\", \"kits\", \"fl\", \"sketchy\", \"womenonweb\", \"sublingual\", \"safe2choose\", \"\\ud83d\\ude13\", \"delivered\", \"\\ud83d\\ude1e\", \"en\", \"sellers\", \"honeybee\", \"paypal\", \"telemedicine\", \"scammed\", \"advices\", \"email\", \"aid\", \"ordered\", \"legit\", \"m\", \"address\", \"access\", \"mail\", \"site\", \"order\", \"tracking\", \"nt\", \"payment\", \"website\", \"pills\", \"received\", \"online\", \"ve\", \"u\", \"illegal\", \"send\", \"buy\", \"sent\", \"help\", \"need\", \"s\", \"says\", \"scared\", \"money\", \"live\", \"want\", \"got\", \"time\", \"long\", \"found\", \"days\"], \"Freq\": [10127.0, 8910.0, 4723.0, 10145.0, 6183.0, 3540.0, 11678.0, 11743.0, 3330.0, 7054.0, 7809.0, 3886.0, 14144.0, 12399.0, 7251.0, 11229.0, 5595.0, 7103.0, 3346.0, 4631.0, 6837.0, 4579.0, 3480.0, 10796.0, 6066.0, 5351.0, 4136.0, 7321.0, 8830.0, 18698.0, 105.28249261746909, 111.48021944381053, 98.91308887566257, 82.00871698046976, 92.64939335048615, 170.0864553171993, 57.17354106150487, 51.01201951921826, 57.09467213469408, 62.79260444469947, 46.2248916732896, 44.88663180680511, 43.96682136763748, 41.89053049940168, 41.23136017974792, 40.666327995817106, 41.09006503255566, 40.03669023897291, 38.94458453084753, 43.89934663451814, 38.60902470216266, 40.29758594459709, 36.52565712173305, 36.85330202571184, 35.70627828272479, 35.492242778893456, 38.99524279720419, 35.06978367270641, 33.3240343510328, 43.69350912388064, 68.37054319827539, 155.81529642458713, 261.6127978025495, 124.41861494542856, 1407.6267063266125, 741.080996000906, 267.92127861002115, 110.47084668476565, 103.2510282550947, 76.87388759149808, 736.2799785614133, 1125.934799868031, 108.75264844648734, 2733.233686232348, 1181.9750171517085, 451.64758963091487, 3424.5036865804777, 1522.9266684335776, 1842.7780978287224, 131.0350742675746, 1116.8447726739212, 923.7626468901069, 360.74237086187435, 729.5898444817948, 2138.4680762916546, 579.5105159776061, 1964.713493091226, 1887.0017722442608, 3722.356726021974, 8958.258824054232, 1603.0239475869553, 2620.775270038474, 859.3743826317105, 1526.8595065764212, 2171.3322507690264, 2899.20543602568, 3634.377237184634, 2034.1206990493558, 2592.8828994870305, 4571.368185679621, 1735.4221697620346, 2390.1336605544257, 3637.1098209676043, 1288.632760915712, 2617.7978512512623, 3474.452489866748, 5390.262829168985, 4262.754014607738, 2918.353573649061, 2862.887716068222, 2152.0996872821133, 2141.8489803516604, 2185.1865349745494, 2401.258175172429, 2149.179431840001, 1800.289726683188, 2100.98246522201, 1900.442193831264, 1884.651567268202, 147.41317963573087, 71.25724796851561, 85.76431274736548, 71.05844979283741, 87.92980964378773, 62.21497750651249, 73.83486426069032, 53.80229862600106, 53.632055679421875, 47.78004242538119, 191.3853406443913, 47.42559904356006, 47.280501985385904, 46.91906918837051, 53.931720186586844, 46.14694689123018, 44.79650650879428, 72.15706314645323, 41.576533615393295, 39.08967834754661, 38.692692903090744, 39.73625260733095, 39.98385397444579, 43.86039439072948, 73.48939507456139, 36.31509126496394, 38.488545957387906, 34.61193884821114, 34.576778354981954, 32.99631951976153, 173.09808533802544, 153.1744532071693, 378.44347565226474, 224.7455952785164, 60.20016386498836, 95.71633829609013, 70.18277210676153, 653.0369185028082, 80.43455286498573, 353.59041706671707, 579.4837703578985, 273.4271388781721, 246.2319112547306, 490.14393423328585, 174.97268917657996, 474.9442290795468, 72.18565572357238, 1862.2388694697584, 1195.59053972951, 1840.387844741621, 807.501671109154, 6794.948705989696, 1123.9350124744128, 4934.845204234984, 614.0817810623198, 1300.7365274877407, 510.25014482822434, 10289.931867487508, 230.5534258247527, 1160.8048925719954, 2219.4739197572426, 662.459418486811, 557.8850901954314, 1231.6729955125652, 1856.2568690993985, 430.37109574367105, 3174.1029727812906, 1091.3464533029123, 2550.356889981835, 3328.476382801281, 2666.4565611821695, 1665.0672747638985, 1639.302518994583, 3377.3851304136333, 4508.6475256518315, 2010.9287218127527, 3935.6314079762337, 2810.0264481426725, 1696.310024707458, 1535.5988050648368, 2464.767691429959, 1888.4639235807838, 1784.6188420594444, 2571.6981035644435, 2428.8324935548135, 1876.4845567974996, 1911.9413585474704, 2002.0351978440326, 1880.5739729253319, 1479.1839163935324, 325.62878148083854, 100.93636464073492, 97.33738610415821, 92.9795024544333, 63.85577271772446, 471.08548457913395, 56.65000311112053, 89.43169187739083, 49.460164169826896, 600.334254728055, 46.41314309893141, 44.76758914229412, 40.445669032424526, 38.95954756352936, 38.80843094779418, 38.8106815901964, 36.89108136124757, 59.31049971872439, 36.291910738975325, 42.756352533875884, 33.72952200656612, 33.43120043473412, 33.686777777300904, 32.72532563377886, 31.92138610093377, 31.505207806118918, 31.0731383940232, 35.475215169000705, 29.949226540869777, 29.472059791757633, 1755.5283403023832, 3167.3672200917217, 208.37717211050318, 376.39766544535473, 115.26881498562955, 128.59862930726175, 361.6489828765142, 8931.828394819155, 979.6218888288798, 951.7668454952488, 2191.234416611453, 310.1941491273257, 1253.2783757623397, 124.23223923593355, 60.561853299084824, 1914.2168936581322, 977.9550616276836, 358.83241536366995, 1119.0287213389845, 95.25002672963413, 876.3932484967565, 889.6527967559142, 3355.9133564183203, 832.6940853223226, 1713.6351558683398, 1165.2938757117813, 3549.5002414330206, 1879.8513530516893, 1291.4519170267336, 504.30157249596107, 2895.4988218082476, 3241.6705755082753, 3214.6239801828447, 3952.5245165123392, 5015.426444383763, 3091.0979105604497, 3233.6684703763035, 636.9384151357732, 3457.1351427827417, 3122.1182918832105, 1264.841356702168, 2015.688105848906, 1612.9951713507194, 1751.5214202469397, 2344.339075833432, 1727.481740695285, 1523.6839283898769, 1465.4374755935721, 1585.6519801856502, 1286.224904310558, 1328.7992927657417, 1291.1107972965053, 1301.9452891530943, 1052.7828367833508, 1407.4975696383785, 216.73809130887614, 202.21536159751514, 186.8418330066219, 289.8370694590798, 176.48904198966662, 224.6730110914655, 154.17533649219433, 170.22481303010073, 127.1581813750217, 124.92615640753166, 127.38922293121442, 116.80764384347076, 143.54576444439965, 111.3895393509885, 102.2861280839994, 125.0018958426696, 119.42568458166339, 104.18163023886244, 98.5395516227404, 104.29523939156935, 98.78588618204867, 98.76316993289528, 92.3853248438875, 87.09868994570697, 88.46807651437321, 86.1181517021525, 92.1964646274925, 86.4464210372769, 555.8039936099906, 262.77841672213924, 185.44029066635002, 241.3941937215063, 852.1045336267082, 900.2495306868085, 2505.900550993005, 3095.329058460404, 207.76743335542838, 1078.994709240118, 309.4418622450109, 5010.3664620149075, 328.0607865618491, 217.57421113797267, 481.5247053863006, 1718.6014576015455, 163.4371615040473, 1677.4459769179298, 471.4161977685642, 348.85848940467287, 1752.2211714652753, 678.8461385452008, 385.9480405592324, 1622.4748865219374, 1959.8222375979421, 1350.6617375121289, 971.8370829205222, 906.4210388382513, 712.5459453267075, 903.5940100031945, 2927.566600327016, 1580.1103655701138, 1340.3722254816053, 641.7833780530335, 2274.7871065228646, 2121.3947131856125, 1498.852723745936, 1659.3282333364057, 1970.37173068143, 2077.7272730194486, 1520.2354676787493, 1582.1026978300135, 1205.5226542358332, 1421.8515600370786, 1498.041971325292, 1753.9099878458235, 1399.7297287055205, 1242.9062329101473, 1079.8156197869191, 1100.6232575003799, 136.9402906125778, 81.238975011324, 102.86400643607232, 72.1770455764384, 62.53534584197005, 58.19970938527885, 56.391332140187465, 49.98782729000072, 48.19647045668636, 46.27631267343606, 43.78250174835064, 42.14975877931089, 60.36889302506368, 77.43787566435674, 40.13062441045442, 44.263324087304994, 37.53451640234249, 37.492397610064124, 38.098248126885444, 35.99330179969535, 38.01439697952849, 34.51187905059657, 56.44087625169718, 40.67380340096457, 34.198738968871695, 32.30228839220352, 53.08786658161392, 31.78312575803532, 30.456529788653302, 48.70302951314614, 443.6475841350177, 129.01127482254392, 110.2990581598615, 99.14414477599237, 78.06503747712155, 419.4903929024768, 501.08229671461424, 244.55174961040586, 160.00635494280334, 1403.2412022371739, 1376.4152470779666, 117.03142392955976, 1170.6785093126002, 1056.1736518701784, 983.7912049033142, 185.6887078904627, 359.48522601983825, 414.2965853374894, 208.32068015792962, 455.0904762451593, 180.63685731519044, 263.1676947478806, 452.1867127010616, 334.83937206693406, 307.78427968574107, 439.8304777004862, 469.1872930934956, 548.3358146038702, 542.7132735719612, 975.0060389284141, 916.4691044051218, 1385.8472001503849, 3783.5449534050817, 670.8472386260776, 3827.1329627420314, 601.0702142350888, 694.7946202216173, 1223.3644983814286, 1463.4284926783225, 608.1598655272157, 2365.84039720433, 1219.9232722548795, 2359.8111066884203, 1617.6657352530865, 2191.2218040636158, 964.3390440154864, 1364.1254678257624, 1916.336463219047, 1432.282684875162, 819.8760634472046, 1226.4509579835915, 779.5473627781334, 987.9545132688852, 1969.241650917582, 1150.381888680824, 1589.6191194421974, 1111.3589449973244, 1203.730511634859, 969.4887920147032, 978.2222040298104, 956.3538202191199, 963.187174910361, 3327.6105978600913, 242.28324591695872, 91.93990887682205, 61.08360771842739, 421.45616313748127, 114.51103158245851, 56.97319394235027, 742.2565266674764, 41.01391021960926, 40.955539587359475, 122.73089520066775, 45.98237201276568, 35.75528491953279, 34.87876427176617, 33.19727014232279, 60.901130590759216, 32.26655036955112, 29.894519445222983, 34.9333484163642, 138.86197521977834, 29.079455126300186, 35.04698182486869, 28.134212636075578, 25.971457865041607, 25.674821043094383, 24.911676200795224, 31.500397388561538, 22.81694663604922, 23.10379177266436, 22.35619036522828, 176.7941276788789, 3384.239035841148, 600.0184337436983, 169.2457493105151, 862.2872656129988, 711.6294866721837, 92.87424340188745, 425.25229012868726, 131.69944742192632, 152.63594867115748, 248.2855185563492, 1757.4459639956601, 5078.255398490268, 267.3456171244885, 145.9522966093597, 388.9292647351019, 1763.6156730692667, 1322.8879663589757, 136.73262297587863, 1056.2212024851765, 2633.537561439455, 1078.936538572745, 1017.8108058329511, 632.8202416753107, 3427.874264706872, 2329.0181087186647, 1201.2123793934704, 625.025317811038, 2480.2556662281445, 1955.4506714754643, 657.9146553767363, 3022.085640157963, 2096.9889705145756, 2351.9481250834547, 1222.361843566343, 1341.6984614338633, 2638.3000599097722, 1040.6754076458874, 1541.703276451034, 1516.815787236468, 1168.980910125682, 1623.7682249666857, 1382.5129758231146, 1118.0140218337103, 1110.573426791978, 1035.8159396366439, 121.00557682697706, 110.32307095704708, 85.21628391068525, 80.95025705777545, 79.85313369916861, 72.7504754588341, 84.78686003951535, 55.05493403269811, 54.95035002528724, 50.26479685406937, 53.69830353594939, 39.58420755063322, 38.12984830220631, 37.72617098008305, 35.194346292960795, 66.92474275836582, 31.720194279342596, 28.34931292072739, 27.916624834202725, 29.637308145174305, 26.785596405600767, 27.411052750075196, 26.065276071996827, 50.48853077424424, 25.878977739042558, 25.192429324498377, 25.08532150163089, 25.146544705197588, 25.514214786497764, 25.115972443463324, 80.67459427280976, 147.80533363280963, 597.2259413912955, 77.62703566426583, 408.7223707153318, 30.901578293865978, 379.9434987550607, 61.22548730698324, 812.1890077100918, 171.28229674207648, 411.4630850107746, 3525.192995693009, 629.223741248797, 1427.1458763973149, 266.21963993234095, 813.1781012764758, 2183.1735949179165, 438.923294665259, 979.5250980762421, 1501.6670172038412, 2133.255519064651, 325.6138822509194, 397.97949501828447, 2727.2740884459545, 162.33476369940843, 962.0738361630949, 391.5044537989664, 1724.3321792042138, 3399.644155626193, 327.13076998556727, 242.7073474415583, 1424.1312746627111, 590.7964781406392, 1693.6516213758553, 1587.370512491643, 852.6808365941753, 473.38572640604735, 559.1643995189294, 1447.7747490689621, 1409.5588489486213, 803.3554034495709, 1476.6000382522755, 899.479791263456, 712.1149596657148, 1015.9531926921208, 799.5073575571436, 973.28085181155, 930.3739070526266, 782.5136183974042, 872.9630972066938, 805.9788480848521, 751.3584944959115, 750.0957394434691, 61.45530710666483, 46.50852425716924, 44.21873064969493, 43.467758415650124, 48.46713863299297, 39.08031782214996, 36.989017530979375, 39.84236634283259, 37.53471504873811, 32.98406180704749, 34.622274160731045, 31.49397261718342, 28.99303925184857, 29.529199339119316, 31.650445597083728, 28.470873192028563, 28.080650571198372, 27.555608502257655, 35.70358751494143, 27.07038716177736, 26.506245974887154, 26.057266870261223, 25.7207529372912, 25.488124835589165, 25.932043972535965, 25.388669518976307, 50.47873834734542, 34.23673244470918, 27.08644516917145, 25.208447728573727, 709.7185366482138, 45.19235884982671, 46.841626624301995, 58.52106140948377, 668.3041165943972, 44.032475152128576, 60.630299373017905, 40.96261536586469, 80.4448267720965, 47.95420744889251, 59.17804343977328, 40.71914571829345, 302.42965682984067, 94.40722855543703, 1544.7859450898707, 565.2596657939604, 252.55872666881024, 299.6791766392581, 153.51204678596505, 78.2134471007778, 345.38609073154, 98.32287150278093, 1575.4243519417944, 611.0349363980644, 1294.6910297073637, 161.2467933660324, 480.2638936583279, 837.4714877658593, 279.7886280075569, 181.68509827897415, 208.66427561098897, 587.3319472938275, 544.3976590101219, 1293.9604468825992, 1241.4614216736418, 681.6828519753599, 159.43021280460812, 481.7651217323681, 811.756474675066, 399.0819530516377, 527.4791858545801, 222.62146788808664, 634.0860764701522, 672.3821931983439, 979.6722845763506, 598.8240206915997, 332.16932995856587, 567.5917996808116, 1324.170964783842, 449.6723654073077, 412.8604780438672, 732.0385374729744, 822.2583384803393, 522.969102772989, 663.2716640109866, 493.1365627185569, 500.0091047166639, 520.7479751873872, 482.6447701616676, 203.72892762061898, 121.70742654230654, 255.1535389182348, 119.23189691595773, 72.49578448125827, 72.31178284748113, 61.81844964803273, 59.850965178551874, 54.746182965345604, 53.65630200002919, 49.21673388829754, 44.979991741385845, 44.8899967958379, 43.16029128001299, 41.382832109225106, 40.51078030024927, 41.32212046489274, 61.98351803467618, 158.96629004039954, 36.8384715908188, 38.273353350382145, 36.05957026857987, 35.97007452178185, 33.86978200669088, 33.74243489286031, 52.08227085800815, 33.13967509317236, 32.78920126535802, 33.023449522400824, 31.564116100431832, 69.34266364988356, 100.67714529990073, 151.1096278237773, 47.617957615514825, 78.12252890739114, 295.67915903586834, 54.29159745642469, 62.646478178158695, 325.6949814716467, 424.53013784235196, 111.9603924485562, 189.37515434284992, 87.31134988262906, 414.2161712919238, 529.3685071073644, 389.61391423792946, 1214.3268933356335, 304.25363880041994, 501.93859470516173, 547.1907617067972, 463.1241915969239, 243.66872439069857, 724.889590728956, 1338.254429169355, 961.6877428846209, 580.0075187431513, 1048.6509001264503, 565.4524080204711, 1528.8359018295807, 906.9106943092947, 676.1260657712083, 585.1920214839979, 516.6956600639347, 661.5129148738697, 385.2301383937582, 785.7890306056029, 434.19903069177997, 654.1170282306674, 942.1447108633695, 527.8577683159406, 877.5324908731843, 553.9672304392986, 829.4617690678241, 728.6461793146094, 709.4738976667605, 799.552829622576, 595.5471825203597, 807.376635485112, 574.0786108264094, 551.5525849077594, 197.99764283326152, 154.72664529376794, 146.4447430533341, 169.18197054534875, 228.4656760218465, 111.85086610080386, 169.57676786719526, 76.61234463477552, 72.82853389343617, 66.09418217377024, 90.61290131334293, 68.67279737699928, 523.0246488273211, 256.82240663915286, 42.662403264475685, 42.38270356533896, 52.074797023718354, 39.5091574759124, 39.32452267357686, 37.81041265740862, 37.62084319812697, 221.6753651685809, 77.71045130646185, 36.64362014277165, 35.84704144257275, 38.60070075352064, 38.770519201938946, 33.91421928341079, 33.72944207566776, 32.0459563061523, 240.28983228329915, 913.4202814440471, 686.5300797859132, 143.3158857386864, 2779.235842220371, 179.34229917505743, 965.6220917081575, 270.3637492193777, 109.20196454167488, 451.32894995037765, 220.87011831314416, 1607.2921401194567, 203.20786043438062, 264.5186140132453, 2198.300040766147, 392.5619532076071, 543.1052972512819, 328.805368180678, 160.0739559615128, 395.1934565408658, 242.2722889185069, 254.8332136090174, 377.43359523412425, 882.0852469854952, 713.3127477105028, 276.9320810000814, 346.3359939306156, 417.6296885337862, 297.31190461053643, 344.2239607576812, 402.0619789205345, 333.44285599907573, 323.8131051514747, 267.7566157854162, 257.61418070473417, 256.4510381026063], \"Total\": [10127.0, 8910.0, 4723.0, 10145.0, 6183.0, 3540.0, 11678.0, 11743.0, 3330.0, 7054.0, 7809.0, 3886.0, 14144.0, 12399.0, 7251.0, 11229.0, 5595.0, 7103.0, 3346.0, 4631.0, 6837.0, 4579.0, 3480.0, 10796.0, 6066.0, 5351.0, 4136.0, 7321.0, 8830.0, 18698.0, 106.30083753651432, 112.56011134920631, 100.06982131187964, 83.02692540516256, 93.80871665539757, 172.8442677420208, 58.24364609747761, 52.030124384199, 58.23622008065664, 64.11948878976303, 47.244018593680266, 45.92343880825491, 44.984516409411086, 42.9264501636501, 42.25280386676376, 41.691148195442615, 42.13608206446433, 41.06331353669321, 39.96396608734214, 45.04981836817493, 39.66177093331574, 41.409684769000364, 37.545040188163206, 37.88572641632983, 36.724228308483795, 36.51114088819972, 40.15344540325184, 36.154045907603866, 34.35496644851103, 45.0465366126732, 70.66860903288276, 162.6387936053825, 277.3249525828834, 131.13218913842715, 1582.6466202080312, 819.1147139164268, 287.66942110116554, 116.72767401395919, 109.26449748244337, 80.85958306581166, 854.6610657722961, 1357.5974502473066, 117.16462090794342, 3495.0883699733477, 1455.4071070784767, 527.3399782945239, 4569.432434731507, 1974.134752780872, 2435.641840084789, 144.79170147479033, 1469.0340251558293, 1209.6258771110524, 438.9667938496305, 954.9663835446157, 3164.3406719195405, 769.9325679461715, 3107.841788704354, 2999.447502242775, 6504.509117721325, 18698.30466075059, 2688.0431086438725, 4822.073765471647, 1299.2187941582374, 2595.1008315061863, 4075.9882542497417, 5811.4119854489245, 7876.394359444953, 3847.4473485501526, 5351.149063731768, 11678.955574237798, 3391.396946362271, 5206.914548379417, 10134.113336654698, 2351.5143472577156, 7321.1461325457385, 11578.66163390572, 24898.7925234131, 16800.89144407623, 9626.361089965392, 10111.114114900305, 6246.167438613061, 6322.912595645341, 6837.4718183953555, 9357.183515025717, 8830.120075969546, 4935.159971977918, 14144.905107748626, 7809.149434135519, 8482.528300399767, 148.73404926271337, 72.26897542620496, 87.01157634509288, 72.11591554115051, 89.29009660923784, 63.23680256997593, 75.06336434030275, 54.813279387056745, 54.64753920024092, 48.793043643330144, 195.50085489393845, 48.447673850771864, 48.30240819550351, 47.94476662075029, 55.114188933795546, 47.19700656389179, 45.81620973448779, 73.85463140080869, 42.594159682638434, 40.10753289205393, 39.721917776696536, 40.80998529699918, 41.075119535039406, 45.05787147733311, 75.55577558448076, 37.35264081460823, 39.60297325815882, 35.623276442779904, 35.62263341297444, 34.00761290413859, 178.51635389106468, 158.4284179433013, 395.54622504686705, 236.5068259971561, 62.4685074519809, 100.55521422083632, 73.28814100973355, 732.2256248673714, 84.64052089518655, 396.24780783681945, 667.8956588635986, 305.8324028287772, 276.8028537863972, 591.5674778903106, 196.64713713061033, 585.3169702699469, 76.2985817512193, 2627.0425121188396, 1659.3993424123116, 2671.2619022227896, 1091.2986312040384, 11678.955574237798, 1607.2682715992316, 8830.120075969546, 832.5707275885992, 1960.0862716208105, 689.3683648133629, 24898.7925234131, 285.660351729456, 1921.3908290726383, 4235.88534995355, 1014.0114882576701, 828.7122178067318, 2187.215075099057, 3681.683270233315, 608.5024548626471, 8482.528300399767, 2092.399178127282, 6504.509117721325, 9357.183515025717, 7321.1461325457385, 3916.511672687747, 3877.903977124639, 11229.492279778371, 18698.30466075059, 5795.8253752026785, 16800.89144407623, 10134.113336654698, 4497.643375630036, 4262.895446824317, 10111.114114900305, 6580.141193509009, 5899.737557233781, 12659.312837344674, 14144.905107748626, 8216.060611871182, 9626.361089965392, 11578.66163390572, 11864.024151544836, 4920.70957111356, 326.6809888078667, 101.98981630128146, 98.38859514120735, 94.08173083552805, 64.91484164111279, 479.3613114589998, 57.702536708192994, 91.3166182221275, 50.511864159202865, 613.220429233161, 47.46450085749236, 45.81870393841942, 41.4968681173439, 40.01119150823171, 39.85965024103971, 39.86788991347877, 37.94296919270982, 61.00360107810919, 37.34706500668337, 44.06316807521039, 34.78153118772554, 34.48234796324543, 34.75784914063874, 33.77886447966145, 32.9754844700481, 32.55715332317199, 32.12986653489684, 36.724516289226855, 31.0047570667482, 30.52324782203859, 1833.783950724821, 3346.2458432104927, 216.44158663549834, 393.40766865989417, 120.09088778040429, 134.39282939176172, 383.2101473908551, 10127.318015910105, 1086.0318191643903, 1057.5817919421365, 2519.42367480339, 338.0966464081813, 1437.2978827847726, 132.7928692931319, 63.330196302007174, 2317.447213954408, 1152.1903211927097, 405.1311935841921, 1356.8452239374265, 101.54995968626588, 1076.6532844681412, 1094.7273234886218, 4579.866911686037, 1029.0932833042004, 2268.580178925058, 1524.7598666438587, 5595.891194105676, 2753.528272845198, 1945.887200391025, 664.3075184537878, 5235.271573286845, 6066.238838086335, 6690.916764121482, 8910.348193745718, 12399.852582274694, 7054.172946112636, 10145.997657245372, 894.7430995072422, 11743.659672305332, 10796.476779571256, 2720.6972090303293, 6602.8441687408385, 4318.603926277516, 5559.991682506728, 12659.312837344674, 6319.695145333942, 7004.089404589718, 6908.34118156825, 10117.145125908026, 5226.125007860066, 14144.905107748626, 8634.609140613895, 24898.7925234131, 1055.760921336907, 1413.065658953385, 217.73670058798692, 203.2656054853755, 187.86453488705672, 291.4955451568033, 177.5145989744452, 226.0605074962328, 155.26328246380731, 171.52241226879477, 128.20402503728747, 125.95705636816324, 128.49068479020843, 117.84584986716058, 144.87356229469071, 112.42179381555917, 103.29328665838553, 126.25748348235882, 120.66012879294587, 105.27045122271015, 99.57285509428243, 105.40803591592044, 99.84512363796217, 99.85851391813812, 93.41092240072884, 88.10835615242885, 89.50816435158569, 87.1309213924515, 93.29362751373975, 87.53683365795204, 562.9994391168862, 267.64078573494356, 188.24409604881996, 246.29220543331732, 886.3787986773134, 940.759417007067, 2699.8920594199626, 3480.3801640715365, 216.52602964686542, 1212.914104072865, 342.05797781918943, 7251.664349647885, 377.17001997996704, 239.1225853377018, 600.5096763722746, 2897.9791602253754, 173.93098137604088, 2956.442052071636, 632.1901590567144, 439.95066709357314, 3336.7286521708384, 1061.4913458182739, 515.5305469756391, 3691.9800075463913, 5017.191915399854, 3079.891771388027, 1944.5353053550975, 1771.1048424678845, 1259.3489279391097, 1826.6437823811739, 11743.659672305332, 4631.627260640295, 3601.563033679089, 1210.7401335014695, 11229.492279778371, 10117.145125908026, 5558.566191146054, 7103.428277401646, 10111.114114900305, 11864.024151544836, 6908.34118156825, 8216.060611871182, 5247.666278627246, 8482.528300399767, 12659.312837344674, 24898.7925234131, 16800.89144407623, 12399.852582274694, 6066.238838086335, 11578.66163390572, 137.986762174522, 82.2848973685499, 104.4066940265714, 73.31594466540162, 63.57332787803865, 59.228118029319646, 57.422615592105885, 51.01355360052449, 49.245251883877756, 47.3298034986913, 44.80876532922868, 43.17471481250781, 61.871219111263244, 79.40516285788182, 41.156441549791246, 45.46615609901968, 38.56113641925216, 38.51790762952018, 39.1519879734208, 37.01954651023098, 39.128533509163965, 35.538072275952516, 58.133850371614535, 41.918272398091545, 35.25405457340905, 33.33813036495639, 54.81293182238869, 32.81738296174805, 31.4834724454489, 50.3610717205733, 469.525837781379, 137.71933663262573, 118.4161869055911, 105.98696467115671, 82.99763579604381, 478.6480387403623, 584.6766680585391, 279.9002746240911, 179.49416876721702, 1840.2472468305773, 1823.0755799381552, 129.47538869403954, 1583.7540839561777, 1423.2654055876803, 1340.478772010719, 216.20395456119155, 453.4938592440389, 534.6337387977991, 249.8170289840699, 600.9397686825181, 219.38630544622006, 342.00013872034145, 648.9663654471503, 456.2945326275953, 413.24914716149146, 630.7714755765318, 695.6137791951985, 845.7313739951766, 860.5413973699283, 1795.3444376979737, 1711.4237295594614, 2957.4012537985277, 11229.492279778371, 1187.767067807294, 11743.659672305332, 1046.09210293126, 1307.2003954362601, 2870.917775214796, 3691.9800075463913, 1153.249168297166, 10117.145125908026, 3754.906724432658, 12399.852582274694, 6602.8441687408385, 12659.312837344674, 2775.352201522335, 5595.891194105676, 11864.024151544836, 6690.916764121482, 2124.49221649227, 5420.394741420028, 1952.1999807845893, 3582.9644776961677, 24898.7925234131, 6319.695145333942, 16800.89144407623, 6580.141193509009, 8910.348193745718, 4712.822670927072, 5247.666278627246, 6066.238838086335, 11578.66163390572, 3330.834959901357, 245.62930827922833, 93.48628401132, 62.12106790546835, 428.7087681741153, 116.50308447824898, 58.01065556176303, 758.1777204966561, 42.053993404740886, 41.99951917447663, 125.91516675652484, 47.2126209284745, 36.79349305904288, 35.9350262748906, 34.234785116727075, 62.82244575097473, 33.305493587992245, 30.93213735741753, 36.14766514266025, 143.69059851204958, 30.11968891670844, 36.314687539756164, 29.171406109952514, 27.009839383310645, 26.723923197326716, 25.949080745382194, 32.853330011920804, 23.861479831397244, 24.17027021610776, 23.39460384849423, 186.07745169593886, 3886.1831189663126, 682.1931433485005, 186.12655901445237, 1001.6923009091264, 837.0831989295427, 101.2662717085011, 511.97552899148224, 148.41330306165182, 174.2481223320336, 317.08001731766717, 2913.2814982996806, 10145.997657245372, 362.00052929434753, 184.86000631170424, 573.6752447948744, 3341.8170138711143, 2673.6679665223896, 177.2191957768607, 2250.5332952276476, 7054.172946112636, 2331.1943673060905, 2205.3443205249264, 1210.5835357407286, 10796.476779571256, 7004.089404589718, 2885.1697927720256, 1226.525179886707, 8634.609140613895, 6183.792195449759, 1371.0128160425413, 14144.905107748626, 9626.361089965392, 16800.89144407623, 5235.271573286845, 6322.912595645341, 24898.7925234131, 4262.895446824317, 11864.024151544836, 12659.312837344674, 6282.849859704023, 18698.30466075059, 12399.852582274694, 9357.183515025717, 10134.113336654698, 6580.141193509009, 122.04812489003149, 111.54591906574578, 86.2350456813309, 81.96871685883931, 80.87160962204175, 73.76931118019503, 85.97499428705537, 56.0733854447855, 55.9694852014351, 51.286485708502354, 54.85836900812466, 40.60254783351744, 39.147928019987695, 38.77449878875123, 36.21270829906649, 68.94793158408174, 32.7416400832463, 29.368856906355177, 28.937262451705873, 30.742621513288494, 27.804171090578386, 28.456475267528067, 27.083428411549704, 52.50228891319784, 26.911514978313093, 26.21156698318131, 26.104428725616334, 26.17083216654832, 26.561259055802346, 26.16147652131, 85.02888486421062, 156.79068881183736, 656.4159213415653, 82.04474258062542, 470.3739893576152, 32.46347812543604, 478.395996967072, 67.24215648656586, 1088.9704707253672, 204.71271890937192, 561.3335033398711, 6183.792195449759, 938.4907178783635, 2396.7946587901756, 361.29685729421107, 1320.6502101375922, 4136.655000566241, 653.0629104130114, 1698.3241799281868, 2990.37874561763, 4631.627260640295, 483.77714069865954, 634.9791128497351, 7103.428277401646, 217.62792995053192, 2205.3443205249264, 721.5132063115927, 5558.566191146054, 14144.905107748626, 574.7994221219751, 383.2746724843786, 5017.191915399854, 1415.9764673050568, 8634.609140613895, 8216.060611871182, 3079.891771388027, 1200.1800345092997, 1710.7653384942748, 10111.114114900305, 10117.145125908026, 3377.9268694411485, 12399.852582274694, 4712.822670927072, 3048.2715117490343, 11864.024151544836, 5559.991682506728, 10796.476779571256, 10145.997657245372, 6752.160636429627, 12659.312837344674, 11578.66163390572, 6246.167438613061, 6837.4718183953555, 62.46175582088955, 47.51483604249996, 45.237981661366824, 44.487700158099116, 49.65638243428082, 40.08577016331984, 37.99138762719757, 41.03111930203868, 38.671289030594714, 33.98742978967339, 35.699874895267065, 32.52169175499619, 30.002005598584088, 30.559919859519074, 32.767593943078474, 29.478807493626263, 29.094095767343926, 28.558363720587458, 37.014476231976445, 28.07431955876653, 27.51158997719884, 27.061944385935362, 26.731321919264705, 26.491053678290687, 26.952802067158974, 26.391131461060578, 52.474407457289914, 35.61724511541418, 28.187114216381, 26.244457205281208, 746.3984842984191, 47.20309590796618, 48.96687863857419, 61.43871781850834, 755.7191024641652, 46.34356739495429, 66.31778669559814, 43.76126388356837, 90.80053876497445, 52.789862981013655, 67.33875202269353, 44.18590501914712, 442.0577025023119, 116.00728181772293, 3003.171412446518, 933.5781422038315, 398.9040954288339, 506.2595987409331, 232.07333198101375, 101.13799628467532, 683.0522633542139, 136.40373823761928, 5351.149063731768, 1592.98239936476, 4920.70957111356, 280.68387425493745, 1355.742507851556, 3162.5137137394736, 658.8640241567384, 354.54552130917637, 435.42976844775905, 2067.119529774473, 1940.891121553328, 7321.1461325457385, 6908.34118156825, 2759.6970784708874, 302.45670724724937, 1682.8002057383, 3956.0437999164874, 1284.040138214058, 2108.844962532679, 545.0198016981435, 3616.4282504175862, 4235.88534995355, 8830.120075969546, 3492.128265481655, 1157.229889704082, 3681.683270233315, 24898.7925234131, 2325.759398516323, 1926.6448077768828, 10134.113336654698, 16800.89144407623, 4116.451332890614, 11578.66163390572, 4935.159971977918, 5939.657589052453, 14144.905107748626, 6837.4718183953555, 205.20204870755006, 122.72515277116001, 257.2892029207604, 120.25145769120354, 73.51642922278265, 73.35371709548457, 62.83934420771945, 60.86944039494313, 55.769039584725256, 54.67815234243438, 50.236566688674046, 45.99837939282583, 45.90987531236815, 44.17762755871171, 42.401001250068504, 41.527959875010886, 42.37443751316256, 63.57454476340697, 163.13757744839054, 37.85598638516304, 39.33702132015109, 37.077098183886164, 36.993393817329526, 34.887156672539795, 34.771380663391334, 53.68032202039517, 34.16704043766267, 33.81132074408362, 34.061009898669134, 32.591229202810524, 71.65115420247491, 105.50242471016287, 167.66415800548407, 50.208453902421375, 86.50245365695044, 387.7844430688069, 59.23730238914854, 69.83409003606897, 473.70658686373406, 687.6628223339025, 141.36725185897495, 269.29029944675244, 105.14069672494067, 711.0018751898376, 975.4884212626158, 702.0844242347456, 3048.2715117490343, 531.2950922686882, 1016.6401543793892, 1154.6252559850464, 1012.0743254336926, 430.84373618598755, 1927.0440381491712, 4850.8783813536975, 3162.5137137394736, 1543.304377025227, 3925.55097657817, 1598.2328659133416, 7809.149434135519, 3601.563033679089, 2318.03210148593, 1985.5903697692438, 1629.0748702752126, 2789.3494831177395, 1034.534566353329, 3930.854119933865, 1326.0766860270537, 3105.5676378364724, 6837.4718183953555, 2063.8551992443377, 6908.34118156825, 2345.9123522475, 6319.695145333942, 5558.566191146054, 5468.5252128057655, 8910.348193745718, 3956.0437999164874, 18698.30466075059, 4920.70957111356, 11578.66163390572, 199.1735884538783, 155.76603817520822, 147.54663894876697, 170.5330819173255, 230.38086574990876, 112.89352532631511, 171.51121047015477, 77.73890833733498, 73.90896687698917, 67.1340569651234, 92.20403727689376, 69.94003988952778, 533.2101252006642, 262.7621931419133, 43.70209190382027, 43.42971228896034, 53.397203501556454, 40.550471681230725, 40.36949805993501, 38.85107918131747, 38.65958325690227, 227.88631771925182, 79.91994504487204, 37.701687235300575, 36.88543521117645, 39.72228134296788, 39.95282933292686, 34.95464831747562, 34.767863616979355, 33.08553226316793, 260.05937227364626, 1040.9248052686717, 777.9376228454319, 168.119019612464, 4723.883939948503, 232.7133201700434, 1629.0748702752126, 382.7985872318948, 133.36537521019994, 733.9682301252071, 315.9742849514198, 3540.91180836684, 302.08375153041993, 434.5860687948233, 8910.348193745718, 810.6104367707727, 1397.4482678271333, 676.3599180201492, 239.54395918601216, 975.4884212626158, 505.9215426925821, 555.8453637971712, 1205.7532785792705, 7809.149434135519, 6837.4718183953555, 724.1725945980063, 1543.5918520009982, 6322.912595645341, 1667.2316478045457, 3930.854119933865, 18698.30466075059, 11864.024151544836, 16800.89144407623, 5089.168304271253, 7876.394359444953, 10796.476779571256], \"Category\": [\"Default\", \"Default\", \"Default\", \"Default\", \"Default\", \"Default\", \"Default\", \"Default\", \"Default\", \"Default\", \"Default\", \"Default\", \"Default\", \"Default\", \"Default\", \"Default\", \"Default\", \"Default\", \"Default\", \"Default\", \"Default\", \"Default\", \"Default\", \"Default\", \"Default\", \"Default\", \"Default\", \"Default\", \"Default\", \"Default\", \"Topic1\", \"Topic1\", \"Topic1\", \"Topic1\", \"Topic1\", \"Topic1\", \"Topic1\", \"Topic1\", \"Topic1\", \"Topic1\", \"Topic1\", \"Topic1\", \"Topic1\", \"Topic1\", \"Topic1\", \"Topic1\", \"Topic1\", \"Topic1\", \"Topic1\", \"Topic1\", \"Topic1\", \"Topic1\", \"Topic1\", \"Topic1\", \"Topic1\", \"Topic1\", \"Topic1\", \"Topic1\", \"Topic1\", \"Topic1\", \"Topic1\", \"Topic1\", \"Topic1\", \"Topic1\", \"Topic1\", \"Topic1\", \"Topic1\", \"Topic1\", \"Topic1\", \"Topic1\", \"Topic1\", \"Topic1\", \"Topic1\", \"Topic1\", \"Topic1\", \"Topic1\", \"Topic1\", \"Topic1\", \"Topic1\", \"Topic1\", \"Topic1\", \"Topic1\", \"Topic1\", \"Topic1\", \"Topic1\", \"Topic1\", \"Topic1\", \"Topic1\", \"Topic1\", \"Topic1\", \"Topic1\", \"Topic1\", \"Topic1\", \"Topic1\", \"Topic1\", \"Topic1\", \"Topic1\", \"Topic1\", \"Topic1\", \"Topic1\", \"Topic1\", \"Topic1\", \"Topic1\", \"Topic1\", \"Topic1\", \"Topic1\", \"Topic1\", \"Topic1\", \"Topic1\", \"Topic1\", \"Topic1\", \"Topic1\", \"Topic1\", \"Topic1\", \"Topic1\", \"Topic1\", \"Topic1\", \"Topic1\", \"Topic1\", \"Topic2\", \"Topic2\", \"Topic2\", \"Topic2\", \"Topic2\", \"Topic2\", \"Topic2\", \"Topic2\", \"Topic2\", \"Topic2\", \"Topic2\", \"Topic2\", \"Topic2\", \"Topic2\", \"Topic2\", \"Topic2\", \"Topic2\", \"Topic2\", \"Topic2\", \"Topic2\", \"Topic2\", \"Topic2\", \"Topic2\", \"Topic2\", \"Topic2\", \"Topic2\", \"Topic2\", \"Topic2\", \"Topic2\", \"Topic2\", \"Topic2\", \"Topic2\", \"Topic2\", \"Topic2\", \"Topic2\", \"Topic2\", \"Topic2\", \"Topic2\", \"Topic2\", \"Topic2\", \"Topic2\", \"Topic2\", \"Topic2\", \"Topic2\", \"Topic2\", \"Topic2\", \"Topic2\", \"Topic2\", \"Topic2\", \"Topic2\", \"Topic2\", \"Topic2\", \"Topic2\", \"Topic2\", \"Topic2\", \"Topic2\", \"Topic2\", \"Topic2\", \"Topic2\", \"Topic2\", \"Topic2\", \"Topic2\", \"Topic2\", \"Topic2\", \"Topic2\", \"Topic2\", \"Topic2\", \"Topic2\", \"Topic2\", \"Topic2\", \"Topic2\", \"Topic2\", \"Topic2\", \"Topic2\", \"Topic2\", \"Topic2\", \"Topic2\", \"Topic2\", \"Topic2\", \"Topic2\", \"Topic2\", \"Topic2\", \"Topic2\", \"Topic2\", \"Topic2\", \"Topic2\", \"Topic2\", \"Topic2\", \"Topic2\", \"Topic2\", \"Topic3\", \"Topic3\", \"Topic3\", \"Topic3\", \"Topic3\", \"Topic3\", \"Topic3\", \"Topic3\", \"Topic3\", \"Topic3\", \"Topic3\", \"Topic3\", \"Topic3\", \"Topic3\", \"Topic3\", \"Topic3\", \"Topic3\", \"Topic3\", \"Topic3\", \"Topic3\", \"Topic3\", \"Topic3\", \"Topic3\", \"Topic3\", \"Topic3\", \"Topic3\", \"Topic3\", \"Topic3\", \"Topic3\", \"Topic3\", \"Topic3\", \"Topic3\", \"Topic3\", \"Topic3\", \"Topic3\", \"Topic3\", \"Topic3\", \"Topic3\", \"Topic3\", \"Topic3\", \"Topic3\", \"Topic3\", \"Topic3\", \"Topic3\", \"Topic3\", \"Topic3\", \"Topic3\", \"Topic3\", \"Topic3\", \"Topic3\", \"Topic3\", \"Topic3\", \"Topic3\", \"Topic3\", \"Topic3\", \"Topic3\", \"Topic3\", \"Topic3\", \"Topic3\", \"Topic3\", \"Topic3\", \"Topic3\", \"Topic3\", \"Topic3\", \"Topic3\", \"Topic3\", \"Topic3\", \"Topic3\", \"Topic3\", \"Topic3\", \"Topic3\", \"Topic3\", \"Topic3\", \"Topic3\", \"Topic3\", \"Topic3\", \"Topic3\", \"Topic3\", \"Topic3\", \"Topic3\", \"Topic3\", \"Topic3\", \"Topic3\", \"Topic4\", \"Topic4\", \"Topic4\", \"Topic4\", \"Topic4\", \"Topic4\", \"Topic4\", \"Topic4\", \"Topic4\", \"Topic4\", \"Topic4\", \"Topic4\", \"Topic4\", \"Topic4\", \"Topic4\", \"Topic4\", \"Topic4\", \"Topic4\", \"Topic4\", \"Topic4\", \"Topic4\", \"Topic4\", \"Topic4\", \"Topic4\", \"Topic4\", \"Topic4\", \"Topic4\", \"Topic4\", \"Topic4\", \"Topic4\", \"Topic4\", \"Topic4\", \"Topic4\", \"Topic4\", \"Topic4\", \"Topic4\", \"Topic4\", \"Topic4\", \"Topic4\", \"Topic4\", \"Topic4\", \"Topic4\", \"Topic4\", \"Topic4\", \"Topic4\", \"Topic4\", \"Topic4\", \"Topic4\", \"Topic4\", \"Topic4\", \"Topic4\", \"Topic4\", \"Topic4\", \"Topic4\", \"Topic4\", \"Topic4\", \"Topic4\", \"Topic4\", \"Topic4\", \"Topic4\", \"Topic4\", \"Topic4\", \"Topic4\", \"Topic4\", \"Topic4\", \"Topic4\", \"Topic4\", \"Topic4\", \"Topic4\", \"Topic4\", \"Topic4\", \"Topic4\", \"Topic4\", \"Topic4\", \"Topic4\", \"Topic4\", \"Topic4\", \"Topic4\", \"Topic4\", \"Topic4\", \"Topic5\", \"Topic5\", \"Topic5\", \"Topic5\", \"Topic5\", \"Topic5\", \"Topic5\", \"Topic5\", \"Topic5\", \"Topic5\", \"Topic5\", \"Topic5\", \"Topic5\", \"Topic5\", \"Topic5\", \"Topic5\", \"Topic5\", \"Topic5\", \"Topic5\", \"Topic5\", \"Topic5\", \"Topic5\", \"Topic5\", \"Topic5\", \"Topic5\", \"Topic5\", \"Topic5\", \"Topic5\", \"Topic5\", \"Topic5\", \"Topic5\", \"Topic5\", \"Topic5\", \"Topic5\", \"Topic5\", \"Topic5\", \"Topic5\", \"Topic5\", \"Topic5\", \"Topic5\", \"Topic5\", \"Topic5\", \"Topic5\", \"Topic5\", \"Topic5\", \"Topic5\", \"Topic5\", \"Topic5\", \"Topic5\", \"Topic5\", \"Topic5\", \"Topic5\", \"Topic5\", \"Topic5\", \"Topic5\", \"Topic5\", \"Topic5\", \"Topic5\", \"Topic5\", \"Topic5\", \"Topic5\", \"Topic5\", \"Topic5\", \"Topic5\", \"Topic5\", \"Topic5\", \"Topic5\", \"Topic5\", \"Topic5\", \"Topic5\", \"Topic5\", \"Topic5\", \"Topic5\", \"Topic5\", \"Topic5\", \"Topic5\", \"Topic5\", \"Topic5\", \"Topic5\", \"Topic5\", \"Topic5\", \"Topic5\", \"Topic5\", \"Topic5\", \"Topic5\", \"Topic5\", \"Topic5\", \"Topic5\", \"Topic5\", \"Topic5\", \"Topic5\", \"Topic5\", \"Topic6\", \"Topic6\", \"Topic6\", \"Topic6\", \"Topic6\", \"Topic6\", \"Topic6\", \"Topic6\", \"Topic6\", \"Topic6\", \"Topic6\", \"Topic6\", \"Topic6\", \"Topic6\", \"Topic6\", \"Topic6\", \"Topic6\", \"Topic6\", \"Topic6\", \"Topic6\", \"Topic6\", \"Topic6\", \"Topic6\", \"Topic6\", \"Topic6\", \"Topic6\", \"Topic6\", \"Topic6\", \"Topic6\", \"Topic6\", \"Topic6\", \"Topic6\", \"Topic6\", \"Topic6\", \"Topic6\", \"Topic6\", \"Topic6\", \"Topic6\", \"Topic6\", \"Topic6\", \"Topic6\", \"Topic6\", \"Topic6\", \"Topic6\", \"Topic6\", \"Topic6\", \"Topic6\", \"Topic6\", \"Topic6\", \"Topic6\", \"Topic6\", \"Topic6\", \"Topic6\", \"Topic6\", \"Topic6\", \"Topic6\", \"Topic6\", \"Topic6\", \"Topic6\", \"Topic6\", \"Topic6\", \"Topic6\", \"Topic6\", \"Topic6\", \"Topic6\", \"Topic6\", \"Topic6\", \"Topic6\", \"Topic6\", \"Topic6\", \"Topic6\", \"Topic6\", \"Topic6\", \"Topic6\", \"Topic6\", \"Topic6\", \"Topic7\", \"Topic7\", \"Topic7\", \"Topic7\", \"Topic7\", \"Topic7\", \"Topic7\", \"Topic7\", \"Topic7\", \"Topic7\", \"Topic7\", \"Topic7\", \"Topic7\", \"Topic7\", \"Topic7\", \"Topic7\", \"Topic7\", \"Topic7\", \"Topic7\", \"Topic7\", \"Topic7\", \"Topic7\", \"Topic7\", \"Topic7\", \"Topic7\", \"Topic7\", \"Topic7\", \"Topic7\", \"Topic7\", \"Topic7\", \"Topic7\", \"Topic7\", \"Topic7\", \"Topic7\", \"Topic7\", \"Topic7\", \"Topic7\", \"Topic7\", \"Topic7\", \"Topic7\", \"Topic7\", \"Topic7\", \"Topic7\", \"Topic7\", \"Topic7\", \"Topic7\", \"Topic7\", \"Topic7\", \"Topic7\", \"Topic7\", \"Topic7\", \"Topic7\", \"Topic7\", \"Topic7\", \"Topic7\", \"Topic7\", \"Topic7\", \"Topic7\", \"Topic7\", \"Topic7\", \"Topic7\", \"Topic7\", \"Topic7\", \"Topic7\", \"Topic7\", \"Topic7\", \"Topic7\", \"Topic7\", \"Topic7\", \"Topic7\", \"Topic7\", \"Topic7\", \"Topic7\", \"Topic7\", \"Topic7\", \"Topic7\", \"Topic7\", \"Topic7\", \"Topic7\", \"Topic7\", \"Topic7\", \"Topic7\", \"Topic7\", \"Topic8\", \"Topic8\", \"Topic8\", \"Topic8\", \"Topic8\", \"Topic8\", \"Topic8\", \"Topic8\", \"Topic8\", \"Topic8\", \"Topic8\", \"Topic8\", \"Topic8\", \"Topic8\", \"Topic8\", \"Topic8\", \"Topic8\", \"Topic8\", \"Topic8\", \"Topic8\", \"Topic8\", \"Topic8\", \"Topic8\", \"Topic8\", \"Topic8\", \"Topic8\", \"Topic8\", \"Topic8\", \"Topic8\", \"Topic8\", \"Topic8\", \"Topic8\", \"Topic8\", \"Topic8\", \"Topic8\", \"Topic8\", \"Topic8\", \"Topic8\", \"Topic8\", \"Topic8\", \"Topic8\", \"Topic8\", \"Topic8\", \"Topic8\", \"Topic8\", \"Topic8\", \"Topic8\", \"Topic8\", \"Topic8\", \"Topic8\", \"Topic8\", \"Topic8\", \"Topic8\", \"Topic8\", \"Topic8\", \"Topic8\", \"Topic8\", \"Topic8\", \"Topic8\", \"Topic8\", \"Topic8\", \"Topic8\", \"Topic8\", \"Topic8\", \"Topic8\", \"Topic8\", \"Topic8\", \"Topic8\", \"Topic8\", \"Topic8\", \"Topic8\", \"Topic8\", \"Topic8\", \"Topic8\", \"Topic8\", \"Topic8\", \"Topic8\", \"Topic8\", \"Topic8\", \"Topic8\", \"Topic8\", \"Topic8\", \"Topic8\", \"Topic8\", \"Topic8\", \"Topic8\", \"Topic8\", \"Topic8\", \"Topic8\", \"Topic9\", \"Topic9\", \"Topic9\", \"Topic9\", \"Topic9\", \"Topic9\", \"Topic9\", \"Topic9\", \"Topic9\", \"Topic9\", \"Topic9\", \"Topic9\", \"Topic9\", \"Topic9\", \"Topic9\", \"Topic9\", \"Topic9\", \"Topic9\", \"Topic9\", \"Topic9\", \"Topic9\", \"Topic9\", \"Topic9\", \"Topic9\", \"Topic9\", \"Topic9\", \"Topic9\", \"Topic9\", \"Topic9\", \"Topic9\", \"Topic9\", \"Topic9\", \"Topic9\", \"Topic9\", \"Topic9\", \"Topic9\", \"Topic9\", \"Topic9\", \"Topic9\", \"Topic9\", \"Topic9\", \"Topic9\", \"Topic9\", \"Topic9\", \"Topic9\", \"Topic9\", \"Topic9\", \"Topic9\", \"Topic9\", \"Topic9\", \"Topic9\", \"Topic9\", \"Topic9\", \"Topic9\", \"Topic9\", \"Topic9\", \"Topic9\", \"Topic9\", \"Topic9\", \"Topic9\", \"Topic9\", \"Topic9\", \"Topic9\", \"Topic9\", \"Topic9\", \"Topic9\", \"Topic9\", \"Topic9\", \"Topic9\", \"Topic9\", \"Topic9\", \"Topic9\", \"Topic9\", \"Topic9\", \"Topic9\", \"Topic9\", \"Topic9\", \"Topic9\", \"Topic9\", \"Topic9\", \"Topic10\", \"Topic10\", \"Topic10\", \"Topic10\", \"Topic10\", \"Topic10\", \"Topic10\", \"Topic10\", \"Topic10\", \"Topic10\", \"Topic10\", \"Topic10\", \"Topic10\", \"Topic10\", \"Topic10\", \"Topic10\", \"Topic10\", \"Topic10\", \"Topic10\", \"Topic10\", \"Topic10\", \"Topic10\", \"Topic10\", \"Topic10\", \"Topic10\", \"Topic10\", \"Topic10\", \"Topic10\", \"Topic10\", \"Topic10\", \"Topic10\", \"Topic10\", \"Topic10\", \"Topic10\", \"Topic10\", \"Topic10\", \"Topic10\", \"Topic10\", \"Topic10\", \"Topic10\", \"Topic10\", \"Topic10\", \"Topic10\", \"Topic10\", \"Topic10\", \"Topic10\", \"Topic10\", \"Topic10\", \"Topic10\", \"Topic10\", \"Topic10\", \"Topic10\", \"Topic10\", \"Topic10\", \"Topic10\", \"Topic10\", \"Topic10\", \"Topic10\", \"Topic10\", \"Topic10\", \"Topic10\", \"Topic10\", \"Topic10\", \"Topic10\", \"Topic10\", \"Topic10\"], \"logprob\": [30.0, 29.0, 28.0, 27.0, 26.0, 25.0, 24.0, 23.0, 22.0, 21.0, 20.0, 19.0, 18.0, 17.0, 16.0, 15.0, 14.0, 13.0, 12.0, 11.0, 10.0, 9.0, 8.0, 7.0, 6.0, 5.0, 4.0, 3.0, 2.0, 1.0, -8.1852, -8.128, -8.2477, -8.4351, -8.3131, -7.7056, -8.7958, -8.9098, -8.7972, -8.7021, -9.0084, -9.0378, -9.0585, -9.1068, -9.1227, -9.1365, -9.1261, -9.1521, -9.1798, -9.06, -9.1884, -9.1456, -9.2439, -9.2349, -9.2666, -9.2726, -9.1785, -9.2846, -9.3356, -9.0647, -8.617, -7.7932, -7.275, -8.0182, -5.5922, -6.2338, -7.2512, -8.1371, -8.2047, -8.4997, -6.2403, -5.8155, -8.1528, -4.9287, -5.767, -6.729, -4.7032, -5.5135, -5.3229, -7.9664, -5.8236, -6.0134, -6.9537, -6.2494, -5.1741, -6.4797, -5.2588, -5.2992, -4.6198, -3.7416, -5.4622, -4.9707, -6.0857, -5.5109, -5.1588, -4.8697, -4.6437, -5.2241, -4.9814, -4.4143, -5.3829, -5.0628, -4.643, -5.6806, -4.9718, -4.6887, -4.2495, -4.4842, -4.8631, -4.8823, -5.1677, -5.1725, -5.1524, -5.0581, -5.1691, -5.3462, -5.1917, -5.2921, -5.3004, -7.8189, -8.5459, -8.3606, -8.5487, -8.3356, -8.6816, -8.5103, -8.8268, -8.83, -8.9455, -7.5579, -8.953, -8.9561, -8.9637, -8.8244, -8.9803, -9.01, -8.5333, -9.0846, -9.1463, -9.1565, -9.1299, -9.1237, -9.0311, -8.515, -9.2199, -9.1618, -9.268, -9.269, -9.3158, -7.6583, -7.7806, -6.8761, -7.3972, -8.7145, -8.2508, -8.5611, -6.3305, -8.4247, -6.944, -6.45, -7.2011, -7.3059, -6.6175, -7.6475, -6.649, -8.5329, -5.2826, -5.7258, -5.2944, -6.1182, -3.9882, -5.7876, -4.3081, -6.392, -5.6415, -6.5773, -3.5732, -7.3717, -5.7553, -5.1071, -6.3162, -6.488, -5.696, -5.2858, -6.7475, -4.7494, -5.817, -4.9682, -4.7019, -4.9237, -5.3945, -5.4101, -4.6873, -4.3984, -5.2058, -4.5343, -4.8712, -5.3759, -5.4755, -5.0023, -5.2686, -5.3252, -4.9598, -5.017, -5.275, -5.2563, -5.2102, -5.2728, -5.5129, -6.6317, -7.8029, -7.8392, -7.885, -8.2608, -6.2624, -8.3805, -7.9239, -8.5162, -6.0199, -8.5798, -8.6159, -8.7174, -8.7549, -8.7588, -8.7587, -8.8094, -8.3346, -8.8258, -8.6619, -8.899, -8.9079, -8.9003, -8.9293, -8.9541, -8.9673, -8.9811, -8.8486, -9.0179, -9.034, -4.9469, -4.3568, -7.0781, -6.4868, -7.6701, -7.5607, -6.5267, -3.32, -5.5302, -5.5591, -4.7252, -6.6802, -5.2839, -7.5953, -8.3137, -4.8603, -5.5319, -6.5346, -5.3972, -7.8609, -5.6416, -5.6266, -4.2989, -5.6927, -4.971, -5.3567, -4.2428, -4.8785, -5.2539, -6.1942, -4.4465, -4.3336, -4.3419, -4.1353, -3.8971, -4.3811, -4.336, -5.9607, -4.2692, -4.3711, -5.2747, -4.8087, -5.0316, -4.9492, -4.6576, -4.963, -5.0885, -5.1275, -5.0487, -5.2579, -5.2254, -5.2542, -5.2458, -5.428, -5.1377, -7.0085, -7.0779, -7.157, -6.7179, -7.214, -6.9726, -7.3491, -7.2501, -7.5418, -7.5595, -7.54, -7.6267, -7.4206, -7.6742, -7.7594, -7.5589, -7.6045, -7.7411, -7.7968, -7.74, -7.7943, -7.7945, -7.8613, -7.9202, -7.9046, -7.9315, -7.8633, -7.9277, -6.0668, -6.8159, -7.1645, -6.9008, -5.6395, -5.5845, -4.5608, -4.3496, -7.0508, -5.4034, -6.6525, -3.868, -6.594, -7.0047, -6.2103, -4.938, -7.2908, -4.9622, -6.2315, -6.5326, -4.9186, -5.8668, -6.4315, -4.9955, -4.8066, -5.1789, -5.508, -5.5777, -5.8184, -5.5808, -4.4053, -5.022, -5.1865, -5.923, -4.6576, -4.7274, -5.0748, -4.9731, -4.8012, -4.7482, -5.0606, -5.0207, -5.2926, -5.1275, -5.0753, -4.9176, -5.1432, -5.262, -5.4027, -5.3836, -7.2699, -7.7921, -7.5561, -7.9104, -8.0538, -8.1256, -8.1572, -8.2777, -8.3142, -8.3549, -8.4102, -8.4483, -8.089, -7.84, -8.4973, -8.3993, -8.5642, -8.5653, -8.5493, -8.6061, -8.5515, -8.6482, -8.1563, -8.4839, -8.6573, -8.7143, -8.2175, -8.7305, -8.7732, -8.3037, -6.0945, -7.3296, -7.4863, -7.5929, -7.8319, -6.1504, -5.9727, -6.6901, -7.1143, -4.9429, -4.9622, -7.427, -5.1241, -5.2271, -5.2981, -6.9654, -6.3048, -6.1629, -6.8504, -6.069, -6.993, -6.6167, -6.0754, -6.3758, -6.4601, -6.1031, -6.0385, -5.8826, -5.8929, -5.307, -5.369, -4.9554, -3.9511, -5.6809, -3.9396, -5.7908, -5.6459, -5.0801, -4.9009, -5.779, -4.4206, -5.0829, -4.4231, -4.8007, -4.4973, -5.318, -4.9712, -4.6313, -4.9225, -5.4803, -5.0776, -5.5308, -5.2938, -4.6041, -5.1416, -4.8182, -5.1761, -5.0963, -5.3127, -5.3037, -5.3264, -5.3192, -4.0466, -6.6665, -7.6355, -8.0444, -6.1129, -7.4159, -8.114, -5.5469, -8.4427, -8.4441, -7.3466, -8.3284, -8.5799, -8.6047, -8.6541, -8.0474, -8.6826, -8.7589, -8.6032, -7.2231, -8.7866, -8.5999, -8.8196, -8.8996, -8.9111, -8.9413, -8.7066, -9.0291, -9.0166, -9.0495, -6.9816, -4.0297, -5.7596, -7.0253, -5.397, -5.5891, -7.6254, -6.1039, -7.2761, -7.1286, -6.642, -4.685, -3.6239, -6.5681, -7.1733, -6.1932, -4.6815, -4.969, -7.2386, -5.1942, -4.2805, -5.1729, -5.2312, -5.7064, -4.0169, -4.4034, -5.0655, -5.7188, -4.3405, -4.5782, -5.6675, -4.1429, -4.5084, -4.3936, -5.0481, -4.9549, -4.2787, -5.209, -4.816, -4.8322, -5.0927, -4.7641, -4.925, -5.1373, -5.144, -5.2137, -7.0438, -7.1362, -7.3944, -7.4458, -7.4594, -7.5526, -7.3995, -7.8313, -7.8332, -7.9223, -7.8562, -8.1612, -8.1986, -8.2093, -8.2787, -7.636, -8.3827, -8.495, -8.5104, -8.4506, -8.5518, -8.5287, -8.579, -7.9179, -8.5862, -8.6131, -8.6173, -8.6149, -8.6004, -8.6161, -7.4492, -6.8437, -5.4473, -7.4877, -5.8266, -8.4088, -5.8996, -7.7251, -5.1399, -6.6963, -5.8199, -3.6719, -5.3951, -4.5762, -6.2553, -5.1387, -4.1511, -5.7553, -4.9525, -4.5253, -4.1742, -6.0539, -5.8532, -3.9286, -6.75, -4.9705, -5.8696, -4.387, -3.7082, -6.0493, -6.3478, -4.5783, -5.4581, -4.405, -4.4698, -5.0912, -5.6797, -5.5132, -4.5618, -4.5886, -5.1508, -4.5421, -5.0378, -5.2714, -4.916, -5.1556, -4.9589, -5.004, -5.1771, -5.0677, -5.1476, -5.2177, -5.2194, -7.5727, -7.8514, -7.9018, -7.919, -7.8101, -8.0254, -8.0804, -8.0061, -8.0657, -8.195, -8.1465, -8.2412, -8.3239, -8.3056, -8.2362, -8.3421, -8.3559, -8.3748, -8.1157, -8.3926, -8.4136, -8.4307, -8.4437, -8.4528, -8.4355, -8.4567, -7.7694, -8.1577, -8.392, -8.4638, -5.1261, -7.8801, -7.8442, -7.6216, -5.1863, -7.9061, -7.5862, -7.9783, -7.3034, -7.8207, -7.6104, -7.9843, -5.9791, -7.1434, -4.3484, -5.3537, -6.1594, -5.9883, -6.6572, -7.3316, -5.8463, -7.1027, -4.3287, -5.2758, -4.525, -6.6081, -5.5167, -4.9606, -6.057, -6.4887, -6.3503, -5.3154, -5.3913, -4.5255, -4.567, -5.1664, -6.6194, -5.5135, -4.9918, -5.7018, -5.4229, -6.2855, -5.2388, -5.1802, -4.8038, -5.296, -5.8854, -5.3496, -4.5025, -5.5825, -5.6679, -5.0952, -4.9789, -5.4315, -5.1938, -5.4902, -5.4764, -5.4357, -5.5117, -6.2349, -6.7501, -6.0098, -6.7706, -7.2682, -7.2707, -7.4275, -7.4598, -7.549, -7.5691, -7.6555, -7.7455, -7.7475, -7.7868, -7.8288, -7.8501, -7.8303, -7.4248, -6.483, -7.9452, -7.9069, -7.9665, -7.969, -8.0292, -8.0329, -7.5989, -8.051, -8.0616, -8.0545, -8.0997, -7.3126, -6.9398, -6.5337, -7.6885, -7.1934, -5.8624, -7.5573, -7.4142, -5.7657, -5.5007, -6.8336, -6.308, -7.0822, -5.5253, -5.28, -5.5865, -4.4498, -5.8338, -5.3332, -5.2469, -5.4137, -6.0559, -4.9657, -4.3526, -4.683, -5.1887, -4.5964, -5.2141, -4.2194, -4.7417, -5.0353, -5.1798, -5.3042, -5.0572, -5.5979, -4.885, -5.4782, -5.0684, -4.7035, -5.2829, -4.7746, -5.2346, -4.8309, -4.9605, -4.9872, -4.8676, -5.1622, -4.8579, -5.1989, -5.239, -5.5933, -5.8399, -5.8949, -5.7506, -5.4501, -6.1644, -5.7482, -6.5428, -6.5934, -6.6904, -6.3749, -6.6522, -4.6219, -5.3331, -7.1282, -7.1348, -6.9288, -7.205, -7.2097, -7.2489, -7.254, -5.4803, -6.5285, -7.2803, -7.3023, -7.2283, -7.2239, -7.3577, -7.3632, -7.4144, -5.3997, -4.0643, -4.3499, -5.9165, -2.9516, -5.6922, -4.0088, -5.2818, -6.1883, -4.7693, -5.484, -3.4992, -5.5673, -5.3036, -3.1861, -4.9088, -4.5842, -5.0861, -5.8059, -4.9022, -5.3915, -5.3409, -4.9481, -4.0992, -4.3116, -5.2578, -5.0341, -4.8469, -5.1867, -5.0402, -4.8849, -5.0721, -5.1014, -5.2915, -5.3301, -5.3346], \"loglift\": [30.0, 29.0, 28.0, 27.0, 26.0, 25.0, 24.0, 23.0, 22.0, 21.0, 20.0, 19.0, 18.0, 17.0, 16.0, 15.0, 14.0, 13.0, 12.0, 11.0, 10.0, 9.0, 8.0, 7.0, 6.0, 5.0, 4.0, 3.0, 2.0, 1.0, 1.6737, 1.6737, 1.6717, 1.671, 1.6709, 1.6673, 1.6648, 1.6636, 1.6636, 1.6624, 1.6616, 1.6605, 1.6605, 1.6589, 1.6589, 1.6585, 1.6582, 1.658, 1.6575, 1.6575, 1.6565, 1.6561, 1.6558, 1.6557, 1.6552, 1.6551, 1.6541, 1.6529, 1.6529, 1.6529, 1.6503, 1.6405, 1.625, 1.6308, 1.5662, 1.5832, 1.6122, 1.6283, 1.6268, 1.6328, 1.5343, 1.4963, 1.6089, 1.4375, 1.4753, 1.5284, 1.3949, 1.4239, 1.4044, 1.5835, 1.4093, 1.4137, 1.4871, 1.4142, 1.2915, 1.3992, 1.2248, 1.2199, 1.1252, 0.9475, 1.1664, 1.0736, 1.27, 1.1529, 1.0536, 0.988, 0.9099, 1.046, 0.9588, 0.7454, 1.0134, 0.9047, 0.6586, 1.0819, 0.6549, 0.4796, 0.1531, 0.3118, 0.4899, 0.4216, 0.6178, 0.6008, 0.5426, 0.3232, 0.2703, 0.6749, -0.2236, 0.2702, 0.1791, 1.7042, 1.699, 1.6987, 1.6983, 1.6977, 1.6968, 1.6966, 1.6945, 1.6943, 1.6921, 1.6918, 1.6918, 1.6917, 1.6915, 1.6914, 1.6906, 1.6906, 1.6898, 1.6889, 1.6874, 1.6868, 1.6864, 1.6862, 1.6862, 1.6854, 1.6849, 1.6846, 1.6843, 1.6833, 1.6829, 1.6823, 1.6794, 1.6689, 1.6621, 1.6761, 1.6638, 1.6698, 1.5986, 1.6621, 1.5992, 1.5711, 1.6011, 1.5961, 1.525, 1.5963, 1.5041, 1.6577, 1.369, 1.3853, 1.3405, 1.4119, 1.1715, 1.3554, 1.1312, 1.4087, 1.303, 1.4122, 0.8294, 1.4988, 1.2092, 1.0668, 1.2874, 1.3174, 1.1388, 1.0283, 1.3667, 0.7301, 1.0622, 0.7768, 0.6795, 0.7031, 0.8578, 0.8521, 0.5117, 0.2907, 0.6546, 0.2617, 0.4304, 0.738, 0.6921, 0.3016, 0.4648, 0.5174, 0.1193, -0.0488, 0.2364, 0.0967, -0.0419, -0.1288, 0.5111, 2.1046, 2.0975, 2.0971, 2.0961, 2.0914, 2.0904, 2.0894, 2.087, 2.0868, 2.0866, 2.0854, 2.0846, 2.0822, 2.0812, 2.0811, 2.081, 2.0797, 2.0797, 2.0792, 2.0777, 2.0771, 2.0769, 2.0765, 2.0762, 2.0754, 2.075, 2.0744, 2.0732, 2.0732, 2.0728, 2.0642, 2.0529, 2.0699, 2.0636, 2.0669, 2.0638, 2.0499, 1.9822, 2.0047, 2.0024, 1.9683, 2.0217, 1.9708, 2.0412, 2.0631, 1.9167, 1.9439, 1.9865, 1.9151, 2.0438, 1.902, 1.9004, 1.7969, 1.8961, 1.8273, 1.839, 1.6526, 1.7262, 1.6979, 1.8323, 1.5156, 1.4812, 1.3748, 1.295, 1.2027, 1.2828, 0.9644, 1.768, 0.885, 0.8671, 1.3419, 0.9213, 1.123, 0.9527, 0.4215, 0.8108, 0.5825, 0.5573, 0.2546, 0.7059, -0.2572, 0.2076, -0.8431, 2.1352, 2.1341, 2.1334, 2.1329, 2.1326, 2.1323, 2.1322, 2.1319, 2.131, 2.1304, 2.1298, 2.1298, 2.1294, 2.1292, 2.1288, 2.1288, 2.1282, 2.128, 2.1277, 2.1276, 2.1276, 2.1274, 2.1274, 2.127, 2.127, 2.1265, 2.1263, 2.1263, 2.1262, 2.1255, 2.1252, 2.1197, 2.123, 2.1179, 2.0986, 2.094, 2.0635, 2.0208, 2.0967, 2.021, 2.0378, 1.7683, 1.9985, 2.0436, 1.9172, 1.6155, 2.0758, 1.5713, 1.8446, 1.906, 1.4939, 1.691, 1.8485, 1.3158, 1.198, 1.3137, 1.4444, 1.4682, 1.5685, 1.4342, 0.7489, 1.0626, 1.1496, 1.5033, 0.5414, 0.5759, 0.8274, 0.6839, 0.5026, 0.3958, 0.6242, 0.4907, 0.6672, 0.352, 0.0038, -0.5149, -0.3471, -0.1622, 0.4121, -0.2153, 2.3282, 2.323, 2.3209, 2.3201, 2.3193, 2.3183, 2.3176, 2.3155, 2.3142, 2.3133, 2.3126, 2.3117, 2.3112, 2.3107, 2.3105, 2.309, 2.3088, 2.3088, 2.3085, 2.3077, 2.3069, 2.3065, 2.3062, 2.3056, 2.3054, 2.3042, 2.3038, 2.3037, 2.3026, 2.3023, 2.2791, 2.2705, 2.2648, 2.269, 2.2745, 2.2038, 2.1815, 2.2008, 2.2208, 2.0647, 2.0547, 2.2347, 2.0336, 2.0375, 2.0264, 2.1836, 2.1035, 2.0808, 2.1541, 2.0578, 2.1414, 2.0738, 1.9745, 2.0263, 2.0411, 1.9752, 1.942, 1.9025, 1.8748, 1.7253, 1.7112, 1.5778, 1.2479, 1.7645, 1.2146, 1.7817, 1.7037, 1.4827, 1.4104, 1.6959, 0.8827, 1.2115, 0.6767, 0.9293, 0.5818, 1.2787, 0.9243, 0.5127, 0.7943, 1.3836, 0.8497, 1.4178, 1.0475, -0.2014, 0.6322, -0.0222, 0.5573, 0.334, 0.7545, 0.656, 0.4884, -0.1509, 2.3677, 2.3549, 2.352, 2.3518, 2.3516, 2.3514, 2.3506, 2.3474, 2.3436, 2.3435, 2.343, 2.3422, 2.34, 2.3388, 2.3379, 2.3376, 2.337, 2.3345, 2.3345, 2.3345, 2.3335, 2.3331, 2.3324, 2.3294, 2.3286, 2.3278, 2.3266, 2.3239, 2.3235, 2.3232, 2.3175, 2.2303, 2.2403, 2.2736, 2.2188, 2.2063, 2.2821, 2.1831, 2.2492, 2.2362, 2.1241, 1.8632, 1.6765, 2.0655, 2.1323, 1.98, 1.7295, 1.665, 2.1093, 1.6122, 1.3834, 1.5982, 1.5954, 1.72, 1.2214, 1.2676, 1.4924, 1.6945, 1.1212, 1.2173, 1.6344, 0.8252, 0.8446, 0.4025, 0.914, 0.8184, 0.124, 0.9586, 0.328, 0.2469, 0.687, -0.075, 0.1749, 0.2441, 0.1576, 0.5198, 2.6771, 2.6746, 2.6738, 2.6731, 2.673, 2.6717, 2.6717, 2.6673, 2.6673, 2.6655, 2.6643, 2.6602, 2.6593, 2.6582, 2.6571, 2.6559, 2.6539, 2.6503, 2.6497, 2.649, 2.6483, 2.6482, 2.6473, 2.6465, 2.6465, 2.646, 2.6458, 2.6457, 2.6454, 2.6449, 2.6331, 2.6266, 2.5911, 2.6303, 2.5451, 2.6363, 2.4552, 2.5919, 2.3924, 2.5073, 2.375, 2.1236, 2.2859, 2.1672, 2.3803, 2.2007, 2.0465, 2.2883, 2.1353, 1.9968, 1.9104, 2.2897, 2.2184, 1.7284, 2.3925, 1.8561, 2.0743, 1.5151, 1.26, 2.122, 2.2287, 1.4263, 1.8115, 1.0567, 1.0416, 1.4014, 1.7553, 1.5674, 0.742, 0.7147, 1.2494, 0.5577, 1.0294, 1.2315, 0.228, 0.7463, 0.2793, 0.2964, 0.5305, 0.0114, 0.0208, 0.5678, 0.4757, 2.818, 2.8129, 2.8115, 2.8111, 2.81, 2.8089, 2.8075, 2.8049, 2.8044, 2.8043, 2.8036, 2.8021, 2.8001, 2.8, 2.7996, 2.7995, 2.7988, 2.7985, 2.7982, 2.7978, 2.797, 2.7964, 2.7957, 2.7957, 2.7957, 2.7955, 2.7955, 2.7947, 2.7944, 2.794, 2.7839, 2.7907, 2.7899, 2.7856, 2.7113, 2.7831, 2.7446, 2.7682, 2.7132, 2.7382, 2.7051, 2.7526, 2.4547, 2.6282, 2.1695, 2.3325, 2.3772, 2.3099, 2.421, 2.5772, 2.1524, 2.5069, 1.6115, 1.8761, 1.4991, 2.28, 1.7965, 1.5055, 1.9778, 2.1657, 2.0987, 1.5759, 1.563, 1.1012, 1.1178, 1.4359, 2.1939, 1.5835, 1.2505, 1.6657, 1.4485, 1.9389, 1.0932, 0.9937, 0.6356, 1.071, 1.5861, 0.9645, -0.0998, 1.191, 1.2938, 0.2064, -0.1829, 0.771, -0.0255, 0.5309, 0.3595, -0.4676, 0.1834, 2.9664, 2.9652, 2.9652, 2.965, 2.9596, 2.9592, 2.9572, 2.9567, 2.955, 2.9547, 2.953, 2.9512, 2.9511, 2.9503, 2.9492, 2.9488, 2.9484, 2.9482, 2.9477, 2.9463, 2.9461, 2.9457, 2.9455, 2.944, 2.9435, 2.9433, 2.943, 2.9429, 2.9426, 2.9415, 2.9408, 2.9267, 2.8696, 2.9206, 2.8717, 2.7024, 2.8864, 2.8649, 2.5989, 2.4912, 2.7403, 2.6215, 2.7877, 2.4333, 2.3623, 2.3847, 2.0532, 2.4161, 2.2678, 2.2268, 2.1918, 2.4036, 1.9958, 1.6858, 1.7831, 1.9949, 1.6536, 1.9345, 1.3428, 1.5945, 1.7415, 1.7518, 1.8252, 1.5345, 1.9857, 1.3636, 1.8571, 1.4159, 0.9915, 1.6101, 0.9102, 1.5302, 0.9429, 0.9416, 0.9313, 0.5626, 1.08, -0.1688, 0.8251, -0.0706, 3.6378, 3.637, 3.6362, 3.6358, 3.6354, 3.6344, 3.6324, 3.6291, 3.629, 3.6281, 3.6263, 3.6254, 3.6244, 3.6209, 3.6196, 3.6193, 3.6186, 3.6177, 3.6175, 3.6166, 3.6165, 3.6161, 3.6157, 3.6153, 3.6152, 3.6151, 3.6137, 3.6135, 3.6134, 3.6118, 3.5647, 3.5131, 3.5187, 3.4841, 3.1133, 3.3832, 3.1207, 3.296, 3.4438, 3.1575, 3.2856, 2.8539, 3.2472, 3.1472, 2.2442, 2.9186, 2.6986, 2.9225, 3.2406, 2.7402, 2.9074, 2.8638, 2.4823, 1.463, 1.3835, 2.6825, 2.1493, 0.9264, 1.9196, 1.2084, -0.1959, 0.0719, -0.3053, 0.6989, 0.2236, -0.0963]}, \"token.table\": {\"Topic\": [1, 3, 4, 5, 7, 8, 9, 10, 7, 7, 6, 3, 7, 1, 1, 1, 1, 1, 3, 3, 7, 3, 3, 8, 5, 4, 5, 5, 9, 5, 5, 7, 7, 2, 8, 9, 1, 2, 3, 4, 5, 6, 7, 8, 9, 10, 10, 1, 2, 3, 4, 5, 6, 7, 8, 9, 10, 3, 2, 1, 3, 4, 5, 7, 8, 9, 10, 4, 8, 9, 1, 1, 2, 7, 8, 9, 10, 6, 1, 2, 3, 4, 5, 6, 7, 8, 9, 10, 1, 2, 3, 4, 5, 6, 7, 8, 9, 10, 10, 1, 2, 3, 4, 5, 6, 7, 8, 9, 10, 1, 2, 5, 8, 3, 4, 7, 9, 10, 3, 6, 1, 2, 4, 7, 8, 9, 4, 8, 1, 2, 6, 7, 8, 1, 2, 4, 5, 6, 7, 8, 9, 2, 3, 4, 5, 3, 4, 5, 9, 1, 2, 3, 4, 5, 6, 7, 8, 9, 10, 1, 2, 3, 4, 6, 7, 8, 9, 10, 2, 4, 7, 1, 2, 3, 4, 5, 6, 7, 8, 9, 10, 1, 2, 3, 4, 5, 6, 7, 8, 9, 10, 1, 3, 4, 5, 8, 3, 4, 5, 6, 8, 6, 5, 8, 1, 2, 3, 4, 5, 6, 8, 1, 2, 3, 4, 5, 6, 7, 8, 9, 10, 1, 2, 6, 7, 8, 9, 1, 2, 3, 4, 5, 6, 7, 8, 9, 10, 1, 2, 3, 4, 5, 6, 7, 8, 9, 10, 9, 3, 5, 8, 1, 2, 3, 4, 5, 7, 8, 5, 8, 1, 2, 3, 4, 5, 6, 7, 8, 2, 1, 2, 3, 4, 5, 6, 7, 8, 9, 10, 7, 1, 4, 7, 8, 1, 2, 3, 4, 5, 6, 7, 8, 9, 10, 5, 2, 3, 4, 5, 6, 7, 8, 2, 3, 4, 5, 6, 7, 8, 9, 1, 2, 3, 4, 5, 6, 7, 8, 9, 1, 2, 3, 4, 5, 6, 7, 8, 9, 10, 1, 2, 3, 4, 5, 6, 7, 8, 9, 10, 1, 2, 3, 4, 5, 7, 8, 1, 2, 3, 4, 5, 6, 7, 8, 9, 10, 4, 2, 9, 1, 2, 4, 5, 8, 1, 1, 3, 4, 5, 6, 7, 8, 3, 4, 5, 6, 3, 6, 3, 3, 5, 1, 2, 3, 4, 5, 6, 7, 8, 9, 10, 7, 1, 2, 3, 4, 5, 6, 7, 8, 9, 10, 1, 2, 3, 4, 5, 6, 7, 8, 9, 10, 4, 1, 2, 4, 6, 8, 1, 2, 8, 1, 2, 4, 5, 8, 3, 4, 5, 6, 8, 4, 5, 6, 1, 7, 1, 2, 3, 4, 5, 6, 7, 8, 9, 10, 1, 2, 3, 4, 5, 6, 7, 8, 9, 10, 1, 2, 1, 7, 8, 1, 2, 3, 4, 5, 6, 7, 8, 9, 10, 3, 4, 5, 3, 4, 5, 8, 3, 4, 5, 5, 1, 2, 4, 5, 6, 7, 8, 9, 10, 1, 1, 2, 3, 4, 5, 6, 7, 8, 9, 10, 8, 1, 2, 5, 6, 7, 9, 1, 2, 4, 5, 6, 7, 8, 9, 1, 2, 3, 4, 5, 6, 7, 8, 9, 10, 3, 4, 5, 1, 2, 3, 4, 5, 6, 7, 8, 9, 10, 1, 4, 5, 7, 8, 9, 10, 1, 2, 3, 4, 5, 8, 1, 8, 9, 1, 2, 3, 4, 5, 6, 7, 8, 9, 10, 2, 3, 4, 5, 6, 7, 8, 2, 3, 4, 5, 6, 7, 8, 9, 1, 2, 7, 7, 1, 2, 3, 4, 5, 6, 7, 8, 9, 10, 1, 2, 4, 5, 6, 7, 8, 9, 5, 6, 1, 2, 3, 4, 5, 6, 7, 8, 9, 10, 3, 8, 1, 2, 3, 4, 5, 6, 7, 8, 9, 1, 3, 5, 6, 7, 1, 2, 5, 7, 1, 1, 1, 2, 3, 4, 5, 6, 7, 8, 9, 10, 1, 1, 2, 3, 4, 5, 6, 7, 8, 9, 10, 9, 1, 2, 3, 4, 5, 6, 7, 8, 9, 10, 8, 5, 3, 10, 4, 6, 1, 2, 8, 2, 1, 7, 1, 2, 3, 4, 5, 6, 7, 8, 9, 10, 7, 4, 4, 1, 1, 5, 2, 1, 2, 2, 1, 2, 3, 4, 5, 6, 7, 8, 9, 10, 8, 1, 3, 4, 5, 6, 8, 10, 3, 4, 5, 7, 4, 5, 1, 2, 3, 4, 5, 6, 7, 8, 9, 10, 1, 1, 2, 3, 4, 5, 6, 7, 8, 9, 7, 1, 2, 3, 4, 5, 6, 7, 8, 9, 2, 8, 3, 7, 9, 6, 6, 8, 3, 4, 7, 9, 10, 3, 5, 1, 2, 3, 4, 5, 6, 7, 8, 9, 10, 2, 10, 5, 7, 2, 2, 1, 2, 3, 4, 5, 6, 7, 8, 9, 10, 1, 2, 3, 4, 5, 6, 7, 8, 9, 10, 8, 3, 4, 5, 6, 7, 1, 2, 4, 6, 7, 9, 1, 2, 3, 4, 5, 6, 7, 8, 9, 10, 2, 3, 1, 2, 3, 4, 5, 6, 7, 8, 9, 10, 1, 2, 3, 4, 5, 6, 7, 8, 9, 10, 1, 2, 4, 5, 6, 8, 9, 1, 2, 3, 4, 5, 6, 7, 8, 9, 10, 4, 1, 2, 3, 5, 6, 9, 1, 2, 4, 5, 6, 7, 8, 9, 10, 1, 2, 3, 4, 5, 6, 7, 8, 9, 10, 10, 3, 6, 2, 3, 4, 5, 8, 1, 2, 3, 4, 5, 6, 8, 5, 1, 2, 3, 4, 5, 6, 7, 8, 9, 10, 8, 2, 1, 4, 8, 9, 5, 8, 1, 2, 3, 4, 5, 6, 7, 8, 9, 10, 2, 1, 2, 3, 4, 5, 6, 7, 8, 9, 10, 1, 2, 4, 5, 6, 7, 8, 9, 10, 3, 3, 5, 1, 2, 3, 4, 5, 6, 7, 8, 9, 10, 2, 1, 2, 3, 4, 5, 6, 7, 8, 9, 10, 1, 2, 3, 4, 5, 6, 7, 8, 9, 10, 1, 2, 3, 4, 5, 6, 7, 8, 9, 10, 1, 2, 3, 4, 5, 6, 7, 8, 9, 10, 4, 1, 2, 4, 1, 2, 6, 9, 1, 2, 4, 1, 1, 2, 3, 4, 5, 6, 7, 8, 9, 4, 8, 7, 1, 2, 3, 4, 6, 7, 8, 9, 10, 1, 2, 4, 5, 6, 8, 1, 2, 8, 1, 2, 6, 8, 1, 2, 3, 4, 5, 6, 7, 8, 9, 10, 4, 7, 1, 8, 1, 2, 4, 5, 6, 7, 8, 9, 1, 2, 4, 8, 1, 2, 3, 4, 5, 6, 7, 8, 9, 10, 2, 1, 2, 3, 4, 5, 6, 7, 8, 9, 10, 3, 4, 5, 7, 1, 2, 3, 4, 5, 6, 8, 1, 2, 3, 4, 5, 6, 7, 8, 9, 10, 2, 3, 4, 5, 8, 3, 4, 5, 5, 1, 2, 3, 4, 5, 6, 7, 8, 9, 1, 2, 3, 4, 5, 6, 7, 8, 9, 10, 1, 2, 3, 4, 5, 6, 7, 8, 9, 10, 9, 10, 1, 2, 3, 4, 5, 6, 7, 8, 9, 10, 1, 2, 3, 4, 5, 6, 7, 8, 9, 10, 10, 1, 2, 3, 4, 5, 6, 7, 8, 9, 10, 1, 2, 3, 4, 5, 6, 8, 9, 1, 2, 3, 4, 5, 6, 7, 8, 9, 1, 2, 3, 4, 5, 6, 7, 8, 9, 10, 1, 2, 3, 4, 5, 8, 1, 2, 3, 4, 5, 6, 7, 8, 9, 10, 1, 2, 3, 4, 5, 6, 7, 8, 9, 10, 1, 2, 3, 4, 5, 6, 7, 8, 9, 10, 5, 1, 2, 3, 4, 5, 6, 1, 2, 3, 4, 5, 6, 7, 8, 9, 10, 3, 1, 2, 6, 1, 2, 3, 6, 7, 8, 9, 10, 6, 3, 6, 7, 10, 9, 6, 1, 2, 3, 4, 5, 6, 7, 8, 9, 10, 2, 9, 1, 3, 4, 5, 6, 7, 8, 9, 10, 3, 6, 8, 1, 3, 4, 5, 6, 7, 9, 1, 2, 3, 4, 5, 6, 7, 8, 9, 4, 9, 4, 5, 8, 9, 1, 2, 3, 4, 5, 6, 7, 8, 9, 10, 1, 2, 4, 5, 6, 8, 1, 2, 3, 4, 5, 6, 8, 9, 7, 4, 5, 7, 1, 2, 4, 5, 6, 8, 1, 2, 3, 4, 5, 6, 7, 8, 9, 1, 2, 5, 6, 3, 5, 10, 10, 1, 2, 3, 4, 5, 6, 7, 8, 9, 10, 8, 1, 2, 3, 4, 5, 8, 9, 4, 1, 2, 3, 4, 5, 6, 7, 8, 9, 10, 1, 2, 3, 4, 5, 8, 2, 3, 4, 5, 5, 3, 4, 5, 1, 2, 3, 4, 5, 6, 7, 8, 9, 10, 3, 7, 9, 10, 2, 3, 4, 5, 6, 7, 8, 9, 4, 1, 2, 3, 4, 5, 6, 7, 8, 9, 10, 1, 2, 3, 4, 5, 6, 7, 8, 9, 10, 6, 1, 2, 3, 4, 5, 6, 7, 8, 9, 10, 3, 4, 3, 8, 9, 1, 2, 3, 4, 5, 6, 7, 8, 9, 10, 1, 2, 3, 4, 5, 6, 7, 8, 9, 10, 1, 2, 3, 4, 5, 6, 7, 8, 9, 10, 2, 1, 2, 3, 4, 5, 6, 7, 8, 9, 10, 4, 1, 2, 3, 4, 5, 6, 7, 8, 9, 10, 1, 2, 3, 4, 5, 6, 7, 8, 9, 10, 1, 2, 4, 5, 8, 9, 1, 2, 3, 4, 5, 6, 7, 8, 9, 10, 1, 3, 4, 6, 7, 9, 1, 2, 3, 7, 9, 10, 1, 2, 4, 5, 6, 7, 8, 9, 10, 9, 1, 2, 1, 2, 4, 5, 6, 7, 8, 9, 9, 1, 2, 3, 4, 5, 6, 7, 8, 9, 10, 8, 9, 3, 4, 5, 8, 3, 5, 3, 4, 5, 8, 9, 10, 1, 2, 3, 4, 5, 6, 7, 8, 9, 10, 3, 4, 5, 3, 4, 5, 7, 8, 9, 10, 3, 9, 9, 1, 2, 3, 4, 5, 6, 7, 8, 9, 10, 1, 2, 3, 4, 5, 6, 7, 8, 9, 10, 1, 2, 3, 4, 5, 6, 7, 8, 9, 10, 1, 2, 3, 4, 5, 6, 7, 8, 9, 10, 1, 2, 3, 4, 5, 6, 7, 8, 9, 10, 1, 2, 4, 5, 6, 7, 8, 9, 2, 5, 8, 1, 2, 8, 9, 10, 1, 1, 2, 3, 4, 5, 6, 7, 8, 9, 1, 2, 3, 4, 5, 6, 7, 8, 1, 2, 3, 4, 5, 6, 7, 8, 9, 10, 4, 4, 1, 2, 3, 4, 5, 6, 7, 8, 9, 6, 2, 4, 7, 1, 2, 3, 4, 5, 6, 7, 8, 9, 10, 9, 1, 2, 3, 4, 5, 6, 7, 8, 9, 10, 9, 1, 2, 3, 4, 5, 6, 7, 8, 10, 4, 1, 2, 3, 4, 5, 7, 8, 9, 2, 4, 5, 7, 8, 9, 1, 2, 3, 4, 5, 6, 7, 8, 9, 2, 4, 7, 1, 2, 3, 4, 5, 6, 7, 8, 9, 10, 1, 2, 3, 4, 5, 6, 7, 8, 9, 10, 3, 4, 5, 8, 1, 2, 8, 9, 10, 4, 1, 2, 3, 4, 5, 6, 7, 8, 9, 10, 1, 2, 3, 4, 5, 6, 7, 8, 9, 10, 3, 5, 1, 2, 3, 4, 5, 7, 8, 9, 10, 3, 4, 5, 7, 9, 10, 9, 3, 1, 9, 3, 6, 6, 3, 5, 6, 1, 3, 5, 6, 8, 3, 8, 9, 10, 3, 3, 10, 8, 3, 4, 5, 8, 1, 2, 3, 4, 5, 6, 7, 8, 9, 10, 3, 3, 4, 2, 4, 6, 8, 1, 2, 3, 4, 5, 7, 8, 1, 2, 3, 4, 5, 6, 7, 8, 9, 10, 1, 2, 3, 4, 5, 6, 7, 8, 9, 10, 1, 2, 3, 4, 5, 6, 7, 8, 9, 10, 1, 2, 3, 4, 5, 6, 7, 8, 9, 10, 1, 2, 3, 4, 5, 8, 9, 1, 2, 3, 4, 5, 6, 7, 8, 9, 10, 1, 1, 3, 4, 7, 9, 10, 10, 3, 5, 6, 1, 2, 3, 4, 5, 6, 7, 8, 9, 10, 1, 2, 3, 4, 5, 6, 7, 8, 9, 10, 1, 2, 3, 4, 5, 6, 7, 8, 9, 9, 2, 1, 10, 10, 1, 2, 3, 4, 5, 6, 7, 8, 9, 10, 1, 2, 3, 4, 5, 6, 7, 8, 9, 10, 3, 1, 2, 3, 4, 5, 6, 7, 8, 9, 10, 1, 2, 3, 4, 5, 6, 7, 8, 9, 10, 1, 3, 4, 5, 7, 8, 9, 10, 5, 3, 6, 9, 10, 1, 4, 7, 9, 1, 2, 3, 4, 5, 6, 7, 8, 9, 10, 1, 2, 3, 4, 5, 6, 7, 8, 9, 10, 1, 2, 3, 4, 5, 6, 7, 8, 9, 10, 3, 5, 1, 3, 4, 5, 6, 7, 8, 9, 10, 8, 2, 8, 1, 2, 3, 4, 5, 6, 7, 8, 9, 10, 1, 2, 3, 4, 5, 6, 7, 8, 1, 2, 3, 4, 5, 6, 7, 8, 9, 10, 1, 2, 3, 4, 5, 6, 7, 8, 9, 10, 1, 2, 6, 8, 9, 4, 5, 1, 3, 5, 6, 1, 2, 1, 2, 3, 4, 5, 6, 7, 8, 9, 10, 1, 2, 3, 4, 5, 6, 7, 8, 9, 10, 2, 6, 8, 1, 2, 6, 7, 8, 9, 1, 2, 3, 4, 5, 6, 7, 8, 9, 10, 1, 2, 3, 4, 5, 6, 7, 8, 9, 10, 1, 2, 3, 4, 5, 6, 7, 8, 9, 10, 1, 2, 3, 4, 5, 7, 8, 9, 10, 4, 1, 3, 8, 9, 1, 2, 3, 4, 5, 6, 7, 8, 9, 8, 1, 2, 3, 4, 5, 6, 7, 8, 9, 6, 7, 8, 1, 2, 4, 5, 6, 7, 8, 9, 1, 2, 3, 8, 9, 5, 1, 2, 3, 4, 5, 6, 7, 8, 9, 10, 1, 1, 2, 3, 4, 7, 8, 9, 10, 8, 9, 1, 2, 3, 4, 5, 6, 7, 8, 9, 3, 4, 9, 1, 2, 3, 4, 5, 6, 7, 8, 9, 10, 6, 1, 2, 5, 2, 9, 1, 2, 3, 4, 5, 7, 8, 10, 8, 1, 2, 3, 4, 5, 6, 7, 8, 9, 10, 6, 9, 1, 2, 3, 4, 5, 6, 7, 8, 9, 10, 1, 2, 4, 5, 6, 8, 10, 1, 2, 3, 4, 5, 6, 7, 8, 9, 10, 1, 2, 3, 4, 5, 7, 8, 10, 1, 2, 7, 1, 2, 3, 4, 5, 6, 7, 8, 9, 10, 9, 10, 1, 2, 3, 4, 5, 6, 7, 8, 9, 10, 1, 2, 3, 4, 5, 6, 7, 8, 9, 10, 2, 1, 2, 4, 9, 4, 8, 9, 4, 1, 10, 10, 6, 1, 2, 3, 4, 5, 7, 8, 9, 10, 1, 2, 3, 4, 6, 7, 8, 9, 10, 1, 2, 3, 4, 5, 6, 7, 8, 9, 10, 1, 2, 3, 4, 5, 6, 7, 8, 9, 10, 8, 7, 1, 2, 3, 4, 5, 6, 7, 8, 9, 10, 7, 1, 2, 3, 4, 5, 7, 8, 9, 6, 8, 1, 7, 9, 10, 3, 10, 3, 10, 1, 2, 3, 4, 5, 8, 1, 2, 1, 2, 3, 4, 5, 6, 7, 8, 9, 10, 5, 8, 1, 2, 3, 4, 7, 8, 9, 10, 10, 1, 2, 3, 4, 5, 6, 7, 8, 9, 10, 2, 3, 4, 5, 6, 7, 8, 2, 3, 4, 5, 5, 10, 1, 2, 3, 4, 5, 6, 7, 8, 9, 10, 8, 5, 7, 3, 5, 4, 1, 2, 6, 8, 4, 2, 3, 4, 5, 6, 7, 1, 2, 4, 5, 6, 8, 1, 2, 4, 5, 7, 8, 9, 1, 2, 3, 4, 5, 6, 7, 8, 9, 10, 1, 2, 3, 4, 5, 6, 7, 8, 9, 10, 1, 2, 4, 7, 8, 9, 10, 5, 4, 1, 2, 3, 4, 5, 6, 7, 8, 9, 10, 1, 2, 3, 4, 5, 6, 7, 8, 9, 10, 5, 1, 2, 3, 4, 5, 6, 7, 8, 9, 2, 1, 2, 3, 4, 5, 6, 7, 8, 9, 10, 10, 3, 9, 1, 2, 3, 4, 5, 6, 7, 8, 9, 10, 4, 1, 2, 6, 10, 1, 2, 3, 4, 5, 6, 7, 8, 9, 10, 1, 2, 3, 4, 5, 6, 7, 8, 9, 10, 1, 2, 3, 4, 5, 6, 7, 8, 9, 10, 1, 2, 3, 4, 5, 6, 7, 8, 9, 10, 1, 2, 3, 4, 5, 6, 7, 8, 9, 10, 1, 2, 4, 5, 6, 8, 1, 2, 3, 4, 5, 6, 7, 8, 9, 10, 1, 2, 3, 4, 5, 6, 7, 8, 9, 10, 3, 3, 4, 5, 1, 10, 1, 2, 3, 4, 5, 6, 7, 8, 9, 10, 1, 2, 3, 4, 5, 6, 7, 8, 9, 10, 1, 3, 4, 5, 6, 7, 9, 10, 7, 1, 2, 3, 4, 5, 6, 7, 8, 1, 2, 3, 4, 5, 6, 7, 8, 9, 10, 1, 2, 3, 4, 5, 6, 7, 8, 9, 10, 1, 2, 3, 4, 5, 6, 7, 8, 9, 1, 2, 3, 4, 5, 6, 7, 8, 9, 10, 1, 2, 6, 8, 9, 1, 2, 3, 4, 5, 6, 7, 8, 9, 10, 1, 2, 3, 4, 5, 6, 7, 8, 9, 10, 1, 2, 3, 4, 5, 6, 7, 8, 9, 10, 5, 8, 1, 2, 3, 4, 5, 6, 7, 1, 2, 3, 4, 5, 6, 7, 8, 9, 10, 1, 2, 3, 4, 5, 6, 7, 8, 9, 7, 1, 2, 3, 4, 5, 6, 7, 8, 9, 10, 2, 3, 4, 5, 6, 7, 8, 9, 7, 1, 2, 3, 4, 5, 6, 7, 8, 9, 10, 2, 3, 4, 5, 8, 1, 2, 3, 4, 5, 6, 7, 8, 9, 10, 1, 2, 3, 4, 5, 6, 7, 8, 9, 10, 3, 4, 5, 1, 3, 5, 6, 10, 9, 1, 2, 4, 5, 7, 8, 9, 1, 9, 6, 8, 3, 5, 2, 4, 2, 3, 4, 5, 7, 8, 9, 10, 1, 2, 3, 4, 5, 6, 9, 1, 2, 3, 4, 5, 6, 7, 8, 9, 10, 2, 4, 9, 4, 4, 1, 2, 5, 6, 7, 4, 8, 5, 3, 4, 5, 6, 7, 3, 2, 9, 9, 3, 4, 5, 4, 8, 1, 2, 3, 4, 5, 6, 7, 10, 4, 4, 5, 7, 1, 2, 3, 4, 5, 6, 8, 6, 2, 9, 4, 1, 2, 3, 4, 5, 6, 7, 8, 9, 10, 1, 2, 3, 4, 5, 6, 7, 8, 9, 10, 1, 2, 3, 4, 5, 6, 7, 8, 9, 10, 1, 2, 4, 5, 7, 8, 1, 2, 3, 4, 5, 6, 7, 8, 9, 10, 1, 2, 3, 4, 5, 6, 7, 8, 9, 10, 1, 2, 3, 4, 5, 6, 7, 8, 9, 10, 1, 2, 3, 4, 5, 7, 8, 1, 2, 3, 4, 5, 6, 7, 8, 9, 10, 3, 4, 7, 9, 10, 1, 2, 3, 4, 5, 6, 7, 8, 9, 10, 1, 2, 3, 4, 5, 6, 7, 8, 9, 10, 1, 4, 8, 1, 2, 8, 1, 2, 3, 4, 5, 6, 7, 8, 9, 10, 6, 1, 2, 3, 4, 5, 6, 7, 8, 1, 2, 3, 4, 5, 6, 7, 8, 9, 10, 1, 2, 3, 4, 5, 6, 7, 8, 9, 10, 10, 1, 2, 3, 4, 5, 6, 7, 8, 9, 10, 8, 1, 2, 3, 4, 5, 6, 7, 8, 9, 10, 1, 2, 3, 4, 5, 6, 7, 8, 9, 10, 1, 2, 5, 1, 2, 3, 4, 5, 6, 7, 8, 9, 10, 1, 2, 3, 4, 5, 6, 7, 8, 9, 10, 5, 1, 2, 3, 4, 5, 6, 7, 8, 9, 10, 7, 1, 2, 4, 6, 1, 2, 6, 8, 9, 10, 7, 6, 3, 1, 3, 4, 6, 8, 9, 1, 3, 4, 6, 7, 8, 9, 2, 3, 6, 10, 1, 10, 7, 7, 6], \"Freq\": [0.047703774637976495, 0.0037860138601568645, 0.16355579875877654, 0.009086433264376475, 0.6156058536615062, 0.009843636036407848, 0.032559719197349034, 0.11812363243689418, 0.9661291837695631, 0.9808574881600034, 0.9819534991385802, 0.9747272832896348, 0.9881818711337452, 0.987762678388423, 0.9861397494147263, 0.9876314171559254, 0.9798917756984498, 0.9758791185730822, 0.9500954868590764, 0.9570113971117785, 0.9552619435600186, 0.9704178881455361, 0.9828869152766054, 0.9765975867684353, 0.9750929876797064, 0.01616260378192478, 0.9697562269154868, 0.9801316801322763, 0.9793729206000024, 0.9644280753353419, 0.9854481358341918, 0.9576919021203266, 0.991412199974593, 0.009478455142118375, 0.028435365426355125, 0.9573239693539559, 0.2450386434832727, 0.12526229163137448, 0.04461897687307354, 0.12325078037889986, 0.1184962992366871, 0.03968163107154491, 0.09271238227314871, 0.07113435247387544, 0.12965104345495548, 0.010240420921689008, 0.9910100615077799, 0.11074731584802561, 0.22462308694599545, 0.01188812994978806, 0.040044227199286096, 0.008133983649854988, 0.06507186919883991, 0.07007739759875067, 0.11137300689801445, 0.35351544324369755, 0.005005528399910762, 0.9700691276323166, 0.9837467888019618, 0.0012276906583563738, 0.028850730471374784, 0.004910762633425495, 0.0024553813167127476, 0.0018415359875345607, 0.05094916232178951, 0.3173580351851226, 0.5929745879861286, 0.08559958494040576, 0.07608851994702734, 0.8274626544239223, 0.9680797576416987, 0.034377060987116716, 0.09023978509118137, 0.012891397870168768, 0.021485663116947946, 0.06875412197423343, 0.7691867395867364, 0.9729110433381603, 0.1410086829769903, 0.00569732052432284, 0.17519260612292734, 0.00142433013108071, 0.00142433013108071, 0.0840354777337619, 0.00712165065540355, 0.01709196157296852, 0.5554887511214769, 0.01281897117972639, 0.3923016180883707, 0.011972841591008717, 0.09501850879672875, 0.0038211196567049096, 0.004330602277598898, 0.15743012985624227, 0.028531026770063327, 0.013756030764137676, 0.2672236346588967, 0.025474131044699398, 0.9671901224216851, 0.19160235149491373, 0.1463430777066219, 0.21758717114623585, 0.010850803810442207, 0.004854306967829409, 0.33252002729631447, 0.05539620892699443, 0.005139854436525256, 0.02184438135523234, 0.013706278497400684, 0.007723475558455964, 0.02317042667536789, 0.9036466403393477, 0.061787804467647714, 0.015370946987731993, 0.0009606841867332496, 0.0019213683734664992, 0.10375389216719096, 0.8771046624874569, 0.9979154317784094, 0.9638966301551969, 0.0017762007038028091, 0.0017762007038028091, 0.9875675913143619, 0.0017762007038028091, 0.0017762007038028091, 0.005328602111408428, 0.9906085238982374, 0.9607587551437259, 0.09482317678495267, 0.8926457676652441, 0.0032697647167225057, 0.0032697647167225057, 0.006539529433445011, 0.19337696446079647, 0.737474883098938, 0.0048043966325663715, 0.0048043966325663715, 0.015614289055840709, 0.03242967726982301, 0.009608793265132743, 0.0012010991581415929, 0.9860506772039779, 0.012180653442612656, 0.9785124932232167, 0.0040602178142042184, 0.2308301626317077, 0.7487432166036905, 0.017457743392314026, 0.9753851274045598, 0.16541308704953966, 0.014077709536131036, 0.02491754587895193, 0.2335492012044139, 0.05532539847699497, 0.04237390570375442, 0.3838991390502933, 0.013796155345408415, 0.06447590967548014, 0.001970879335058345, 0.25294584949608245, 0.001976139449188144, 0.10275925135778351, 0.0177852550426933, 0.11856836695128865, 0.019761394491881443, 0.004940348622970361, 0.4574762824870554, 0.023713673390257733, 0.9825036744225073, 0.01904678863912586, 0.9523394319562929, 0.1550496372600002, 0.11289551712993764, 0.025680096171187532, 0.1652247697051877, 0.04166959001362505, 0.016474023958875022, 0.11677175806143765, 0.06056626455468758, 0.2558319014790003, 0.05039113210950007, 0.10908888253864625, 0.16153546068222618, 0.0017981683934941688, 0.5250651709002974, 0.0776209356524983, 0.0023975578579922253, 0.0842142197619769, 0.01288687348670821, 0.005993894644980563, 0.019180462863937802, 0.0011824085409957881, 0.04493152455783995, 0.3038789950359176, 0.647959880465692, 0.9666431110547973, 0.024256116760515083, 0.18081832494202152, 0.791631447002265, 0.02118505112354794, 0.9533273005596572, 0.9598440299539466, 0.9928488634781214, 0.9646492388886004, 0.002272982120032358, 0.03409473180048537, 0.006818946360097074, 0.7932707598912929, 0.14092489144200618, 0.018183856960258864, 0.002272982120032358, 0.05490708069741828, 0.0009983105581348778, 0.005989863348809267, 0.0009983105581348778, 0.012978037255753413, 0.8605437011122647, 0.061895254604362425, 0.0009983105581348778, 0.0009983105581348778, 0.0009983105581348778, 0.1182819486121766, 0.866901876537345, 0.0014972398558503368, 0.0029944797117006736, 0.005988959423401347, 0.0029944797117006736, 0.3913877376229609, 0.5818157246003105, 8.56240948639162e-05, 0.0011131132332309105, 0.008134289012072039, 0.008733657676119451, 0.0045380770277875584, 0.0007706168537752457, 0.0003424963794556648, 0.003082467415100983, 0.13154023535437367, 0.225813812165152, 0.21714285695946398, 0.10312902042509801, 0.22618278898241534, 0.06623133869876599, 0.01383663064737451, 0.007195047936634746, 0.006088117484844785, 0.0029518145381065624, 0.9660111194167573, 0.1341326066808469, 0.860298787677156, 0.004625262299339548, 0.0005485236108718671, 0.0027426180543593352, 0.17168789020289438, 0.06746840413723965, 0.754768488559689, 0.0005485236108718671, 0.001645570832615601, 0.9747132599338895, 0.974869822720448, 0.01141151007625084, 0.0874882439179231, 0.028257072569763987, 0.1032469959279838, 0.7623975541419014, 0.0005434052417262305, 0.001086810483452461, 0.004890647175536074, 0.9595239163557352, 0.3864979496509154, 0.25653163722901734, 0.01627615501358349, 0.06704804154849317, 0.06607633080141356, 0.02526447942406989, 0.010688818217875724, 0.12705118018065917, 0.035224514581635905, 0.009231252097256306, 0.9892223040184898, 0.03826757854990055, 0.012755859516633519, 0.9439336042308804, 0.006377929758316759, 0.11281287947100624, 0.11909688601978907, 0.018552781239263624, 0.0730141713287149, 0.025734503009301156, 0.5278565500977587, 0.06912407203661125, 0.02633297982347095, 0.026931456637640745, 0.0008977152212546915, 0.97190346461658, 0.005159026156046534, 0.8247071812308674, 0.04937925035073111, 0.06338232134571456, 0.054538276506777644, 0.0014740074731561525, 0.0007370037365780763, 0.0008679121683341627, 0.8488181006308111, 0.037320223238369, 0.05554637877338641, 0.009547033851675789, 0.030376925891695692, 0.01649033119834909, 0.0008679121683341627, 9.874282593170188e-05, 0.0004937141296585094, 0.8819709212219613, 0.07178603445234727, 0.034757474727959065, 0.007504454770809343, 0.0009874282593170189, 0.0019748565186340377, 0.00029622847779510567, 0.001153927530194019, 0.002637548640443472, 0.5344332932698586, 0.17803453322993437, 0.15759353126649744, 0.00329693580055434, 0.1183599952399008, 0.003461782590582057, 0.000659387160110868, 0.000329693580055434, 0.049539990185938604, 0.23996827616078933, 0.07989397261200504, 0.050685423485035457, 0.15749707862581638, 0.23080480976801454, 0.015749707862581636, 0.17152863653975275, 0.004009016546838963, 0.0002863583247742116, 0.009116339308108163, 0.03646535723243265, 0.06381437515675714, 0.03646535723243265, 0.8250287073837888, 0.004558169654054082, 0.02734901792432449, 0.4988460648218964, 0.19031519409900569, 0.0012045265449304157, 0.04886936268003401, 0.12699151287980667, 0.09963155278781581, 0.019788650380999685, 0.009980362800852016, 0.0017207522070434508, 0.0027532035312695215, 0.986642043904095, 0.9451737672912827, 0.0354440162734231, 0.01724029706292499, 0.06896118825169996, 0.025860445594387483, 0.06896118825169996, 0.8102939619574745, 0.9802792776910035, 0.9833146398220999, 0.21092072753333682, 0.05578068827327916, 0.04706495573057929, 0.6780839918220497, 0.0017431465085399737, 0.005229439525619921, 0.9784409836937539, 0.0065229398912916925, 0.0032614699456458463, 0.011415144809760462, 0.9746309240614635, 0.010950909259117568, 0.9821316652797565, 0.9858866249770674, 0.9711582978467705, 0.1547192899343522, 0.08095776798890521, 0.008995307554322802, 0.0035981230217291206, 0.0863549525214989, 0.11154181367360273, 0.030584045684697525, 0.007196246043458241, 0.055770906836801366, 0.4587606852704629, 0.9706771704647664, 0.05454737129424739, 0.05974235903655666, 0.026948998913229365, 0.4386517774912394, 0.1103934895240721, 0.003246867338943297, 0.2769577840118632, 0.01168872242019587, 0.007467794879569583, 0.010389975484618551, 0.06068549995829573, 0.10100104188863206, 0.0891185663723224, 0.20009240021214292, 0.20560926384471526, 0.1302828565538237, 0.1907561694493282, 0.011033727265144679, 0.0027584318162861697, 0.008487482511649753, 0.9966165529926857, 0.857132056366783, 0.10808966197545715, 0.003792619718437093, 0.0018963098592185465, 0.028444647888278198, 0.9622377025753963, 0.01415055444963818, 0.01415055444963818, 0.01691283109117577, 0.9513467488786371, 0.01691283109117577, 0.004228207772793943, 0.004228207772793943, 0.027637246600960348, 0.9566739208024736, 0.004251884092455438, 0.009566739208024736, 0.0010629710231138596, 0.9606235349127742, 0.0369470590351067, 0.9608024548700002, 0.0308038465914246, 0.9549192443341625, 0.5722184307282361, 0.3920357330351967, 0.0001537395031510575, 0.005842101119740185, 0.002767311056719035, 0.015066471308803637, 0.0010761765220574026, 0.00799445416385499, 0.0016911345346616326, 0.00122991602520846, 0.2181362156107772, 0.5238574268834574, 0.0009443126216916762, 0.05547836652438598, 0.010387438838608438, 0.01746978350129601, 0.003069016020497948, 0.1586445204442016, 0.011095673304877195, 0.0009443126216916762, 0.013235255574630104, 0.9661736569479976, 0.9605598087094114, 0.9851598516431022, 0.9709472061940556, 0.04731435966687215, 0.013312785609690262, 0.08581349643003047, 0.26967385985034736, 0.06278597537543111, 0.013312785609690262, 0.3101519242041353, 0.0509124098316533, 0.131148928506273, 0.015651518216798013, 0.8129878380707563, 0.0009134694809783778, 0.1854343046386107, 0.9464337494586116, 0.00119536943411255, 0.05199857038389593, 0.0002988423585281375, 0.9609983147567915, 0.027721105233368987, 0.009240368411122996, 0.9843847727877095, 0.7644248138771208, 0.051310706684902625, 0.005235786396418635, 0.007330100954986089, 0.03455619021636299, 0.11728161527977743, 0.006282943675702362, 0.011518730072120998, 0.003141471837851181, 0.9741055106100228, 0.0475051104892583, 0.029407925540969423, 0.015835036829752767, 0.04298081425218608, 0.004524296237072219, 0.022621481185361093, 0.009048592474144438, 0.683168731797905, 0.1425153314677749, 0.0022621481185361096, 0.9545937618090996, 0.09674679472157006, 0.00586344210433758, 0.007329302630421975, 0.879516315650637, 0.00586344210433758, 0.00293172105216879, 0.07031586074224054, 0.005859655061853378, 0.04297080378692478, 0.037111148725071395, 0.8301178004292287, 0.007812873415804505, 0.0019532183539511263, 0.0039064367079022526, 0.008698686546241823, 0.0017397373092483649, 0.08350739084392152, 0.17571346823408485, 0.029575534257222202, 0.02435632232947711, 0.5688941001242153, 0.029575534257222202, 0.027835796947973838, 0.04871264465895422, 0.21052623039686968, 0.017543852533072474, 0.7690055360330101, 0.08100830631634465, 0.07242691793537594, 0.014073476944788688, 0.08787341702111962, 0.017506032297176174, 0.6030999754144811, 0.06693482937155595, 0.0353553201295911, 0.020938587649563658, 0.000686511070477497, 0.07068477687430594, 0.07068477687430594, 0.0013859760171432537, 0.5433025987201554, 0.008315856102859523, 0.2550195871543587, 0.04989513661715713, 0.020014648402206542, 0.07605566392838485, 0.008005859360882616, 0.052038085845737006, 0.8326093735317921, 0.004002929680441308, 0.013956509300243189, 0.013956509300243189, 0.96299914171678, 0.19227017497604015, 0.08054561384131412, 0.02598245607784326, 0.0025982456077843262, 0.0017321637385228842, 0.008660818692614421, 0.027714619816366148, 0.007794736823352979, 0.4737467824860088, 0.17841286506785706, 0.00021834695620704376, 0.7327723850308389, 0.17445921800942799, 0.0772948224972935, 0.012445776503801496, 0.0006550408686211313, 0.001965122605863394, 0.00017870254536995477, 0.6343940360633394, 0.10543450176827332, 0.24375027188461834, 0.014653608720336293, 0.00017870254536995477, 0.0012509178175896835, 0.00017870254536995477, 0.025247995605381407, 0.9657358319058388, 0.006311998901345352, 0.9826783255564009, 0.08247055153061292, 0.7404022848526138, 0.0027490183843537643, 0.05223134930272152, 0.08063787260771041, 0.02749018384353764, 0.0018326789229025093, 0.010996073537415057, 0.0009163394614512547, 0.0009163394614512547, 0.1357293593730919, 0.5214110249156453, 0.11326710623740416, 0.16201497474464138, 0.05018162934568539, 0.007168804192240769, 0.009080485310171641, 0.00047792027948271795, 0.027837590221078862, 0.9673562601824904, 0.3016735018057189, 0.031224970136818984, 0.15209582227934407, 0.014605227967221782, 0.007554428258907818, 0.07906968244323517, 0.048348340857010036, 0.00654717115772011, 0.29462270209740493, 0.06446445447601339, 0.3361006597965392, 0.6635833539572696, 0.028670985190828183, 0.0011946243829511743, 0.06331509229641223, 0.005973121914755871, 0.017919365744267612, 0.850572560661236, 0.010751619446560568, 0.014335492595414091, 0.007167746297707046, 0.005374106270726755, 0.02149642508290702, 0.016122318812180268, 0.9512168099186358, 0.9758439106122587, 0.7638725472761775, 0.23230323136862105, 0.001653403781983068, 0.000826701890991534, 0.9802013853245403, 0.9786475232783981, 0.06998800103796479, 0.20317058540592034, 0.18516012915687297, 0.11833185728540772, 0.17307416509501225, 0.11983272863949501, 0.06896108905885244, 0.035941919268932254, 0.016351598436635112, 0.009163214582848663, 0.9913790883807913, 0.09243756276940115, 0.07104169403219507, 0.28916840778163366, 0.04594091295954206, 0.04010567603121313, 0.31751098714780274, 0.09012199255974682, 0.014171289683084546, 0.015745877425649497, 0.023711438946860418, 0.9815453510866745, 0.3575942827260106, 0.36415063321143787, 0.0008195438106784048, 0.0633780546924633, 0.014478607321985151, 0.017893373199811838, 0.0006829531755653373, 0.1767482818363093, 0.003961128418278956, 0.00013659063511306746, 0.9765746015892445, 0.975225517377835, 0.021940764369012402, 0.9741699379841506, 0.06912469356183837, 0.9183709287501383, 0.09842325743808471, 0.893380336745692, 0.007571019802929593, 0.9855516271319124, 0.9703498051699896, 0.9533908687450833, 0.28425902675259834, 0.22195567842326172, 0.014797045228217448, 0.03426684158113514, 0.019469796352917696, 0.03348804972701844, 0.004672751124700247, 0.3107379497925664, 0.07476401799520395, 0.0015575837082334155, 0.9861409625856898, 0.983150538696541, 0.9928224042839519, 0.9766965016463515, 0.9586115127755946, 0.9598618653683418, 0.9851627307077564, 0.9047479839361401, 0.08978415107763223, 0.9701188161225041, 0.028103369848622335, 0.024715020292405458, 0.14649628963643557, 0.3906567723638282, 0.031093090045284284, 0.033484866202613844, 0.2838241040031078, 0.016343803741751997, 0.04125813871393492, 0.0037869789157718037, 0.9739049376946726, 0.0009455533440714843, 0.9001667835560531, 0.062406520708717966, 0.02174772691364414, 0.007564426752571875, 0.0037822133762859373, 0.002836660032214453, 0.9337850794252951, 0.0376526241703748, 0.02259157450222488, 0.9556035562303254, 0.98266039414658, 0.014945405234168516, 0.01849094288843732, 0.04314553340635375, 0.032359150054765314, 0.15563210264434746, 0.6964921821311391, 0.032359150054765314, 0.007704559536848884, 0.007704559536848884, 0.0015409119073697768, 0.0030818238147395536, 0.9825405846039472, 0.023126065587372176, 0.04326812271185762, 0.014174040198711978, 0.1275663617884078, 0.7340660818701361, 0.034316097323197424, 0.002238006347165049, 0.018650052893042078, 0.002984008462886732, 0.9676105349194626, 0.00212596789496309, 0.00212596789496309, 0.05952710105896652, 0.048897261584151065, 0.00212596789496309, 0.01062983947481545, 0.8695208690399038, 0.00212596789496309, 0.00425193578992618, 0.032552762671708986, 0.9603064988154151, 0.04295896171125756, 0.04295896171125756, 0.9021381959364088, 0.9739800865111946, 0.9682506425205921, 0.9532099447205904, 0.978196316533503, 0.0038452757585977506, 0.007690551517195501, 0.06152441213756401, 0.9228661820634602, 0.9648343844295253, 0.9719013231891738, 0.22162881205524687, 0.33789310690390095, 0.0036332592140204405, 0.04308007353767094, 0.05449888821030661, 0.11211199860405931, 0.0020761481222973947, 0.214362293627206, 0.009861703580912625, 0.0005190370305743487, 0.9637872775496177, 0.9813884394371726, 0.9819507338957827, 0.978869260127195, 0.9818257068866887, 0.9746380829836873, 0.036477642516027836, 0.05674299946937664, 0.2120624852618285, 0.22002387549350125, 0.08714103489939984, 0.05905904026404507, 0.004197823940336537, 0.17963791413647043, 0.12709273860743034, 0.017370305960013255, 0.07130971317379417, 0.02198716156191987, 0.1408366835182435, 0.10339908410200155, 0.010696456976069127, 0.08260041775964491, 0.0005942476097816181, 0.28642734791473995, 0.281673367036487, 0.0005942476097816181, 0.9816779670204316, 0.06278108792623163, 0.01684370651679385, 0.09493725491283807, 0.1500621126041634, 0.6722170146247728, 0.018379993785306983, 0.0505449829095942, 0.009189996892653492, 0.17460994096041632, 0.7443897483049328, 0.004594998446326746, 0.7495460429542926, 0.17551413910929714, 0.0006565366799599643, 0.00503344787969306, 0.00503344787969306, 0.0061276756796263335, 0.011161123559319393, 0.03348337067795818, 0.010942277999332738, 0.0024073011598532024, 0.9802946872549505, 0.9675934546242332, 0.2164763610497022, 0.4132730529130678, 0.052291692409408584, 0.07044518316904966, 0.07908014005693204, 0.10594891288480787, 0.0024900805909242184, 0.05317526939328492, 0.004779348230967451, 0.0020081295088098536, 0.13510348393085478, 0.2869239343773384, 0.09179134341308919, 0.10334124755116002, 0.16884136180785114, 0.15744343009264966, 0.003951282994603177, 0.049087092586801, 0.0025835311887790003, 0.0009118345372161178, 0.18927738302723646, 0.6637462946588535, 0.013774903886079203, 0.0025509081270517044, 0.025509081270517042, 0.10407705158370954, 0.0005101816254103409, 0.02422193214289901, 0.3007259737006248, 0.06883659392081226, 0.2025915280334384, 0.3369698206938597, 0.023776676037331013, 0.002404382970067181, 0.03989494705889249, 0.0005343073266815958, 0.0001781024422271986, 0.9937736368021861, 0.051650484834782344, 0.0057389427594202605, 0.0057389427594202605, 0.0057389427594202605, 0.8780582421912998, 0.051650484834782344, 0.8896490107279446, 0.07961347681230185, 0.006950382896312067, 0.002527411962295297, 0.010109647849181188, 0.001895558971721473, 0.00884594186803354, 0.0006318529905738243, 0.0006318529905738243, 0.18676134853210388, 0.1787112904057201, 0.02704819530464953, 0.04411431853258316, 0.027692199954760233, 0.05087636735874554, 0.13266495792280483, 0.07695855568822901, 0.2105895205861999, 0.0644004650110703, 0.9670798581522317, 0.9751477226803064, 0.9743157464121388, 0.008519232975337309, 0.0042596164876686545, 0.034076931901349236, 0.9456348602624413, 0.006389424731502982, 0.004936672445056668, 0.039493379560453346, 0.886132703887672, 0.01234168111264167, 0.037025043337925015, 0.002468336222528334, 0.01727835355769834, 0.9865267831752876, 0.09645090899016923, 0.05113060235623428, 0.01859294631135792, 0.10574738214584818, 0.6309981154417095, 0.019755005455817792, 0.020917064600277663, 0.05229266150069416, 0.0034861774333796104, 0.00116205914445987, 0.9804483293913321, 0.9723859132638558, 0.021993532133070377, 0.12463001542073213, 0.7184553830136323, 0.12463001542073213, 0.020421967415587713, 0.9598324685326224, 0.4613786250611361, 0.14257792953870552, 0.023741827981957196, 0.05548223972254168, 0.061195513835846885, 0.06436955500990534, 0.07566914158955342, 0.028185485625639023, 0.05472046984076765, 0.03275610491628319, 0.9821851318732419, 0.5963446028247364, 0.272317061302375, 0.00409219627640181, 0.016740802948916493, 0.01376466020244245, 0.014136678045751706, 0.0029761427464740434, 0.06547514042242895, 0.008556410396112874, 0.005580267649638831, 0.07107955992913323, 0.7398076645685294, 0.0029012065277197233, 0.03916628812421626, 0.07398076645685295, 0.0493205109712353, 0.010154222847019032, 0.0014506032638598617, 0.010154222847019032, 0.9782308540692205, 0.048194143864886636, 0.9397858053652893, 0.027736041686506594, 0.11737081055143644, 0.05378086131895791, 0.567235876930141, 0.10012034560007259, 0.004058932929732672, 0.09166423532979619, 0.026721308454073427, 0.002029466464866336, 0.009132599091898513, 0.9883412757784167, 0.2756710789968793, 0.13353812660414652, 0.07401099984615986, 0.08594825788586306, 0.08228749875368742, 0.1860620619788406, 0.05602553106634037, 0.01734881501770199, 0.06732613534392606, 0.02180539135252452, 0.06076718464248282, 0.10839551855145584, 0.08266526919833249, 0.49489671096220245, 0.051460498706246714, 0.019160823986368456, 0.036131839517151945, 0.08321272131222873, 0.060219732528586575, 0.0032847126833774496, 0.3000346767045259, 0.17290426677100196, 0.07133812405237144, 0.09508871014728928, 0.08317023421602142, 0.08498391533599696, 0.06961080870001378, 0.057260503930656494, 0.04767390372507147, 0.0178777138969018, 0.15340494732244914, 0.15854654171072904, 0.09052577660676395, 0.17515136293189523, 0.16149663685154536, 0.12997276306110803, 0.08563704751626831, 0.011716092130670567, 0.005478748118658898, 0.028068048054052507, 0.9918636109982939, 0.9522680810427832, 0.01236711793562056, 0.02473423587124112, 0.9591807498185797, 0.006148594550119101, 0.012297189100238201, 0.018445783650357303, 0.9426666700823847, 0.0457605179651643, 0.00915210359303286, 0.9659576068529827, 0.06319770925733426, 0.07390918540264516, 0.009640328530779802, 0.16067214217966336, 0.0492727902684301, 0.004284590458124357, 0.0021422952290621783, 0.6051984022100654, 0.031063280821401584, 0.045702519134758514, 0.9369016422625496, 0.9895713926579055, 0.25531298417789916, 0.011605135644449961, 0.04409951544890985, 0.0046420542577799845, 0.058025678222249806, 0.011605135644449961, 0.04177848832001986, 0.5663306194491582, 0.006963081386669977, 0.009559894877030444, 0.8918016221001258, 0.0013656992681472064, 0.0013656992681472064, 0.006828496340736032, 0.08740475316142121, 0.015345201439796955, 0.9769778250004062, 0.005115067146598985, 0.015168897135319845, 0.9556405195251502, 0.007584448567659922, 0.02022519618042646, 0.12049154258350245, 0.05530759331701752, 0.003950542379786965, 0.03555488141808269, 0.003950542379786965, 0.003950542379786965, 0.01580216951914786, 0.5925813569680448, 0.10073883068456761, 0.06715922045637841, 0.014503698327490851, 0.971747787941887, 0.10395203043918845, 0.8761671137017312, 0.18078830835492696, 0.7207427226416421, 0.015668320057427004, 0.020489341613558386, 0.030131384725821157, 0.0006026276945164231, 0.031939267809370425, 0.0006026276945164231, 0.04576725667774316, 0.8899188798450058, 0.035596755193800234, 0.025426253709857308, 0.28314264780071663, 0.42265100158959434, 0.03868068959026184, 0.034812620631235656, 0.0647256872477048, 0.06678865735918545, 0.005673167806571736, 0.05879464817719799, 0.01882460226726076, 0.005673167806571736, 0.9797839911037439, 0.3031259655366294, 0.19862126323030688, 0.11375014813660357, 0.05110965560110407, 0.031060542733191296, 0.2178393247876326, 0.015478330659683957, 0.01786760317762175, 0.04550005925464143, 0.005609596346462642, 0.08378833939248834, 0.0030468487051813938, 0.0015234243525906969, 0.9094843384966461, 0.022564098315103844, 0.33282045014778167, 0.00846153686816394, 0.014102561446939901, 0.005641024578775961, 0.10153844241796729, 0.5133332366686124, 0.12816777612055394, 0.6993232056286535, 0.0006221736704881259, 0.05412910933246695, 0.04666302528660944, 0.00933260505732189, 0.007466084045857511, 0.05164041465051445, 0.0006221736704881259, 0.0018665210114643777, 0.97382552875781, 0.1638847919388215, 0.299154778935944, 0.5272061031682723, 0.008671153012636058, 0.9446513941886256, 0.04697161628562227, 0.007828602714270378, 0.9780937441941583, 0.01510282512121485, 0.04099338247186888, 0.8259087794858635, 0.03883583602598104, 0.0340892338450278, 0.008630185783551342, 0.0008630185783551343, 0.034952252423382936, 0.00043150928917756715, 0.2433043465264834, 0.08861400410332974, 0.07529629250398538, 0.0591613726817028, 0.05301473655892849, 0.06095414155084531, 0.05788082348945815, 0.05314279147815295, 0.19579597149420688, 0.11294443875597808, 0.019350598465084447, 0.04208755166155867, 0.03773366700691467, 0.34831077237152, 0.2520415450077249, 0.002902589769762667, 0.0009675299232542223, 0.28397003247511426, 0.011610359079050668, 0.00048376496162711114, 0.9752330941689532, 0.015729566034983117, 0.15415780726027065, 0.03369961368015219, 0.24485995897387172, 0.024019937410321237, 0.004660584870659345, 0.18104579689868994, 0.02366143088180898, 0.01864233948263738, 0.23733132187511433, 0.07743741015864758, 0.23419934400277795, 0.05869275667441465, 0.050498638047791825, 0.2298164433420262, 0.18636855853109588, 0.013529823778842338, 0.13282094611060719, 0.013720384677135893, 0.06155117014881796, 0.018865528931061852, 0.9818167205269103, 0.07266443816493252, 0.23605193226359736, 0.09072305593373231, 0.13285983072759852, 0.12469045602266526, 0.038697038075999564, 0.02579802538399971, 0.19348519037999784, 0.04901624822959945, 0.036117235537599594, 0.04419883040278702, 0.11878435670749012, 0.008287280700522566, 0.033149122802090265, 0.0027624269001741888, 0.7375679823465083, 0.04143640350261283, 0.013812134500870942, 0.055345209993298165, 0.26020509175953616, 0.020651197758693344, 0.029737724772518417, 0.02147724566904108, 0.5228883272501155, 0.042128443427734426, 0.04543263506912536, 0.0024781437310432016, 0.042670960392645514, 0.09586352745745019, 0.06488324114498153, 0.18938892009886502, 0.14730249341022836, 0.00642987074409727, 0.32675434054094304, 0.010521606672159168, 0.11106140376168011, 0.0046762696320707415, 0.0017103470253406413, 0.02394485835476898, 0.05131041076021924, 0.05131041076021924, 0.8568838596956614, 0.01197242917738449, 0.028910615523912074, 0.0034832066896279606, 0.2838813452046788, 0.1769468998331004, 0.4259961781414996, 0.0020899240137767765, 0.05886619305471254, 0.012191223413697862, 0.004528168696516349, 0.003134886020665165, 0.031385833571578294, 0.011956508027267922, 0.4805021663458296, 0.14631776698369117, 0.21402149368809578, 0.005529884962611414, 0.07308415531667517, 0.017635849340220184, 0.006127710363974809, 0.013301615180335562, 0.6611665439742543, 0.058496690735789676, 0.009236319589861527, 0.01924233247887818, 0.18164761860061004, 0.002309079897465382, 0.010775706188171783, 0.0030787731966205093, 0.01154539948732691, 0.042333131453532, 0.9724592382581129, 0.09050186347981554, 0.6733338642898276, 0.1327360664370628, 0.0060334575653210355, 0.03740743690499042, 0.05912788414014615, 0.6291158617008747, 0.15869589304166212, 0.001333578933123211, 0.07734757812114623, 0.06967949925568777, 0.03734021012744991, 0.009668447265143279, 0.011335420931547293, 0.004667526265931239, 0.0006667894665616055, 0.9775302822780457, 0.9766211050938683, 0.9881506247176439, 0.9762016519683386, 0.004100509973068292, 0.0071758924528695115, 0.02562818733167683, 0.001025127493267073, 0.012301529919204877, 0.002050254986534146, 0.5422924439382817, 0.4049253598404939, 0.9634252652456258, 0.10818997791375559, 0.7897868387704158, 0.09196148122669225, 0.9895176266990127, 0.9782953354878076, 0.9515822452275333, 0.028525334037885933, 0.003934528832811853, 0.03344349507890075, 0.20361186709801338, 0.00885268987382667, 0.0009836322082029632, 0.06885425457420742, 0.09934685302849929, 0.4937833685178875, 0.05803430028397483, 0.9858337772407596, 0.9731467239195509, 0.1166239153531912, 0.0036731941843524784, 0.05509791276528718, 0.0009182985460881196, 0.0027548956382643587, 0.7456584194235532, 0.012856179645233674, 0.05693450985746342, 0.0027548956382643587, 0.0158837100527158, 0.9768481682420217, 0.966602046143496, 0.025230224432545006, 0.03784533664881751, 0.0031537780540681257, 0.0031537780540681257, 0.7821369574088952, 0.14192001243306565, 0.0063075561081362514, 0.05324530824643646, 0.003646938920988799, 0.004376326705186558, 0.35667062647270453, 0.0007293877841977597, 0.4799371620021259, 0.02698734801531711, 0.002188163352593279, 0.07220939063557821, 0.06752501951764679, 0.9115877634882317, 0.9973848990987365, 0.001894368279389813, 0.9726417600493727, 0.9862102774146412, 0.771477224568698, 0.08712677782391075, 0.0015196531015798384, 0.02532755169299731, 0.016209633083518277, 0.01063757171105887, 0.05065510338599462, 0.01874238825281801, 0.014689979981938439, 0.003545857237019623, 0.9316249150644054, 0.031285911326789734, 0.010428637108929911, 0.0034762123696433036, 0.006952424739286607, 0.010428637108929911, 0.08906817346155478, 0.053440904076932874, 0.007125453876924382, 0.14250907753848766, 0.09619362733847917, 0.007125453876924382, 0.5735990370924128, 0.03206454244615972, 0.9800255628584446, 0.9371533392753764, 0.05174466290477538, 0.005749406989419487, 0.8294063897916738, 0.15689481440997025, 0.003682976864083809, 0.0007365953728167618, 0.00810254910098438, 0.0007365953728167618, 0.7819544774545546, 0.17109724753670824, 0.0005722315971127366, 0.004577852776901893, 0.016022484719156627, 0.02174480069028399, 0.0005722315971127366, 0.002861157985563683, 0.0005722315971127366, 0.0056017276748225875, 0.9690988877443077, 0.011203455349645175, 0.011203455349645175, 0.011417167607440968, 0.007611445071627312, 0.9780706917041097, 0.983934592756671, 0.16136808793583485, 0.42512320634994466, 0.004340597302071507, 0.12460067549475856, 0.1649426974787173, 0.027320230077744194, 0.025022266800176926, 0.06510895953107261, 0.0012766462653151492, 0.0005106585061260597, 0.9498348943068338, 0.016833954438112708, 0.009352196910062616, 0.020574833202137755, 0.16833954438112708, 0.7743619041531845, 0.007481757528050093, 0.0018704393820125232, 0.9874205330705367, 0.15685171188026928, 0.020883938975559933, 0.016884886831303778, 0.01333017381418719, 0.03510279104402627, 0.46922211825938914, 0.2275016330954614, 0.0026660347628374385, 0.039546182315422, 0.018217904212722496, 0.00876626764946272, 0.03506507059785088, 0.02629880294838816, 0.18628318755108278, 0.7341749156425028, 0.00876626764946272, 0.04597710637881871, 0.10405345127837919, 0.10405345127837919, 0.7453130928776928, 0.970576513912835, 0.9355001251945182, 0.009847369738889665, 0.049236848694448325, 0.08725206314973113, 0.03199242315490142, 0.001454201052495519, 0.018904613682441746, 0.002908402104991038, 0.001454201052495519, 0.0538054389423342, 0.03780922736488349, 0.6180354473105956, 0.14832850735454292, 0.0178445009191428, 0.10706700551485679, 0.0178445009191428, 0.8505878771458067, 0.0017814721445452886, 0.09798096794999087, 0.1086698008172626, 0.003562944289090577, 0.03741091503545106, 0.7321850514081136, 0.008907360722726443, 0.007125888578181154, 0.9873530410136331, 0.24337154891566298, 0.5588825471841772, 0.0063419296134374714, 0.009512894420156208, 0.029444673205245405, 0.03272888675506124, 0.004643198466981006, 0.11098376823515575, 0.003510711036010029, 0.0006794924585825863, 0.0022040217253283044, 0.009697695591444538, 0.7555386474425427, 0.13047808613943562, 0.027770673739136633, 0.028652282429267956, 0.0008816086901313218, 0.041876412781237785, 0.0026448260703939653, 0.0004408043450656609, 0.9639318572464542, 0.03622838175412481, 0.03409730047447041, 0.04581824751256961, 0.05008041007187841, 0.025572975355852807, 0.08417771054634883, 0.670225062451309, 0.043687166232915214, 0.007458784478790402, 0.0010655406398272004, 0.9632056043076986, 0.03158051161664586, 0.9758717286647275, 0.018628800319418028, 0.9686976166097374, 0.11117223547584087, 0.16819345091783844, 0.24607141965909013, 0.18426654520350216, 0.14102226772064497, 0.07960008598614424, 0.018751943333274363, 0.03405965217676364, 0.010524049829898878, 0.006314429897939327, 0.38871958952923646, 0.09845188556794143, 0.0055967480167822, 0.021369401518622946, 0.013483074767702573, 0.015009460590461354, 0.1307603854830023, 0.0391772361174754, 0.19995654278140043, 0.08751278717150349, 0.15975105388392496, 0.13911899895426677, 0.14658583788119067, 0.09038805016802642, 0.04283607594919513, 0.1933518290550826, 0.07486488503047406, 0.017291626988665924, 0.08331420276357218, 0.052660864010937135, 0.9801522766767883, 0.2574691247187211, 0.13896512360646204, 0.06905628841793512, 0.03921715144722242, 0.04944771269432392, 0.08909113752684224, 0.04049597160311011, 0.05413671993257877, 0.2361554554539263, 0.025150129732457855, 0.9879315495663414, 0.18485914104270154, 0.1872161792709327, 0.19428729395562622, 0.1296371025527142, 0.09916396545915411, 0.06515527102324727, 0.014310589242832086, 0.08417993672254169, 0.03131493646078551, 0.009764872659814836, 0.28438079083691786, 0.504117237624947, 0.0029877638005788884, 0.0095065211836601, 0.010592980747506968, 0.02172919127693737, 0.0013580744548085857, 0.15427725806625534, 0.009234906292698382, 0.00190130423673202, 0.07099781778028662, 0.8283078741033438, 0.010142545397183803, 0.001690424232863967, 0.08283078741033438, 0.003380848465727934, 0.2476775498452984, 0.027096347333502732, 0.05101734146386061, 0.0006350706406289703, 0.002751972776058871, 0.0448783252711139, 0.037257477583566255, 0.0002116902135429901, 0.0002116902135429901, 0.5882871034359695, 0.040401617904343524, 0.43818035418359946, 0.0009923204397558059, 0.37339600547382756, 0.09809796347300252, 0.04890722167367901, 0.002612339839682355, 0.007837019519047065, 0.00522467967936471, 0.04179743743491768, 0.23772292541109427, 0.7053317567142358, 0.24062843747387333, 0.6528525639660006, 0.016765096053507567, 0.012820367570329316, 0.01380654969112388, 0.0019723642415891258, 0.05226765240211183, 0.0009861821207945629, 0.00690327484556194, 0.9709497712430398, 0.8223856680231301, 0.1754119014896981, 0.9046351962804605, 0.0793539645860053, 0.006104151122000408, 0.0024416604488001633, 0.0036624906732002447, 0.0012208302244000816, 0.0012208302244000816, 0.994091245724402, 0.9773883481345891, 0.07173958459516899, 0.03422060644482199, 0.22284623835453357, 0.11214463798785038, 0.0406112016242767, 0.1156491579249707, 0.08039781032217215, 0.04246653570863452, 0.27582633387452904, 0.004122964631906264, 0.9525820939809422, 0.9658430925619115, 0.7119361974971499, 0.13970490531733712, 0.14752838001510798, 0.001117639242538697, 0.9825573919731839, 0.014602763787287235, 0.8717747483022139, 0.002087249995935069, 0.035483249930896174, 0.0006957499986450231, 0.04731099990786156, 0.04244074991734641, 0.0005417147427429208, 0.0018960015996002226, 0.13949154625630208, 0.43933065636450874, 0.39626433431644653, 0.0005417147427429208, 0.004333717941943366, 0.01598058491091616, 0.0008125721141143812, 0.0008125721141143812, 0.9575828162886495, 0.0005453205104149484, 0.04198967930195103, 0.8696433322874846, 0.010716736637043398, 0.03810395248726541, 0.0011907485152270441, 0.0015876646869693923, 0.029768712880676104, 0.048820689124308814, 0.9784330711423401, 0.97457067995346, 0.9866430145269348, 0.6756541793912014, 0.25787362506231076, 0.00031602159934106705, 0.012640863973642683, 0.020857425556510427, 0.009480647980232012, 0.018013231162440822, 0.0015801079967053353, 0.00031602159934106705, 0.003476237592751738, 0.5668078585506704, 0.05038292076005959, 0.0005997966757149951, 0.0011995933514299902, 0.0029989833785749754, 0.0011995933514299902, 0.18713656282307847, 0.0035987800542899707, 0.008397153460009932, 0.17813961268735354, 0.2582170386874236, 0.1393332208756299, 0.05406960810099071, 0.004505800675082559, 0.01871640280418909, 0.4162666623672426, 0.08942281339779233, 0.002772800415435421, 0.013517402025247677, 0.0031194004673648487, 0.3359219145444398, 0.36031847817057233, 0.008679546674681755, 0.005629976221415193, 0.007975799647004856, 0.244200218603884, 0.01477868758121488, 0.006568305591651058, 0.015013269923773847, 0.0007037470276768991, 0.06614634375398276, 0.01479222033316914, 0.27100464044353273, 0.08261315506826539, 0.27574931489002097, 0.15099228679706614, 0.11108120174719467, 0.01228033386149891, 0.009489348892976429, 0.006140166930749455, 0.3585944044151323, 0.6042497874106946, 0.0010409126398117049, 0.005204563199058524, 0.006765932158776081, 0.0020818252796234098, 0.020297796476328244, 0.0010409126398117049, 0.9436610530293297, 0.039319210542888734, 0.013106403514296245, 0.01988957027735688, 0.9546993733131303, 0.01988957027735688, 0.9875973800616507, 0.9877015345309587, 0.9781143271509057, 0.0010144041144727175, 0.00033813470482423915, 0.32055170017337875, 0.13525388192969567, 0.4686547008863955, 0.06221678568766001, 0.00405761645789087, 0.007438963506133262, 0.0006762694096484783, 0.003367663667746148, 0.004209579584682686, 0.16501551971956127, 0.12628738754048055, 0.5649255802644164, 0.12628738754048055, 0.008419159169365371, 0.000841915916936537, 0.31956256026116747, 0.07897655951534573, 0.05528359166074201, 0.030420600702207246, 0.03714823354981077, 0.0561611089886903, 0.10968966599353575, 0.07064014489983701, 0.1377702204878809, 0.10427830913785464, 0.9911241204653245, 0.9939701745380307, 0.011789542230671425, 0.01723086941405824, 0.030380743440576365, 0.021311864801598347, 0.004987883251437911, 0.4616059227239812, 0.43621306253484277, 0.015417093686262633, 0.0009068878638978019, 0.963797360549588, 0.011760709335386197, 0.023521418670772395, 0.9526174561662819, 0.13502332739746137, 0.13262646359750643, 0.261524472395083, 0.035420320599334046, 0.32490820399389125, 0.06924273199869814, 0.02370231979955436, 0.005859000399889842, 0.00559268219989485, 0.005859000399889842, 0.9801812724130177, 0.01107869939277783, 0.060359810484789556, 0.5529799093464106, 0.07239357017004823, 0.0475620025655462, 0.23341673548231912, 0.006876434105862101, 0.012797807919243355, 0.002101132643457864, 0.00038202411699233895, 0.9675644658944292, 0.36064157175069134, 0.04603334079511565, 0.04010266498715597, 0.004801023273110222, 0.022310637563276912, 0.007060328342809149, 0.06495502075384417, 0.00028241313371236596, 0.4538379058757721, 0.9914677497896203, 0.0007407703552525262, 0.0007407703552525262, 0.017778488526060628, 0.9281852551314153, 0.02777888832196973, 0.020741569947070732, 0.0033334665986363672, 0.0003703851776262631, 0.003384557487697933, 0.9612143265062131, 0.01579460160925702, 0.002256371658465289, 0.01579460160925702, 0.0011281858292326444, 0.04696370851568242, 0.010436379670151649, 0.07566375260859945, 0.07305465769106154, 0.01304547458768956, 0.09653651194890275, 0.6340100649617126, 0.007827284752613736, 0.04435461359814451, 0.9765219385060103, 0.03656541425615295, 0.9507007706599767, 0.588416442806862, 0.1999922290875975, 0.03506607484965583, 0.023120488911860984, 0.03891948966829932, 0.03737812374084192, 0.03352470892219843, 0.024276513357454035, 0.01541365927457399, 0.0038534148186434975, 0.029339189824715405, 0.010018259940146724, 0.11878793929031116, 0.026476829841816343, 0.01574297990594485, 0.010018259940146724, 0.08944874946559575, 0.04722893971783455, 0.26405270842243866, 0.38856536767854793, 0.025091732725817082, 0.9116662890380206, 0.004181955454302847, 0.05854737636023986, 0.009887480835444655, 0.16808717420255914, 0.7712235051646831, 0.009887480835444655, 0.03954992334177862, 0.9900403251539975, 0.27970300072523635, 0.06227154005014538, 0.00570822450459666, 0.15048955512118467, 0.020757180016715126, 0.01712467351378998, 0.03891971253134086, 0.023870757019222397, 0.3762238878029617, 0.02542754552047603, 0.14554211082485055, 0.03619700165592138, 0.002262312603495086, 0.20813275952154794, 0.010557458816310403, 0.017344396626795662, 0.16062419484815113, 0.05354139828271704, 0.3272812233056225, 0.039213418460581496, 0.9557515776975275, 0.040670279902022446, 0.098096888999838, 0.03814879016660367, 0.01771193829163742, 0.00408737037499325, 0.0027249135833288334, 0.03542387658327484, 0.0245242222499595, 0.16485727179139442, 0.6144680130406519, 0.046276203827659367, 0.014139951169562584, 0.03470715287074452, 0.01028360085059097, 0.01028360085059097, 0.8831042230444995, 0.9669582979466496, 0.9639311681803561, 0.9736682308001912, 0.9895929935883423, 0.015917877568217477, 0.9709905316612661, 0.987098328898497, 0.004071175410644451, 0.004071175410644451, 0.9852244493759573, 0.009330343340156375, 0.0046651716700781875, 0.0023325858350390937, 0.9820186365514585, 0.9814045652169562, 0.013128032775757352, 0.0018754332536796217, 0.0037508665073592434, 0.9808515916744421, 0.9859070496363441, 0.010845512078792661, 0.9869415991701321, 0.9826411519392688, 0.3858969681082407, 0.2641106233644635, 0.3473433027603586, 0.0021618877765167545, 0.010558889090802328, 0.06411970552721091, 0.2943716095718036, 0.24932602627313882, 0.3258779721814557, 0.014135287008654728, 0.0015327419647938863, 0.03746702580607277, 0.0025545699413231436, 0.00017030466275487624, 0.9691453437614485, 0.9671560196004859, 0.016392474908482814, 0.005312251597737526, 0.9827665455814422, 0.005312251597737526, 0.005312251597737526, 0.015907945176339, 0.0079539725881695, 0.0079539725881695, 0.8696343363065319, 0.029164566156621496, 0.063631780705356, 0.0026513241960564996, 0.050484091140739144, 0.0012516716811753507, 0.025867881410957246, 0.20443970792530727, 0.030457344241933533, 0.009178925661952572, 0.5953784963457418, 0.02253009026115631, 0.045894628309762854, 0.013768388492928857, 0.7566793974666826, 0.05501629911043704, 0.0008211387926930901, 0.002052846981732725, 0.005337402152505086, 0.012727651286742898, 0.104695196068369, 0.0032845551707723604, 0.005747971548851631, 0.05296345212870431, 0.3647298183281776, 0.24680051040206682, 0.0024315321221878507, 0.065246111945374, 0.03728349254021371, 0.1497418531914018, 0.005673574951771652, 0.09989544468655086, 0.027759991728311294, 0.0006078830305469627, 0.017432179823017396, 0.05157019864309313, 0.6827603764015147, 0.021790224778771745, 0.19901738631278193, 0.0007263408259590582, 0.01561632775811975, 0.009805601150447285, 0.0010895112389385873, 0.0003631704129795291, 0.02040631334466925, 0.025264959379114313, 0.8094504293385469, 0.017491125724002216, 0.12243788006801551, 0.002915187620667036, 0.000971729206889012, 0.34411503951476524, 0.011664916593720856, 0.0008332083281229183, 0.046659666374883425, 0.011664916593720856, 0.0008332083281229183, 0.39410753920214037, 0.01416454157808961, 0.02416304151556463, 0.15164391571837113, 0.9893092513021942, 0.03310340244828758, 0.003310340244828758, 0.10924122807934901, 0.17213769273109542, 0.009931020734486274, 0.6719990697002378, 0.9761511425139147, 0.05661073527877754, 0.9340771320998293, 0.9740260724982468, 0.11624339777292649, 0.30056640787789907, 0.03718975837840131, 0.08697932560631562, 0.025402840422405263, 0.017070708763856336, 0.012193363402754526, 0.26317342677611855, 0.11664984321968497, 0.024589949528888294, 0.012024445906793444, 0.0007884882561831767, 0.3187463775620492, 0.032032335407441555, 0.03617189875240323, 0.5004929206122715, 0.09166175978129429, 0.0018726596084350448, 0.005815100889350928, 0.0002956830960686913, 0.015490917195646168, 0.0032612457253991933, 0.31878676965777114, 0.02935121152859274, 0.031797145822642134, 0.509569644593624, 0.07419334025283164, 0.00489186858809879, 0.012229671470246974, 0.9857163070778722, 0.9730363713910075, 0.9834221837162507, 0.9831075758506215, 0.9941077104500226, 0.07484538243102326, 0.00474706442480063, 0.27327267538768957, 0.02642532529805684, 0.18197080295069082, 0.1590266582308211, 0.10934071725124117, 0.0064876547138941944, 0.13117721360532408, 0.03259650905029766, 0.008080492303380206, 0.005499223928689307, 0.4436414732675272, 0.01660990084583709, 0.1351237879620801, 0.011110676917147785, 0.04118806493528522, 0.00235681025515256, 0.08978324781533563, 0.24667947337263463, 0.9885022222069967, 0.232927810574408, 0.01029515184859262, 0.03088545554577786, 0.00815032854680249, 0.006434469905370387, 0.46285286852630986, 0.11624942295702499, 0.021877197678259318, 0.03388820816828404, 0.07678467420408662, 0.14479771187330606, 0.01070098563497874, 0.029093304695098448, 0.17188458176184598, 0.039794290330077184, 0.015382666850281937, 0.5022775132418146, 0.033106174308215476, 0.043807159943194215, 0.009697768231699481, 0.0005139044029885445, 0.6634505842582109, 0.04316796985103774, 0.26157734112116915, 0.001027808805977089, 0.010278088059770889, 0.0185005585075876, 0.001027808805977089, 0.9727916022697737, 0.07521763725784522, 0.907984335469703, 0.005372688375560373, 0.9950821232652359, 0.019539577322358923, 0.08792809795061515, 0.8353169305308439, 0.048848943305897306, 0.06043530339508106, 0.01716362616420302, 0.03916207660001253, 0.060677044608661385, 0.02949242805679956, 0.23207156503711127, 0.5277210692458478, 0.026591533493835667, 0.006043530339508106, 0.00048348242716064846, 0.07742445877853892, 0.1047995352752366, 0.19383766287055634, 0.0826782613385112, 0.013272764362035241, 0.1813944462811483, 0.036776617919805986, 0.17531109594854882, 0.08986767536794694, 0.04479557972186894, 0.051603971006788006, 0.042497387887943064, 0.1411520383420966, 0.11686781669184342, 0.015177638531408235, 0.03035527706281647, 0.007588819265704118, 0.4249738788794306, 0.15632967687350482, 0.013659874678267413, 0.01824386995463621, 0.966925107595719, 0.05296698196033089, 0.12005849244341668, 0.2535352869834505, 0.03884245343757598, 0.021186792784132356, 0.4173798178474074, 0.02048056635799461, 0.06991641618763678, 0.005649811409101962, 0.9803955924966042, 0.9824409379167035, 0.9726340208846218, 0.14853404699399964, 0.1717226083524156, 0.09395609160163043, 0.03584329453877098, 0.03061172886644543, 0.21364583056442976, 0.24036923359333592, 0.03683305020650824, 0.02700619036254539, 0.001555330335015703, 0.08761258428188966, 0.11399056664632955, 0.05369803552760979, 0.6396660723376675, 0.0781918762945897, 0.009420707987299963, 0.0009420707987299964, 0.015073132779679942, 0.04785108400899017, 0.02882096990743212, 0.022615497917793624, 0.6908758815130858, 0.0034474844386880527, 0.06343371367186017, 0.0380602282031161, 0.0405424169989715, 0.0630200155392176, 0.001241094397927699, 0.12487222715037392, 0.06799722490577041, 0.13776389432581737, 0.13473056087277185, 0.09731944828521044, 0.03159722346922417, 0.014408333901966221, 0.2052555636560802, 0.15065556150126083, 0.035136112497777275, 0.011285459180834054, 0.01692818877125108, 0.7730539538871327, 0.1297827805795916, 0.062070025494587296, 0.01259363955703718, 0.9697102458918629, 0.008444791427013803, 0.03377916570805521, 0.9289270569715185, 0.016889582854027606, 0.027289544699112725, 0.9551340644689453, 0.10536139008309633, 0.10439477182545324, 0.11696080917481336, 0.019332365152861714, 0.007732946061144685, 0.12662699175124423, 0.09279535273373622, 0.013532655607003199, 0.372148029192588, 0.0405979668210096, 0.02484324978677701, 0.007340051073365934, 0.043475687126859765, 0.5115450978822721, 0.06831893691363677, 0.004516954506686729, 0.02540786910011285, 0.11631157854718327, 0.18745361202749924, 0.011857005580052664, 0.9748880826343359, 0.06789495425520892, 0.9278977081545219, 0.753312723927467, 0.23768315254952838, 0.00389644512376276, 0.0012988150412542533, 0.0012988150412542533, 0.0025976300825085066, 0.03841001276079664, 0.04674426081266761, 0.19893487741205054, 0.10399692134291166, 0.06522454997116411, 0.06449983274926228, 0.06051388802880226, 0.2471285726685218, 0.14458108576941378, 0.030438123319876585, 0.08449726941341668, 0.0618272703025, 0.12004794983735417, 0.16023567553397916, 0.057190225029812504, 0.05512931601972917, 0.012880681313020833, 0.28028362537133333, 0.14890067597852083, 0.019063408343270832, 0.5286622052843633, 0.20117234360378425, 0.01455510496358129, 0.08603106683831084, 0.049123479252086856, 0.06835701081110498, 0.003898688829530703, 0.034568374288505566, 0.0033788636522599424, 0.010396503545415207, 0.011102743798677555, 0.013570020198383676, 0.09745741778839186, 0.09869105598824492, 0.0160372965980898, 0.0900555885892735, 0.13693384018368984, 0.053046442593681645, 0.4848198125422532, 0.9874794703487099, 0.04771443160641603, 0.01789291185240601, 0.02982151975401002, 0.9006098965711026, 0.014015831741848337, 0.005771224834878727, 0.00906906759766657, 0.889593085262021, 0.0008244606906969611, 0.005771224834878727, 0.0008244606906969611, 0.046169798679029816, 0.027207202792999714, 0.9729138255571458, 0.19032809621216418, 0.7087818302940995, 0.0007613123848486567, 0.013322966734851492, 0.021697402968186716, 0.03045249539394627, 0.00038065619242432837, 0.034259057318189554, 0.00038065619242432837, 0.9628253492323651, 0.9488174394813379, 0.961733015237726, 0.6322715677297075, 0.33624620268577315, 0.001930600206808267, 0.0016088335056735558, 0.023167202481699206, 0.0012870668045388447, 0.0032176670113471116, 0.0003217667011347112, 0.011560365720558383, 0.023120731441116767, 0.011560365720558383, 0.04624146288223353, 0.9017085262035539, 0.979264611637471, 0.013370803774247781, 0.2427315146709597, 0.022113252395871332, 0.49986235648341704, 0.10490938345948259, 0.03548405617011911, 0.02879865428299522, 0.048340598260741975, 0.001542785050874744, 0.0035998317853744026, 0.9712740614991304, 0.15245764769653927, 0.003764386362877513, 0.0018821931814387565, 0.02070412499582632, 0.03576167044733637, 0.20704124995826323, 0.572186727157382, 0.003764386362877513, 0.9891647307371647, 0.968849722840702, 0.020903184941759242, 0.004180636988351849, 0.02508382193011109, 0.02926445891846294, 0.006270955482527773, 0.10869656169714807, 0.7943210277868512, 0.006270955482527773, 0.006270955482527773, 0.9598726404067187, 0.02976349272578973, 0.007440873181447432, 0.35888684872361853, 0.27728128812575425, 0.046279332430953286, 0.0518052228704701, 0.03285931279212675, 0.10962971925541386, 0.017860467313438263, 0.07223128217368402, 0.021314148838136267, 0.012038547028947336, 0.9626121662931982, 0.9456106911255924, 0.007625892670367681, 0.0381294633518384, 0.003886676893736496, 0.9911026079028066, 0.025859244035776007, 0.020112745361159118, 0.00028732493373084453, 0.8892706698969638, 0.04798326393305104, 0.00574649867461689, 0.009769047746848714, 0.0005746498674616891, 0.9437148217508389, 0.3314127071229833, 0.07180608654331305, 0.03452215699197743, 0.027617725593581943, 0.02899861187326104, 0.015189749076470069, 0.08561494934010402, 0.0027617725593581943, 0.017951521635828263, 0.3825054994711099, 0.9991488741004926, 0.000600450044531546, 0.19915681032897461, 0.6888130282054761, 0.0014974196265336436, 0.0205895198648376, 0.022835649304638064, 0.051660977115410706, 0.0003743549066334109, 0.013102421732169382, 0.0007487098132668218, 0.0014974196265336436, 0.020501712079978866, 0.8115261031658301, 0.02904409211330339, 0.010250856039989433, 0.030752568119968297, 0.0939661803665698, 0.9780938084796693, 0.19985246915383206, 0.2283332717007241, 0.05988271304731144, 0.19254969927001359, 0.06256039533804487, 0.027993951221304124, 0.19315826342699846, 0.008763323860582161, 0.004259949098894106, 0.022638586639837248, 0.0057356326304226655, 0.006691571402159776, 0.03345785701079888, 0.36230079448836505, 0.5745192018140036, 0.0009559387717371109, 0.010515326489108221, 0.004779693858685555, 0.983544332831066, 0.0057855548990062705, 0.0057855548990062705, 0.36732507966078154, 0.13993336368029774, 0.07644507830682933, 0.009069755053352632, 0.0019435189400041353, 0.09199322982686241, 0.07644507830682933, 0.0025913585866721802, 0.009717594700020676, 0.2241525177471436, 0.976004464592659, 0.9779145585291482, 0.33876792816576634, 0.07116973280793411, 0.09346958242108679, 0.05851733586430138, 0.042543684722965054, 0.21224395872943905, 0.06373644960354988, 0.021034609918789412, 0.03242176716805887, 0.06610877403048102, 0.8121438972307188, 0.09894138849511294, 0.0006870929756605065, 0.0034354648783025328, 0.023361161172457224, 0.008932208683586585, 0.041225578539630395, 0.002748371902642026, 0.0020612789269815195, 0.005496743805284052, 0.9703709605558358, 0.008770443008307174, 0.005846962005538115, 0.9033556298556388, 0.07893398707476455, 0.9957074471982584, 0.0007076811991458837, 0.002830724796583535, 0.9861338062607842, 0.9767676564866304, 0.9920852385136135, 0.9759949908112198, 0.9698650841147256, 0.027672274885726607, 0.06720409615105033, 0.02174250169592805, 0.04150841232858991, 0.005929773189798558, 0.10673591741637405, 0.1146422816694388, 0.13638478336536686, 0.47833503731041704, 0.04959387456313854, 0.1487816236894156, 0.013225033216836943, 0.05620639117155701, 0.0033062583042092358, 0.009918774912627708, 0.5256950703692685, 0.042981357954720065, 0.1454753653852064, 0.013269713036859972, 0.02902749726813119, 0.0464439956290099, 0.28198140203327443, 0.0962054195172348, 0.0008293570648037483, 0.18162919719202086, 0.015757784231271218, 0.021563283684897454, 0.3126676134310131, 0.05866939179660834, 0.04245811248438761, 0.0025732189384477344, 0.0015439313630686406, 0.012094129010704351, 0.8707772887707133, 0.007205013027653656, 0.0007719656815343203, 0.003087862726137281, 0.0007719656815343203, 0.9623945773708502, 0.9773487192040268, 0.07824188260944438, 0.09673541849894941, 0.11665153407226253, 0.16312247040999314, 0.10432251014592585, 0.012803217154272717, 0.004267739051424239, 0.249899831122286, 0.1640708568658652, 0.009009671330784504, 0.9599966298547463, 0.06517857374226559, 0.06267170552140922, 0.015041209325138213, 0.09275412417168565, 0.05013736441712738, 0.002506868220856369, 0.6342376598766614, 0.07771291484654744, 0.0757721231714247, 0.9092654780570965, 0.014147548132258797, 0.18391812571936436, 0.7922626954064926, 0.9865593458194677, 0.005830522665304221, 0.9911888531017176, 0.0043406382589323, 0.9896655230365645, 0.0041784355896731865, 0.08356871179346373, 0.029249049127712305, 0.0020892177948365932, 0.8753822560365325, 0.0020892177948365932, 0.9423643615724353, 0.04283474370783797, 0.16238090519425047, 0.18389509452598082, 0.043028378663460695, 0.035856982219550575, 0.3995492304464207, 0.11935252653078979, 0.020489704125457472, 0.005634668634500805, 0.02561213015682184, 0.004097940825091495, 0.019056908852451974, 0.9528454426225986, 0.9854830309028397, 0.007498198077453606, 0.014996396154907212, 0.03749099038726803, 0.06748378269708245, 0.014996396154907212, 0.03749099038726803, 0.817303590442443, 0.990494999825202, 0.5115885953312014, 0.19313575212791753, 0.00825618482378884, 0.04570388027454537, 0.009140776054909074, 0.059857339972469094, 0.02801205565214071, 0.08049780203194119, 0.05779329376652188, 0.006487002361548375, 0.01204261547215428, 0.7586847747457197, 0.03612784641646284, 0.17762857821427563, 0.004515980802057855, 0.001505326934019285, 0.007526634670096425, 0.002957734158630808, 0.9168975891755505, 0.014788670793154041, 0.06211241733124697, 0.9528809140091107, 0.9738337701240154, 0.08589339826311708, 0.11569314868093321, 0.07596014812384504, 0.1273793253153709, 0.5352268898572465, 0.048497633032916446, 0.005843088317218849, 0.0023372353268875396, 0.0023372353268875396, 0.0011686176634437698, 0.9472879189316625, 0.9632941847482298, 0.017201681870504103, 0.9576080427541398, 0.033308105834926605, 0.9915356543497649, 0.007225359033123832, 0.8887191610742312, 0.003612679516561916, 0.09754234694717172, 0.995398094230098, 0.9845260850843146, 0.7640547377235707, 0.06886330254160937, 0.0019675229297602677, 0.1619927212169287, 0.0026233639063470236, 0.8611600896256218, 0.11115517461200282, 0.0011700544696000297, 0.003510163408800089, 0.011700544696000298, 0.009360435756800237, 0.001665252100584086, 0.00832626050292043, 0.8026515124815294, 0.006661008402336344, 0.021648277307593118, 0.13988117644906323, 0.018317773106424948, 0.11555626340724379, 0.09541342850139395, 0.30532297120446067, 0.10147142396179992, 0.2450459163734213, 0.10434897180549275, 0.02241458320350207, 0.008481193644568352, 0.001211599092081193, 0.0007572494325507456, 0.14696853553670058, 0.04166295538652003, 0.001640273834114962, 0.048880160256625865, 0.020995505076671514, 0.010169697771512765, 0.2335749939779706, 0.037726298184644125, 0.3982584869231128, 0.0603620770954306, 0.07388539862137923, 0.018999102502640374, 0.002111011389182264, 0.05488629611873886, 0.07388539862137923, 0.688189712873418, 0.08866247834565508, 0.9677528028578759, 0.9914026968312195, 0.013004892026770298, 0.05278456175571474, 0.19124841215838673, 0.08261931405242307, 0.5316705858003151, 0.10939409175459722, 0.00994491743223611, 0.00764993648633547, 0.000764993648633547, 0.001529987297267094, 0.061519825981178354, 0.015693833158463864, 0.16258811152168565, 0.143755511731529, 0.05524229271779281, 0.028248899685234957, 0.0012555066526771092, 0.38355728239285686, 0.14438326505786755, 0.004394273284369882, 0.9820510439931271, 0.05616861487791445, 0.25664736336523986, 0.14171773599966106, 0.13566880824357797, 0.09159804887782971, 0.02160331341458248, 0.007777192829249693, 0.28689200214565536, 0.0017282650731665983, 0.9825214097521588, 0.027816319510747412, 0.03367238677616792, 0.054168622205139697, 0.06002468947056021, 0.011712134530841016, 0.03220836995981279, 0.016104184979906396, 0.5050858016425188, 0.25327490922943696, 0.004392050449065381, 0.966075920540261, 0.9639281665037687, 0.9872866406970168, 0.02296581613068964, 0.020669234517620677, 0.041338469035241354, 0.09415984613582754, 0.01148290806534482, 0.03904188742217239, 0.0022965816130689643, 0.4799855571314135, 0.2755897935682757, 0.01607607129148275, 0.9948694064741236, 0.08751652040139286, 0.8086526485088701, 0.0945178420335043, 0.010501982448167144, 0.48456882234405585, 0.11847922613425815, 0.004485018024009773, 0.031021374666067594, 0.013455054072029318, 0.014763184329032168, 0.007475030040016288, 0.2943293078256413, 0.0285919899030623, 0.002990012016006515, 0.548157403973828, 0.1773325348774913, 0.002126289387020279, 0.06974229189426516, 0.02423969901203118, 0.040399498353385306, 0.0025515472644243352, 0.1135438532668829, 0.021262893870202793, 0.0008505157548081117, 0.23059285521135092, 0.08338071771611469, 0.13077295513912837, 0.10811354162124995, 0.07449467319929963, 0.12899574623576535, 0.11596288094443659, 0.04265301368071231, 0.06057320345628935, 0.024584723163188344, 0.06194558016599271, 0.06194558016599271, 0.037167348099595626, 0.5302541662208976, 0.013215057102078445, 0.04790458199503437, 0.11645769071206631, 0.01156317496431864, 0.11893551391870602, 0.0016518821377598056, 0.04470281333255866, 0.015826461863079774, 0.09134922724479379, 0.37206068239520873, 0.008329716770041986, 0.15076787353775994, 0.04053795494753767, 0.023323206956117563, 0.25183510368093603, 0.001388286128340331, 0.006737940463359903, 0.06064146417023913, 0.026951761853439612, 0.013475880926719806, 0.8894081411635072, 0.006737940463359903, 0.009350450509573642, 0.0059842883261271304, 0.31903737138665267, 0.048622342649782935, 0.04600421650710232, 0.4948258409666371, 0.056476721077824796, 0.007480360407658913, 0.012342594672637206, 0.00037401802038294565, 0.12642974658494158, 0.055805071294818535, 0.3735003319441589, 0.03102854586516881, 0.10952613577779736, 0.13939690008083302, 0.03751212261311453, 0.0372805663006879, 0.05163705767113914, 0.03774367892554117, 0.9530418242776763, 0.022284846507674202, 0.08356817440377826, 0.8913938603069681, 0.973037785935431, 0.9726889451495827, 0.45900503605227316, 0.183986119053589, 0.02439064417516263, 0.041291248013070596, 0.03956277716601183, 0.08277454834248106, 0.09487384427189244, 0.022086016379084274, 0.02439064417516263, 0.027463481236600442, 0.03201918721422997, 0.007277088003234084, 0.02700608214533538, 0.02263982934339493, 0.01956728107536276, 0.3161490454738363, 0.5700385602533367, 0.003234261334770704, 0.0017788437341238873, 0.0001617130667385352, 0.028347389127836742, 0.026772534176290257, 0.04252108369175511, 0.003149709903092971, 0.2630007769082631, 0.6267922707155013, 0.007874274757732428, 0.0015748549515464856, 0.9537773920972098, 0.01660684248663166, 0.0027678070811052767, 0.01660684248663166, 0.03044587789215804, 0.011071228324421107, 0.18267526735294826, 0.7362366835740036, 0.0027678070811052767, 0.03238486541616905, 0.002355262939357749, 0.014720393370985931, 0.012365130431628183, 0.015898024840664805, 0.3409243104720342, 0.5770394201426485, 0.0017664472045183118, 0.0029440786741971865, 0.0005888157348394373, 0.11636313177117046, 0.030671803754900907, 0.09011818629017276, 0.042055153602080626, 0.005691674923589859, 0.07620520314361978, 0.017391228933191238, 0.26466288394692844, 0.3041884042496358, 0.05312229928683868, 0.09173978604853013, 0.05871346307105928, 0.025687140093588433, 0.286228132471414, 0.08073101172270651, 0.0018347957209706024, 0.003669591441941205, 0.40915944577644436, 0.04220030158232386, 0.12440838168948026, 0.02851025413717256, 0.18531665189162164, 0.01619900803248441, 0.005183682570395011, 0.15486251679055096, 0.022030650924178795, 0.04794906377615385, 0.3758169863536383, 0.03952557959926196, 0.23335978164961163, 0.7066528599248804, 0.026294059904181592, 0.019720544928136196, 0.013147029952090796, 0.27747864732053784, 0.37708636687150016, 0.030015719061115873, 0.059142083483383866, 0.06492288863589507, 0.03935394276901859, 0.014452012881278013, 0.09427159171787504, 0.027347655144572238, 0.015786044839549828, 0.25659430491498714, 0.3556625767418064, 0.07053404466634382, 0.047129566208875186, 0.05803028220276468, 0.11948039687420059, 0.028747966689767403, 0.03473267350994203, 0.022763259869592777, 0.006305316114112554, 0.19617568273616928, 0.3469738768535061, 0.07884985664945415, 0.08143792634254345, 0.12353719335012947, 0.08747675562641849, 0.04641271649606819, 0.025708158951353758, 0.011560044629132227, 0.0018979177749321567, 0.07539455475120486, 0.9198135679646994, 0.028751586869281573, 0.07044138782973985, 0.1408827756594797, 0.06612864979934761, 0.6742247120846528, 0.0014375793434640786, 0.017250952121568942, 0.0713412095226239, 0.08243873100392096, 0.04121936550196048, 0.019024322539366374, 0.6975584931101004, 0.011097521481297052, 0.03487792465550502, 0.01426824190452478, 0.02378040317420797, 0.0047560806348415936, 0.0865311345827606, 0.056578049534881936, 0.03161714532831637, 0.016640602804377038, 0.7571474275991553, 0.03827338645006719, 0.004992180841313112, 0.004992180841313112, 0.0016640602804377038, 0.9710773218896325, 0.253736536194517, 0.23427328324222824, 0.05987777513762236, 0.08332891172233728, 0.09463783545608305, 0.13999257169352664, 0.04041452218533358, 0.04892597531125803, 0.025653400680233834, 0.019284690998598055, 0.0009288041140319306, 0.8136324038919711, 0.09195160728916112, 0.04086738101740495, 0.0009288041140319306, 0.048297813929660385, 0.0018576082280638612, 0.0009288041140319306, 0.9665115271398314, 0.10647497942534623, 0.10269799535789308, 0.31510838505609223, 0.09802172936961773, 0.030215872539625283, 0.12230234123181662, 0.14388510733154897, 0.02320147355721227, 0.019964058642252418, 0.03830940982702491, 0.0006314111579128656, 0.25572151895471057, 0.0012628223158257313, 0.7393824659159657, 0.003157055789564328, 0.2831537620350781, 0.24379113636621286, 0.03758240641750949, 0.19483510695393078, 0.0598351470594559, 0.017604390374517602, 0.1432087486646151, 0.006725272727343803, 0.003659339572231187, 0.009593403743416896, 0.03072617174051172, 0.032258448021534616, 0.4044402920699902, 0.10024312722691882, 0.19032484332705424, 0.11153358403445593, 0.11911431931951656, 0.00862913484576051, 0.0012903379208613847, 0.001370984040915221, 0.007261144472889509, 0.050828011310226566, 0.9366876370027467, 0.02215370153009835, 0.006329629008599528, 0.003164814504299764, 0.26584441836118017, 0.6994240054502479, 0.9733433499309881, 0.24613155901069173, 0.016877592617876004, 0.007032330257448335, 0.004219398154469001, 0.1364272069944977, 0.007032330257448335, 0.5822769453167221, 0.9787723159411018, 0.9818592542450182, 0.021577967692424045, 0.9494305784666579, 0.01985660681624224, 0.9729737339958696, 0.98837423262991, 0.9862412811128797, 0.020872995574550763, 0.012523797344730457, 0.004174599114910152, 0.020872995574550763, 0.020872995574550763, 0.020872995574550763, 0.22960295132005837, 0.6679358583856244, 0.043838788027356704, 0.010315008947613342, 0.07478381487019672, 0.02836627460593669, 0.06962631039639006, 0.010315008947613342, 0.7633106621233873, 0.016624826581868594, 0.058510753294628425, 0.06434023794021872, 0.3411328051863945, 0.03886323097060191, 0.008852180387748211, 0.4605292870016326, 0.008636273549022647, 0.0019431615485300954, 0.0008636273549022646, 0.019916964620011402, 0.019916964620011402, 0.9560143017605474, 0.9848955307958952, 0.9870204357491223, 0.013189519725598564, 0.0013189519725598563, 0.0013189519725598563, 0.9786623636394134, 0.003956855917679569, 0.0991183546090552, 0.8810520409693795, 0.9848592722820081, 0.04340841729245887, 0.25011516630416775, 0.024804809881405068, 0.006201202470351267, 0.673864001778171, 0.9902949496608807, 0.018389386718391514, 0.9746374960747503, 0.977815644686106, 0.9023676679694589, 0.007366266677301706, 0.0902367667969459, 0.9883984991391218, 0.9578845068257783, 0.24247445129519685, 0.05174759631299933, 0.09462417611519877, 0.0014785027517999808, 0.025134546780599676, 0.042876579802199444, 0.05618310456839927, 0.4864274053421937, 0.9942468748762902, 0.9953087449551512, 0.07435811492748506, 0.9071690021153178, 0.0035727010319765145, 0.014290804127906058, 0.021436206191859087, 0.0250089072238356, 0.875311752834246, 0.042872412383718174, 0.01786350515988257, 0.9403877980783165, 0.004873245692713236, 0.9941421213135001, 0.9924017248754541, 0.07134553509143067, 0.012729701281873522, 0.11160691588991437, 0.21078017006264993, 0.09384454200823038, 0.15749304841759798, 0.23771977044987064, 0.01065742432901039, 0.047070290786462556, 0.04677425122176782, 0.020645588703162906, 0.03096838305474436, 0.08099423260471601, 0.5661655671290443, 0.2525114310617617, 0.018263405391259493, 0.018263405391259493, 0.010322794351581453, 0.0007940611039678041, 0.0031762444158712163, 0.042098301352350674, 0.02001394654456016, 0.029330783729096782, 0.5931719674154985, 0.05762636332657839, 0.05176020658075903, 0.09316837184536625, 0.025880103290379514, 0.031056123948455416, 0.055901023107219755, 0.0015818025410140701, 0.06801750926360502, 0.745028996817627, 0.1534348464783648, 0.0015818025410140701, 0.030054248279267334, 0.479080866555974, 0.2411448568096547, 0.02053662120534651, 0.022354967874569896, 0.02855873886368499, 0.08685279384761127, 0.03267675926163208, 0.024173314543793286, 0.04315899300186102, 0.021499275324347127, 0.2222214808185389, 0.3741808913093063, 0.02428521222738409, 0.16763869799679698, 0.09490095069438928, 0.028175561758955327, 0.023106318429938263, 0.04727364127757777, 0.010610044177012466, 0.00754492030365331, 0.7603636000748948, 0.17358345391145763, 0.01497582739628262, 0.0020421582813112665, 0.0061264748439337985, 0.011572230260763842, 0.001361438854207511, 0.019740863386008906, 0.001361438854207511, 0.00884935255234882, 0.0007026096440439301, 0.0014052192880878603, 0.0815027187090959, 0.16581587599436753, 0.7419557841103903, 0.0007026096440439301, 0.007728706084483232, 0.23916318078758364, 0.30255583111682266, 0.04152727093760311, 0.07847806711881732, 0.08237654561500046, 0.06779962602057651, 0.03135732703451664, 0.06457914378459913, 0.05508719614171842, 0.037459293376368524, 0.011505200831369952, 0.025311441829013893, 0.07823536565331567, 0.27612481995287885, 0.6097756440626074, 0.15078852774885787, 0.06728735378040432, 0.14951458473408255, 0.053853045624592095, 0.02605792530222198, 0.2872162433311578, 0.1961872242753957, 0.011928739138350507, 0.04435637951444897, 0.012739430147752967, 0.06345663643352943, 0.1312623258313506, 0.15676359094015216, 0.2096441213014267, 0.2338604389435057, 0.03894379245297601, 0.13936737908298522, 0.015617053826320329, 0.0028664212719195542, 0.008302737477284225, 0.978417731722093, 0.9824435772493533, 0.9665592927300767, 0.94474008761147, 0.04687641656087446, 0.003605878196990343, 0.1353319128831418, 0.5632733671352388, 0.02286012041944963, 0.034290180629174445, 0.04617744324728825, 0.022402918011060636, 0.016459286702003733, 0.1536200092187015, 0.0027432144503339554, 0.0027432144503339554, 0.9841015820979683, 0.0011139923671495814, 0.010582927487921024, 0.24396432840575835, 0.191606687149728, 0.543071278985421, 0.006126958019322698, 0.0011139923671495814, 0.002227984734299163, 0.023603302112810767, 0.3422478806357561, 0.005163222337177356, 0.1844007977563341, 0.015489667011532067, 0.005900825528202692, 0.028028921258962787, 0.3540495316921615, 0.037617762742292164, 0.002950412764101346, 0.017315028967207192, 0.163493831209591, 0.010322421115065827, 0.12919675460146907, 0.021976767535301436, 0.005660682546971583, 0.013652234377990288, 0.5144561491218291, 0.12187116542303525, 0.0023308692840471224, 0.9864250239662312, 0.028472427089207247, 0.05219944966354662, 0.26574265283260096, 0.0012942012313276023, 0.00043140041044253404, 0.29939188484711865, 0.010353609850620818, 0.0017256016417701362, 0.29162667745915305, 0.04874824638000635, 0.9725924466519926, 0.3445312699586939, 0.07652692706331583, 0.13288148423128063, 0.052832397344967, 0.0926968426143512, 0.051551611954785984, 0.12023372850324308, 0.028977769452845536, 0.06708113481073083, 0.032660027449615964, 0.07860701898721578, 0.1209700831120626, 0.13367900234951666, 0.18639748214932603, 0.3859745842486044, 0.03247834916238257, 0.025888539187406395, 0.027771342037399584, 0.007060510687474471, 0.0009414014249965961, 0.016008066156674113, 0.9604839694004468, 0.9605921577018152, 0.5326315643173047, 0.28974568284603264, 0.0022080534679206555, 0.007114838952188778, 0.01153094588803009, 0.1037785129922708, 0.020853838308139524, 0.021344516856566336, 0.010058910242749653, 0.0007360178226402185, 0.5435420790879668, 0.2569433941205612, 0.0033180745003462304, 0.019078928376990826, 0.020945345283435578, 0.08440352010255724, 0.01036898281358197, 0.029862670503116074, 0.029240531534301156, 0.002073796562716394, 0.9909816286613383, 0.14334560961269116, 0.06138132514184468, 0.46495434912834444, 0.06689461781925587, 0.051457398322504525, 0.1246004145094931, 0.05513292677411199, 0.0051457398322504525, 0.00955637397417941, 0.018010089412876584, 0.9886595597343103, 0.9303149632997286, 0.04267499831650132, 0.017069999326600527, 0.008534999663300263, 0.07055582781494484, 0.029707716974713614, 0.14853858487356808, 0.01856732310919601, 0.7018448135276092, 0.025994252352874413, 0.9843529980266541, 0.9825781047985744, 0.9878248557468836, 0.008038601532852426, 0.034833939975693846, 0.002679533844284142, 0.001339766922142071, 0.9512345147208705, 0.001339766922142071, 0.01323242983721479, 0.058222691283745076, 0.001323242983721479, 0.02249513072326514, 0.007939457902328874, 0.8839263131259479, 0.009262700886050353, 0.9804417282387528, 0.9769422539312885, 0.9749371386779628, 0.9829386868316924, 0.012512521116456446, 0.9759766470836028, 0.9749156977568249, 0.985678146609966, 0.9784338753113342], \"Term\": [\"$\", \"$\", \"$\", \"$\", \"$\", \"$\", \"$\", \"$\", \"10/11\", \"18f\", \"19f\", \"1:30pm\", \"20f\", \"21f\", \"22f\", \"25f\", \"26f\", \"28f\", \"3:30pm\", \"4:30\", \"4days\", \"5/6\", \"5:00\", \"5wks\", \"6:00\", \"6:30\", \"6:30\", \"6w\", \"6weeks\", \"7w\", \"9:45\", \"9wks\", \"=\", \">\", \">\", \">\", \"able\", \"able\", \"able\", \"able\", \"able\", \"able\", \"able\", \"able\", \"able\", \"able\", \"abortionrx\", \"abortions\", \"abortions\", \"abortions\", \"abortions\", \"abortions\", \"abortions\", \"abortions\", \"abortions\", \"abortions\", \"abortions\", \"absorbed\", \"abuser\", \"access\", \"access\", \"access\", \"access\", \"access\", \"access\", \"access\", \"access\", \"accessible\", \"accessible\", \"accessible\", \"addicted\", \"address\", \"address\", \"address\", \"address\", \"address\", \"address\", \"adjusting\", \"advance\", \"advance\", \"advance\", \"advance\", \"advance\", \"advance\", \"advance\", \"advance\", \"advance\", \"advance\", \"advice\", \"advice\", \"advice\", \"advice\", \"advice\", \"advice\", \"advice\", \"advice\", \"advice\", \"advice\", \"advices\", \"ago\", \"ago\", \"ago\", \"ago\", \"ago\", \"ago\", \"ago\", \"ago\", \"ago\", \"ago\", \"agony\", \"agony\", \"agony\", \"agony\", \"aid\", \"aid\", \"aid\", \"aid\", \"aid\", \"aidaccess\", \"anal\", \"anesthesia\", \"anesthesia\", \"anesthesia\", \"anesthesia\", \"anesthesia\", \"anesthesia\", \"anesthesiologist\", \"angels\", \"anger\", \"anger\", \"anger\", \"anger\", \"anger\", \"angry\", \"angry\", \"angry\", \"angry\", \"angry\", \"angry\", \"angry\", \"angry\", \"announcing\", \"antibiotic\", \"antibiotic\", \"antibiotic\", \"antibiotics\", \"antibiotics\", \"antibiotics\", \"anyones\", \"appointment\", \"appointment\", \"appointment\", \"appointment\", \"appointment\", \"appointment\", \"appointment\", \"appointment\", \"appointment\", \"appointment\", \"appreciated\", \"appreciated\", \"appreciated\", \"appreciated\", \"appreciated\", \"appreciated\", \"appreciated\", \"appreciated\", \"appreciated\", \"apps\", \"arizona\", \"arizona\", \"ask\", \"ask\", \"ask\", \"ask\", \"ask\", \"ask\", \"ask\", \"ask\", \"ask\", \"ask\", \"asked\", \"asked\", \"asked\", \"asked\", \"asked\", \"asked\", \"asked\", \"asked\", \"asked\", \"asked\", \"asleep\", \"asleep\", \"asleep\", \"asleep\", \"assist\", \"ate\", \"ate\", \"ate\", \"attentive\", \"attentive\", \"attracted\", \"aug\", \"avail\", \"awake\", \"awake\", \"awake\", \"awake\", \"awake\", \"awake\", \"awake\", \"b\", \"b\", \"b\", \"b\", \"b\", \"b\", \"b\", \"b\", \"b\", \"b\", \"babies\", \"babies\", \"babies\", \"babies\", \"babies\", \"babies\", \"baby\", \"baby\", \"baby\", \"baby\", \"baby\", \"baby\", \"baby\", \"baby\", \"baby\", \"baby\", \"bad\", \"bad\", \"bad\", \"bad\", \"bad\", \"bad\", \"bad\", \"bad\", \"bad\", \"bad\", \"bans\", \"bath\", \"bath\", \"bath\", \"bathroom\", \"bathroom\", \"bathroom\", \"bathroom\", \"bathroom\", \"bathroom\", \"bathroom\", \"bathtub\", \"beach\", \"bed\", \"bed\", \"bed\", \"bed\", \"bed\", \"bed\", \"bed\", \"bed\", \"beneficial\", \"best\", \"best\", \"best\", \"best\", \"best\", \"best\", \"best\", \"best\", \"best\", \"best\", \"beta\", \"bill\", \"bill\", \"bill\", \"bill\", \"birth\", \"birth\", \"birth\", \"birth\", \"birth\", \"birth\", \"birth\", \"birth\", \"birth\", \"birth\", \"blacked\", \"bled\", \"bled\", \"bled\", \"bled\", \"bled\", \"bled\", \"bled\", \"bleed\", \"bleed\", \"bleed\", \"bleed\", \"bleed\", \"bleed\", \"bleed\", \"bleed\", \"bleeding\", \"bleeding\", \"bleeding\", \"bleeding\", \"bleeding\", \"bleeding\", \"bleeding\", \"bleeding\", \"bleeding\", \"blood\", \"blood\", \"blood\", \"blood\", \"blood\", \"blood\", \"blood\", \"blood\", \"blood\", \"blood\", \"body\", \"body\", \"body\", \"body\", \"body\", \"body\", \"body\", \"body\", \"body\", \"body\", \"bottle\", \"bottle\", \"bottle\", \"bottle\", \"bottle\", \"bottle\", \"bottle\", \"boyfriend\", \"boyfriend\", \"boyfriend\", \"boyfriend\", \"boyfriend\", \"boyfriend\", \"boyfriend\", \"boyfriend\", \"boyfriend\", \"boyfriend\", \"bp\", \"bpd\", \"bpd\", \"brave\", \"brave\", \"brave\", \"brave\", \"brave\", \"brazil\", \"breakdowns\", \"breasts\", \"breasts\", \"breasts\", \"breasts\", \"breasts\", \"breasts\", \"brown\", \"brown\", \"brown\", \"brown\", \"brownish\", \"brownish\", \"bucally\", \"buccally\", \"bucket\", \"buy\", \"buy\", \"buy\", \"buy\", \"buy\", \"buy\", \"buy\", \"buy\", \"buy\", \"buy\", \"bypass\", \"called\", \"called\", \"called\", \"called\", \"called\", \"called\", \"called\", \"called\", \"called\", \"called\", \"came\", \"came\", \"came\", \"came\", \"came\", \"came\", \"came\", \"came\", \"came\", \"came\", \"carafem\", \"career\", \"career\", \"career\", \"career\", \"career\", \"careers\", \"careers\", \"careers\", \"cells\", \"cells\", \"cells\", \"cells\", \"cells\", \"cervix\", \"cervix\", \"cervix\", \"cervix\", \"cervix\", \"chair\", \"chair\", \"chalked\", \"chicago\", \"chicago\", \"child\", \"child\", \"child\", \"child\", \"child\", \"child\", \"child\", \"child\", \"child\", \"child\", \"choice\", \"choice\", \"choice\", \"choice\", \"choice\", \"choice\", \"choice\", \"choice\", \"choice\", \"choice\", \"church\", \"church\", \"citizen\", \"clearblue\", \"climate\", \"clinic\", \"clinic\", \"clinic\", \"clinic\", \"clinic\", \"clinic\", \"clinic\", \"clinic\", \"clinic\", \"clinic\", \"clot\", \"clot\", \"clot\", \"clots\", \"clots\", \"clots\", \"clots\", \"clotting\", \"clotting\", \"clotting\", \"clumps\", \"college\", \"college\", \"college\", \"college\", \"college\", \"college\", \"college\", \"college\", \"college\", \"commitment\", \"community\", \"community\", \"community\", \"community\", \"community\", \"community\", \"community\", \"community\", \"community\", \"community\", \"con\", \"condom\", \"condom\", \"condom\", \"condom\", \"condom\", \"condom\", \"condoms\", \"condoms\", \"condoms\", \"condoms\", \"condoms\", \"condoms\", \"condoms\", \"condoms\", \"confirm\", \"confirm\", \"confirm\", \"confirm\", \"confirm\", \"confirm\", \"confirm\", \"confirm\", \"confirm\", \"confirm\", \"contractions\", \"contractions\", \"contractions\", \"control\", \"control\", \"control\", \"control\", \"control\", \"control\", \"control\", \"control\", \"control\", \"control\", \"cost\", \"cost\", \"cost\", \"cost\", \"cost\", \"cost\", \"cost\", \"couch\", \"couch\", \"couch\", \"couch\", \"couch\", \"couch\", \"countries\", \"countries\", \"countries\", \"country\", \"country\", \"country\", \"country\", \"country\", \"country\", \"country\", \"country\", \"country\", \"country\", \"cramping\", \"cramping\", \"cramping\", \"cramping\", \"cramping\", \"cramping\", \"cramping\", \"cramps\", \"cramps\", \"cramps\", \"cramps\", \"cramps\", \"cramps\", \"cramps\", \"cramps\", \"cruel\", \"cruel\", \"cruel\", \"crush\", \"cry\", \"cry\", \"cry\", \"cry\", \"cry\", \"cry\", \"cry\", \"cry\", \"cry\", \"cry\", \"crying\", \"crying\", \"crying\", \"crying\", \"crying\", \"crying\", \"crying\", \"crying\", \"cum\", \"cum\", \"currently\", \"currently\", \"currently\", \"currently\", \"currently\", \"currently\", \"currently\", \"currently\", \"currently\", \"currently\", \"customs\", \"customs\", \"cycle\", \"cycle\", \"cycle\", \"cycle\", \"cycle\", \"cycle\", \"cycle\", \"cycle\", \"cycle\", \"cycles\", \"cycles\", \"cycles\", \"cycles\", \"cystic\", \"dad\", \"dad\", \"dad\", \"dad\", \"dads\", \"daughters\", \"day\", \"day\", \"day\", \"day\", \"day\", \"day\", \"day\", \"day\", \"day\", \"day\", \"daycare\", \"days\", \"days\", \"days\", \"days\", \"days\", \"days\", \"days\", \"days\", \"days\", \"days\", \"de\", \"decision\", \"decision\", \"decision\", \"decision\", \"decision\", \"decision\", \"decision\", \"decision\", \"decision\", \"decision\", \"decreasing\", \"def\", \"delivered\", \"delivered\", \"depo\", \"depo\", \"deserve\", \"deserve\", \"deserve\", \"deserved\", \"desired\", \"detection\", \"difficult\", \"difficult\", \"difficult\", \"difficult\", \"difficult\", \"difficult\", \"difficult\", \"difficult\", \"difficult\", \"difficult\", \"digital\", \"dilated\", \"dilation\", \"dilemma\", \"disappoint\", \"disc\", \"disconnected\", \"divorce\", \"divorce\", \"dna\", \"doctor\", \"doctor\", \"doctor\", \"doctor\", \"doctor\", \"doctor\", \"doctor\", \"doctor\", \"doctor\", \"doctor\", \"don\\u2019t\", \"dose\", \"dose\", \"dose\", \"dose\", \"dose\", \"dose\", \"dose\", \"doses\", \"doses\", \"doses\", \"dreaded\", \"dressed\", \"dressed\", \"drink\", \"drink\", \"drink\", \"drink\", \"drink\", \"drink\", \"drink\", \"drink\", \"drink\", \"drink\", \"eachother\", \"eat\", \"eat\", \"eat\", \"eat\", \"eat\", \"eat\", \"eat\", \"eat\", \"eat\", \"echo\", \"ectopic\", \"ectopic\", \"ectopic\", \"ectopic\", \"ectopic\", \"ectopic\", \"ectopic\", \"ectopic\", \"ectopic\", \"educate\", \"educate\", \"effectiveness\", \"effectiveness\", \"effectiveness\", \"ejaculate\", \"ejaculated\", \"elaborate\", \"ella\", \"email\", \"email\", \"email\", \"email\", \"emails\", \"emetophobia\", \"emotional\", \"emotional\", \"emotional\", \"emotional\", \"emotional\", \"emotional\", \"emotional\", \"emotional\", \"emotional\", \"emotional\", \"emptiness\", \"en\", \"epidural\", \"evaporation\", \"existed\", \"existence\", \"experience\", \"experience\", \"experience\", \"experience\", \"experience\", \"experience\", \"experience\", \"experience\", \"experience\", \"experience\", \"experiences\", \"experiences\", \"experiences\", \"experiences\", \"experiences\", \"experiences\", \"experiences\", \"experiences\", \"experiences\", \"experiences\", \"facilities\", \"faint\", \"faint\", \"faint\", \"faint\", \"faint\", \"false\", \"false\", \"false\", \"false\", \"false\", \"false\", \"family\", \"family\", \"family\", \"family\", \"family\", \"family\", \"family\", \"family\", \"family\", \"family\", \"fantasy\", \"fe\", \"feel\", \"feel\", \"feel\", \"feel\", \"feel\", \"feel\", \"feel\", \"feel\", \"feel\", \"feel\", \"feeling\", \"feeling\", \"feeling\", \"feeling\", \"feeling\", \"feeling\", \"feeling\", \"feeling\", \"feeling\", \"feeling\", \"feelings\", \"feelings\", \"feelings\", \"feelings\", \"feelings\", \"feelings\", \"feelings\", \"felt\", \"felt\", \"felt\", \"felt\", \"felt\", \"felt\", \"felt\", \"felt\", \"felt\", \"felt\", \"fentanyl\", \"fertile\", \"fertile\", \"fertile\", \"fertile\", \"fertile\", \"fertile\", \"financially\", \"financially\", \"financially\", \"financially\", \"financially\", \"financially\", \"financially\", \"financially\", \"financially\", \"find\", \"find\", \"find\", \"find\", \"find\", \"find\", \"find\", \"find\", \"find\", \"find\", \"fl\", \"fleshy\", \"flo\", \"floor\", \"floor\", \"floor\", \"floor\", \"floor\", \"flow\", \"flow\", \"flow\", \"flow\", \"flow\", \"flow\", \"flow\", \"flushed\", \"food\", \"food\", \"food\", \"food\", \"food\", \"food\", \"food\", \"food\", \"food\", \"food\", \"foreigner\", \"forgiven\", \"fortunate\", \"fortunate\", \"fortunate\", \"fortunate\", \"forums\", \"forums\", \"found\", \"found\", \"found\", \"found\", \"found\", \"found\", \"found\", \"found\", \"found\", \"found\", \"fragile\", \"friends\", \"friends\", \"friends\", \"friends\", \"friends\", \"friends\", \"friends\", \"friends\", \"friends\", \"friends\", \"fucking\", \"fucking\", \"fucking\", \"fucking\", \"fucking\", \"fucking\", \"fucking\", \"fucking\", \"fucking\", \"gassy\", \"gatorade\", \"gatorade\", \"gave\", \"gave\", \"gave\", \"gave\", \"gave\", \"gave\", \"gave\", \"gave\", \"gave\", \"gave\", \"gender\", \"getting\", \"getting\", \"getting\", \"getting\", \"getting\", \"getting\", \"getting\", \"getting\", \"getting\", \"getting\", \"given\", \"given\", \"given\", \"given\", \"given\", \"given\", \"given\", \"given\", \"given\", \"given\", \"going\", \"going\", \"going\", \"going\", \"going\", \"going\", \"going\", \"going\", \"going\", \"going\", \"got\", \"got\", \"got\", \"got\", \"got\", \"got\", \"got\", \"got\", \"got\", \"got\", \"gown\", \"grad\", \"grad\", \"grad\", \"graduate\", \"graduate\", \"graduate\", \"graduate\", \"graduated\", \"graduated\", \"graduated\", \"grandfather\", \"grateful\", \"grateful\", \"grateful\", \"grateful\", \"grateful\", \"grateful\", \"grateful\", \"grateful\", \"grateful\", \"gratitude\", \"gratitude\", \"gravidarum\", \"greatly\", \"greatly\", \"greatly\", \"greatly\", \"greatly\", \"greatly\", \"greatly\", \"greatly\", \"greatly\", \"grief\", \"grief\", \"grief\", \"grief\", \"grief\", \"grief\", \"grieve\", \"grieve\", \"grieve\", \"grieving\", \"grieving\", \"grieving\", \"grieving\", \"group\", \"group\", \"group\", \"group\", \"group\", \"group\", \"group\", \"group\", \"group\", \"group\", \"guarantee\", \"guarantee\", \"guide\", \"guide\", \"guilt\", \"guilt\", \"guilt\", \"guilt\", \"guilt\", \"guilt\", \"guilt\", \"guilt\", \"happiness\", \"happiness\", \"happiness\", \"happiness\", \"hard\", \"hard\", \"hard\", \"hard\", \"hard\", \"hard\", \"hard\", \"hard\", \"hard\", \"hard\", \"haunts\", \"having\", \"having\", \"having\", \"having\", \"having\", \"having\", \"having\", \"having\", \"having\", \"having\", \"hcg\", \"hcg\", \"hcg\", \"hcg\", \"healing\", \"healing\", \"healing\", \"healing\", \"healing\", \"healing\", \"healing\", \"heart\", \"heart\", \"heart\", \"heart\", \"heart\", \"heart\", \"heart\", \"heart\", \"heart\", \"heart\", \"heartbreak\", \"heating\", \"heating\", \"heating\", \"heating\", \"heavier\", \"heavier\", \"heavier\", \"heaving\", \"heavy\", \"heavy\", \"heavy\", \"heavy\", \"heavy\", \"heavy\", \"heavy\", \"heavy\", \"heavy\", \"help\", \"help\", \"help\", \"help\", \"help\", \"help\", \"help\", \"help\", \"help\", \"help\", \"helped\", \"helped\", \"helped\", \"helped\", \"helped\", \"helped\", \"helped\", \"helped\", \"helped\", \"helped\", \"heyjane\", \"heyjane\", \"hi\", \"hi\", \"hi\", \"hi\", \"hi\", \"hi\", \"hi\", \"hi\", \"hi\", \"hi\", \"home\", \"home\", \"home\", \"home\", \"home\", \"home\", \"home\", \"home\", \"home\", \"home\", \"honeybee\", \"hope\", \"hope\", \"hope\", \"hope\", \"hope\", \"hope\", \"hope\", \"hope\", \"hope\", \"hope\", \"hormonal\", \"hormonal\", \"hormonal\", \"hormonal\", \"hormonal\", \"hormonal\", \"hormonal\", \"hormonal\", \"hormones\", \"hormones\", \"hormones\", \"hormones\", \"hormones\", \"hormones\", \"hormones\", \"hormones\", \"hormones\", \"hospital\", \"hospital\", \"hospital\", \"hospital\", \"hospital\", \"hospital\", \"hospital\", \"hospital\", \"hospital\", \"hospital\", \"hot\", \"hot\", \"hot\", \"hot\", \"hot\", \"hot\", \"hour\", \"hour\", \"hour\", \"hour\", \"hour\", \"hour\", \"hour\", \"hour\", \"hour\", \"hour\", \"hours\", \"hours\", \"hours\", \"hours\", \"hours\", \"hours\", \"hours\", \"hours\", \"hours\", \"hours\", \"house\", \"house\", \"house\", \"house\", \"house\", \"house\", \"house\", \"house\", \"house\", \"house\", \"hunched\", \"hurts\", \"hurts\", \"hurts\", \"hurts\", \"hurts\", \"hurts\", \"husband\", \"husband\", \"husband\", \"husband\", \"husband\", \"husband\", \"husband\", \"husband\", \"husband\", \"husband\", \"hypochondriac\", \"hypothetical\", \"ideation\", \"ik\", \"illegal\", \"illegal\", \"illegal\", \"illegal\", \"illegal\", \"illegal\", \"illegal\", \"illegal\", \"imbalance\", \"implantation\", \"implantation\", \"implantation\", \"india\", \"indication\", \"ineffective\", \"information\", \"information\", \"information\", \"information\", \"information\", \"information\", \"information\", \"information\", \"information\", \"information\", \"innocent\", \"insights\", \"insurance\", \"insurance\", \"insurance\", \"insurance\", \"insurance\", \"insurance\", \"insurance\", \"insurance\", \"insurance\", \"intercourse\", \"intercourse\", \"intermittently\", \"irregular\", \"irregular\", \"irregular\", \"irregular\", \"irregular\", \"irregular\", \"irregular\", \"iud\", \"iud\", \"iud\", \"iud\", \"iud\", \"iud\", \"iud\", \"iud\", \"iud\", \"iuds\", \"iuds\", \"iv\", \"iv\", \"i\\u2019ll\", \"jane\", \"job\", \"job\", \"job\", \"job\", \"job\", \"job\", \"job\", \"job\", \"job\", \"job\", \"jobs\", \"jobs\", \"jobs\", \"jobs\", \"jobs\", \"jobs\", \"journey\", \"journey\", \"journey\", \"journey\", \"journey\", \"journey\", \"journey\", \"journey\", \"judicial\", \"juice\", \"juice\", \"juice\", \"kid\", \"kid\", \"kid\", \"kid\", \"kid\", \"kid\", \"kids\", \"kids\", \"kids\", \"kids\", \"kids\", \"kids\", \"kids\", \"kids\", \"kids\", \"killed\", \"killed\", \"killed\", \"killed\", \"kit\", \"kit\", \"kit\", \"kits\", \"knew\", \"knew\", \"knew\", \"knew\", \"knew\", \"knew\", \"knew\", \"knew\", \"knew\", \"knew\", \"labeled\", \"laid\", \"laid\", \"laid\", \"laid\", \"laid\", \"laid\", \"laid\", \"laminaria\", \"late\", \"late\", \"late\", \"late\", \"late\", \"late\", \"late\", \"late\", \"late\", \"late\", \"lay\", \"lay\", \"lay\", \"lay\", \"lay\", \"lay\", \"laying\", \"laying\", \"laying\", \"laying\", \"leaked\", \"leftover\", \"leftover\", \"leftover\", \"legal\", \"legal\", \"legal\", \"legal\", \"legal\", \"legal\", \"legal\", \"legal\", \"legal\", \"legal\", \"legit\", \"legit\", \"legit\", \"legit\", \"levels\", \"levels\", \"levels\", \"levels\", \"levels\", \"levels\", \"levels\", \"levels\", \"lidocaine\", \"life\", \"life\", \"life\", \"life\", \"life\", \"life\", \"life\", \"life\", \"life\", \"life\", \"light\", \"light\", \"light\", \"light\", \"light\", \"light\", \"light\", \"light\", \"light\", \"light\", \"likelihood\", \"line\", \"line\", \"line\", \"line\", \"line\", \"line\", \"line\", \"line\", \"line\", \"line\", \"liner\", \"liner\", \"liners\", \"links\", \"links\", \"little\", \"little\", \"little\", \"little\", \"little\", \"little\", \"little\", \"little\", \"little\", \"little\", \"live\", \"live\", \"live\", \"live\", \"live\", \"live\", \"live\", \"live\", \"live\", \"live\", \"long\", \"long\", \"long\", \"long\", \"long\", \"long\", \"long\", \"long\", \"long\", \"long\", \"longing\", \"looking\", \"looking\", \"looking\", \"looking\", \"looking\", \"looking\", \"looking\", \"looking\", \"looking\", \"looking\", \"loopy\", \"lot\", \"lot\", \"lot\", \"lot\", \"lot\", \"lot\", \"lot\", \"lot\", \"lot\", \"lot\", \"love\", \"love\", \"love\", \"love\", \"love\", \"love\", \"love\", \"love\", \"love\", \"love\", \"loved\", \"loved\", \"loved\", \"loved\", \"loved\", \"loved\", \"m\", \"m\", \"m\", \"m\", \"m\", \"m\", \"m\", \"m\", \"m\", \"m\", \"ma\", \"ma\", \"ma\", \"ma\", \"ma\", \"ma\", \"mail\", \"mail\", \"mail\", \"mail\", \"mail\", \"mail\", \"man\", \"man\", \"man\", \"man\", \"man\", \"man\", \"man\", \"man\", \"man\", \"manila\", \"marriage\", \"marriage\", \"married\", \"married\", \"married\", \"married\", \"married\", \"married\", \"married\", \"mas\", \"md\", \"medical\", \"medical\", \"medical\", \"medical\", \"medical\", \"medical\", \"medical\", \"medical\", \"medical\", \"medical\", \"mercy\", \"methotrexate\", \"mg\", \"mg\", \"mg\", \"mg\", \"mife\", \"mife\", \"mifepristone\", \"mifepristone\", \"mifepristone\", \"mifepristone\", \"mifepristone\", \"mifepristone\", \"minutes\", \"minutes\", \"minutes\", \"minutes\", \"minutes\", \"minutes\", \"minutes\", \"minutes\", \"minutes\", \"minutes\", \"miso\", \"miso\", \"miso\", \"misoprostol\", \"misoprostol\", \"misoprostol\", \"misoprostol\", \"misoprostol\", \"misoprostol\", \"misoprostol\", \"misoprotol\", \"mod\", \"mods\", \"mom\", \"mom\", \"mom\", \"mom\", \"mom\", \"mom\", \"mom\", \"mom\", \"mom\", \"mom\", \"money\", \"money\", \"money\", \"money\", \"money\", \"money\", \"money\", \"money\", \"money\", \"money\", \"month\", \"month\", \"month\", \"month\", \"month\", \"month\", \"month\", \"month\", \"month\", \"month\", \"months\", \"months\", \"months\", \"months\", \"months\", \"months\", \"months\", \"months\", \"months\", \"months\", \"morning\", \"morning\", \"morning\", \"morning\", \"morning\", \"morning\", \"morning\", \"morning\", \"morning\", \"morning\", \"mother\", \"mother\", \"mother\", \"mother\", \"mother\", \"mother\", \"mother\", \"mother\", \"mourn\", \"mourn\", \"mourn\", \"mourning\", \"mourning\", \"mourning\", \"msi\", \"mtp\", \"narcissistic\", \"nausea\", \"nausea\", \"nausea\", \"nausea\", \"nausea\", \"nausea\", \"nausea\", \"nausea\", \"nausea\", \"nauseous\", \"nauseous\", \"nauseous\", \"nauseous\", \"nauseous\", \"nauseous\", \"nauseous\", \"nauseous\", \"need\", \"need\", \"need\", \"need\", \"need\", \"need\", \"need\", \"need\", \"need\", \"need\", \"needle\", \"needles\", \"negative\", \"negative\", \"negative\", \"negative\", \"negative\", \"negative\", \"negative\", \"negative\", \"negative\", \"negatives\", \"nexplanon\", \"nexplanon\", \"nexplanon\", \"night\", \"night\", \"night\", \"night\", \"night\", \"night\", \"night\", \"night\", \"night\", \"night\", \"nipple\", \"normal\", \"normal\", \"normal\", \"normal\", \"normal\", \"normal\", \"normal\", \"normal\", \"normal\", \"normal\", \"notification\", \"nt\", \"nt\", \"nt\", \"nt\", \"nt\", \"nt\", \"nt\", \"nt\", \"nt\", \"numbing\", \"nurse\", \"nurse\", \"nurse\", \"nurse\", \"nurse\", \"nurse\", \"nurse\", \"nurse\", \"nurses\", \"nurses\", \"nurses\", \"nurses\", \"nurses\", \"nurses\", \"obgyn\", \"obgyn\", \"obgyn\", \"obgyn\", \"obgyn\", \"obgyn\", \"obgyn\", \"obgyn\", \"obgyn\", \"offended\", \"ohio\", \"ohio\", \"old\", \"old\", \"old\", \"old\", \"old\", \"old\", \"old\", \"old\", \"old\", \"old\", \"online\", \"online\", \"online\", \"online\", \"online\", \"online\", \"online\", \"online\", \"online\", \"online\", \"op\", \"op\", \"op\", \"op\", \"openly\", \"openly\", \"openly\", \"openly\", \"openly\", \"operating\", \"option\", \"option\", \"option\", \"option\", \"option\", \"option\", \"option\", \"option\", \"option\", \"option\", \"options\", \"options\", \"options\", \"options\", \"options\", \"options\", \"options\", \"options\", \"options\", \"options\", \"orally\", \"orally\", \"order\", \"order\", \"order\", \"order\", \"order\", \"order\", \"order\", \"order\", \"order\", \"ordered\", \"ordered\", \"ordered\", \"ordered\", \"ordered\", \"ordered\", \"orgasm\", \"origin\", \"otc\", \"overturned\", \"ovulate\", \"ovulate\", \"ovulated\", \"ovulating\", \"ovulating\", \"ovulating\", \"ovulation\", \"ovulation\", \"ovulation\", \"ovulation\", \"p\", \"package\", \"package\", \"package\", \"package\", \"packages\", \"packaging\", \"packaging\", \"packs\", \"pad\", \"pad\", \"pad\", \"pad\", \"pain\", \"pain\", \"pain\", \"pain\", \"pain\", \"pain\", \"pain\", \"pain\", \"pain\", \"pain\", \"palm\", \"panty\", \"panty\", \"pap\", \"pap\", \"pap\", \"pap\", \"paperwork\", \"paperwork\", \"paperwork\", \"paperwork\", \"paperwork\", \"paperwork\", \"paperwork\", \"parenthood\", \"parenthood\", \"parenthood\", \"parenthood\", \"parenthood\", \"parenthood\", \"parenthood\", \"parenthood\", \"parenthood\", \"parenthood\", \"parents\", \"parents\", \"parents\", \"parents\", \"parents\", \"parents\", \"parents\", \"parents\", \"parents\", \"parents\", \"partner\", \"partner\", \"partner\", \"partner\", \"partner\", \"partner\", \"partner\", \"partner\", \"partner\", \"partner\", \"passed\", \"passed\", \"passed\", \"passed\", \"passed\", \"passed\", \"passed\", \"passed\", \"passed\", \"passed\", \"passing\", \"passing\", \"passing\", \"passing\", \"passing\", \"passing\", \"passing\", \"pay\", \"pay\", \"pay\", \"pay\", \"pay\", \"pay\", \"pay\", \"pay\", \"pay\", \"pay\", \"paycheck\", \"payment\", \"payment\", \"payment\", \"payment\", \"payment\", \"payment\", \"paypal\", \"peak\", \"peak\", \"penis\", \"people\", \"people\", \"people\", \"people\", \"people\", \"people\", \"people\", \"people\", \"people\", \"people\", \"period\", \"period\", \"period\", \"period\", \"period\", \"period\", \"period\", \"period\", \"period\", \"period\", \"periods\", \"periods\", \"periods\", \"periods\", \"periods\", \"periods\", \"periods\", \"periods\", \"periods\", \"permanently\", \"personality\", \"perspectives\", \"ph\", \"philippines\", \"pill\", \"pill\", \"pill\", \"pill\", \"pill\", \"pill\", \"pill\", \"pill\", \"pill\", \"pill\", \"pills\", \"pills\", \"pills\", \"pills\", \"pills\", \"pills\", \"pills\", \"pills\", \"pills\", \"pills\", \"placebo\", \"plan\", \"plan\", \"plan\", \"plan\", \"plan\", \"plan\", \"plan\", \"plan\", \"plan\", \"plan\", \"planned\", \"planned\", \"planned\", \"planned\", \"planned\", \"planned\", \"planned\", \"planned\", \"planned\", \"planned\", \"pm\", \"pm\", \"pm\", \"pm\", \"pm\", \"pm\", \"pm\", \"pm\", \"pm-\", \"pms\", \"pms\", \"pms\", \"po\", \"pocket\", \"pocket\", \"pocket\", \"pocket\", \"positive\", \"positive\", \"positive\", \"positive\", \"positive\", \"positive\", \"positive\", \"positive\", \"positive\", \"positive\", \"post\", \"post\", \"post\", \"post\", \"post\", \"post\", \"post\", \"post\", \"post\", \"post\", \"posts\", \"posts\", \"posts\", \"posts\", \"posts\", \"posts\", \"posts\", \"posts\", \"posts\", \"posts\", \"pouring\", \"pouring\", \"pp\", \"pp\", \"pp\", \"pp\", \"pp\", \"pp\", \"pp\", \"pp\", \"pp\", \"pph\", \"ppl\", \"preferably\", \"pregnancy\", \"pregnancy\", \"pregnancy\", \"pregnancy\", \"pregnancy\", \"pregnancy\", \"pregnancy\", \"pregnancy\", \"pregnancy\", \"pregnancy\", \"pressure\", \"pressure\", \"pressure\", \"pressure\", \"pressure\", \"pressure\", \"pressure\", \"pressure\", \"procedure\", \"procedure\", \"procedure\", \"procedure\", \"procedure\", \"procedure\", \"procedure\", \"procedure\", \"procedure\", \"procedure\", \"process\", \"process\", \"process\", \"process\", \"process\", \"process\", \"process\", \"process\", \"process\", \"process\", \"protected\", \"protected\", \"protected\", \"protected\", \"protected\", \"puke\", \"puke\", \"puking\", \"puking\", \"puking\", \"puking\", \"punished\", \"punished\", \"question\", \"question\", \"question\", \"question\", \"question\", \"question\", \"question\", \"question\", \"question\", \"question\", \"questions\", \"questions\", \"questions\", \"questions\", \"questions\", \"questions\", \"questions\", \"questions\", \"questions\", \"questions\", \"rage\", \"rainbow\", \"rainbow\", \"raise\", \"raise\", \"raise\", \"raise\", \"raise\", \"raise\", \"read\", \"read\", \"read\", \"read\", \"read\", \"read\", \"read\", \"read\", \"read\", \"read\", \"reading\", \"reading\", \"reading\", \"reading\", \"reading\", \"reading\", \"reading\", \"reading\", \"reading\", \"reading\", \"ready\", \"ready\", \"ready\", \"ready\", \"ready\", \"ready\", \"ready\", \"ready\", \"ready\", \"ready\", \"received\", \"received\", \"received\", \"received\", \"received\", \"received\", \"received\", \"received\", \"received\", \"recliner\", \"recommendations\", \"recommendations\", \"recommendations\", \"recommendations\", \"recovery\", \"recovery\", \"recovery\", \"recovery\", \"recovery\", \"recovery\", \"recovery\", \"recovery\", \"recovery\", \"regain\", \"regret\", \"regret\", \"regret\", \"regret\", \"regret\", \"regret\", \"regret\", \"regret\", \"regret\", \"regulating\", \"regulations\", \"rejecting\", \"relationship\", \"relationship\", \"relationship\", \"relationship\", \"relationship\", \"relationship\", \"relationship\", \"relationship\", \"relevant\", \"relevant\", \"relevant\", \"relevant\", \"relevant\", \"remedies\", \"remember\", \"remember\", \"remember\", \"remember\", \"remember\", \"remember\", \"remember\", \"remember\", \"remember\", \"remember\", \"resenting\", \"resources\", \"resources\", \"resources\", \"resources\", \"resources\", \"resources\", \"resources\", \"resources\", \"respects\", \"restricted\", \"results\", \"results\", \"results\", \"results\", \"results\", \"results\", \"results\", \"results\", \"results\", \"retained\", \"retained\", \"retained\", \"right\", \"right\", \"right\", \"right\", \"right\", \"right\", \"right\", \"right\", \"right\", \"right\", \"rly\", \"rocky\", \"rocky\", \"rocky\", \"roe\", \"roe\", \"room\", \"room\", \"room\", \"room\", \"room\", \"room\", \"room\", \"room\", \"rung\", \"s\", \"s\", \"s\", \"s\", \"s\", \"s\", \"s\", \"s\", \"s\", \"s\", \"sa\", \"sa\", \"sad\", \"sad\", \"sad\", \"sad\", \"sad\", \"sad\", \"sad\", \"sad\", \"sad\", \"sad\", \"sadness\", \"sadness\", \"sadness\", \"sadness\", \"sadness\", \"sadness\", \"safe2choose\", \"said\", \"said\", \"said\", \"said\", \"said\", \"said\", \"said\", \"said\", \"said\", \"said\", \"sat\", \"sat\", \"sat\", \"sat\", \"sat\", \"sat\", \"sat\", \"sat\", \"savings\", \"savings\", \"savings\", \"says\", \"says\", \"says\", \"says\", \"says\", \"says\", \"says\", \"says\", \"says\", \"says\", \"scam\", \"scammed\", \"scared\", \"scared\", \"scared\", \"scared\", \"scared\", \"scared\", \"scared\", \"scared\", \"scared\", \"scared\", \"school\", \"school\", \"school\", \"school\", \"school\", \"school\", \"school\", \"school\", \"school\", \"school\", \"sedate\", \"sedated\", \"sedated\", \"sedated\", \"sedated\", \"sedation\", \"sedation\", \"sedation\", \"sedative\", \"selfishly\", \"seller\", \"sellers\", \"semen\", \"send\", \"send\", \"send\", \"send\", \"send\", \"send\", \"send\", \"send\", \"send\", \"sending\", \"sending\", \"sending\", \"sending\", \"sending\", \"sending\", \"sending\", \"sending\", \"sending\", \"sent\", \"sent\", \"sent\", \"sent\", \"sent\", \"sent\", \"sent\", \"sent\", \"sent\", \"sent\", \"sex\", \"sex\", \"sex\", \"sex\", \"sex\", \"sex\", \"sex\", \"sex\", \"sex\", \"sex\", \"shadow\", \"shall\", \"share\", \"share\", \"share\", \"share\", \"share\", \"share\", \"share\", \"share\", \"share\", \"share\", \"share&utm_medium\", \"sharing\", \"sharing\", \"sharing\", \"sharing\", \"sharing\", \"sharing\", \"sharing\", \"sharing\", \"shifted\", \"shifted\", \"ship\", \"ship\", \"ship\", \"shipment\", \"shipped\", \"shipped\", \"shipping\", \"shipping\", \"shower\", \"shower\", \"shower\", \"shower\", \"shower\", \"shower\", \"siblings\", \"siblings\", \"sick\", \"sick\", \"sick\", \"sick\", \"sick\", \"sick\", \"sick\", \"sick\", \"sick\", \"sick\", \"similarly\", \"similarly\", \"sinking\", \"site\", \"site\", \"site\", \"site\", \"site\", \"site\", \"site\", \"sites\", \"situation\", \"situation\", \"situation\", \"situation\", \"situation\", \"situation\", \"situation\", \"situation\", \"situation\", \"situation\", \"size\", \"size\", \"size\", \"size\", \"size\", \"size\", \"size\", \"sized\", \"sized\", \"sized\", \"sized\", \"sizes\", \"sketchy\", \"sleep\", \"sleep\", \"sleep\", \"sleep\", \"sleep\", \"sleep\", \"sleep\", \"sleep\", \"sleep\", \"sleep\", \"smears\", \"smelling\", \"smelling\", \"soaking\", \"soaking\", \"soften\", \"soul\", \"soul\", \"soul\", \"soul\", \"speculum\", \"spirit\", \"spotting\", \"spotting\", \"spotting\", \"spotting\", \"spotting\", \"stable\", \"stable\", \"stable\", \"stable\", \"stable\", \"stable\", \"staff\", \"staff\", \"staff\", \"staff\", \"staff\", \"staff\", \"staff\", \"started\", \"started\", \"started\", \"started\", \"started\", \"started\", \"started\", \"started\", \"started\", \"started\", \"state\", \"state\", \"state\", \"state\", \"state\", \"state\", \"state\", \"state\", \"state\", \"state\", \"states\", \"states\", \"states\", \"states\", \"states\", \"states\", \"states\", \"sticky\", \"stirrups\", \"stomach\", \"stomach\", \"stomach\", \"stomach\", \"stomach\", \"stomach\", \"stomach\", \"stomach\", \"stomach\", \"stomach\", \"stories\", \"stories\", \"stories\", \"stories\", \"stories\", \"stories\", \"stories\", \"stories\", \"stories\", \"stories\", \"stringy\", \"strong\", \"strong\", \"strong\", \"strong\", \"strong\", \"strong\", \"strong\", \"strong\", \"strong\", \"struck\", \"sub\", \"sub\", \"sub\", \"sub\", \"sub\", \"sub\", \"sub\", \"sub\", \"sub\", \"sub\", \"sublingual\", \"sublingually\", \"submitted\", \"subreddit\", \"subreddit\", \"subreddit\", \"subreddit\", \"subreddit\", \"subreddit\", \"subreddit\", \"subreddit\", \"subreddit\", \"subreddit\", \"suction\", \"suicidal\", \"suicidal\", \"suicidal\", \"suicidal\", \"support\", \"support\", \"support\", \"support\", \"support\", \"support\", \"support\", \"support\", \"support\", \"support\", \"supportive\", \"supportive\", \"supportive\", \"supportive\", \"supportive\", \"supportive\", \"supportive\", \"supportive\", \"supportive\", \"supportive\", \"sure\", \"sure\", \"sure\", \"sure\", \"sure\", \"sure\", \"sure\", \"sure\", \"sure\", \"sure\", \"surgery\", \"surgery\", \"surgery\", \"surgery\", \"surgery\", \"surgery\", \"surgery\", \"surgery\", \"surgery\", \"surgery\", \"surgical\", \"surgical\", \"surgical\", \"surgical\", \"surgical\", \"surgical\", \"surgical\", \"surgical\", \"surgical\", \"surgical\", \"swings\", \"swings\", \"swings\", \"swings\", \"swings\", \"swings\", \"symptoms\", \"symptoms\", \"symptoms\", \"symptoms\", \"symptoms\", \"symptoms\", \"symptoms\", \"symptoms\", \"symptoms\", \"symptoms\", \"taking\", \"taking\", \"taking\", \"taking\", \"taking\", \"taking\", \"taking\", \"taking\", \"taking\", \"taking\", \"tapered\", \"taste\", \"taste\", \"taste\", \"teens\", \"telemedicine\", \"tell\", \"tell\", \"tell\", \"tell\", \"tell\", \"tell\", \"tell\", \"tell\", \"tell\", \"tell\", \"test\", \"test\", \"test\", \"test\", \"test\", \"test\", \"test\", \"test\", \"test\", \"test\", \"tested\", \"tested\", \"tested\", \"tested\", \"tested\", \"tested\", \"tested\", \"tested\", \"testimonies\", \"testing\", \"testing\", \"testing\", \"testing\", \"testing\", \"testing\", \"testing\", \"testing\", \"tests\", \"tests\", \"tests\", \"tests\", \"tests\", \"tests\", \"tests\", \"tests\", \"tests\", \"tests\", \"thank\", \"thank\", \"thank\", \"thank\", \"thank\", \"thank\", \"thank\", \"thank\", \"thank\", \"thank\", \"thankful\", \"thankful\", \"thankful\", \"thankful\", \"thankful\", \"thankful\", \"thankful\", \"thankful\", \"thankful\", \"thanks\", \"thanks\", \"thanks\", \"thanks\", \"thanks\", \"thanks\", \"thanks\", \"thanks\", \"thanks\", \"thanks\", \"therapy\", \"therapy\", \"therapy\", \"therapy\", \"therapy\", \"things\", \"things\", \"things\", \"things\", \"things\", \"things\", \"things\", \"things\", \"things\", \"things\", \"think\", \"think\", \"think\", \"think\", \"think\", \"think\", \"think\", \"think\", \"think\", \"think\", \"thought\", \"thought\", \"thought\", \"thought\", \"thought\", \"thought\", \"thought\", \"thought\", \"thought\", \"thought\", \"threads\", \"threads\", \"threw\", \"threw\", \"threw\", \"threw\", \"threw\", \"threw\", \"threw\", \"throw\", \"throw\", \"throw\", \"throw\", \"throw\", \"throw\", \"throw\", \"throw\", \"throw\", \"throw\", \"throwing\", \"throwing\", \"throwing\", \"throwing\", \"throwing\", \"throwing\", \"throwing\", \"throwing\", \"throwing\", \"throws\", \"time\", \"time\", \"time\", \"time\", \"time\", \"time\", \"time\", \"time\", \"time\", \"time\", \"tissue\", \"tissue\", \"tissue\", \"tissue\", \"tissue\", \"tissue\", \"tissue\", \"tissue\", \"tn\", \"today\", \"today\", \"today\", \"today\", \"today\", \"today\", \"today\", \"today\", \"today\", \"today\", \"toilet\", \"toilet\", \"toilet\", \"toilet\", \"toilet\", \"told\", \"told\", \"told\", \"told\", \"told\", \"told\", \"told\", \"told\", \"told\", \"told\", \"took\", \"took\", \"took\", \"took\", \"took\", \"took\", \"took\", \"took\", \"took\", \"took\", \"towel\", \"towel\", \"towel\", \"tracking\", \"tracking\", \"tracking\", \"tracking\", \"tracking\", \"transit\", \"travel\", \"travel\", \"travel\", \"travel\", \"travel\", \"travel\", \"travel\", \"travelling\", \"tricks\", \"trolls\", \"trolls\", \"tub\", \"tub\", \"tw\", \"twilight\", \"u\", \"u\", \"u\", \"u\", \"u\", \"u\", \"u\", \"u\", \"uk\", \"uk\", \"uk\", \"uk\", \"uk\", \"uk\", \"uk\", \"ultrasound\", \"ultrasound\", \"ultrasound\", \"ultrasound\", \"ultrasound\", \"ultrasound\", \"ultrasound\", \"ultrasound\", \"ultrasound\", \"ultrasound\", \"un\", \"un\", \"un\", \"undress\", \"undressed\", \"unprotected\", \"unprotected\", \"unprotected\", \"unprotected\", \"unprotected\", \"unsuccessful\", \"unsuccessful\", \"untill\", \"urine\", \"urine\", \"urine\", \"urine\", \"urine\", \"usps\", \"v\", \"v\", \"v.\", \"vaginally\", \"vaginally\", \"vaginally\", \"valium\", \"varying\", \"ve\", \"ve\", \"ve\", \"ve\", \"ve\", \"ve\", \"ve\", \"ve\", \"vein\", \"vitals\", \"vitamin\", \"vitamin\", \"vomit\", \"vomit\", \"vomit\", \"vomit\", \"vomit\", \"vomit\", \"vomit\", \"wack\", \"wade\", \"wade\", \"waist\", \"wait\", \"wait\", \"wait\", \"wait\", \"wait\", \"wait\", \"wait\", \"wait\", \"wait\", \"wait\", \"waited\", \"waited\", \"waited\", \"waited\", \"waited\", \"waited\", \"waited\", \"waited\", \"waited\", \"waited\", \"waiting\", \"waiting\", \"waiting\", \"waiting\", \"waiting\", \"waiting\", \"waiting\", \"waiting\", \"waiting\", \"waiting\", \"walked\", \"walked\", \"walked\", \"walked\", \"walked\", \"walked\", \"want\", \"want\", \"want\", \"want\", \"want\", \"want\", \"want\", \"want\", \"want\", \"want\", \"wanted\", \"wanted\", \"wanted\", \"wanted\", \"wanted\", \"wanted\", \"wanted\", \"wanted\", \"wanted\", \"wanted\", \"wants\", \"wants\", \"wants\", \"wants\", \"wants\", \"wants\", \"wants\", \"wants\", \"wants\", \"wants\", \"water\", \"water\", \"water\", \"water\", \"water\", \"water\", \"water\", \"way\", \"way\", \"way\", \"way\", \"way\", \"way\", \"way\", \"way\", \"way\", \"way\", \"website\", \"website\", \"website\", \"website\", \"website\", \"week\", \"week\", \"week\", \"week\", \"week\", \"week\", \"week\", \"week\", \"week\", \"week\", \"went\", \"went\", \"went\", \"went\", \"went\", \"went\", \"went\", \"went\", \"went\", \"went\", \"wether\", \"wheeled\", \"whichever\", \"wife\", \"wife\", \"wife\", \"wish\", \"wish\", \"wish\", \"wish\", \"wish\", \"wish\", \"wish\", \"wish\", \"wish\", \"wish\", \"withdrawal\", \"woke\", \"woke\", \"woke\", \"woke\", \"woke\", \"woke\", \"woke\", \"woke\", \"woman\", \"woman\", \"woman\", \"woman\", \"woman\", \"woman\", \"woman\", \"woman\", \"woman\", \"woman\", \"women\", \"women\", \"women\", \"women\", \"women\", \"women\", \"women\", \"women\", \"women\", \"women\", \"womenonweb\", \"wondering\", \"wondering\", \"wondering\", \"wondering\", \"wondering\", \"wondering\", \"wondering\", \"wondering\", \"wondering\", \"wondering\", \"woods\", \"work\", \"work\", \"work\", \"work\", \"work\", \"work\", \"work\", \"work\", \"work\", \"work\", \"worst\", \"worst\", \"worst\", \"worst\", \"worst\", \"worst\", \"worst\", \"worst\", \"worst\", \"worst\", \"worthless\", \"worthless\", \"writhing\", \"year\", \"year\", \"year\", \"year\", \"year\", \"year\", \"year\", \"year\", \"year\", \"year\", \"years\", \"years\", \"years\", \"years\", \"years\", \"years\", \"years\", \"years\", \"years\", \"years\", \"yellow\", \"yesterday\", \"yesterday\", \"yesterday\", \"yesterday\", \"yesterday\", \"yesterday\", \"yesterday\", \"yesterday\", \"yesterday\", \"yesterday\", \"york\", \"youngest\", \"youngest\", \"youngest\", \"youngest\", \"y\\u2019\", \"y\\u2019\", \"y\\u2019\", \"y\\u2019\", \"y\\u2019\", \"y\\u2019\", \"z\", \"\\u2640\", \"\\u2665\", \"\\u2764\", \"\\u2764\", \"\\u2764\", \"\\u2764\", \"\\u2764\", \"\\u2764\", \"\\ufe0f\", \"\\ufe0f\", \"\\ufe0f\", \"\\ufe0f\", \"\\ufe0f\", \"\\ufe0f\", \"\\ufe0f\", \"\\ud83d\\udc94\", \"\\ud83d\\udc96\", \"\\ud83d\\udc97\", \"\\ud83d\\ude13\", \"\\ud83d\\ude1e\", \"\\ud83d\\ude1e\", \"\\ud83d\\ude22\", \"\\ud83d\\ude4f\", \"\\ud83e\\udd26\"]}, \"R\": 30, \"lambda.step\": 0.01, \"plot.opts\": {\"xlab\": \"PC1\", \"ylab\": \"PC2\"}, \"topic.order\": [7, 9, 8, 10, 1, 2, 5, 6, 4, 3]};\n",
       "\n",
       "function LDAvis_load_lib(url, callback){\n",
       "  var s = document.createElement('script');\n",
       "  s.src = url;\n",
       "  s.async = true;\n",
       "  s.onreadystatechange = s.onload = callback;\n",
       "  s.onerror = function(){console.warn(\"failed to load library \" + url);};\n",
       "  document.getElementsByTagName(\"head\")[0].appendChild(s);\n",
       "}\n",
       "\n",
       "if(typeof(LDAvis) !== \"undefined\"){\n",
       "   // already loaded: just create the visualization\n",
       "   !function(LDAvis){\n",
       "       new LDAvis(\"#\" + \"ldavis_el3210213682816416636390533\", ldavis_el3210213682816416636390533_data);\n",
       "   }(LDAvis);\n",
       "}else if(typeof define === \"function\" && define.amd){\n",
       "   // require.js is available: use it to load d3/LDAvis\n",
       "   require.config({paths: {d3: \"https://d3js.org/d3.v5\"}});\n",
       "   require([\"d3\"], function(d3){\n",
       "      window.d3 = d3;\n",
       "      LDAvis_load_lib(\"https://cdn.jsdelivr.net/gh/bmabey/pyLDAvis@3.4.0/pyLDAvis/js/ldavis.v3.0.0.js\", function(){\n",
       "        new LDAvis(\"#\" + \"ldavis_el3210213682816416636390533\", ldavis_el3210213682816416636390533_data);\n",
       "      });\n",
       "    });\n",
       "}else{\n",
       "    // require.js not available: dynamically load d3 & LDAvis\n",
       "    LDAvis_load_lib(\"https://d3js.org/d3.v5.js\", function(){\n",
       "         LDAvis_load_lib(\"https://cdn.jsdelivr.net/gh/bmabey/pyLDAvis@3.4.0/pyLDAvis/js/ldavis.v3.0.0.js\", function(){\n",
       "                 new LDAvis(\"#\" + \"ldavis_el3210213682816416636390533\", ldavis_el3210213682816416636390533_data);\n",
       "            })\n",
       "         });\n",
       "}\n",
       "</script>"
      ],
      "text/plain": [
       "PreparedData(topic_coordinates=              x         y  topics  cluster       Freq\n",
       "topic                                                \n",
       "6      0.033215  0.135178       1        1  18.574886\n",
       "8     -0.053442  0.185781       2        1  18.030651\n",
       "7     -0.125360 -0.176830       3        1  12.149937\n",
       "9     -0.103175 -0.032404       4        1  11.788651\n",
       "0     -0.176038 -0.038794       5        1   9.673575\n",
       "1     -0.040389 -0.015693       6        1   9.360734\n",
       "4      0.048435 -0.103747       7        1   6.817767\n",
       "5      0.006139  0.149941       8        1   5.876201\n",
       "3      0.173500 -0.017204       9        1   5.112124\n",
       "2      0.237115 -0.086228      10        1   2.615475, topic_info=          Term          Freq         Total Category  logprob  loglift\n",
       "1135  bleeding  10127.000000  10127.000000  Default  30.0000  30.0000\n",
       "263      pills   8910.000000   8910.000000  Default  29.0000  29.0000\n",
       "535          m   4723.000000   4723.000000  Default  28.0000  28.0000\n",
       "662     period  10145.000000  10145.000000  Default  27.0000  27.0000\n",
       "672       test   6183.000000   6183.000000  Default  26.0000  26.0000\n",
       "...        ...           ...           ...      ...      ...      ...\n",
       "353        got    333.442856  11864.024152  Topic10  -5.0721   0.0719\n",
       "68        time    323.813105  16800.891444  Topic10  -5.1014  -0.3053\n",
       "260       long    267.756616   5089.168304  Topic10  -5.2915   0.6989\n",
       "440      found    257.614181   7876.394359  Topic10  -5.3301   0.2236\n",
       "645       days    256.451038  10796.476780  Topic10  -5.3346  -0.0963\n",
       "\n",
       "[858 rows x 6 columns], token_table=      Topic      Freq Term\n",
       "term                      \n",
       "276       1  0.047704    $\n",
       "276       3  0.003786    $\n",
       "276       4  0.163556    $\n",
       "276       5  0.009086    $\n",
       "276       7  0.615606    $\n",
       "...     ...       ...  ...\n",
       "6426      1  0.012513    😞\n",
       "6426     10  0.975977    😞\n",
       "8024      7  0.974916    😢\n",
       "7501      7  0.985678    🙏\n",
       "7729      6  0.978434    🤦\n",
       "\n",
       "[3333 rows x 3 columns], R=30, lambda_step=0.01, plot_opts={'xlab': 'PC1', 'ylab': 'PC2'}, topic_order=[7, 9, 8, 10, 1, 2, 5, 6, 4, 3])"
      ]
     },
     "execution_count": 34,
     "metadata": {},
     "output_type": "execute_result"
    }
   ],
   "source": [
    "%time\n",
    "lda_model_subs = LdaModel(corpus=tqdm(corpus_subs),\n",
    "            id2word=dictionary_subs,\n",
    "            num_topics=10,\n",
    "            random_state=100,\n",
    "            passes=2,\n",
    "            per_word_topics=False)\n",
    "pyLDAvis.enable_notebook()\n",
    "lda_viz_subs = gensimvis.prepare(lda_model_subs, corpus_subs, dictionary_subs)\n",
    "lda_viz_subs"
   ]
  },
  {
   "cell_type": "markdown",
   "metadata": {},
   "source": [
    "Compared to the comments topic model, the submissions topic model seen above shows more fluidity between topic sections, whereas the comments model has three very distinct sections. I suspect that is due to the fact that comments on this site are generally all responding with empathy, medical information, and online resources to submissions that vary much more in topics."
   ]
  },
  {
   "cell_type": "markdown",
   "metadata": {},
   "source": [
    "### Tweaking"
   ]
  },
  {
   "cell_type": "code",
   "execution_count": 35,
   "metadata": {},
   "outputs": [],
   "source": [
    "def POS(text_subs, allowed_postags = ['NOUN', 'ADJ']):\n",
    "    parsed_subs = nlp(text_subs)\n",
    "    return [token.lemma_ for token in parsed_subs if token.pos_ in allowed_postags]"
   ]
  },
  {
   "cell_type": "code",
   "execution_count": 36,
   "metadata": {},
   "outputs": [
    {
     "name": "stderr",
     "output_type": "stream",
     "text": [
      "100%|█████████████████████████████████████| 27376/27376 [06:18<00:00, 72.30it/s]\n"
     ]
    }
   ],
   "source": [
    "pos_lemmas_split_subs = [POS(text) for text in tqdm(topics_subs_df['pp_text'])]"
   ]
  },
  {
   "cell_type": "code",
   "execution_count": 37,
   "metadata": {},
   "outputs": [],
   "source": [
    "with open('Tweaked Data/abortionsubmissions_pos_lemmas.json', 'w' ) as write:\n",
    "    json.dump(pos_lemmas_split_subs, write)"
   ]
  },
  {
   "cell_type": "code",
   "execution_count": 38,
   "metadata": {},
   "outputs": [],
   "source": [
    "str_pos_lemmas_subs = [' '.join(t) for t in pos_lemmas_split_subs]"
   ]
  },
  {
   "cell_type": "code",
   "execution_count": 39,
   "metadata": {},
   "outputs": [
    {
     "name": "stderr",
     "output_type": "stream",
     "text": [
      "/var/folders/9q/6g8vlvxx6slcp43g6vr27drr0000gn/T/ipykernel_32102/1528302999.py:1: SettingWithCopyWarning: \n",
      "A value is trying to be set on a copy of a slice from a DataFrame.\n",
      "Try using .loc[row_indexer,col_indexer] = value instead\n",
      "\n",
      "See the caveats in the documentation: https://pandas.pydata.org/pandas-docs/stable/user_guide/indexing.html#returning-a-view-versus-a-copy\n",
      "  topics_subs_df['pos_lemmas_subs'] = str_pos_lemmas_subs\n"
     ]
    }
   ],
   "source": [
    "topics_subs_df['pos_lemmas_subs'] = str_pos_lemmas_subs"
   ]
  },
  {
   "cell_type": "code",
   "execution_count": 40,
   "metadata": {},
   "outputs": [],
   "source": [
    "topics_subs_df.to_csv('Tweaked Data/abortionssubmissions_pos_lemmas.csv', index=False)"
   ]
  },
  {
   "cell_type": "code",
   "execution_count": 41,
   "metadata": {},
   "outputs": [
    {
     "name": "stderr",
     "output_type": "stream",
     "text": [
      "100%|██████████████████████████████████| 27376/27376 [00:00<00:00, 49400.91it/s]\n",
      "100%|██████████████████████████████████| 27376/27376 [00:00<00:00, 81347.82it/s]\n"
     ]
    }
   ],
   "source": [
    "pos_dictionary_subs = corpora.Dictionary(tqdm(pos_lemmas_split_subs))\n",
    "pos_dictionary_subs.filter_extremes(no_below=10, no_above=0.4)\n",
    "pos_dictionary_subs.compactify() \n",
    "pos_dictionary_subs.save('Dictionaries/abortionsubmissions_pos_lda.dict') \n",
    "pos_corpus_subs = [pos_dictionary_subs.doc2bow(text_subs) for text_subs in tqdm(pos_lemmas_split_subs)]"
   ]
  },
  {
   "cell_type": "code",
   "execution_count": 42,
   "metadata": {},
   "outputs": [],
   "source": [
    "logging.basicConfig(filename='Tweaked Data/gensim_abortion_subs.log', filemode='w', format=\"%(asctime)s:%(levelname)s:%(message)s\", level=logging.INFO)"
   ]
  },
  {
   "cell_type": "code",
   "execution_count": 43,
   "metadata": {},
   "outputs": [
    {
     "name": "stderr",
     "output_type": "stream",
     "text": [
      "100%|███████████████████████████████████| 27376/27376 [00:09<00:00, 2877.29it/s]\n"
     ]
    }
   ],
   "source": [
    "lda_model_tweak_subs = LdaModel(corpus=tqdm(pos_corpus_subs),\n",
    "                           id2word=pos_dictionary_subs,\n",
    "                           num_topics=20,\n",
    "                           random_state=100,\n",
    "                           eval_every=1,\n",
    "                           passes=5,\n",
    "                           per_word_topics=False)"
   ]
  },
  {
   "cell_type": "markdown",
   "metadata": {},
   "source": [
    "### Calculating Coherence"
   ]
  },
  {
   "cell_type": "code",
   "execution_count": 44,
   "metadata": {},
   "outputs": [
    {
     "name": "stderr",
     "output_type": "stream",
     "text": [
      "100%|███████████████████████████████████| 27376/27376 [00:04<00:00, 6626.78it/s]\n"
     ]
    },
    {
     "name": "stdout",
     "output_type": "stream",
     "text": [
      "\n",
      "Coherence Score:  0.46730979812053847\n"
     ]
    }
   ],
   "source": [
    "coherence_model_subs = CoherenceModel(model=lda_model_tweak_subs, corpus=pos_corpus_subs, texts=tqdm(pos_lemmas_split_subs), dictionary=pos_dictionary_subs, coherence='c_v') \n",
    "coherence_subs = coherence_model_subs.get_coherence()\n",
    "print('\\nCoherence Score: ', coherence_subs)"
   ]
  },
  {
   "cell_type": "markdown",
   "metadata": {},
   "source": [
    "This coherence score of 0.4673 is good, but way worse than the coherence score of the comments data which was 0.602. This makes sense when looking at the topic models because the comments topic model has three very distinct areas whereas the Submissions topic model has circles (topics) all over the graph, meaning the topics are all individually distinct but dont overlap with each other in the same way that the comments data topics do."
   ]
  },
  {
   "cell_type": "code",
   "execution_count": 45,
   "metadata": {},
   "outputs": [],
   "source": [
    "def compute_coherence_values(dictionary_subs, corpus_subs, texts, start, limit, step):\n",
    "    coherence_values_subs = []\n",
    "    model_list = []\n",
    "    passes = 5\n",
    "    for num_topics in tqdm(range(start, limit, step)):\n",
    "        model = LdaModel(corpus=corpus_subs, id2word=dictionary_subs, num_topics=num_topics, random_state=100, \n",
    "                         update_every=1, passes=passes, alpha='auto', per_word_topics=False)\n",
    "        model_list.append(model)\n",
    "        coherencemodel = CoherenceModel(model=model, texts=texts, dictionary=dictionary_subs, coherence='c_v') \n",
    "        coherence_values_subs.append(coherencemodel.get_coherence())\n",
    "    return model_list, coherence_values_subs"
   ]
  },
  {
   "cell_type": "code",
   "execution_count": 46,
   "metadata": {},
   "outputs": [
    {
     "name": "stderr",
     "output_type": "stream",
     "text": [
      "100%|█████████████████████████████████████████████| 5/5 [01:57<00:00, 23.48s/it]\n"
     ]
    }
   ],
   "source": [
    "model_list, coherence_values_subs = compute_coherence_values(dictionary_subs=pos_dictionary_subs, \n",
    "                                                        corpus_subs=pos_corpus_subs, texts=pos_lemmas_split_subs, \n",
    "                                                        start=6, limit=30, step=5)"
   ]
  },
  {
   "cell_type": "code",
   "execution_count": 47,
   "metadata": {},
   "outputs": [
    {
     "data": {
      "image/png": "[encoded data removed]",
      "text/plain": [
       "<Figure size 640x480 with 1 Axes>"
      ]
     },
     "metadata": {},
     "output_type": "display_data"
    }
   ],
   "source": [
    "start=6; limit=30; step=5\n",
    "x = range(start, limit, step)\n",
    "plt.plot(x, coherence_values_subs)\n",
    "plt.xlabel(\"Num Topics\")\n",
    "plt.ylabel(\"Coherence score\")\n",
    "plt.legend((\"coherence_values\"), loc='best')\n",
    "plt.show()"
   ]
  },
  {
   "cell_type": "markdown",
   "metadata": {},
   "source": [
    "This model indicates that the highest possible coherence score would come from using 16 topics, however 6 topics yeilds only 0.023 lower coherence score, and as the comments dataset uses 6 topics, I am opting to also use 6 for the submissions on the basis of easier comparison."
   ]
  },
  {
   "cell_type": "code",
   "execution_count": 48,
   "metadata": {},
   "outputs": [
    {
     "name": "stdout",
     "output_type": "stream",
     "text": [
      "model_list[0]: Num Topics = 6, Coherence Value = 0.4842\n",
      "model_list[1]: Num Topics = 11, Coherence Value = 0.4793\n",
      "model_list[2]: Num Topics = 16, Coherence Value = 0.4865\n",
      "model_list[3]: Num Topics = 21, Coherence Value = 0.4721\n",
      "model_list[4]: Num Topics = 26, Coherence Value = 0.4533\n"
     ]
    }
   ],
   "source": [
    "c = 0\n",
    "for m, cv in zip(x, coherence_values_subs):\n",
    "    print(f\"model_list[{c}]: Num Topics = {m}, Coherence Value = {round(cv, 4)}\")\n",
    "    c += 1"
   ]
  },
  {
   "cell_type": "markdown",
   "metadata": {},
   "source": [
    "### Modeling"
   ]
  },
  {
   "cell_type": "code",
   "execution_count": 49,
   "metadata": {},
   "outputs": [],
   "source": [
    "optimal_lda_model_subs = model_list[0]\n",
    "optimal_lda_model_subs.save('Models/abortionsubmissions_pos_lda_optimal.model')"
   ]
  },
  {
   "cell_type": "code",
   "execution_count": 50,
   "metadata": {},
   "outputs": [
    {
     "data": {
      "text/html": [
       "\n",
       "<link rel=\"stylesheet\" type=\"text/css\" href=\"https://cdn.jsdelivr.net/gh/bmabey/pyLDAvis@3.4.0/pyLDAvis/js/ldavis.v1.0.0.css\">\n",
       "\n",
       "\n",
       "<div id=\"ldavis_el32102135295081922084726186\" style=\"background-color:white;\"></div>\n",
       "<script type=\"text/javascript\">\n",
       "\n",
       "var ldavis_el32102135295081922084726186_data = {\"mdsDat\": {\"x\": [-0.11878010989671468, 0.17209886485779657, 0.018931753182624803, 0.0008783033690106474, 0.17006888482753396, -0.24319769634025123], \"y\": [0.04289726476664828, -0.09916294676326694, -0.18253604009116833, -0.013454859606116401, 0.21046206158860908, 0.04179452010529422], \"topics\": [1, 2, 3, 4, 5, 6], \"cluster\": [1, 1, 1, 1, 1, 1], \"Freq\": [40.64344221642294, 16.82712975642383, 12.273228477074918, 11.997069822313428, 9.674689387411748, 8.584440340353124]}, \"tinfo\": {\"Term\": [\"period\", \"test\", \"pill\", \"pregnancy\", \"baby\", \"pain\", \"procedure\", \"clot\", \"appointment\", \"sex\", \"room\", \"hour\", \"month\", \"child\", \"cramp\", \"nurse\", \"positive\", \"normal\", \"state\", \"minute\", \"bleeding\", \"blood\", \"doctor\", \"birth\", \"pad\", \"surgical\", \"miso\", \"control\", \"negative\", \"access\", \"relationship\", \"guilty\", \"kid\", \"stable\", \"selfish\", \"therapy\", \"dad\", \"career\", \"father\", \"raise\", \"brother\", \"anger\", \"lonely\", \"daughter\", \"married\", \"depression\", \"toxic\", \"grief\", \"connection\", \"resent\", \"forgive\", \"resentment\", \"distant\", \"marriage\", \"joy\", \"unstable\", \"child\", \"birthday\", \"ruin\", \"ex\", \"baby\", \"mother\", \"guilt\", \"sad\", \"son\", \"excited\", \"abusive\", \"mom\", \"dream\", \"life\", \"angry\", \"sister\", \"regret\", \"love\", \"family\", \"year\", \"decision\", \"depressed\", \"choice\", \"world\", \"mental\", \"emotion\", \"school\", \"friend\", \"old\", \"boyfriend\", \"support\", \"ready\", \"right\", \"partner\", \"feeling\", \"husband\", \"thing\", \"talk\", \"time\", \"good\", \"month\", \"situation\", \"way\", \"pregnancy\", \"hard\", \"bad\", \"lot\", \"people\", \"clot\", \"toilet\", \"diarrhea\", \"sized\", \"tablet\", \"codeine\", \"lemon\", \"dissolve\", \"cheek\", \"gush\", \"golf\", \"am\", \"quarter\", \"bowel\", \"promethazine\", \"bowl\", \"grape\", \"palm\", \"diarrhoea\", \"hunger\", \"paracetamol\", \"yellow\", \"fruit\", \"hydrated\", \"hydrocodone\", \"massage\", \"temp\", \"size\", \"edible\", \"fleshy\", \"gum\", \"misoprostol\", \"chill\", \"pm\", \"mifepristone\", \"cramp\", \"tongue\", \"fever\", \"contraction\", \"dose\", \"placenta\", \"bleeding\", \"heavy\", \"large\", \"pad\", \"bathroom\", \"cramping\", \"nausea\", \"hour\", \"blood\", \"ibuprofen\", \"pain\", \"mild\", \"pill\", \"light\", \"normal\", \"tissue\", \"bad\", \"water\", \"night\", \"minute\", \"yesterday\", \"morning\", \"lot\", \"bit\", \"experience\", \"period\", \"little\", \"today\", \"time\", \"second\", \"vital\", \"chair\", \"juice\", \"sedative\", \"speculum\", \"fentanyl\", \"valium\", \"waist\", \"recliner\", \"operating\", \"ale\", \"gown\", \"lidocaine\", \"loopy\", \"needle\", \"stirrup\", \"sock\", \"escort\", \"dilator\", \"undress\", \"lobby\", \"anesthesiologist\", \"soften\", \"oxygen\", \"dressed\", \"room\", \"curtain\", \"theatre\", \"pinch\", \"wheelchair\", \"nurse\", \"protester\", \"sedation\", \"paperwork\", \"protestor\", \"friendly\", \"recovery\", \"waiting\", \"staff\", \"cervix\", \"bag\", \"awake\", \"ginger\", \"twilight\", \"procedure\", \"cracker\", \"minute\", \"ride\", \"table\", \"nice\", \"antibiotic\", \"pressure\", \"snack\", \"blanket\", \"anesthesia\", \"hand\", \"uncomfortable\", \"ultrasound\", \"doctor\", \"pain\", \"question\", \"appointment\", \"home\", \"woman\", \"clinic\", \"experience\", \"quick\", \"hour\", \"pad\", \"time\", \"little\", \"surgical\", \"thing\", \"blood\", \"bad\", \"good\", \"bit\", \"lot\", \"ectopic\", \"reschedule\", \"tia\", \"gp\", \"ptsd\", \"gravidarum\", \"specialist\", \"paragard\", \"fibroid\", \"gynaecologist\", \"heyjane\", \"dr\", \"lmp\", \"hysterectomy\", \"hypochondriac\", \"telemedicine\", \"honeybee\", \"nhs\", \"placement\", \"cystic\", \"kyleena\", \"booking\", \"=\", \"medicated\", \"penetrative\", \"fallopian\", \"rupture\", \"severity\", \"6d\", \"mas\", \"cyst\", \"hyperemesis\", \"availability\", \"tomorrow\", \"abnormality\", \"scan\", \"removal\", \"complication\", \"surgical\", \"iud\", \"surgery\", \"d&c\", \"appointment\", \"nervous\", \"viable\", \"hospital\", \"section\", \"risk\", \"medical\", \"telehealth\", \"consultation\", \"ultrasound\", \"doctor\", \"route\", \"obgyn\", \"tip\", \"termination\", \"procedure\", \"clinic\", \"schedule\", \"anxiety\", \"advice\", \"medication\", \"parenthood\", \"thank\", \"experience\", \"miscarriage\", \"scared\", \"anxious\", \"pill\", \"work\", \"today\", \"pregnancy\", \"process\", \"able\", \"option\", \"pain\", \"time\", \"morning\", \"story\", \"hour\", \"bad\", \"miso\", \"unprotected\", \"mife\", \"ovulation\", \"irregular\", \"implantation\", \"tracking\", \"intercourse\", \"placebo\", \"28th\", \"yeast\", \"withdrawal\", \"cum\", \"22nd\", \"menstruation\", \"digital\", \"shipment\", \"feb\", \"def\", \"ovulating\", \"stringy\", \"epidural\", \"origin\", \"panicking\", \"precum\", \"darker\", \"ovulate\", \"preg\", \"consistency\", \"horny\", \"cycle\", \"custom\", \"15th\", \"negative\", \"test\", \"nipple\", \"sex\", \"condom\", \"period\", \"faint\", \"breast\", \"b\", \"fertile\", \"positive\", \"paranoid\", \"control\", \"line\", \"symptom\", \"birth\", \"late\", \"\\ud83d\\ude2d\", \"pregnancy\", \"discharge\", \"normal\", \"month\", \"regular\", \"boob\", \"result\", \"plan\", \"pill\", \"early\", \"brown\", \"time\", \"today\", \"light\", \"hormone\", \"long\", \"blood\", \"bleeding\", \"sure\", \"medical\", \"morning\", \"mail\", \"email\", \"fund\", \"site\", \"shipping\", \"seller\", \"aid\", \"philippine\", \"funding\", \"package\", \"ship\", \"police\", \"ban\", \"packaging\", \"bank\", \"government\", \"access\", \"market\", \"permission\", \"legitimate\", \"charge\", \"parental\", \"legit\", \"status\", \"illegal\", \"mod\", \"purchase\", \"\\ud83d\\ude1e\", \"usp\", \"discreet\", \"legal\", \"organization\", \"assistance\", \"cost\", \"address\", \"country\", \"order\", \"payment\", \"insurance\", \"website\", \"r\", \"service\", \"link\", \"kit\", \"state\", \"resource\", \"aidaccess\", \"online\", \"money\", \"law\", \"pay\", \"live\", \"information\", \"woman\", \"message\", \"help\", \"pill\", \"option\", \"parent\", \"safe\", \"people\", \"clinic\", \"need\", \"way\", \"parenthood\", \"thank\", \"time\", \"able\", \"question\"], \"Freq\": [11491.0, 6967.0, 15208.0, 14213.0, 11887.0, 11688.0, 7411.0, 4733.0, 7323.0, 3907.0, 3643.0, 9677.0, 7217.0, 8682.0, 5448.0, 3190.0, 3953.0, 5510.0, 3194.0, 4067.0, 4523.0, 6206.0, 6226.0, 3375.0, 3437.0, 3687.0, 1802.0, 2798.0, 2041.0, 1718.0, 3150.742985087092, 1495.0646633955726, 4451.390608570485, 863.7545810593997, 672.5850791058638, 593.0402691347205, 1086.785802581678, 596.2149050661026, 1008.8099899325364, 376.7537898684327, 313.7605126460517, 291.40348322295677, 275.1964818670147, 710.7190912155188, 303.5511029035398, 1044.539485512891, 226.31254666208787, 683.2716138612494, 182.86412082945233, 181.5339850154906, 181.3566091098615, 176.32442571837237, 170.9708699673318, 446.4027612329674, 167.24979501505294, 163.85933429006195, 8630.646701964844, 322.39646722447725, 154.96754306712168, 854.002888407515, 11793.693983572615, 1953.0991306337203, 1557.509028038339, 2535.408993323271, 682.8910120022932, 606.961077050352, 570.7667698867842, 3153.6808117487108, 595.7454181850933, 8259.735974244897, 796.8051320787042, 702.1794966992272, 1842.9271515316343, 2646.318799654289, 4403.049334093468, 8107.080325164982, 6575.877675635106, 744.8305532109408, 3815.6688391244484, 1242.8640958318774, 1566.4478712408431, 1567.5796194910574, 1345.4734002013374, 4055.3380864047163, 2710.8650912038806, 4786.924771329753, 3868.2957307626184, 3199.7907731705927, 5161.642278734253, 3906.4196311816913, 2983.2579437652016, 2287.132631528308, 6036.618824874543, 2352.4391482451106, 10766.66370576169, 5010.186115358668, 4796.9046837507985, 2735.4251916215862, 3681.885736329402, 5540.1482995435435, 2225.377818946533, 3371.4822777746704, 2703.455505292112, 2524.641238859661, 4731.478640439085, 1391.9059715975452, 557.5888880012553, 271.74880297812257, 734.145247454521, 222.39127787146333, 157.70198342511782, 145.2251084669682, 585.5201765504373, 118.89754711893127, 106.67011332715043, 81.83076985783093, 79.63900747396082, 79.63287976292595, 70.25902365444288, 59.98464723503439, 57.60205926408862, 56.091412499985566, 53.358667201226545, 53.18670303507731, 52.5737800048709, 51.55348516953028, 51.084487385283275, 50.90914706980354, 47.603638037124455, 46.80717627548073, 46.86257888599431, 689.0442138701262, 41.94352087107617, 39.94073563252327, 211.35451066407146, 1878.8967861478418, 398.35874685084025, 1570.7641896643488, 1056.8724873405401, 4755.428593636439, 316.4487500220535, 440.0617986723935, 337.39480811408424, 766.8729638345638, 107.70854933822696, 3545.167108625176, 2222.6555907346024, 716.4445016526065, 2607.4282175109247, 1328.1484268434324, 1060.1579758076894, 2033.1192875652796, 6403.219585260919, 3991.895226688961, 1136.0180705898479, 6811.790193499399, 772.782395561381, 7112.123794998777, 1647.8875044800086, 2873.213277773333, 835.7230022081608, 3639.8066064126824, 876.3026966091442, 1814.6926893756142, 1709.9762411277156, 1320.5010434719204, 1505.3341455472284, 2016.6895944633134, 1413.0453480002407, 2050.964802650486, 2460.758747345042, 1610.9104765219442, 1601.9943812473532, 2139.7897610150253, 1375.7596049473948, 248.90849775461655, 223.83042168651156, 159.74929761850646, 158.82537999172064, 156.63273368923265, 198.4446685721873, 128.40339753150894, 119.30880091075619, 111.49093598352823, 105.14426377058004, 103.10442175505231, 101.09725667691117, 100.88788952244754, 90.66380031965974, 253.51954933620158, 83.88457935778891, 82.43604954833816, 76.12729932753417, 75.74473045094183, 71.16578943932825, 66.81575115388895, 66.26684262993685, 63.22705842241992, 53.11832759140584, 52.071951479598525, 3577.22623736301, 48.479942625872724, 48.34797080992156, 48.096474948817225, 43.02823353163924, 2962.696381886206, 280.9568493926331, 1255.7008461723735, 337.0492871960698, 377.30284161570665, 134.5879737485992, 1059.7660224880467, 858.0634443795027, 509.14930157898283, 705.5909666422967, 242.69390406452382, 378.0745787805112, 143.33327763045497, 113.0598804303719, 4213.509329517895, 237.99141287417552, 2245.976114955482, 266.0445102671096, 239.7823815559777, 677.7019844681789, 500.06519506774526, 661.9412762041153, 296.25362886968594, 242.25932788441943, 297.1784986503871, 730.1831979668921, 542.3339011668991, 1415.764091919783, 1892.0841443186214, 2316.5145662961963, 938.9030847654745, 1612.2711929401041, 1075.2255874517236, 1063.7908755867377, 1050.2163783780104, 1409.9244334585132, 434.54026091874897, 1507.0822189766216, 829.5795958385722, 1757.150538698765, 906.0942248122752, 800.5939293513804, 1073.071027305848, 937.0217599603989, 952.1937087758654, 895.370870420706, 706.2511704674357, 764.2919778447432, 450.40585602644927, 157.92473786339283, 129.2700608433181, 127.52759061277386, 73.79194135733272, 68.17322305809464, 62.22370259863595, 47.25438933678576, 46.257602008189714, 44.729147432176106, 44.08055727904135, 40.30195157103551, 36.42855987938305, 34.16167567345887, 33.18595813730841, 32.331279578285894, 31.2483375795327, 42.83196346483363, 28.46669571780524, 28.062363913479714, 28.271561437635818, 28.033356842977458, 28.22782517007263, 27.29606053682276, 25.590863619609042, 25.157974062518104, 24.734185195481018, 27.666390622589144, 24.742772379549905, 22.975808314699368, 127.0187462993287, 92.65064924344493, 52.854749797061345, 1941.71941068889, 37.0464399675576, 169.0998476729439, 64.3768372053594, 453.39256730562556, 2404.3675061498957, 822.6651516842221, 848.9787388717797, 87.65344168016573, 4321.676639584501, 1435.5631085102727, 137.28784701018827, 1063.8151364370287, 160.75383489930897, 672.854337936322, 2557.011268228599, 101.37560536339092, 467.09313164335816, 1951.7520338701422, 2787.0373012056066, 301.17039364057837, 114.41182133307514, 350.92196659401407, 510.1401778923475, 2599.2296762884753, 1607.2774558586034, 342.5182806794428, 1080.8523021944432, 1465.6647009724204, 1005.4108271663138, 965.9417301499398, 1113.5603226597764, 2241.6223110879546, 737.9305662814381, 1410.4151799085855, 686.7955761103829, 3006.399355392848, 1535.9125764686144, 1525.8406700795124, 2558.9987931434057, 1059.8734003081897, 1268.9521120170195, 971.6382446059, 1693.8102750324865, 1614.8482029714376, 893.3307001109371, 821.1366369317259, 945.5726808090805, 831.1675270302788, 1801.4454692111537, 696.4280371265901, 506.31193415735487, 399.49131466296797, 313.4233146076793, 185.6969485098969, 201.89717616323043, 113.86761363930854, 107.39056622785623, 98.56493271333994, 88.93296491272886, 86.83986034783256, 85.34658256562066, 85.28787066294032, 73.05246931482286, 69.8313961272286, 69.9536209279374, 52.02031806840743, 45.355763319096944, 42.90559928345874, 41.86809254211122, 38.27489368745688, 43.196512426109265, 34.51198741165957, 33.474344793085216, 33.501821109454184, 32.729747295553835, 32.47029296608734, 32.151764394668945, 29.24896096472768, 960.972301628896, 119.45805567532815, 117.8928535477124, 1804.2806187228202, 5891.376913531086, 128.67035048500364, 3275.3043510797884, 893.3870207646665, 8632.677241048334, 476.9848146706493, 796.7217875596857, 228.01531553552988, 140.5023970500938, 2663.1110325826726, 268.52735658901486, 1731.9912423842386, 766.3113771765339, 1573.9503434626956, 1838.1239348901997, 978.6914166865274, 181.00209268696932, 4466.039401144046, 382.0598193428224, 1790.1622242949002, 2164.498031504587, 495.62282212094675, 289.90573595009033, 389.33939647801816, 808.001460845977, 1933.4243395847352, 662.3870390052002, 354.21904142941605, 1848.4874592097383, 994.4886842478259, 639.9709199703884, 495.97361829856607, 672.1327748667358, 789.7444790210973, 706.9676065693517, 663.7208616265509, 646.7503912667073, 565.0890061438234, 419.56431684019554, 344.42582360505105, 251.50305870682925, 246.982096895718, 228.03707032576224, 177.2628788497115, 1210.026489702528, 167.20819685829738, 160.10270958502733, 700.3637546448376, 142.1225368489828, 114.73740173425345, 102.68482963721843, 85.59400253182434, 85.10214283065663, 80.49517791090437, 1698.9744402291649, 80.2969344301718, 78.80993034761691, 78.32500601061732, 77.53615426605846, 76.71449158919766, 83.53084077452525, 74.4662681360418, 1015.3222493147665, 71.87294716237179, 68.32282725208181, 68.27471603376327, 87.81425488048761, 69.87009092264044, 668.434026958305, 156.5752961029533, 197.62232930866813, 633.5902521525002, 241.34415105224627, 1018.0122520207138, 696.2950842154846, 330.61817952501616, 861.5892927992479, 488.61234320228994, 136.12016287973697, 442.39062121827317, 131.81543745606595, 181.4962182484932, 2033.9429761997133, 439.6616702420307, 312.7664832619468, 499.25863242554794, 935.6182885209683, 439.8540232561768, 404.18576684651896, 1029.3789005261751, 553.8217603212438, 1360.0601872721647, 417.0434267889965, 1302.3606213081766, 2793.95104640858, 926.5013619206893, 822.0666273764241, 614.0405628721259, 913.1272240307255, 831.3845417488862, 680.9654951370611, 780.1245762389015, 558.7308958427312, 579.7981897776937, 741.9486574924845, 533.696298026224, 503.7896757759632], \"Total\": [11491.0, 6967.0, 15208.0, 14213.0, 11887.0, 11688.0, 7411.0, 4733.0, 7323.0, 3907.0, 3643.0, 9677.0, 7217.0, 8682.0, 5448.0, 3190.0, 3953.0, 5510.0, 3194.0, 4067.0, 4523.0, 6206.0, 6226.0, 3375.0, 3437.0, 3687.0, 1802.0, 2798.0, 2041.0, 1718.0, 3151.7424865454464, 1496.0128191794577, 4454.659256963675, 864.6967145981997, 673.5194728856032, 593.9850171314449, 1088.833744226736, 597.416303808396, 1011.19922083642, 377.7032368962032, 314.7000300115663, 292.3410240835518, 276.13649934573243, 713.3644539295234, 304.69977977545824, 1048.6342537751427, 227.26533054500507, 686.3162330672479, 183.8006314989385, 182.46780873775512, 182.29167528315784, 177.2576643059939, 171.9071465556211, 448.86181397187084, 168.18728249901605, 164.79492660033216, 8682.52088128469, 324.3407939940623, 155.90624084948814, 859.7156833734622, 11887.883608926331, 1971.6568447196264, 1575.0748389911962, 2584.4717382711733, 688.614652617612, 611.7813616908201, 577.0771233997758, 3246.536694273307, 603.3581358559275, 8810.470256805067, 811.9035193004199, 713.8138759465555, 1913.6945577954004, 2769.6118342165087, 4690.605414974073, 8975.717488501334, 7438.402367837566, 762.2706700809204, 4315.718765113657, 1310.854545669523, 1678.7280942700609, 1680.715988187527, 1435.7502538533706, 4768.358120363396, 3129.077436313491, 5965.711924896785, 4730.109190125017, 3840.280491995115, 6829.805562059499, 5020.099737253397, 3658.1164755301847, 2697.7330937388547, 8984.63215940667, 2846.0188624432362, 18868.88832514914, 7549.694875180551, 7217.950567414318, 3573.997246185452, 5911.444886870267, 14213.364644137566, 2767.778026222967, 8917.618739843263, 6571.879909807994, 4887.740403600058, 4733.035210885198, 1392.9294528268367, 558.5652275640717, 272.7323523427155, 737.2396648443495, 223.3684403373637, 158.68163825669617, 146.20123180224218, 590.2379782101931, 119.87281514491353, 107.64462801017612, 82.81576958347306, 80.61828784131164, 80.61231673374714, 71.23546034345985, 60.96309006209487, 58.57803640527258, 57.06697347058433, 54.33417101537919, 54.174535632521724, 53.55121631346375, 52.53599748422133, 52.06623141199571, 51.88767464262929, 48.578701898113756, 47.78816027859096, 47.84636354172314, 703.6160172495729, 42.92518845502826, 40.91606590567359, 217.2793274142819, 1988.4336741592547, 417.30721601826764, 1693.5754112819156, 1144.5397236154174, 5448.681051264057, 334.7880896672977, 475.1156796382983, 362.2176849563303, 883.6967029674769, 113.60335092499402, 4523.447402703917, 2835.215666259239, 853.5661548763092, 3437.7547499239004, 1679.1996031911483, 1321.3010457087698, 2725.6192926684384, 9677.213133169094, 6206.083850400738, 1521.621547986308, 11688.833140547807, 1030.6824595038715, 15208.489699871294, 2605.319103344131, 5510.198313757506, 1212.410805097468, 8917.618739843263, 1323.5060129469723, 3980.457958082307, 4067.913053919493, 2840.2026540554225, 3651.7871312785605, 6571.879909807994, 3411.1353041047246, 7617.965465312205, 11491.32888186308, 4852.370685706436, 5749.031937125031, 18868.88832514914, 3866.795394758958, 249.81077786083813, 224.73139103050116, 160.65184703856278, 159.72671722866679, 157.53457379621688, 199.74228544100015, 129.30488181463733, 120.21012125331477, 112.39128897242666, 106.04581723920731, 104.00650684313645, 101.99747750941032, 101.79673603358206, 91.56559336630156, 256.1413111633833, 84.78534559308667, 83.34097603410673, 77.02873406962196, 76.64807427982876, 72.07266181663212, 67.71801100502007, 67.16826465212151, 64.13227779067047, 54.02936442319194, 52.975940413254605, 3643.3768698855833, 49.38035089075664, 49.2486369544889, 48.997490560180346, 43.929118485159954, 3190.2338451428286, 294.0814153698157, 1400.3668021576705, 364.26665749166267, 409.8274272270978, 142.017688233296, 1223.0303193752225, 981.9292191656289, 574.8096193151719, 832.0807313371199, 268.128549025003, 436.91556378575683, 153.24185979480103, 118.84863900333222, 7411.683503298641, 278.07922979633304, 4067.913053919493, 325.84369755988877, 288.41798632581043, 1044.2038932055657, 732.4974920539266, 1051.6726207977642, 384.2495168548888, 300.84553152504395, 392.74225196177565, 1320.6839861951014, 909.9837251320323, 3957.1089008579697, 6226.794874493047, 11688.833140547807, 2730.4691268344404, 7323.089330678246, 4180.522615804065, 4125.379423653108, 4034.3346241586232, 7617.965465312205, 800.3403790575836, 9677.213133169094, 3437.7547499239004, 18868.88832514914, 4852.370685706436, 3687.288127469504, 8984.63215940667, 6206.083850400738, 8917.618739843263, 7549.694875180551, 3411.1353041047246, 6571.879909807994, 451.42689867491265, 158.87055665518739, 130.22032556509131, 128.48993280244713, 74.75440335154387, 69.1237325045147, 63.17832857035813, 48.20539352211147, 47.20545315140328, 45.68733240439199, 45.03713756912016, 41.250978573374724, 37.379516743158504, 35.116212844005915, 34.137296391899795, 33.290394401868696, 32.214788822272226, 44.24583392827709, 29.414386814744642, 29.009287539442013, 29.225741631851047, 28.98239080086995, 29.188406292717247, 28.24359810746883, 26.541512868411438, 26.1039581278483, 25.678685343638943, 28.78385425501022, 25.759858822061, 23.92585395979425, 132.31960222305779, 97.75419101531021, 56.50725771155293, 2444.8774416828087, 39.336041095674815, 199.8837037374379, 71.20410873622397, 593.4768117414627, 3687.288127469504, 1164.9715191687185, 1213.183935424227, 100.67694779925367, 7323.089330678246, 2309.3930917119574, 168.57061289166117, 1691.8557368190054, 202.30384452914421, 1032.8967241465227, 4959.991981909806, 120.49652721126938, 713.8999899585986, 3957.1089008579697, 6226.794874493047, 443.3020080768339, 141.65676065013267, 563.3579948872374, 903.431860937857, 7411.683503298641, 4034.3346241586232, 587.4658445969419, 2697.225317780764, 4057.4399662585706, 2512.8119286515994, 2393.1354356112124, 2909.6054933988944, 7617.965465312205, 1687.4510063193354, 4338.716974494057, 1536.5173271656122, 15208.489699871294, 5713.815445995852, 5749.031937125031, 14213.364644137566, 3712.259421296788, 5317.659749074689, 3211.4370419606944, 11688.833140547807, 18868.88832514914, 3651.7871312785605, 3244.394590671833, 9677.213133169094, 8917.618739843263, 1802.4314821909622, 697.6902111425892, 507.2958169992334, 400.4632183235782, 314.4032136267224, 186.66422709983593, 203.12400852951643, 114.834257630122, 108.36089059286866, 99.53997311264445, 89.90575865384096, 87.81398630846847, 86.31570530706065, 86.26680302386067, 74.02660860691478, 70.79981765708655, 70.9378264691379, 52.99874784173517, 46.349918429374014, 43.8756632993732, 42.84774392695576, 39.280005305403236, 44.371338368275694, 35.48380372729337, 34.43981403260202, 34.470251177930606, 33.69770387023701, 33.43725421801133, 33.127314160457885, 30.218934765020833, 1015.8316596577536, 124.09489284829148, 123.12068427348315, 2041.0271796586792, 6967.316123690088, 137.29476121854736, 3907.4274859550237, 1031.2313170325044, 11491.32888186308, 551.5229355503835, 981.3043562199555, 259.6695198003905, 155.66071931089448, 3953.985819436388, 322.7354141176625, 2798.654098680755, 1171.4885463237952, 2797.4802483961093, 3375.7037354807544, 1627.5077979113207, 214.19470640267053, 14213.364644137566, 617.39444458064, 5510.198313757506, 7217.950567414318, 912.3124286785751, 428.78964856206557, 689.6644595340805, 2214.583400981189, 15208.489699871294, 2234.8712570235575, 636.9434937303508, 18868.88832514914, 5749.031937125031, 2605.319103344131, 1309.2544100521288, 3648.552281702776, 6206.083850400738, 4523.447402703917, 4007.172254402076, 4959.991981909806, 3651.7871312785605, 420.6142383787, 345.3630163743693, 252.439181287382, 247.92916797323062, 229.00883598985027, 178.1987831075577, 1216.6430096603933, 168.14362247348538, 161.0415628782592, 704.5593322206222, 143.0598955899442, 115.67522607393327, 103.62503082170572, 86.536515315745, 86.04185182898435, 81.43197550866579, 1718.9106426842113, 81.24378826530014, 79.74867887779479, 79.26357678930049, 78.47411533135663, 77.65032967140023, 84.60726575436254, 75.42697958486761, 1028.4814450514862, 72.81075589322546, 69.25931956716246, 69.22168263768874, 89.03767186087106, 70.85208215096684, 679.7252756345265, 159.19798648048422, 204.59327748941203, 682.984747974137, 261.93642213590425, 1226.0439968625221, 821.8193834362928, 369.4616412233434, 1056.2015057598564, 576.4219133210652, 144.27213599014564, 536.2619342701703, 140.00225742826836, 203.26475626872525, 3194.02238515503, 560.8099883221762, 400.0539647821897, 756.0305183786111, 1714.478839408936, 657.2811927881903, 601.6808887017658, 2390.7997804350343, 1015.7016578187233, 4125.379423653108, 675.1797060653546, 4198.644853334581, 15208.489699871294, 3211.4370419606944, 3002.0086050058303, 1784.0259051728954, 4887.740403600058, 4034.3346241586232, 3083.907980199278, 5911.444886870267, 2393.1354356112124, 2909.6054933988944, 18868.88832514914, 5317.659749074689, 2730.4691268344404], \"Category\": [\"Default\", \"Default\", \"Default\", \"Default\", \"Default\", \"Default\", \"Default\", \"Default\", \"Default\", \"Default\", \"Default\", \"Default\", \"Default\", \"Default\", \"Default\", \"Default\", \"Default\", \"Default\", \"Default\", \"Default\", \"Default\", \"Default\", \"Default\", \"Default\", \"Default\", \"Default\", \"Default\", \"Default\", \"Default\", \"Default\", \"Topic1\", \"Topic1\", \"Topic1\", \"Topic1\", \"Topic1\", \"Topic1\", \"Topic1\", \"Topic1\", \"Topic1\", \"Topic1\", \"Topic1\", \"Topic1\", \"Topic1\", \"Topic1\", \"Topic1\", \"Topic1\", \"Topic1\", \"Topic1\", \"Topic1\", \"Topic1\", \"Topic1\", \"Topic1\", \"Topic1\", \"Topic1\", \"Topic1\", \"Topic1\", \"Topic1\", \"Topic1\", \"Topic1\", \"Topic1\", \"Topic1\", \"Topic1\", \"Topic1\", \"Topic1\", \"Topic1\", \"Topic1\", \"Topic1\", \"Topic1\", \"Topic1\", \"Topic1\", \"Topic1\", \"Topic1\", \"Topic1\", \"Topic1\", \"Topic1\", \"Topic1\", \"Topic1\", \"Topic1\", \"Topic1\", \"Topic1\", \"Topic1\", \"Topic1\", \"Topic1\", \"Topic1\", \"Topic1\", \"Topic1\", \"Topic1\", \"Topic1\", \"Topic1\", \"Topic1\", \"Topic1\", \"Topic1\", \"Topic1\", \"Topic1\", \"Topic1\", \"Topic1\", \"Topic1\", \"Topic1\", \"Topic1\", \"Topic1\", \"Topic1\", \"Topic1\", \"Topic1\", \"Topic1\", \"Topic2\", \"Topic2\", \"Topic2\", \"Topic2\", \"Topic2\", \"Topic2\", \"Topic2\", \"Topic2\", \"Topic2\", \"Topic2\", \"Topic2\", \"Topic2\", \"Topic2\", \"Topic2\", \"Topic2\", \"Topic2\", \"Topic2\", \"Topic2\", \"Topic2\", \"Topic2\", \"Topic2\", \"Topic2\", \"Topic2\", \"Topic2\", \"Topic2\", \"Topic2\", \"Topic2\", \"Topic2\", \"Topic2\", \"Topic2\", \"Topic2\", \"Topic2\", \"Topic2\", \"Topic2\", \"Topic2\", \"Topic2\", \"Topic2\", \"Topic2\", \"Topic2\", \"Topic2\", \"Topic2\", \"Topic2\", \"Topic2\", \"Topic2\", \"Topic2\", \"Topic2\", \"Topic2\", \"Topic2\", \"Topic2\", \"Topic2\", \"Topic2\", \"Topic2\", \"Topic2\", \"Topic2\", \"Topic2\", \"Topic2\", \"Topic2\", \"Topic2\", \"Topic2\", \"Topic2\", \"Topic2\", \"Topic2\", \"Topic2\", \"Topic2\", \"Topic2\", \"Topic2\", \"Topic2\", \"Topic2\", \"Topic2\", \"Topic2\", \"Topic2\", \"Topic3\", \"Topic3\", \"Topic3\", \"Topic3\", \"Topic3\", \"Topic3\", \"Topic3\", \"Topic3\", \"Topic3\", \"Topic3\", \"Topic3\", \"Topic3\", \"Topic3\", \"Topic3\", \"Topic3\", \"Topic3\", \"Topic3\", \"Topic3\", \"Topic3\", \"Topic3\", \"Topic3\", \"Topic3\", \"Topic3\", \"Topic3\", \"Topic3\", \"Topic3\", \"Topic3\", \"Topic3\", \"Topic3\", \"Topic3\", \"Topic3\", \"Topic3\", \"Topic3\", \"Topic3\", \"Topic3\", \"Topic3\", \"Topic3\", \"Topic3\", \"Topic3\", \"Topic3\", \"Topic3\", \"Topic3\", \"Topic3\", \"Topic3\", \"Topic3\", \"Topic3\", \"Topic3\", \"Topic3\", \"Topic3\", \"Topic3\", \"Topic3\", \"Topic3\", \"Topic3\", \"Topic3\", \"Topic3\", \"Topic3\", \"Topic3\", \"Topic3\", \"Topic3\", \"Topic3\", \"Topic3\", \"Topic3\", \"Topic3\", \"Topic3\", \"Topic3\", \"Topic3\", \"Topic3\", \"Topic3\", \"Topic3\", \"Topic3\", \"Topic3\", \"Topic3\", \"Topic3\", \"Topic3\", \"Topic3\", \"Topic3\", \"Topic3\", \"Topic3\", \"Topic4\", \"Topic4\", \"Topic4\", \"Topic4\", \"Topic4\", \"Topic4\", \"Topic4\", \"Topic4\", \"Topic4\", \"Topic4\", \"Topic4\", \"Topic4\", \"Topic4\", \"Topic4\", \"Topic4\", \"Topic4\", \"Topic4\", \"Topic4\", \"Topic4\", \"Topic4\", \"Topic4\", \"Topic4\", \"Topic4\", \"Topic4\", \"Topic4\", \"Topic4\", \"Topic4\", \"Topic4\", \"Topic4\", \"Topic4\", \"Topic4\", \"Topic4\", \"Topic4\", \"Topic4\", \"Topic4\", \"Topic4\", \"Topic4\", \"Topic4\", \"Topic4\", \"Topic4\", \"Topic4\", \"Topic4\", \"Topic4\", \"Topic4\", \"Topic4\", \"Topic4\", \"Topic4\", \"Topic4\", \"Topic4\", \"Topic4\", \"Topic4\", \"Topic4\", \"Topic4\", \"Topic4\", \"Topic4\", \"Topic4\", \"Topic4\", \"Topic4\", \"Topic4\", \"Topic4\", \"Topic4\", \"Topic4\", \"Topic4\", \"Topic4\", \"Topic4\", \"Topic4\", \"Topic4\", \"Topic4\", \"Topic4\", \"Topic4\", \"Topic4\", \"Topic4\", \"Topic4\", \"Topic4\", \"Topic4\", \"Topic4\", \"Topic4\", \"Topic4\", \"Topic4\", \"Topic4\", \"Topic4\", \"Topic4\", \"Topic5\", \"Topic5\", \"Topic5\", \"Topic5\", \"Topic5\", \"Topic5\", \"Topic5\", \"Topic5\", \"Topic5\", \"Topic5\", \"Topic5\", \"Topic5\", \"Topic5\", \"Topic5\", \"Topic5\", \"Topic5\", \"Topic5\", \"Topic5\", \"Topic5\", \"Topic5\", \"Topic5\", \"Topic5\", \"Topic5\", \"Topic5\", \"Topic5\", \"Topic5\", \"Topic5\", \"Topic5\", \"Topic5\", \"Topic5\", \"Topic5\", \"Topic5\", \"Topic5\", \"Topic5\", \"Topic5\", \"Topic5\", \"Topic5\", \"Topic5\", \"Topic5\", \"Topic5\", \"Topic5\", \"Topic5\", \"Topic5\", \"Topic5\", \"Topic5\", \"Topic5\", \"Topic5\", \"Topic5\", \"Topic5\", \"Topic5\", \"Topic5\", \"Topic5\", \"Topic5\", \"Topic5\", \"Topic5\", \"Topic5\", \"Topic5\", \"Topic5\", \"Topic5\", \"Topic5\", \"Topic5\", \"Topic5\", \"Topic5\", \"Topic5\", \"Topic5\", \"Topic5\", \"Topic5\", \"Topic5\", \"Topic5\", \"Topic5\", \"Topic5\", \"Topic5\", \"Topic6\", \"Topic6\", \"Topic6\", \"Topic6\", \"Topic6\", \"Topic6\", \"Topic6\", \"Topic6\", \"Topic6\", \"Topic6\", \"Topic6\", \"Topic6\", \"Topic6\", \"Topic6\", \"Topic6\", \"Topic6\", \"Topic6\", \"Topic6\", \"Topic6\", \"Topic6\", \"Topic6\", \"Topic6\", \"Topic6\", \"Topic6\", \"Topic6\", \"Topic6\", \"Topic6\", \"Topic6\", \"Topic6\", \"Topic6\", \"Topic6\", \"Topic6\", \"Topic6\", \"Topic6\", \"Topic6\", \"Topic6\", \"Topic6\", \"Topic6\", \"Topic6\", \"Topic6\", \"Topic6\", \"Topic6\", \"Topic6\", \"Topic6\", \"Topic6\", \"Topic6\", \"Topic6\", \"Topic6\", \"Topic6\", \"Topic6\", \"Topic6\", \"Topic6\", \"Topic6\", \"Topic6\", \"Topic6\", \"Topic6\", \"Topic6\", \"Topic6\", \"Topic6\", \"Topic6\", \"Topic6\", \"Topic6\", \"Topic6\", \"Topic6\", \"Topic6\", \"Topic6\", \"Topic6\", \"Topic6\", \"Topic6\"], \"logprob\": [30.0, 29.0, 28.0, 27.0, 26.0, 25.0, 24.0, 23.0, 22.0, 21.0, 20.0, 19.0, 18.0, 17.0, 16.0, 15.0, 14.0, 13.0, 12.0, 11.0, 10.0, 9.0, 8.0, 7.0, 6.0, 5.0, 4.0, 3.0, 2.0, 1.0, -4.9987, -5.7441, -4.6531, -6.2928, -6.5429, -6.6688, -6.0631, -6.6634, -6.1375, -7.1225, -7.3054, -7.3793, -7.4366, -6.4878, -7.3385, -6.1027, -7.6321, -6.5272, -7.8453, -7.8526, -7.8536, -7.8817, -7.9126, -6.9528, -7.9346, -7.955, -3.991, -7.2783, -8.0108, -6.3041, -3.6787, -5.4769, -5.7032, -5.2159, -6.5277, -6.6456, -6.7071, -4.9977, -6.6642, -4.0349, -6.3734, -6.4999, -5.5349, -5.1731, -4.664, -4.0536, -4.2629, -6.4409, -4.8072, -5.9289, -5.6975, -5.6968, -5.8495, -4.7463, -5.149, -4.5804, -4.7935, -4.9832, -4.505, -4.7837, -5.0533, -5.319, -4.3484, -5.2908, -3.7698, -4.5348, -4.5783, -5.14, -4.8429, -4.4343, -5.3464, -4.9309, -5.1518, -5.2202, -3.7102, -4.9338, -5.8486, -6.5673, -5.5735, -6.7678, -7.1115, -7.1939, -5.7997, -7.3939, -7.5025, -7.7675, -7.7947, -7.7948, -7.92, -8.0781, -8.1186, -8.1452, -8.1952, -8.1984, -8.21, -8.2296, -8.2387, -8.2422, -8.3093, -8.3262, -8.325, -5.6369, -8.4359, -8.4848, -6.8187, -4.6338, -6.1848, -4.8129, -5.2091, -3.7052, -6.415, -6.0853, -6.3509, -5.5299, -7.4928, -3.9989, -4.4657, -5.5979, -4.3061, -4.9807, -5.206, -4.5549, -3.4076, -3.8802, -5.1369, -3.3458, -5.5222, -3.3026, -4.765, -4.209, -5.4439, -3.9725, -5.3965, -4.6685, -4.728, -4.9864, -4.8554, -4.563, -4.9187, -4.5461, -4.364, -4.7876, -4.7932, -4.5037, -4.9454, -6.3395, -6.4457, -6.783, -6.7888, -6.8027, -6.5661, -7.0015, -7.0749, -7.1427, -7.2013, -7.2209, -7.2405, -7.2426, -7.3495, -6.3212, -7.4272, -7.4446, -7.5242, -7.5293, -7.5916, -7.6547, -7.6629, -7.7099, -7.8841, -7.904, -3.6743, -7.9755, -7.9782, -7.9834, -8.0948, -3.8628, -6.2184, -4.7212, -6.0364, -5.9236, -6.9544, -4.8908, -5.102, -5.6239, -5.2976, -6.3648, -5.9215, -6.8915, -7.1287, -3.5106, -6.3844, -4.1397, -6.273, -6.3769, -5.3379, -5.6419, -5.3615, -6.1654, -6.3666, -6.1623, -5.2633, -5.5607, -4.6012, -4.3112, -4.1088, -5.0119, -4.4712, -4.8763, -4.887, -4.8999, -4.6053, -5.7823, -4.5387, -5.1357, -4.3852, -5.0475, -5.1713, -4.8784, -5.0139, -4.9979, -5.0594, -5.2967, -5.2177, -5.7237, -6.7718, -6.972, -6.9855, -7.5326, -7.6118, -7.7031, -7.9783, -7.9996, -8.0332, -8.0479, -8.1375, -8.2385, -8.3028, -8.3317, -8.3578, -8.3919, -8.0766, -8.4851, -8.4994, -8.492, -8.5005, -8.4936, -8.5271, -8.5916, -8.6087, -8.6257, -8.5137, -8.6253, -8.6994, -6.9895, -7.305, -7.8663, -4.2625, -8.2217, -6.7034, -7.6691, -5.7171, -4.0488, -5.1213, -5.0898, -7.3605, -3.4625, -4.5646, -6.9118, -4.8643, -6.754, -5.3223, -3.9873, -7.215, -5.6873, -4.2574, -3.9011, -6.1262, -7.0941, -5.9733, -5.5992, -3.9709, -4.4516, -5.9975, -4.8484, -4.5438, -4.9207, -4.9608, -4.8186, -4.1189, -5.23, -4.5822, -5.3018, -3.8254, -4.497, -4.5036, -3.9865, -4.868, -4.6879, -4.9549, -4.3991, -4.4469, -5.0389, -5.1232, -4.9821, -5.111, -4.1224, -5.0728, -5.3916, -5.6285, -5.8712, -6.3946, -6.311, -6.8837, -6.9423, -7.028, -7.1308, -7.1547, -7.172, -7.1727, -7.3275, -7.3726, -7.3709, -7.6671, -7.8042, -7.8597, -7.8842, -7.9739, -7.853, -8.0774, -8.1079, -8.1071, -8.1304, -8.1384, -8.1483, -8.2429, -4.7508, -6.8358, -6.8489, -4.1208, -2.9375, -6.7615, -3.5246, -4.8237, -2.5554, -5.4512, -4.9382, -6.1893, -6.6735, -3.7315, -6.0258, -4.1617, -4.9771, -4.2574, -4.1022, -4.7325, -6.4202, -3.2145, -5.6731, -4.1287, -3.9388, -5.4129, -5.9492, -5.6543, -4.9242, -4.0517, -5.1229, -5.7488, -4.0966, -4.7165, -5.1573, -5.4122, -5.1083, -4.947, -5.0577, -5.1209, -5.1468, -5.2817, -5.4599, -5.6573, -5.9717, -5.9898, -6.0697, -6.3215, -4.4008, -6.3799, -6.4233, -4.9476, -6.5425, -6.7565, -6.8675, -7.0495, -7.0553, -7.111, -4.0614, -7.1134, -7.1321, -7.1383, -7.1484, -7.1591, -7.0739, -7.1888, -4.5762, -7.2243, -7.2749, -7.2756, -7.0239, -7.2525, -4.9942, -6.4456, -6.2128, -5.0478, -6.0129, -4.5736, -4.9534, -5.6982, -4.7404, -5.3076, -6.5856, -5.407, -6.6178, -6.2979, -3.8814, -5.4132, -5.7537, -5.286, -4.658, -5.4127, -5.4973, -4.5625, -5.1823, -4.2839, -5.466, -4.3272, -3.5639, -4.6677, -4.7873, -5.0791, -4.6823, -4.7761, -4.9756, -4.8397, -5.1735, -5.1365, -4.8899, -5.2193, -5.277], \"loglift\": [30.0, 29.0, 28.0, 27.0, 26.0, 25.0, 24.0, 23.0, 22.0, 21.0, 20.0, 19.0, 18.0, 17.0, 16.0, 15.0, 14.0, 13.0, 12.0, 11.0, 10.0, 9.0, 8.0, 7.0, 6.0, 5.0, 4.0, 3.0, 2.0, 1.0, 0.9, 0.8997, 0.8996, 0.8992, 0.8989, 0.8987, 0.8985, 0.8983, 0.898, 0.8978, 0.8973, 0.8971, 0.8969, 0.8966, 0.8966, 0.8964, 0.8961, 0.8959, 0.8952, 0.8952, 0.8952, 0.8951, 0.8949, 0.8948, 0.8947, 0.8946, 0.8943, 0.8943, 0.8943, 0.8937, 0.8924, 0.8909, 0.8891, 0.8812, 0.892, 0.8924, 0.8893, 0.8713, 0.8876, 0.8358, 0.8816, 0.8839, 0.8627, 0.8548, 0.8371, 0.7985, 0.7771, 0.8772, 0.7772, 0.8471, 0.8311, 0.8306, 0.8354, 0.7384, 0.7569, 0.6802, 0.6992, 0.7179, 0.6203, 0.6495, 0.6964, 0.7352, 0.5027, 0.7099, 0.3393, 0.4903, 0.4917, 0.6329, 0.4269, -0.0418, 0.6822, -0.0723, 0.0121, 0.2397, 1.7818, 1.7814, 1.7804, 1.7786, 1.778, 1.7778, 1.776, 1.7755, 1.7742, 1.774, 1.7731, 1.7702, 1.77, 1.77, 1.7684, 1.766, 1.7654, 1.7649, 1.7641, 1.7638, 1.7638, 1.7633, 1.7631, 1.7631, 1.7619, 1.7614, 1.7614, 1.7613, 1.759, 1.7581, 1.7545, 1.7255, 1.7357, 1.7069, 1.7025, 1.6461, 1.7258, 1.7055, 1.7112, 1.6404, 1.7289, 1.5385, 1.5388, 1.6071, 1.5057, 1.5476, 1.562, 1.4891, 1.3692, 1.3409, 1.4899, 1.2422, 1.4942, 1.0221, 1.3241, 1.131, 1.4101, 0.8861, 1.3698, 0.9967, 0.9155, 1.0163, 0.896, 0.6008, 0.9009, 0.47, 0.2411, 0.6795, 0.5044, -0.3946, 0.7488, 2.0941, 2.0937, 2.0921, 2.0921, 2.092, 2.0912, 2.0908, 2.0902, 2.0897, 2.0892, 2.089, 2.0889, 2.0888, 2.0879, 2.0875, 2.0871, 2.0868, 2.086, 2.0859, 2.0851, 2.0843, 2.0842, 2.0835, 2.0807, 2.0805, 2.0794, 2.0793, 2.0793, 2.0792, 2.077, 2.0238, 2.0521, 1.9887, 2.0201, 2.0151, 2.044, 1.9545, 1.9629, 1.9765, 1.9329, 1.9981, 1.9531, 2.0309, 2.0478, 1.533, 1.9421, 1.5038, 1.895, 1.9131, 1.6654, 1.716, 1.6348, 1.8377, 1.8812, 1.8189, 1.5051, 1.5802, 1.0699, 0.9066, 0.4792, 1.0302, 0.5844, 0.7398, 0.7424, 0.7519, 0.4108, 1.487, 0.2382, 0.6761, -0.2761, 0.4197, 0.5705, -0.0272, 0.2072, -0.1393, -0.0343, 0.5229, -0.0539, 2.1182, 2.1145, 2.1132, 2.113, 2.1075, 2.1067, 2.1053, 2.1006, 2.1002, 2.0993, 2.099, 2.0972, 2.0947, 2.0929, 2.0922, 2.0913, 2.09, 2.088, 2.0878, 2.0873, 2.0873, 2.0872, 2.087, 2.0864, 2.084, 2.0836, 2.083, 2.0809, 2.0802, 2.08, 2.0796, 2.0669, 2.0537, 1.8901, 2.0605, 1.9533, 2.0197, 1.8513, 1.6929, 1.7726, 1.7635, 1.982, 1.5931, 1.6451, 1.9152, 1.6565, 1.8906, 1.6919, 1.4579, 1.9477, 1.6963, 1.4137, 1.3166, 1.7339, 1.9069, 1.6472, 1.549, 1.0727, 1.2002, 1.581, 1.206, 1.1023, 1.2045, 1.2133, 1.1601, 0.8972, 1.2934, 0.9968, 1.3153, 0.4994, 0.8067, 0.794, 0.4059, 0.867, 0.6877, 0.925, 0.1889, -0.3378, 0.7125, 0.7465, -0.2052, -0.2524, 2.3351, 2.3338, 2.3337, 2.3332, 2.3325, 2.3305, 2.3296, 2.3272, 2.3267, 2.3258, 2.3248, 2.3245, 2.3244, 2.3242, 2.3224, 2.3219, 2.3217, 2.317, 2.314, 2.3133, 2.3125, 2.3097, 2.3088, 2.3079, 2.3072, 2.3072, 2.3065, 2.3063, 2.3058, 2.303, 2.2801, 2.2976, 2.2923, 2.2124, 2.1679, 2.2708, 2.1592, 2.1922, 2.0496, 2.1905, 2.1273, 2.2057, 2.2332, 1.9404, 2.1518, 1.8558, 1.9112, 1.7605, 1.7278, 1.8271, 2.1673, 1.178, 1.8557, 1.2114, 1.1313, 1.7255, 1.9442, 1.7639, 1.3274, 0.2731, 1.1196, 1.7489, 0.0125, 0.5811, 0.9318, 1.365, 0.644, 0.2741, 0.4796, 0.5377, 0.2985, 0.4697, 2.4527, 2.4525, 2.4515, 2.4514, 2.451, 2.45, 2.4498, 2.4496, 2.4494, 2.4492, 2.4486, 2.4471, 2.4461, 2.4443, 2.4442, 2.4436, 2.4436, 2.4435, 2.4434, 2.4433, 2.4432, 2.4431, 2.4424, 2.4424, 2.4423, 2.4423, 2.4416, 2.4414, 2.4414, 2.4413, 2.4385, 2.4386, 2.4206, 2.3801, 2.3733, 2.2693, 2.2895, 2.3441, 2.2516, 2.2899, 2.3971, 2.2628, 2.395, 2.3419, 2.0039, 2.2118, 2.2091, 2.0403, 1.8496, 2.0535, 2.0574, 1.6125, 1.8487, 1.3456, 1.9734, 1.2846, 0.7608, 1.2122, 1.16, 1.3887, 0.7776, 0.8757, 0.9448, 0.43, 1.0005, 0.8421, -0.7808, 0.1563, 0.7651]}, \"token.table\": {\"Topic\": [1, 2, 5, 5, 5, 4, 4, 1, 2, 3, 4, 5, 6, 4, 6, 1, 6, 2, 6, 1, 6, 1, 2, 4, 5, 6, 2, 6, 2, 5, 6, 3, 2, 3, 4, 3, 1, 1, 3, 4, 6, 2, 3, 4, 5, 1, 2, 3, 4, 5, 1, 2, 3, 4, 5, 6, 1, 2, 3, 4, 5, 6, 3, 6, 3, 4, 1, 2, 3, 4, 1, 5, 1, 3, 4, 6, 1, 2, 3, 4, 5, 6, 2, 3, 6, 6, 6, 1, 2, 3, 1, 2, 3, 4, 5, 6, 1, 4, 1, 2, 3, 4, 5, 6, 2, 3, 2, 3, 4, 5, 2, 3, 4, 5, 2, 3, 5, 4, 2, 2, 1, 2, 3, 4, 5, 6, 2, 3, 5, 1, 2, 5, 1, 2, 3, 4, 5, 3, 6, 2, 3, 1, 3, 4, 6, 2, 3, 1, 2, 3, 4, 6, 1, 2, 3, 4, 5, 6, 2, 5, 2, 1, 2, 3, 4, 5, 6, 1, 3, 5, 1, 5, 1, 2, 3, 4, 5, 6, 2, 3, 1, 3, 4, 5, 6, 3, 4, 6, 1, 2, 5, 6, 2, 3, 2, 3, 5, 2, 3, 5, 5, 3, 2, 5, 1, 2, 3, 5, 4, 5, 4, 4, 5, 1, 6, 5, 1, 3, 6, 1, 2, 3, 4, 6, 5, 1, 4, 1, 3, 4, 2, 2, 5, 3, 2, 3, 5, 6, 2, 1, 1, 2, 3, 4, 5, 6, 2, 3, 4, 5, 6, 4, 1, 3, 3, 1, 2, 3, 4, 5, 6, 4, 2, 6, 1, 2, 3, 4, 5, 3, 1, 6, 1, 3, 1, 2, 3, 4, 5, 6, 2, 3, 5, 4, 1, 3, 4, 6, 1, 6, 5, 1, 2, 3, 4, 5, 3, 4, 1, 5, 1, 2, 4, 4, 2, 1, 1, 2, 3, 4, 5, 6, 3, 6, 2, 6, 6, 2, 3, 2, 1, 2, 3, 4, 5, 6, 6, 3, 4, 2, 4, 1, 3, 1, 3, 1, 2, 3, 2, 4, 1, 2, 3, 4, 6, 1, 2, 3, 4, 5, 6, 1, 2, 3, 5, 1, 2, 3, 4, 5, 6, 4, 1, 2, 3, 4, 5, 6, 4, 1, 2, 3, 4, 5, 5, 1, 2, 3, 4, 6, 1, 2, 3, 4, 5, 6, 2, 1, 2, 3, 4, 5, 6, 2, 2, 1, 4, 4, 4, 2, 3, 5, 6, 5, 2, 3, 4, 5, 6, 1, 3, 4, 5, 6, 5, 5, 1, 3, 4, 5, 1, 3, 1, 6, 2, 5, 6, 4, 1, 2, 3, 4, 5, 6, 1, 2, 3, 4, 5, 6, 1, 3, 4, 6, 1, 3, 6, 6, 6, 2, 3, 1, 2, 3, 4, 5, 6, 1, 2, 3, 5, 6, 1, 2, 3, 4, 5, 6, 3, 6, 1, 2, 3, 4, 5, 6, 1, 2, 3, 4, 5, 6, 4, 3, 1, 1, 2, 3, 4, 5, 6, 3, 1, 2, 3, 4, 5, 6, 1, 2, 3, 4, 5, 6, 6, 6, 1, 6, 1, 4, 2, 1, 2, 3, 4, 5, 6, 4, 1, 2, 3, 4, 5, 6, 5, 1, 3, 4, 6, 1, 2, 3, 6, 5, 2, 6, 2, 3, 5, 1, 2, 3, 4, 5, 6, 1, 2, 4, 5, 6, 5, 2, 6, 6, 1, 3, 6, 1, 5, 6, 1, 2, 3, 4, 5, 6, 1, 2, 3, 4, 5, 6, 1, 6, 1, 2, 3, 4, 5, 1, 2, 3, 4, 5, 6, 3, 4, 1, 3, 5, 6, 1, 2, 3, 4, 5, 6, 2, 4, 1, 2, 3, 4, 6, 1, 2, 3, 4, 5, 6, 2, 5, 1, 2, 3, 4, 5, 2, 3, 4, 2, 3, 4, 5, 1, 2, 3, 4, 5, 6, 1, 2, 4, 5, 6, 3, 1, 2, 3, 4, 5, 6, 1, 2, 4, 5, 6, 3, 6, 5, 5, 5, 5, 3, 2, 6, 6, 2, 3, 1, 2, 3, 4, 5, 2, 5, 1, 2, 3, 6, 2, 4, 1, 2, 4, 5, 6, 1, 4, 5, 6, 6, 1, 2, 3, 4, 5, 6, 1, 2, 3, 4, 5, 6, 1, 3, 6, 3, 6, 4, 1, 2, 3, 4, 5, 6, 1, 2, 3, 4, 5, 6, 6, 1, 2, 3, 4, 5, 6, 3, 5, 4, 2, 5, 1, 2, 3, 4, 5, 6, 2, 3, 5, 6, 6, 1, 2, 3, 4, 5, 6, 5, 5, 1, 2, 3, 4, 5, 6, 1, 2, 3, 4, 1, 2, 3, 4, 5, 6, 1, 2, 3, 4, 5, 6, 2, 3, 6, 3, 4, 6, 4, 6, 2, 1, 2, 3, 4, 5, 6, 1, 2, 3, 4, 5, 6, 2, 4, 6, 1, 1, 2, 3, 4, 5, 6, 3, 3, 4, 1, 2, 3, 1, 2, 3, 4, 5, 6, 1, 3, 4, 4, 1, 1, 1, 3, 4, 5, 6, 1, 2, 3, 4, 5, 6, 1, 3, 4, 6, 1, 2, 3, 4, 5, 6, 1, 2, 3, 4, 5, 6, 1, 3, 6, 1, 2, 3, 4, 1, 4, 1, 2, 3, 6, 1, 2, 3, 4, 5, 6, 1, 2, 3, 4, 1, 2, 3, 4, 5, 6, 1, 2, 3, 4, 5, 6, 1, 3, 4, 5, 6, 1, 2, 3, 4, 5, 6, 1, 2, 3, 4, 3, 4, 3, 1, 6, 2, 3, 4, 6, 4, 1, 5, 6, 6, 5, 6, 1, 3, 6, 6, 1, 2, 3, 4, 5, 6, 1, 2, 3, 5, 2, 2, 3, 3, 3, 1, 6, 4, 3, 1, 3, 4, 6, 1, 2, 3, 4, 5, 6, 6, 3, 1, 2, 3, 4, 5, 6, 5, 1, 2, 3, 4, 5, 6, 1, 2, 3, 4, 5, 6, 1, 2, 3, 4, 5, 1, 2, 3, 4, 5, 1, 2, 3, 4, 5, 1, 3, 6, 2, 3, 1, 2, 3, 4, 5, 6, 4, 5, 4, 2, 1, 2, 3, 4, 5, 6, 1, 2, 3, 4, 5, 6, 1, 2, 3, 4, 5, 6, 3, 1, 1, 2, 3, 4, 5, 6, 4, 1, 2, 3, 4, 5, 6, 1, 2, 4, 5, 6, 2, 3, 4, 5, 1, 2, 3, 4, 5, 6, 2, 1, 2, 4, 5, 2, 3, 1, 5, 3, 4, 1, 2, 3, 4, 5, 1, 2, 3, 4, 5, 3, 5, 1, 6, 3, 1, 2, 4, 3, 3, 1, 3, 4, 5, 6, 1, 2, 3, 1, 2, 3, 4, 5, 6, 2, 3, 4, 5, 6, 3, 5, 1, 2, 3, 4, 5, 6, 1, 2, 3, 4, 5, 6, 1, 3, 6, 1, 2, 3, 4, 5, 6, 5, 2, 1, 2, 3, 4, 5, 6, 6, 1, 5], \"Freq\": [0.00812211210407781, 0.03248844841631124, 0.9584092282811816, 0.9853152895499061, 0.9945753138587511, 0.9705022132570754, 0.9592849886766938, 0.41484414274227677, 0.11057495735832219, 0.1263713798380825, 0.23863881103352186, 0.009214579779860182, 0.10042011433561913, 0.9406132129567133, 0.050843957457119636, 0.9894691313286286, 0.0103972237967982, 0.011053512339844517, 0.988416708705044, 0.0763544062979646, 0.9200705958904734, 0.37240230602680163, 0.0542213814201829, 0.3613115689181279, 0.10449938964617068, 0.10745691954181702, 0.004931602739964622, 0.9945398858928655, 0.17747605635818686, 0.039994604249732245, 0.7823944456353871, 0.9903226550560489, 0.990149586394282, 0.7562211565383244, 0.24188892212505328, 0.9826068954115132, 0.9954128091062288, 0.9816437311255141, 0.0024633468786085673, 0.012316734393042835, 0.0024633468786085673, 0.18430097230976084, 0.682596193739855, 0.13105846919805217, 0.00136519238747971, 0.24988642793645324, 0.0567249606443284, 0.2198555664188676, 0.400782238277902, 0.07303802122178232, 0.11519557695226837, 0.0982741927671894, 0.14448258804182812, 0.4471150359672789, 0.19394509565975127, 0.001301644937313767, 0.16045140881699096, 0.011470568800533822, 0.22012567745786335, 0.5901880756655616, 0.007373937086057457, 0.010378133676673458, 0.029326476771997106, 0.9677737334759045, 0.05309052538549661, 0.9379326151437735, 0.013732630506479559, 0.03662034801727882, 0.8651557219082122, 0.08468455478995728, 0.11938251368058093, 0.8780391328765307, 0.9921025800710367, 8.411926234280453e-05, 8.411926234280453e-05, 0.007738972135538017, 0.37801571230429715, 0.4081807157483363, 0.10675495642648795, 0.09318631175463392, 0.00818604182682103, 0.0056068779635760485, 0.003729554363518187, 0.9062817103349194, 0.0857797503609183, 0.9939683412709316, 0.9878913365201027, 0.042282049057819994, 0.7908529739265486, 0.1667461089604169, 0.3397810026822892, 0.000592469054371908, 0.0856117783567407, 0.008294566761206712, 0.5444790609677834, 0.021032651430202734, 0.9927829183457411, 0.0030831767650488853, 0.18791397668355894, 0.41423158978762686, 0.20696921612884964, 0.058045190925654716, 0.1278166830484114, 0.004983678008768334, 0.19278996668485263, 0.8043995161678333, 0.7836943119712093, 0.043108713916610954, 0.016801344911089398, 0.1562967217386869, 0.6432397782930743, 0.15098087982480227, 0.07847138577873929, 0.12729444510308838, 0.27052891875772384, 0.053639354581272836, 0.6763222968943097, 0.9661038729475533, 0.9924041789324881, 0.9842020793054633, 0.8024188999174348, 0.019779701314029098, 0.09051727719979419, 0.006872608083688077, 0.07358719387168453, 0.00670498349628105, 0.14164820437100323, 0.045857332350324784, 0.8121843085157523, 0.9977755642046156, 0.44273943101047564, 0.5557792857365546, 0.9976292849736985, 0.04446683910170892, 0.8484753623190946, 0.10575896867433474, 0.0012018064622083492, 0.9967454879038155, 0.9939583220612979, 0.9928198822057434, 0.006776927523588692, 0.9940661379351537, 0.00034552177196216677, 0.00011517392398738892, 0.0054131744274072795, 0.953733807427326, 0.0431336897831454, 0.8842096085701504, 0.00023171111335695767, 0.07159873402729992, 0.009731866760992221, 0.03429324477682973, 0.03346276711693314, 0.07312234295922428, 0.2602659664650355, 0.39833086486601155, 0.02850532013664675, 0.20598192203089954, 0.9995699987862933, 0.00021128091286964557, 0.993873618245725, 0.12805892074702996, 0.03538470178536354, 0.021904815390939338, 0.7632985670842708, 0.016849857993030258, 0.033699715986060516, 0.11345660092701797, 0.01939429075675521, 0.86595508228912, 0.9956440220449236, 0.9659702517687506, 0.05462950069835656, 0.0028015128563259775, 0.16949152780772164, 0.6541532519521157, 0.005603025712651955, 0.11206051425303909, 0.9303797522769476, 0.06625849867847698, 0.26191160970751104, 0.1079090124579377, 0.0014292584431514928, 0.6188689058845964, 0.009647494491272576, 0.0673514308137111, 0.0029283230788570043, 0.9282784159976704, 0.14355112903810016, 0.006525051319913645, 0.018759522544751727, 0.8303127804590112, 0.14024779926413003, 0.8558711852528961, 0.8726882625836343, 0.08167114129331594, 0.04551560233874686, 0.8022395830553489, 0.15969108681573455, 0.03784148976676174, 0.984757057798692, 0.9720465556469947, 0.032233397428289665, 0.9589435734916175, 0.052173999004772466, 0.0009844150755617448, 0.0009844150755617448, 0.9460228876148367, 0.9597973230444703, 0.03778729618285316, 0.9652081238441396, 0.8740829149436368, 0.11919312476504137, 0.998315863889727, 0.00091841385822422, 0.9863577675862228, 0.9966854895607723, 0.001401808002195179, 0.002803616004390358, 0.8840608069863963, 0.0005377498825951315, 0.08308235686094784, 0.03024843089597615, 0.0020165620597317434, 0.9708754950360708, 0.9773431265837803, 0.022301789465670154, 0.9965342980528633, 0.00095362133784963, 0.0028608640135488897, 0.998988072410922, 0.9754450838128816, 0.9887031113418907, 0.991544806755839, 0.35471650566722207, 0.025915361144637227, 0.6187292473282139, 0.9879737881358056, 0.9917837094295688, 0.9947230433766313, 0.04063085505455934, 0.10005147311853939, 0.3038481334514872, 0.44758179066030385, 0.08897033083093231, 0.018950359274458504, 0.8679448473943534, 0.0022632199410543767, 0.12108226684640915, 0.00678965982316313, 0.0011316099705271883, 0.9696739661302929, 0.9878046960525539, 0.011601733007328655, 0.9815776670382538, 0.2460991872670554, 0.09575495650027246, 0.07651447458666631, 0.27160401212927754, 0.2962139308559831, 0.01387104510050676, 0.9968391367924662, 0.9784464905495392, 0.9960533806176519, 0.9329357315693301, 0.0029749226134226084, 0.05414359156429147, 0.010114736885636869, 0.9674133112902823, 0.9866448010337007, 0.9933516585959742, 0.005815876221287905, 0.9921845254036418, 0.006538283528195333, 0.1629043877464126, 0.269231989740445, 0.18508878865627862, 0.29430430082792675, 0.029797982287216487, 0.058677084063373436, 0.09972386723158418, 0.03445006322545635, 0.8648779030811936, 0.9577091672289125, 0.9386847987562683, 0.00021319209601550494, 0.0055429944964031285, 0.05564313706004679, 0.9978251359464054, 0.001977849625265422, 0.981155255880429, 0.8154469711267633, 0.08064259352410164, 0.07326174598121776, 0.013668236190525701, 0.01694861287625187, 0.9912773330036079, 0.005006451176785899, 0.08993919636230384, 0.9058161919346316, 0.06945676898123554, 0.9260902530831406, 0.0021047505751889558, 0.9744636886010394, 0.9776110951677158, 0.992914238781604, 0.850397536771204, 0.013212094899281344, 0.04215287420246905, 0.005033179009250036, 0.0018874421284687634, 0.08745148528571937, 0.9505858156079271, 0.049289634883374, 0.9795216326766824, 0.9982602491216209, 0.9935323350094001, 0.0587306889387239, 0.9331653909152798, 0.994011517136599, 0.6636029777137431, 0.09391108007964948, 0.11854783733608784, 0.04344546440920314, 0.019603441257811174, 0.06092961472022392, 0.9824150709875213, 0.9902205668829576, 0.9961869946402696, 0.9901321990161392, 0.9837431738160073, 0.9951680684391987, 0.0029141085459420163, 0.9891593474998736, 0.010793137938060238, 0.9993229876332121, 0.971100207787788, 0.02301185326511346, 0.9927188233307244, 0.9849557334994259, 0.32558886493265704, 0.05451720529104956, 0.5527438869786969, 0.002271550220460398, 0.06360340617289115, 0.8038939463062122, 0.07081492740495172, 0.04480128060313272, 0.029987953952096906, 0.018065032501263196, 0.03215575785224849, 0.03809234030598256, 0.7840673379648077, 0.009875791931180664, 0.16788846283007128, 0.38607695021230365, 0.09955593164018688, 0.04001291032428563, 0.1002704478959777, 0.06406829093590974, 0.31010005501321364, 0.976971503405863, 0.3420624958693016, 0.11099090775059857, 0.2571448832583911, 0.19447329310611344, 0.025594886054556135, 0.06984772642925599, 0.962290958075989, 0.44376401984154257, 0.019858630836282455, 0.021386217823688797, 0.1359552418791645, 0.378841572876773, 0.9596632120060109, 0.11171165241036105, 0.10816525074654006, 0.10284564825080858, 0.6288952283842547, 0.04905855634952363, 0.04567430663328315, 0.6616574329703891, 0.15572665180171427, 0.09775541645947028, 0.009713540324725376, 0.029450627580284387, 0.978319414854077, 0.8477488026179753, 0.01000840300423495, 0.09267039818736066, 0.043369746351684786, 0.0033361343347449836, 0.002594771149246098, 0.9828923795729322, 0.9880873330183361, 0.04091896171872081, 0.9513658599602588, 0.9666846378563928, 0.9682137464833015, 0.7465719721854399, 0.25301955043256547, 0.011667687402371441, 0.9868918927839176, 0.9964415940314013, 0.027567150042987605, 0.19100096815498555, 0.2313671521465031, 0.004922705364819215, 0.545435754421969, 0.004733945154152077, 0.06343486506563784, 0.07858348955892448, 0.03597798317155579, 0.8161321445758182, 0.9927351153972788, 0.9955368979517227, 0.02060136201194475, 0.10300681005972374, 0.7064550389929386, 0.16996123659854417, 0.9929407117983311, 0.9959424864974861, 0.9991785551368593, 0.00044896812183188464, 0.02951815213881804, 0.07379538034704511, 0.8904642561876775, 0.95805952001864, 0.06677865526223906, 0.8388336345221608, 0.06326398919580542, 0.010543998199300905, 0.007029332132867269, 0.014058664265734539, 0.20337844182669498, 0.004301054660987507, 0.014746473123385739, 0.06574469267509475, 0.60153321615811, 0.10998411204525198, 0.20995580204357175, 0.04107830909548143, 0.07911378048018645, 0.6694242963708085, 0.0014711826025102504, 0.014711826025102504, 0.9827499784768473, 0.9928225342238857, 0.9840585444098827, 0.9957043658977511, 0.9921732654245493, 0.9375208994798101, 0.017479203210640528, 0.01248514515045752, 0.001248514515045752, 0.0011350131954961382, 0.030191351000197274, 0.004989791839054757, 0.6325520731355568, 0.1078562697518759, 0.24565129053808032, 0.008828093253712262, 0.1570651292984499, 0.03073013399317498, 0.0879223278138062, 0.005975303832006246, 0.6538689621881121, 0.06402111248578121, 0.04999919378861819, 0.942841940013943, 0.33303308932275716, 0.3320026651602486, 0.1867128582465458, 0.032355318702767866, 0.10345458591585649, 0.012571174782604076, 0.4831019349474066, 0.0016730802941901529, 0.018822153309639218, 0.055211649708275044, 0.010456751838688456, 0.4303999056804168, 0.9630943130528569, 0.9893970452710602, 0.9958842842274556, 0.39166219630902127, 0.11182517571314253, 0.07783909289836391, 0.18144182922083418, 0.18418264235105827, 0.05317177472634718, 0.9938230797671027, 0.41129783822829646, 0.3069137031840451, 0.11625288509301461, 0.08034230802239753, 0.04306225979230777, 0.042149279019325976, 0.9553685347927187, 0.005415921399051693, 0.020219439889792988, 0.009748658518293048, 0.0007221228532068925, 0.008304412811879262, 0.9985396633716737, 0.9846906663037601, 0.9936242872911212, 0.004455714292785297, 0.9977033794511636, 0.9613032010748672, 0.9835072060946433, 0.0872985282192486, 0.18629062372883537, 0.05181459988994663, 0.5155250269205974, 0.1304437592560135, 0.028830691767557853, 0.9559688499058493, 0.06645941070870907, 0.2698172482664955, 0.1743067179066741, 0.3999503458817522, 0.015122500640305058, 0.0740206610288616, 0.9861318973510441, 0.9328491048342901, 0.007743958086108411, 0.05659046293694608, 0.0017870672506404024, 0.23549286000697636, 0.03554609207652473, 0.1096004505692846, 0.6176133498296172, 0.9974456383123786, 0.9235153469912836, 0.07601308910902713, 0.7499885079756675, 0.21733172805504467, 0.0320176206509664, 0.02458262963699496, 0.4203629667926138, 0.5521258616469068, 0.00024582629636994957, 0.0004916525927398991, 0.0024582629636994958, 0.4219381761803046, 0.03081570949631438, 0.43734603092846175, 0.07348361495274967, 0.03614919767836879, 0.9992058049334435, 0.9449648858891282, 0.054817015732791366, 0.9888648883907426, 0.9714967970525218, 0.015709047764641285, 0.012628842320593973, 0.44969933852657, 0.004082873371836563, 0.5459384965770033, 0.6645930801543888, 0.0008312608882481411, 0.00027708696274938034, 0.028124326719062107, 0.2998080936948295, 0.006373000143235748, 0.1078923786727002, 0.41212697944775073, 0.07859165654585014, 0.24453780242315046, 0.15471876637075027, 0.001643031147300003, 0.9905374787861325, 0.009129377684664815, 0.0003668890966137017, 0.7458855334156556, 0.1522589750946862, 0.05613403178189636, 0.04512735888348531, 0.47439807198963924, 0.07879612542274937, 0.021077152890858885, 0.16342900087681353, 0.041505778000460576, 0.2208237095180754, 0.9916401178956352, 0.007808189904690041, 0.07153260939152, 0.043605494766063554, 0.8838686804267265, 0.0004899493793939726, 0.016454539565557688, 0.11604780535709107, 0.1762367790311047, 0.6218083898984432, 0.06625117246132438, 0.003464113592748987, 0.022600997906853996, 0.9718429099947219, 0.30645355957986614, 0.013407343231619143, 0.6492984793598414, 0.009576673736870817, 0.021068682221115798, 0.38462910954537516, 0.45597768375235526, 0.04723074630602909, 0.02487151002285574, 0.07687557643428139, 0.010300322332697833, 0.0582687928439273, 0.9395842846083277, 0.08438897722410792, 0.5213968420749721, 0.040470412733281856, 0.028855585760501415, 0.324852191894953, 0.03071875127561769, 0.9287720411189309, 0.04043590729137431, 0.01411863430182234, 0.0705931715091117, 0.8047621552038733, 0.10588975726366755, 0.8663895525685529, 0.026844973226026723, 0.017257482788160035, 0.02109247896330671, 0.026205807196835608, 0.04250454094120897, 0.0013226979277828727, 0.11772011557267568, 0.16004644926172762, 0.05952140675022927, 0.6600262659636535, 0.9901380623353747, 0.2674815008908132, 0.0006227741580694138, 0.13856725017044455, 0.3026682408217351, 0.002179709553242948, 0.2886558222651733, 0.0681414932875468, 0.025553059982830053, 0.045022058064986284, 0.013384936181482407, 0.846901416573796, 0.012562972963512803, 0.9861933776357551, 0.9690940499271448, 0.9792952103524999, 0.9800421638438065, 0.9963461854756511, 0.9809480560398728, 0.00425798064521356, 0.9935288172164973, 0.9938001280293361, 0.758343799847185, 0.2414366528090386, 0.07400225408294783, 0.5827784448705673, 0.19822337885571115, 0.14492464556822385, 8.555173882421716e-05, 0.9813031354968508, 0.9863655054849365, 0.016471449902431236, 0.02196193320324165, 0.9251464361865545, 0.03294289980486247, 0.9897067452168185, 0.9749946337112969, 0.003098513383583684, 0.009295540150751052, 0.15182715579560052, 0.833500100184011, 0.006197026767167368, 0.7135222718643206, 0.00033311030432507964, 0.012325081260027947, 0.2738166701552155, 0.9916248949083374, 0.027996743938099786, 0.045129079780817566, 0.2394348399482265, 0.4036545469284238, 0.0497255601288638, 0.23358477405071312, 0.7780721906806289, 0.004780781509558396, 0.06294695654251888, 0.09262764174769392, 0.059361370410350084, 0.0021911915252142648, 0.2592736497524426, 0.06648042301344681, 0.6714522724358128, 0.10285235531942166, 0.8958981476507518, 0.9795975131072531, 0.5165986307579296, 0.06199183569095155, 0.11805045938507935, 0.10884375111414595, 0.007979147168142279, 0.18679388114138207, 0.000957243510570953, 0.21416147995591958, 0.030457748063621233, 0.0031327969436867552, 0.7512621115235488, 0.9906120215616104, 0.9931985379126365, 0.02169840704187693, 0.4676335481267537, 0.0021040879555759445, 0.19765276232691528, 0.1271000630665094, 0.18371317962122466, 0.979642007197181, 0.9874411276483342, 0.9519151351461915, 0.9506761827061457, 0.04401278623639564, 0.36440262292332376, 0.0009031043938620167, 0.001354656590793025, 0.11198494483889007, 0.36485417512025475, 0.15623706013812888, 0.9276232930252957, 0.038970806708892115, 0.020075870122762605, 0.013580735671280585, 0.9941627425607822, 0.13505359512799614, 0.01770365479205942, 0.09281773298122582, 0.07966644656426738, 0.6734976101607748, 0.0012645467708613872, 0.9581933273147456, 0.9570163803331333, 0.38977400064699136, 0.07718088063352879, 0.020262619528219047, 0.18004181726636298, 0.31421131532300783, 0.018503711583061144, 0.2196501034939666, 0.1321704085959366, 0.6294734567662592, 0.018066458728940974, 0.04978625973920406, 0.00040476633934312243, 0.5685617846639726, 0.3506625719842584, 0.0234764476819011, 0.007285794108176203, 0.2551007062079698, 0.20822898194166914, 0.13765201781654973, 0.28554038920849845, 0.009428220398393817, 0.10397980210800038, 0.9826566665323266, 0.9555177080694968, 0.04080502667912442, 0.9198993892399809, 0.05856123432827465, 0.019520411442758217, 0.9899082419533712, 0.9818173268950287, 0.9923306751127154, 0.0893619333037032, 0.09302430761942874, 0.3438969482466283, 0.23292700648014442, 0.05603432703060078, 0.18458366551256727, 0.10870374940027916, 0.07871650818640905, 0.5435187470013958, 0.16118142152455187, 0.046230330204716424, 0.062473419195562735, 0.006931345357417485, 0.041588072144504905, 0.942662968608778, 0.9981381231943309, 0.833272467120631, 0.03307050103885004, 0.08254605377413751, 0.022914992845817352, 0.01770703992631341, 0.010676303484983085, 0.9876210248574692, 0.8666996910930994, 0.13327551853601435, 0.963058599133583, 0.005225494298066105, 0.03135296578839663, 0.0010961157258905644, 0.32116190768593533, 0.06357471210165273, 0.04932520766507539, 0.5436734000417199, 0.021922314517811285, 0.9997644203012728, 0.0842648002550953, 0.89882453605435, 0.994520339869666, 0.9974362122229052, 0.9929048805256576, 0.15869902792970755, 0.016048216307498517, 0.039228973196107485, 0.0017831351452776128, 0.7845794639221496, 0.09134876986782989, 0.001449980474092538, 0.015949785215017918, 0.3146457628780807, 0.5640424044219973, 0.010149863318647766, 0.1442409362279029, 0.8163423199281313, 0.009206868269866143, 0.02762060480959843, 0.7558048253489988, 0.04143602587635929, 0.03836126777245984, 0.05651698229072327, 0.051831636608590775, 0.056077731133023355, 0.16555382159944057, 0.008713359031549503, 0.05421645619630802, 0.6515656253592018, 0.055184607199813523, 0.06486611723486853, 0.017017179999264543, 0.9817814976995043, 0.0010978825805977124, 0.02030218640119515, 0.07895294711575893, 0.221068251924125, 0.6789953451955267, 0.9941872702173415, 0.9735700899576206, 0.9808580850242664, 0.0019346313314088095, 0.01663782945011576, 0.0003869262662817619, 0.18105118264451273, 0.04147921831484192, 0.11042440551383592, 0.1816117126217403, 0.14181408423858116, 0.3441654060177424, 0.1350785456500571, 0.005002909098150264, 0.010005818196300528, 0.8454916375873945, 0.4222446430061578, 0.08804446158752854, 0.021204425303802683, 0.32498086606914983, 0.11915965089202162, 0.024431185676120484, 0.16511598230285426, 0.00170222662167891, 0.12256031676088153, 0.5838637312358661, 0.05787570513708294, 0.06979129148883531, 0.9367924514658392, 0.000696499963915122, 0.000696499963915122, 0.000696499963915122, 0.06059549686061562, 0.2536984504868409, 0.35585022208959544, 0.10577234072285213, 0.17818372312480468, 0.1011173232827266, 0.005689465760153415, 0.12851955463582107, 0.00988611958737085, 0.06425977731791054, 0.7958326267833535, 0.8969078658996832, 0.10283020118595093, 0.9954502462626437, 0.9992287188321703, 0.9932727761287005, 0.0018647603644680794, 0.11188562186808476, 0.05967233166297854, 0.8242240810948911, 0.972767571428563, 0.15969586185359155, 0.838147351875821, 0.001791459988742213, 0.9925912458863929, 0.9867795996040856, 0.995594772640585, 0.9834496409433205, 0.002801850828898349, 0.014009254144491745, 0.9962522845503562, 0.765249610340098, 0.0005595975212724665, 0.03189705871253059, 0.0892558046429584, 0.027140479781714626, 0.0858982195153236, 0.001421229726845885, 0.9792272817968147, 0.01136983781476708, 0.00852737836107531, 0.9973147580900295, 0.2264153790279336, 0.7703327838191764, 0.983909763265096, 0.9823446503121835, 0.9918464520087262, 0.0072609549927432375, 0.9813491651801789, 0.996606625559489, 0.9991942670922215, 0.8855105810623395, 0.07828679007427362, 0.03479412892189939, 0.17783219135843054, 0.0015654242197044941, 0.04790198112295752, 0.1352526525824683, 0.0006261696878817976, 0.6368145725757882, 0.9810813107893042, 0.9907372484290409, 0.30544989898863956, 0.16952315281912386, 0.1827767811304372, 0.25305183357181943, 0.007397373941198132, 0.08167933726739604, 0.9802149693481892, 0.8177401080032506, 0.005708113473652473, 0.05264149092368392, 0.05327572575408975, 0.00042282322027055355, 0.06997724295477661, 0.34238607998265874, 0.14374226098397333, 0.09433085877073251, 0.17693274832923106, 0.16570288418985815, 0.07686218122059686, 0.011539882445858855, 0.0016485546351226936, 0.285199951876226, 0.6998114426095834, 0.0008242773175613468, 0.022509767919048105, 0.03064582861267995, 0.21723282051997025, 0.6519696635830319, 0.07756377861262359, 0.008579149044487451, 0.26416629766150945, 0.027524769851063908, 0.1369089201682789, 0.5626491915009687, 0.1629579368427689, 0.8321256349417986, 0.003467190145590828, 0.9956056829293993, 0.0027128220243307884, 0.8264175726442188, 0.014757456654361048, 0.09135568405080649, 0.04321826591634307, 0.003865048171380275, 0.02037934490364145, 0.8381984305897409, 0.1493818985209439, 0.9612382362824676, 0.9823108073618783, 0.41176320659515486, 0.001106890340309556, 0.007748232382166892, 0.5645140735578735, 0.007748232382166892, 0.006641342041857336, 0.06889309907554164, 0.0011482183179256941, 0.03746062262232577, 0.046215787296509186, 0.845519263862533, 0.0007176364487035588, 0.19865236071052422, 0.103794140025222, 0.012372811393735073, 0.3828697747950242, 0.10345045081984047, 0.1993397391212873, 0.9746462636997898, 0.9983416801719984, 0.6719251153403561, 0.07791081344016056, 0.1194261468875604, 0.06744850420676757, 0.02593317075936773, 0.03739719045127707, 0.9906287627542343, 0.5706218519322811, 0.11341420666249481, 0.09311624350747821, 0.08559062792520052, 0.09793899715527589, 0.03932399128204259, 0.1118294238685832, 0.12958012606994562, 0.6230496472678207, 0.0603523874846322, 0.07455294924572213, 0.6895352602311989, 0.01814566474292629, 0.21774797691511544, 0.07423226485742572, 0.21307935203654418, 0.27865560976534187, 0.05235664078612229, 0.2654359928226665, 0.1728986742239387, 0.01739423281930973, 0.999332735175532, 0.0789405622995802, 0.06053473171159517, 0.7943138444859312, 0.06626099011674606, 0.9438806509336436, 0.05376535353419489, 0.9944323643999254, 0.9944663925369851, 0.9507891798140975, 0.042070317690889265, 0.05888137168766863, 0.04599317445131198, 0.35783700562119647, 0.49328943147780757, 0.043971496453452115, 0.12088128277683183, 0.23187227878101377, 0.5956150478640259, 0.050550354615766034, 0.001098920752516653, 0.9851169390779378, 0.9975774188664319, 0.9951762677605964, 0.9883456986331302, 0.9899084876276526, 0.1720347307430035, 0.011864464189172653, 0.8127157969583267, 0.9967544320233862, 0.9899332831487232, 0.002036806687247226, 0.87379006882906, 0.08045386414626543, 0.021386470216095875, 0.02240487355971949, 0.005288982393373125, 0.6618783680849797, 0.33169475295582884, 0.6228595665634945, 0.07172527328161914, 0.0898257549824051, 0.03958423100919547, 0.043813315518724895, 0.13194743669731823, 0.0034696807213260928, 0.0034696807213260928, 0.13531754813171762, 0.01040904216397828, 0.8483369363642297, 0.9788495986899025, 0.9907305619220025, 0.364814928627169, 0.025694606268757417, 0.2579156704713009, 0.019876959566397248, 0.002181617513385064, 0.32966664646707633, 0.4324605901878816, 0.1750144031517125, 0.03517789503349421, 0.2688221232410304, 0.028877376520032562, 0.05950489707158225, 0.9482364035783496, 0.0007628611452762266, 0.05111169673350718, 0.9032147023773603, 0.0008912936498111364, 0.003230939480565369, 0.03108386603716338, 0.038882685473010825, 0.022616576363957586, 0.9899254656497772, 0.9897975196077259, 0.19012727814649197, 0.46510765635465906, 0.01936481536677233, 0.14787677189171597, 0.17428333830095097, 0.0035208755212313325, 0.9823511565865407, 0.1493967826629773, 0.8450255519374653], \"Term\": [\"15th\", \"15th\", \"15th\", \"22nd\", \"28th\", \"6d\", \"=\", \"able\", \"able\", \"able\", \"able\", \"able\", \"able\", \"abnormality\", \"abnormality\", \"abusive\", \"abusive\", \"access\", \"access\", \"address\", \"address\", \"advice\", \"advice\", \"advice\", \"advice\", \"advice\", \"aid\", \"aid\", \"aidaccess\", \"aidaccess\", \"aidaccess\", \"ale\", \"am\", \"anesthesia\", \"anesthesia\", \"anesthesiologist\", \"anger\", \"angry\", \"angry\", \"angry\", \"angry\", \"antibiotic\", \"antibiotic\", \"antibiotic\", \"antibiotic\", \"anxiety\", \"anxiety\", \"anxiety\", \"anxiety\", \"anxiety\", \"anxious\", \"anxious\", \"anxious\", \"anxious\", \"anxious\", \"anxious\", \"appointment\", \"appointment\", \"appointment\", \"appointment\", \"appointment\", \"appointment\", \"assistance\", \"assistance\", \"availability\", \"availability\", \"awake\", \"awake\", \"awake\", \"awake\", \"b\", \"b\", \"baby\", \"baby\", \"baby\", \"baby\", \"bad\", \"bad\", \"bad\", \"bad\", \"bad\", \"bad\", \"bag\", \"bag\", \"bag\", \"ban\", \"bank\", \"bathroom\", \"bathroom\", \"bathroom\", \"birth\", \"birth\", \"birth\", \"birth\", \"birth\", \"birth\", \"birthday\", \"birthday\", \"bit\", \"bit\", \"bit\", \"bit\", \"bit\", \"bit\", \"blanket\", \"blanket\", \"bleeding\", \"bleeding\", \"bleeding\", \"bleeding\", \"blood\", \"blood\", \"blood\", \"blood\", \"boob\", \"boob\", \"boob\", \"booking\", \"bowel\", \"bowl\", \"boyfriend\", \"boyfriend\", \"boyfriend\", \"boyfriend\", \"boyfriend\", \"boyfriend\", \"breast\", \"breast\", \"breast\", \"brother\", \"brown\", \"brown\", \"career\", \"cervix\", \"cervix\", \"cervix\", \"cervix\", \"chair\", \"charge\", \"cheek\", \"cheek\", \"child\", \"child\", \"child\", \"child\", \"chill\", \"chill\", \"choice\", \"choice\", \"choice\", \"choice\", \"choice\", \"clinic\", \"clinic\", \"clinic\", \"clinic\", \"clinic\", \"clinic\", \"clot\", \"clot\", \"codeine\", \"complication\", \"complication\", \"complication\", \"complication\", \"complication\", \"complication\", \"condom\", \"condom\", \"condom\", \"connection\", \"consistency\", \"consultation\", \"consultation\", \"consultation\", \"consultation\", \"consultation\", \"consultation\", \"contraction\", \"contraction\", \"control\", \"control\", \"control\", \"control\", \"control\", \"cost\", \"cost\", \"cost\", \"country\", \"country\", \"country\", \"country\", \"cracker\", \"cracker\", \"cramp\", \"cramp\", \"cramp\", \"cramping\", \"cramping\", \"cramping\", \"cum\", \"curtain\", \"custom\", \"custom\", \"cycle\", \"cycle\", \"cycle\", \"cycle\", \"cyst\", \"cyst\", \"cystic\", \"d&c\", \"d&c\", \"dad\", \"dad\", \"darker\", \"daughter\", \"daughter\", \"daughter\", \"decision\", \"decision\", \"decision\", \"decision\", \"decision\", \"def\", \"depressed\", \"depressed\", \"depression\", \"depression\", \"depression\", \"diarrhea\", \"diarrhoea\", \"digital\", \"dilator\", \"discharge\", \"discharge\", \"discharge\", \"discreet\", \"dissolve\", \"distant\", \"doctor\", \"doctor\", \"doctor\", \"doctor\", \"doctor\", \"doctor\", \"dose\", \"dose\", \"dose\", \"dose\", \"dose\", \"dr\", \"dream\", \"dream\", \"dressed\", \"early\", \"early\", \"early\", \"early\", \"early\", \"early\", \"ectopic\", \"edible\", \"email\", \"emotion\", \"emotion\", \"emotion\", \"emotion\", \"epidural\", \"escort\", \"ex\", \"ex\", \"excited\", \"excited\", \"experience\", \"experience\", \"experience\", \"experience\", \"experience\", \"experience\", \"faint\", \"faint\", \"faint\", \"fallopian\", \"family\", \"family\", \"family\", \"family\", \"father\", \"father\", \"feb\", \"feeling\", \"feeling\", \"feeling\", \"feeling\", \"feeling\", \"fentanyl\", \"fentanyl\", \"fertile\", \"fertile\", \"fever\", \"fever\", \"fever\", \"fibroid\", \"fleshy\", \"forgive\", \"friend\", \"friend\", \"friend\", \"friend\", \"friend\", \"friend\", \"friendly\", \"friendly\", \"fruit\", \"fund\", \"funding\", \"ginger\", \"ginger\", \"golf\", \"good\", \"good\", \"good\", \"good\", \"good\", \"good\", \"government\", \"gown\", \"gp\", \"grape\", \"gravidarum\", \"grief\", \"grief\", \"guilt\", \"guilt\", \"guilty\", \"gum\", \"gum\", \"gush\", \"gynaecologist\", \"hand\", \"hand\", \"hand\", \"hand\", \"hand\", \"hard\", \"hard\", \"hard\", \"hard\", \"hard\", \"hard\", \"heavy\", \"heavy\", \"heavy\", \"heavy\", \"help\", \"help\", \"help\", \"help\", \"help\", \"help\", \"heyjane\", \"home\", \"home\", \"home\", \"home\", \"home\", \"home\", \"honeybee\", \"hormone\", \"hormone\", \"hormone\", \"hormone\", \"hormone\", \"horny\", \"hospital\", \"hospital\", \"hospital\", \"hospital\", \"hospital\", \"hour\", \"hour\", \"hour\", \"hour\", \"hour\", \"hour\", \"hunger\", \"husband\", \"husband\", \"husband\", \"husband\", \"husband\", \"husband\", \"hydrated\", \"hydrocodone\", \"hyperemesis\", \"hyperemesis\", \"hypochondriac\", \"hysterectomy\", \"ibuprofen\", \"ibuprofen\", \"illegal\", \"illegal\", \"implantation\", \"information\", \"information\", \"information\", \"information\", \"information\", \"insurance\", \"insurance\", \"insurance\", \"insurance\", \"insurance\", \"intercourse\", \"irregular\", \"iud\", \"iud\", \"iud\", \"iud\", \"joy\", \"juice\", \"kid\", \"kid\", \"kit\", \"kit\", \"kit\", \"kyleena\", \"large\", \"large\", \"large\", \"large\", \"large\", \"large\", \"late\", \"late\", \"late\", \"late\", \"late\", \"late\", \"law\", \"law\", \"law\", \"law\", \"legal\", \"legal\", \"legal\", \"legit\", \"legitimate\", \"lemon\", \"lidocaine\", \"life\", \"life\", \"life\", \"life\", \"life\", \"life\", \"light\", \"light\", \"light\", \"light\", \"light\", \"line\", \"line\", \"line\", \"line\", \"line\", \"line\", \"link\", \"link\", \"little\", \"little\", \"little\", \"little\", \"little\", \"little\", \"live\", \"live\", \"live\", \"live\", \"live\", \"live\", \"lmp\", \"lobby\", \"lonely\", \"long\", \"long\", \"long\", \"long\", \"long\", \"long\", \"loopy\", \"lot\", \"lot\", \"lot\", \"lot\", \"lot\", \"lot\", \"love\", \"love\", \"love\", \"love\", \"love\", \"love\", \"mail\", \"market\", \"marriage\", \"marriage\", \"married\", \"mas\", \"massage\", \"medical\", \"medical\", \"medical\", \"medical\", \"medical\", \"medical\", \"medicated\", \"medication\", \"medication\", \"medication\", \"medication\", \"medication\", \"medication\", \"menstruation\", \"mental\", \"mental\", \"mental\", \"mental\", \"message\", \"message\", \"message\", \"message\", \"mife\", \"mifepristone\", \"mifepristone\", \"mild\", \"mild\", \"mild\", \"minute\", \"minute\", \"minute\", \"minute\", \"minute\", \"minute\", \"miscarriage\", \"miscarriage\", \"miscarriage\", \"miscarriage\", \"miscarriage\", \"miso\", \"misoprostol\", \"misoprostol\", \"mod\", \"mom\", \"mom\", \"mom\", \"money\", \"money\", \"money\", \"month\", \"month\", \"month\", \"month\", \"month\", \"month\", \"morning\", \"morning\", \"morning\", \"morning\", \"morning\", \"morning\", \"mother\", \"mother\", \"nausea\", \"nausea\", \"nausea\", \"nausea\", \"nausea\", \"need\", \"need\", \"need\", \"need\", \"need\", \"need\", \"needle\", \"needle\", \"negative\", \"negative\", \"negative\", \"negative\", \"nervous\", \"nervous\", \"nervous\", \"nervous\", \"nervous\", \"nervous\", \"nhs\", \"nhs\", \"nice\", \"nice\", \"nice\", \"nice\", \"nice\", \"night\", \"night\", \"night\", \"night\", \"night\", \"night\", \"nipple\", \"nipple\", \"normal\", \"normal\", \"normal\", \"normal\", \"normal\", \"nurse\", \"nurse\", \"nurse\", \"obgyn\", \"obgyn\", \"obgyn\", \"obgyn\", \"old\", \"old\", \"old\", \"old\", \"old\", \"old\", \"online\", \"online\", \"online\", \"online\", \"online\", \"operating\", \"option\", \"option\", \"option\", \"option\", \"option\", \"option\", \"order\", \"order\", \"order\", \"order\", \"order\", \"organization\", \"organization\", \"origin\", \"ovulate\", \"ovulating\", \"ovulation\", \"oxygen\", \"package\", \"package\", \"packaging\", \"pad\", \"pad\", \"pain\", \"pain\", \"pain\", \"pain\", \"pain\", \"palm\", \"panicking\", \"paperwork\", \"paperwork\", \"paperwork\", \"paperwork\", \"paracetamol\", \"paragard\", \"paranoid\", \"paranoid\", \"paranoid\", \"paranoid\", \"paranoid\", \"parent\", \"parent\", \"parent\", \"parent\", \"parental\", \"parenthood\", \"parenthood\", \"parenthood\", \"parenthood\", \"parenthood\", \"parenthood\", \"partner\", \"partner\", \"partner\", \"partner\", \"partner\", \"partner\", \"pay\", \"pay\", \"pay\", \"payment\", \"payment\", \"penetrative\", \"people\", \"people\", \"people\", \"people\", \"people\", \"people\", \"period\", \"period\", \"period\", \"period\", \"period\", \"permission\", \"philippine\", \"pill\", \"pill\", \"pill\", \"pill\", \"pill\", \"pill\", \"pinch\", \"placebo\", \"placement\", \"placenta\", \"placenta\", \"plan\", \"plan\", \"plan\", \"plan\", \"plan\", \"plan\", \"pm\", \"pm\", \"pm\", \"pm\", \"police\", \"positive\", \"positive\", \"positive\", \"positive\", \"positive\", \"positive\", \"precum\", \"preg\", \"pregnancy\", \"pregnancy\", \"pregnancy\", \"pregnancy\", \"pregnancy\", \"pregnancy\", \"pressure\", \"pressure\", \"pressure\", \"pressure\", \"procedure\", \"procedure\", \"procedure\", \"procedure\", \"procedure\", \"procedure\", \"process\", \"process\", \"process\", \"process\", \"process\", \"process\", \"promethazine\", \"protester\", \"protester\", \"protestor\", \"protestor\", \"protestor\", \"ptsd\", \"purchase\", \"quarter\", \"question\", \"question\", \"question\", \"question\", \"question\", \"question\", \"quick\", \"quick\", \"quick\", \"quick\", \"quick\", \"quick\", \"r\", \"r\", \"r\", \"raise\", \"ready\", \"ready\", \"ready\", \"ready\", \"ready\", \"ready\", \"recliner\", \"recovery\", \"recovery\", \"regret\", \"regret\", \"regret\", \"regular\", \"regular\", \"regular\", \"regular\", \"regular\", \"regular\", \"relationship\", \"removal\", \"removal\", \"reschedule\", \"resent\", \"resentment\", \"resource\", \"resource\", \"resource\", \"resource\", \"resource\", \"result\", \"result\", \"result\", \"result\", \"result\", \"result\", \"ride\", \"ride\", \"ride\", \"ride\", \"right\", \"right\", \"right\", \"right\", \"right\", \"right\", \"risk\", \"risk\", \"risk\", \"risk\", \"risk\", \"risk\", \"room\", \"room\", \"room\", \"route\", \"route\", \"route\", \"route\", \"ruin\", \"rupture\", \"sad\", \"sad\", \"sad\", \"sad\", \"safe\", \"safe\", \"safe\", \"safe\", \"safe\", \"safe\", \"scan\", \"scan\", \"scan\", \"scan\", \"scared\", \"scared\", \"scared\", \"scared\", \"scared\", \"scared\", \"schedule\", \"schedule\", \"schedule\", \"schedule\", \"schedule\", \"schedule\", \"school\", \"school\", \"school\", \"school\", \"school\", \"second\", \"second\", \"second\", \"second\", \"second\", \"second\", \"section\", \"section\", \"section\", \"section\", \"sedation\", \"sedation\", \"sedative\", \"selfish\", \"seller\", \"service\", \"service\", \"service\", \"service\", \"severity\", \"sex\", \"sex\", \"sex\", \"ship\", \"shipment\", \"shipping\", \"sister\", \"sister\", \"sister\", \"site\", \"situation\", \"situation\", \"situation\", \"situation\", \"situation\", \"situation\", \"size\", \"size\", \"size\", \"size\", \"sized\", \"snack\", \"snack\", \"sock\", \"soften\", \"son\", \"son\", \"specialist\", \"speculum\", \"stable\", \"staff\", \"staff\", \"staff\", \"state\", \"state\", \"state\", \"state\", \"state\", \"state\", \"status\", \"stirrup\", \"story\", \"story\", \"story\", \"story\", \"story\", \"story\", \"stringy\", \"support\", \"support\", \"support\", \"support\", \"support\", \"support\", \"sure\", \"sure\", \"sure\", \"sure\", \"sure\", \"sure\", \"surgery\", \"surgery\", \"surgery\", \"surgery\", \"surgery\", \"surgical\", \"surgical\", \"surgical\", \"surgical\", \"surgical\", \"symptom\", \"symptom\", \"symptom\", \"symptom\", \"symptom\", \"table\", \"table\", \"table\", \"tablet\", \"tablet\", \"talk\", \"talk\", \"talk\", \"talk\", \"talk\", \"talk\", \"telehealth\", \"telehealth\", \"telemedicine\", \"temp\", \"termination\", \"termination\", \"termination\", \"termination\", \"termination\", \"termination\", \"test\", \"test\", \"test\", \"test\", \"test\", \"test\", \"thank\", \"thank\", \"thank\", \"thank\", \"thank\", \"thank\", \"theatre\", \"therapy\", \"thing\", \"thing\", \"thing\", \"thing\", \"thing\", \"thing\", \"tia\", \"time\", \"time\", \"time\", \"time\", \"time\", \"time\", \"tip\", \"tip\", \"tip\", \"tip\", \"tip\", \"tissue\", \"tissue\", \"tissue\", \"tissue\", \"today\", \"today\", \"today\", \"today\", \"today\", \"today\", \"toilet\", \"tomorrow\", \"tomorrow\", \"tomorrow\", \"tomorrow\", \"tongue\", \"tongue\", \"toxic\", \"tracking\", \"twilight\", \"twilight\", \"ultrasound\", \"ultrasound\", \"ultrasound\", \"ultrasound\", \"ultrasound\", \"uncomfortable\", \"uncomfortable\", \"uncomfortable\", \"uncomfortable\", \"uncomfortable\", \"undress\", \"unprotected\", \"unstable\", \"usp\", \"valium\", \"viable\", \"viable\", \"viable\", \"vital\", \"waist\", \"waiting\", \"waiting\", \"waiting\", \"waiting\", \"waiting\", \"water\", \"water\", \"water\", \"way\", \"way\", \"way\", \"way\", \"way\", \"way\", \"website\", \"website\", \"website\", \"website\", \"website\", \"wheelchair\", \"withdrawal\", \"woman\", \"woman\", \"woman\", \"woman\", \"woman\", \"woman\", \"work\", \"work\", \"work\", \"work\", \"work\", \"work\", \"world\", \"world\", \"world\", \"year\", \"year\", \"year\", \"year\", \"year\", \"year\", \"yeast\", \"yellow\", \"yesterday\", \"yesterday\", \"yesterday\", \"yesterday\", \"yesterday\", \"yesterday\", \"\\ud83d\\ude1e\", \"\\ud83d\\ude2d\", \"\\ud83d\\ude2d\"]}, \"R\": 30, \"lambda.step\": 0.01, \"plot.opts\": {\"xlab\": \"PC1\", \"ylab\": \"PC2\"}, \"topic.order\": [2, 1, 3, 4, 5, 6]};\n",
       "\n",
       "function LDAvis_load_lib(url, callback){\n",
       "  var s = document.createElement('script');\n",
       "  s.src = url;\n",
       "  s.async = true;\n",
       "  s.onreadystatechange = s.onload = callback;\n",
       "  s.onerror = function(){console.warn(\"failed to load library \" + url);};\n",
       "  document.getElementsByTagName(\"head\")[0].appendChild(s);\n",
       "}\n",
       "\n",
       "if(typeof(LDAvis) !== \"undefined\"){\n",
       "   // already loaded: just create the visualization\n",
       "   !function(LDAvis){\n",
       "       new LDAvis(\"#\" + \"ldavis_el32102135295081922084726186\", ldavis_el32102135295081922084726186_data);\n",
       "   }(LDAvis);\n",
       "}else if(typeof define === \"function\" && define.amd){\n",
       "   // require.js is available: use it to load d3/LDAvis\n",
       "   require.config({paths: {d3: \"https://d3js.org/d3.v5\"}});\n",
       "   require([\"d3\"], function(d3){\n",
       "      window.d3 = d3;\n",
       "      LDAvis_load_lib(\"https://cdn.jsdelivr.net/gh/bmabey/pyLDAvis@3.4.0/pyLDAvis/js/ldavis.v3.0.0.js\", function(){\n",
       "        new LDAvis(\"#\" + \"ldavis_el32102135295081922084726186\", ldavis_el32102135295081922084726186_data);\n",
       "      });\n",
       "    });\n",
       "}else{\n",
       "    // require.js not available: dynamically load d3 & LDAvis\n",
       "    LDAvis_load_lib(\"https://d3js.org/d3.v5.js\", function(){\n",
       "         LDAvis_load_lib(\"https://cdn.jsdelivr.net/gh/bmabey/pyLDAvis@3.4.0/pyLDAvis/js/ldavis.v3.0.0.js\", function(){\n",
       "                 new LDAvis(\"#\" + \"ldavis_el32102135295081922084726186\", ldavis_el32102135295081922084726186_data);\n",
       "            })\n",
       "         });\n",
       "}\n",
       "</script>"
      ],
      "text/plain": [
       "PreparedData(topic_coordinates=              x         y  topics  cluster       Freq\n",
       "topic                                                \n",
       "1     -0.118780  0.042897       1        1  40.643442\n",
       "0      0.172099 -0.099163       2        1  16.827130\n",
       "2      0.018932 -0.182536       3        1  12.273228\n",
       "3      0.000878 -0.013455       4        1  11.997070\n",
       "4      0.170069  0.210462       5        1   9.674689\n",
       "5     -0.243198  0.041795       6        1   8.584440, topic_info=           Term          Freq         Total Category  logprob  loglift\n",
       "382      period  11491.000000  11491.000000  Default  30.0000  30.0000\n",
       "387        test   6967.000000   6967.000000  Default  29.0000  29.0000\n",
       "144        pill  15208.000000  15208.000000  Default  28.0000  28.0000\n",
       "87    pregnancy  14213.000000  14213.000000  Default  27.0000  27.0000\n",
       "17         baby  11887.000000  11887.000000  Default  26.0000  26.0000\n",
       "..          ...           ...           ...      ...      ...      ...\n",
       "614  parenthood    558.730896   2393.135436   Topic6  -5.1735   1.0005\n",
       "190       thank    579.798190   2909.605493   Topic6  -5.1365   0.8421\n",
       "37         time    741.948657  18868.888325   Topic6  -4.8899  -0.7808\n",
       "246        able    533.696298   5317.659749   Topic6  -5.2193   0.1563\n",
       "15     question    503.789676   2730.469127   Topic6  -5.2770   0.7651\n",
       "\n",
       "[476 rows x 6 columns], token_table=      Topic      Freq       Term\n",
       "term                            \n",
       "3438      1  0.008122       15th\n",
       "3438      2  0.032488       15th\n",
       "3438      5  0.958409       15th\n",
       "3516      5  0.985315       22nd\n",
       "1901      5  0.994575       28th\n",
       "...     ...       ...        ...\n",
       "337       5  0.174283  yesterday\n",
       "337       6  0.003521  yesterday\n",
       "3687      6  0.982351          😞\n",
       "4359      1  0.149397          😭\n",
       "4359      5  0.845026          😭\n",
       "\n",
       "[1123 rows x 3 columns], R=30, lambda_step=0.01, plot_opts={'xlab': 'PC1', 'ylab': 'PC2'}, topic_order=[2, 1, 3, 4, 5, 6])"
      ]
     },
     "execution_count": 50,
     "metadata": {},
     "output_type": "execute_result"
    }
   ],
   "source": [
    "lda_viz_subs = gensimvis.prepare(optimal_lda_model_subs, pos_corpus_subs, pos_dictionary_subs)\n",
    "lda_viz_subs"
   ]
  },
  {
   "cell_type": "markdown",
   "metadata": {},
   "source": [
    "### Naming Topics"
   ]
  },
  {
   "cell_type": "code",
   "execution_count": 51,
   "metadata": {},
   "outputs": [
    {
     "name": "stdout",
     "output_type": "stream",
     "text": [
      "[(0,\n",
      "  '0.037*\"pill\" + 0.035*\"pain\" + 0.033*\"hour\" + 0.025*\"cramp\" + 0.024*\"clot\" + '\n",
      "  '0.021*\"blood\" + 0.019*\"bad\" + 0.018*\"bleeding\" + 0.015*\"normal\" + '\n",
      "  '0.013*\"pad\" + 0.013*\"period\" + 0.011*\"heavy\" + 0.011*\"time\" + '\n",
      "  '0.011*\"experience\" + 0.011*\"nausea\" + 0.010*\"lot\" + 0.010*\"misoprostol\" + '\n",
      "  '0.009*\"night\" + 0.009*\"minute\" + 0.009*\"light\"'),\n",
      " (1,\n",
      "  '0.025*\"baby\" + 0.023*\"time\" + 0.018*\"child\" + 0.018*\"life\" + 0.017*\"year\" + '\n",
      "  '0.014*\"decision\" + 0.013*\"thing\" + 0.012*\"pregnancy\" + 0.011*\"right\" + '\n",
      "  '0.011*\"good\" + 0.010*\"month\" + 0.010*\"boyfriend\" + 0.010*\"kid\" + '\n",
      "  '0.009*\"family\" + 0.009*\"friend\" + 0.008*\"partner\" + 0.008*\"support\" + '\n",
      "  '0.008*\"choice\" + 0.008*\"way\" + 0.007*\"bad\"'),\n",
      " (2,\n",
      "  '0.030*\"procedure\" + 0.025*\"room\" + 0.021*\"nurse\" + 0.016*\"pain\" + '\n",
      "  '0.016*\"minute\" + 0.013*\"doctor\" + 0.012*\"time\" + 0.011*\"appointment\" + '\n",
      "  '0.011*\"hour\" + 0.010*\"ultrasound\" + 0.010*\"experience\" + 0.009*\"sedation\" + '\n",
      "  '0.008*\"home\" + 0.008*\"thing\" + 0.008*\"woman\" + 0.008*\"recovery\" + '\n",
      "  '0.007*\"clinic\" + 0.007*\"bad\" + 0.007*\"question\" + 0.007*\"blood\"'),\n",
      " (3,\n",
      "  '0.031*\"appointment\" + 0.022*\"pill\" + 0.020*\"doctor\" + 0.019*\"procedure\" + '\n",
      "  '0.019*\"pregnancy\" + 0.019*\"medical\" + 0.017*\"surgical\" + 0.016*\"experience\" '\n",
      "  '+ 0.014*\"ultrasound\" + 0.014*\"tomorrow\" + 0.012*\"pain\" + 0.012*\"time\" + '\n",
      "  '0.012*\"clinic\" + 0.011*\"work\" + 0.011*\"today\" + 0.011*\"advice\" + '\n",
      "  '0.010*\"nervous\" + 0.010*\"scared\" + 0.009*\"able\" + 0.008*\"thank\"'),\n",
      " (4,\n",
      "  '0.078*\"period\" + 0.053*\"test\" + 0.040*\"pregnancy\" + 0.029*\"sex\" + '\n",
      "  '0.024*\"positive\" + 0.019*\"month\" + 0.017*\"pill\" + 0.017*\"time\" + '\n",
      "  '0.017*\"birth\" + 0.016*\"negative\" + 0.016*\"miso\" + 0.016*\"normal\" + '\n",
      "  '0.016*\"control\" + 0.014*\"symptom\" + 0.009*\"today\" + 0.009*\"late\" + '\n",
      "  '0.009*\"cycle\" + 0.008*\"condom\" + 0.007*\"plan\" + 0.007*\"breast\"'),\n",
      " (5,\n",
      "  '0.028*\"pill\" + 0.021*\"state\" + 0.017*\"access\" + 0.014*\"woman\" + '\n",
      "  '0.013*\"help\" + 0.012*\"aid\" + 0.010*\"live\" + 0.010*\"country\" + '\n",
      "  '0.010*\"illegal\" + 0.009*\"money\" + 0.009*\"option\" + 0.009*\"people\" + '\n",
      "  '0.009*\"insurance\" + 0.008*\"clinic\" + 0.008*\"parent\" + 0.008*\"way\" + '\n",
      "  '0.008*\"time\" + 0.007*\"package\" + 0.007*\"order\" + 0.007*\"need\"')]\n"
     ]
    }
   ],
   "source": [
    "model_topics = optimal_lda_model_subs.show_topics(formatted=False)\n",
    "pprint(optimal_lda_model_subs.print_topics(num_words=20))"
   ]
  },
  {
   "cell_type": "code",
   "execution_count": 52,
   "metadata": {},
   "outputs": [],
   "source": [
    "topic_names_subs = {0: 'Medical Complications', \n",
    "               1: 'Supportive Circles, Relationships, Family', \n",
    "               2: 'Experience During Procedure', \n",
    "               3: 'Hospital/Clinic Experience, Doctors',\n",
    "               4: 'Early stages, unknown, fear', \n",
    "               5: 'Emergency Situations',} "
   ]
  },
  {
   "cell_type": "markdown",
   "metadata": {},
   "source": [
    "### Comparing Topic Groups Between Submissions and Comments\n",
    "The topic models for comments and submissions to r/abortion highlight a contrasting focus between the two types of interactions. Submissions tend to delve into personal experiences, emphasizing emotional reflections surrounding medical complications (Topic 0) and the nuances of supportive relationships and family dynamics (Topic 1). Many submissions share intimate accounts of the experience during procedures (Topic 2) and the complexities of emergency situations (Topic 5), showcasing the deeply personal nature of the topic.\n",
    "\n",
    "In contrast, comments typically present more practical solutions from a less emotional standpoint. They emphasize helpful resources (Topic 1) and community support structures (Topic 2), reflecting a collective effort to navigate the abortion experience. Additionally, discussions around understanding medical procedures (Topic 3) and legal struggles (Topic 4) indicate a focus on information dissemination and problem-solving. Overall, submissions capture the emotive and personal aspects of abortion experiences, while comments serve as a platform for addressing practical concerns and community-driven support."
   ]
  },
  {
   "cell_type": "markdown",
   "metadata": {},
   "source": [
    "## Word Embeddings Model: Comments"
   ]
  },
  {
   "cell_type": "code",
   "execution_count": 53,
   "metadata": {},
   "outputs": [],
   "source": [
    "# Remove all rows that are '[removed]' or '[deleted]'\n",
    "emb_comments_df = comments_df.loc[~comments_df['pp_text'].isin(['[removed]', '[deleted]' ]),:]\n",
    "\n",
    "# Select only rows that have >5 characters in selftext\n",
    "emb_comments_df = comments_df.loc[comments_df['pp_text'].str.len() > 5]"
   ]
  },
  {
   "cell_type": "code",
   "execution_count": 54,
   "metadata": {},
   "outputs": [
    {
     "name": "stderr",
     "output_type": "stream",
     "text": [
      "100%|███████████████████████████████| 237219/237219 [00:00<00:00, 604378.27it/s]\n"
     ]
    }
   ],
   "source": [
    "lemmas_split = [lemma.split() for lemma in tqdm(emb_comments_df['pp_text'])]"
   ]
  },
  {
   "cell_type": "code",
   "execution_count": 55,
   "metadata": {},
   "outputs": [],
   "source": [
    "# Constructing a Word2vec model\n",
    "cores = multiprocessing.cpu_count()\n",
    "n_features = 300\n",
    "min_word_count = 10\n",
    "n_workers = cores\n",
    "window = 5\n",
    "downsampling = 1e-2\n",
    "seed = 1\n",
    "sg = 1\n",
    "epochs = 20 \n",
    "model_emb_comments = Word2Vec(\n",
    "    sentences=lemmas_split,\n",
    "    workers=n_workers,\n",
    "    vector_size=n_features,\n",
    "    min_count=min_word_count,\n",
    "    window=window,\n",
    "    sample=downsampling,\n",
    "    seed=seed,\n",
    "    sg=sg)"
   ]
  },
  {
   "cell_type": "code",
   "execution_count": 56,
   "metadata": {},
   "outputs": [],
   "source": [
    "# Saving Model\n",
    "model_emb_comments.save('Word Embeddings/comments.emb')"
   ]
  },
  {
   "cell_type": "code",
   "execution_count": 57,
   "metadata": {},
   "outputs": [],
   "source": [
    "# Loading Model\n",
    "model_emb_comments = Word2Vec.load('Word Embeddings/comments.emb')"
   ]
  },
  {
   "cell_type": "markdown",
   "metadata": {},
   "source": [
    "### Word Similarity"
   ]
  },
  {
   "cell_type": "code",
   "execution_count": 58,
   "metadata": {},
   "outputs": [],
   "source": [
    "def get_most_similar_terms(model_emb_comments, token, topn=20):\n",
    "    for word, similarity in model_emb_comments.wv.most_similar(positive=[token], topn=topn):\n",
    "        print(f\"{word}: {round(similarity, 3)}\")"
   ]
  },
  {
   "cell_type": "code",
   "execution_count": 59,
   "metadata": {},
   "outputs": [
    {
     "name": "stdout",
     "output_type": "stream",
     "text": [
      "guy: 0.592\n",
      "scumbag: 0.574\n",
      "cheat: 0.571\n",
      "deadbeat: 0.571\n",
      "asshat: 0.568\n",
      "disagreement: 0.564\n",
      "faithful: 0.559\n",
      "trapping: 0.557\n",
      "bd: 0.555\n",
      "fathered: 0.551\n",
      "bail: 0.55\n",
      "stepdad: 0.549\n",
      "marry: 0.548\n",
      "fling: 0.547\n",
      "loser: 0.546\n",
      "father: 0.546\n",
      "abandon: 0.545\n",
      "ultimatums: 0.54\n",
      "disrespecting: 0.54\n",
      "keeper: 0.54\n"
     ]
    }
   ],
   "source": [
    "get_most_similar_terms(model_emb_comments, 'man')"
   ]
  },
  {
   "cell_type": "code",
   "execution_count": 60,
   "metadata": {},
   "outputs": [
    {
     "name": "stdout",
     "output_type": "stream",
     "text": [
      "web](https://www.womenonweb.org/: 0.678\n",
      "safe2choose](https://safe2choose.org/: 0.655\n",
      "women](https://www.womenhelp.org: 0.625\n",
      "women](https://www.womenhelp.org/: 0.545\n",
      "https://www.womenonweb.org/](https://www.womenonweb.org/: 0.534\n",
      "illegal: 0.508\n",
      "www.rachelsvineyard.com: 0.499\n",
      "socialized: 0.494\n",
      "https://www.womenonweb.org/: 0.491\n",
      "ilegal: 0.49\n",
      "https://www.womenonweb.org/en/i-need-an-abortion: 0.485\n",
      "nova: 0.484\n",
      "ngos: 0.481\n",
      "abortion/).**if: 0.48\n",
      "jailed: 0.479\n",
      "african: 0.478\n",
      "en/: 0.477\n",
      "afab: 0.471\n",
      "topics: 0.466\n",
      "womenhelp.org](https://womenhelp.org: 0.463\n"
     ]
    }
   ],
   "source": [
    "get_most_similar_terms(model_emb_comments, 'women')"
   ]
  },
  {
   "cell_type": "markdown",
   "metadata": {},
   "source": [
    "These results are interesting because for the submissions data, the list of similar words to \"women\" doesn't include a single website link. I thought at first I made a mistake while preprocessing the text, but when I used the same data to find similar words to \"men\" (below) none of the words were links like above. So, I believe this indicates that commenters provide more links than submission writers. This makes sense because the commenters are providing women who submit inquiries or issues surrounding abortion with online resources to help them, whereas submissions are where the requests for further information are made."
   ]
  },
  {
   "cell_type": "code",
   "execution_count": 61,
   "metadata": {},
   "outputs": [
    {
     "name": "stdout",
     "output_type": "stream",
     "text": [
      "males: 0.597\n",
      "dudes: 0.581\n",
      "cis: 0.572\n",
      "hypocrisy: 0.55\n",
      "brunt: 0.521\n",
      "centuries: 0.513\n",
      "sexism: 0.512\n",
      "demonize: 0.511\n",
      "effing: 0.511\n",
      "damned: 0.509\n",
      "stereotypes: 0.509\n",
      "predators: 0.507\n",
      "reproduction: 0.507\n",
      "dominated: 0.507\n",
      "idiots: 0.506\n",
      "tragedies: 0.505\n",
      "sexist: 0.503\n",
      "patriarchy: 0.502\n",
      "stupidity: 0.498\n",
      "programmed: 0.497\n"
     ]
    }
   ],
   "source": [
    "get_most_similar_terms(model_emb_comments, 'men')"
   ]
  },
  {
   "cell_type": "markdown",
   "metadata": {},
   "source": [
    "\"men\" and \"man\" (plural vs. singular) both have negative connotations in the commentsd. Likely because when the comments discuss a certain \"man\" it is not someone they know but someone referenced in the submission. I am finding similar words to \"men\" and \"women\" to guide the words I insert into the visualization below. I aim to find the relationship between gender and language bias within the abortion subreddit in this section."
   ]
  },
  {
   "cell_type": "markdown",
   "metadata": {},
   "source": [
    "### Visualizing Similarity of Words"
   ]
  },
  {
   "cell_type": "code",
   "execution_count": 63,
   "metadata": {},
   "outputs": [],
   "source": [
    "words_comments = ['cis', 'males', 'men', 'narcissist','predators',\n",
    "         'manipulate','shame','cheater','dominated',\n",
    "         'bastards','divorced','toxic','dicks', 'dudes',\n",
    "        'husband','father','son','brother','boyfriend','heartbroken','abortion',]\n",
    "\n",
    "# Extracting word vectors\n",
    "word_vectors_comments = np.array([model_emb_comments.wv[word] for word in words_comments])"
   ]
  },
  {
   "cell_type": "code",
   "execution_count": 64,
   "metadata": {},
   "outputs": [],
   "source": [
    "# Reduce dimensionality\n",
    "tsne = TSNE(n_components=2, random_state=2, perplexity=2)\n",
    "reduced_vectors_comments = tsne.fit_transform(word_vectors_comments)"
   ]
  },
  {
   "cell_type": "code",
   "execution_count": 65,
   "metadata": {},
   "outputs": [],
   "source": [
    "# Store the t-SNE vectors\n",
    "words_df_comments = pd.DataFrame(reduced_vectors_comments,\n",
    "                            index=pd.Index([word for word in words_comments]),\n",
    "                            columns=['x', 'y'])"
   ]
  },
  {
   "cell_type": "code",
   "execution_count": 66,
   "metadata": {},
   "outputs": [
    {
     "data": {
      "text/html": [
       "\n",
       "  <div id=\"c0a95ce9-0a85-4e8f-b7f8-05c724f24abd\" data-root-id=\"p1004\" style=\"display: contents;\"></div>\n"
      ]
     },
     "metadata": {},
     "output_type": "display_data"
    },
    {
     "data": {
      "application/javascript": [
       "(function(root) {\n",
       "  function embed_document(root) {\n",
       "  const docs_json = {\"3b6775a9-ccf6-4adf-87e6-aa305d9cb8c1\":{\"version\":\"3.3.4\",\"title\":\"Bokeh Application\",\"roots\":[{\"type\":\"object\",\"name\":\"Figure\",\"id\":\"p1004\",\"attributes\":{\"x_range\":{\"type\":\"object\",\"name\":\"DataRange1d\",\"id\":\"p1005\"},\"y_range\":{\"type\":\"object\",\"name\":\"DataRange1d\",\"id\":\"p1006\"},\"x_scale\":{\"type\":\"object\",\"name\":\"LinearScale\",\"id\":\"p1014\"},\"y_scale\":{\"type\":\"object\",\"name\":\"LinearScale\",\"id\":\"p1015\"},\"title\":{\"type\":\"object\",\"name\":\"Title\",\"id\":\"p1007\",\"attributes\":{\"text\":\"t-SNE Word Embeddings Comments\"}},\"renderers\":[{\"type\":\"object\",\"name\":\"GlyphRenderer\",\"id\":\"p1045\",\"attributes\":{\"data_source\":{\"type\":\"object\",\"name\":\"ColumnDataSource\",\"id\":\"p1001\",\"attributes\":{\"selected\":{\"type\":\"object\",\"name\":\"Selection\",\"id\":\"p1002\",\"attributes\":{\"indices\":[],\"line_indices\":[]}},\"selection_policy\":{\"type\":\"object\",\"name\":\"UnionRenderers\",\"id\":\"p1003\"},\"data\":{\"type\":\"map\",\"entries\":[[\"index\",{\"type\":\"ndarray\",\"array\":[\"cis\",\"males\",\"men\",\"narcissist\",\"predators\",\"manipulate\",\"shame\",\"cheater\",\"dominated\",\"bastards\",\"divorced\",\"toxic\",\"dicks\",\"dudes\",\"husband\",\"father\",\"son\",\"brother\",\"boyfriend\",\"heartbroken\",\"abortion\"],\"shape\":[21],\"dtype\":\"object\",\"order\":\"little\"}],[\"x\",{\"type\":\"ndarray\",\"array\":{\"type\":\"bytes\",\"data\":\"kT31wcpfDML5mjvCV0FQQeXFnsGauLDBKmUWwWkvxUEVbKXBjzkHwV/RBUKzWw1BzOqLv9JT08ElQeVBKYhXQZfqG0K+iy1C9/O/QRxYs0EKiSTC\"},\"shape\":[21],\"dtype\":\"float32\",\"order\":\"little\"}],[\"y\",{\"type\":\"ndarray\",\"array\":{\"type\":\"bytes\",\"data\":\"6D6Wws4iJsKKhyfCws6fQOzvNMIAvOfB2xVewmbDdcHqoqTCrysWwv9D88D1HnBBUY8SwrhFWsKfA4xCxMlhwZfptMGLzbs+T/6WQjNg7sFEf5/C\"},\"shape\":[21],\"dtype\":\"float32\",\"order\":\"little\"}]]}}},\"view\":{\"type\":\"object\",\"name\":\"CDSView\",\"id\":\"p1046\",\"attributes\":{\"filter\":{\"type\":\"object\",\"name\":\"AllIndices\",\"id\":\"p1047\"}}},\"glyph\":{\"type\":\"object\",\"name\":\"Circle\",\"id\":\"p1041\",\"attributes\":{\"x\":{\"type\":\"field\",\"field\":\"x\"},\"y\":{\"type\":\"field\",\"field\":\"y\"},\"size\":{\"type\":\"value\",\"value\":8},\"line_color\":{\"type\":\"value\",\"value\":\"green\"},\"fill_color\":{\"type\":\"value\",\"value\":\"green\"},\"hatch_color\":{\"type\":\"value\",\"value\":\"green\"}}},\"nonselection_glyph\":{\"type\":\"object\",\"name\":\"Circle\",\"id\":\"p1042\",\"attributes\":{\"x\":{\"type\":\"field\",\"field\":\"x\"},\"y\":{\"type\":\"field\",\"field\":\"y\"},\"size\":{\"type\":\"value\",\"value\":8},\"line_color\":{\"type\":\"value\",\"value\":\"green\"},\"line_alpha\":{\"type\":\"value\",\"value\":0.1},\"fill_color\":{\"type\":\"value\",\"value\":\"green\"},\"fill_alpha\":{\"type\":\"value\",\"value\":0.1},\"hatch_color\":{\"type\":\"value\",\"value\":\"green\"},\"hatch_alpha\":{\"type\":\"value\",\"value\":0.1}}},\"hover_glyph\":{\"type\":\"object\",\"name\":\"Circle\",\"id\":\"p1043\",\"attributes\":{\"x\":{\"type\":\"field\",\"field\":\"x\"},\"y\":{\"type\":\"field\",\"field\":\"y\"},\"size\":{\"type\":\"value\",\"value\":8},\"fill_color\":{\"type\":\"value\",\"value\":\"green\"},\"hatch_color\":{\"type\":\"value\",\"value\":\"green\"}}},\"muted_glyph\":{\"type\":\"object\",\"name\":\"Circle\",\"id\":\"p1044\",\"attributes\":{\"x\":{\"type\":\"field\",\"field\":\"x\"},\"y\":{\"type\":\"field\",\"field\":\"y\"},\"size\":{\"type\":\"value\",\"value\":8},\"line_color\":{\"type\":\"value\",\"value\":\"green\"},\"line_alpha\":{\"type\":\"value\",\"value\":0.2},\"fill_color\":{\"type\":\"value\",\"value\":\"green\"},\"fill_alpha\":{\"type\":\"value\",\"value\":0.2},\"hatch_color\":{\"type\":\"value\",\"value\":\"green\"},\"hatch_alpha\":{\"type\":\"value\",\"value\":0.2}}}}}],\"toolbar\":{\"type\":\"object\",\"name\":\"Toolbar\",\"id\":\"p1013\",\"attributes\":{\"tools\":[{\"type\":\"object\",\"name\":\"PanTool\",\"id\":\"p1026\"},{\"type\":\"object\",\"name\":\"WheelZoomTool\",\"id\":\"p1027\",\"attributes\":{\"renderers\":\"auto\"}},{\"type\":\"object\",\"name\":\"BoxZoomTool\",\"id\":\"p1028\",\"attributes\":{\"overlay\":{\"type\":\"object\",\"name\":\"BoxAnnotation\",\"id\":\"p1029\",\"attributes\":{\"syncable\":false,\"level\":\"overlay\",\"visible\":false,\"left\":{\"type\":\"number\",\"value\":\"nan\"},\"right\":{\"type\":\"number\",\"value\":\"nan\"},\"top\":{\"type\":\"number\",\"value\":\"nan\"},\"bottom\":{\"type\":\"number\",\"value\":\"nan\"},\"left_units\":\"canvas\",\"right_units\":\"canvas\",\"top_units\":\"canvas\",\"bottom_units\":\"canvas\",\"line_color\":\"black\",\"line_alpha\":1.0,\"line_width\":2,\"line_dash\":[4,4],\"fill_color\":\"lightgrey\",\"fill_alpha\":0.5}}}},{\"type\":\"object\",\"name\":\"SaveTool\",\"id\":\"p1034\"},{\"type\":\"object\",\"name\":\"ResetTool\",\"id\":\"p1035\"},{\"type\":\"object\",\"name\":\"HelpTool\",\"id\":\"p1036\"},{\"type\":\"object\",\"name\":\"HoverTool\",\"id\":\"p1037\",\"attributes\":{\"renderers\":\"auto\",\"tooltips\":\"@index\"}}]}},\"left\":[{\"type\":\"object\",\"name\":\"LinearAxis\",\"id\":\"p1021\",\"attributes\":{\"ticker\":{\"type\":\"object\",\"name\":\"BasicTicker\",\"id\":\"p1022\",\"attributes\":{\"mantissas\":[1,2,5]}},\"formatter\":{\"type\":\"object\",\"name\":\"BasicTickFormatter\",\"id\":\"p1023\"},\"major_label_policy\":{\"type\":\"object\",\"name\":\"AllLabels\",\"id\":\"p1024\"}}}],\"below\":[{\"type\":\"object\",\"name\":\"LinearAxis\",\"id\":\"p1016\",\"attributes\":{\"ticker\":{\"type\":\"object\",\"name\":\"BasicTicker\",\"id\":\"p1017\",\"attributes\":{\"mantissas\":[1,2,5]}},\"formatter\":{\"type\":\"object\",\"name\":\"BasicTickFormatter\",\"id\":\"p1018\"},\"major_label_policy\":{\"type\":\"object\",\"name\":\"AllLabels\",\"id\":\"p1019\"}}}],\"center\":[{\"type\":\"object\",\"name\":\"Grid\",\"id\":\"p1020\",\"attributes\":{\"axis\":{\"id\":\"p1016\"}}},{\"type\":\"object\",\"name\":\"Grid\",\"id\":\"p1025\",\"attributes\":{\"dimension\":1,\"axis\":{\"id\":\"p1021\"}}},{\"type\":\"object\",\"name\":\"LabelSet\",\"id\":\"p1048\",\"attributes\":{\"level\":\"glyph\",\"source\":{\"id\":\"p1001\"},\"x\":{\"type\":\"field\",\"field\":\"x\"},\"y\":{\"type\":\"field\",\"field\":\"y\"},\"text\":{\"type\":\"field\",\"field\":\"index\"},\"x_offset\":{\"type\":\"value\",\"value\":5},\"y_offset\":{\"type\":\"value\",\"value\":5}}}]}}]}};\n",
       "  const render_items = [{\"docid\":\"3b6775a9-ccf6-4adf-87e6-aa305d9cb8c1\",\"roots\":{\"p1004\":\"c0a95ce9-0a85-4e8f-b7f8-05c724f24abd\"},\"root_ids\":[\"p1004\"]}];\n",
       "  root.Bokeh.embed.embed_items_notebook(docs_json, render_items);\n",
       "  }\n",
       "  if (root.Bokeh !== undefined) {\n",
       "    embed_document(root);\n",
       "  } else {\n",
       "    let attempts = 0;\n",
       "    const timer = setInterval(function(root) {\n",
       "      if (root.Bokeh !== undefined) {\n",
       "        clearInterval(timer);\n",
       "        embed_document(root);\n",
       "      } else {\n",
       "        attempts++;\n",
       "        if (attempts > 100) {\n",
       "          clearInterval(timer);\n",
       "          console.log(\"Bokeh: ERROR: Unable to run BokehJS code because BokehJS library is missing\");\n",
       "        }\n",
       "      }\n",
       "    }, 10, root)\n",
       "  }\n",
       "})(window);"
      ],
      "application/vnd.bokehjs_exec.v0+json": ""
     },
     "metadata": {
      "application/vnd.bokehjs_exec.v0+json": {
       "id": "p1004"
      }
     },
     "output_type": "display_data"
    }
   ],
   "source": [
    "# Creating the plot and adding a hover tool\n",
    "plot_data = ColumnDataSource(words_df_comments)\n",
    "tsne_plot_comments = figure(title='t-SNE Word Embeddings Comments')\n",
    "tsne_plot_comments.add_tools(HoverTool(tooltips='@index'))\n",
    "\n",
    "# Plotting the words as circles\n",
    "tsne_plot_comments.circle('x', 'y',\n",
    "                 source=plot_data,\n",
    "                 color='green',\n",
    "                 size=8,\n",
    "                 hover_line_color='black')\n",
    "\n",
    "# Labeling Axes\n",
    "labels = LabelSet(x='x', y='y', text='index', level='glyph',\n",
    "                  x_offset=5, y_offset=5, source=plot_data)\n",
    "tsne_plot_comments.add_layout(labels)\n",
    "show(tsne_plot_comments)"
   ]
  },
  {
   "cell_type": "markdown",
   "metadata": {},
   "source": [
    "Lets delve into what the word embeddings model for the comments dataset shows us. On first glance it's apparent that language biased towards close romantic relationships with men (husband and boyfriend) is less critical than more general descriptions of men such as \"males\" and \"dudes.\" This is shown by the distance between the words \"husband\" and \"boyfriend\" and the insults \"narcissist\", \"dicks\", \"predators\", and \"bastards.\" Another interesting note about this model is that the words familial terms \"brother\", \"son\", and \"father\" are all closely tied to \"divorced\", \"heartbroken\", and \"cheater.\" I suspect this is because when discussing abortion, I would assume issues like a soon to be ***father*** causing his wife or girlfriend to be ***heartbroken*** because he was a ***cheater*** come up fairly often, tying these terms together. Adding on to that, follow up words like the couple getting ***divorced*** and that impacting the ***son*** or ***brother*** make sense that they are in the mix. In the larger scheme of my research, it's important to note that the model places \"abortion\" closest in proximity to \"dominated\" \"cis\" and \"shame.\" The word \"dominated\" stuck out to me as a good example of the close relationship between the patriarchy and abortion. \"Dominated\" came up as one of the 20 most similar words to \"men\" in the comments data, arguably because a lot of the time--especially within the realm of women deciding whether or not to have an abortion--male voices and opinions can feel dominating."
   ]
  },
  {
   "cell_type": "markdown",
   "metadata": {},
   "source": [
    "## Word Embeddings Model: Submissions"
   ]
  },
  {
   "cell_type": "code",
   "execution_count": 67,
   "metadata": {},
   "outputs": [],
   "source": [
    "# Remove all rows that are '[removed]' or '[deleted]'\n",
    "emb_subs_df = submissions_df.loc[~submissions_df['pp_text'].isin(['[removed]', '[deleted]' ]),:]\n",
    "\n",
    "# Select only rows that have >5 characters in selftext\n",
    "emb_subs_df = submissions_df.loc[submissions_df['pp_text'].str.len() > 5]"
   ]
  },
  {
   "cell_type": "code",
   "execution_count": 68,
   "metadata": {},
   "outputs": [
    {
     "name": "stderr",
     "output_type": "stream",
     "text": [
      "100%|█████████████████████████████████| 27376/27376 [00:00<00:00, 250939.78it/s]\n"
     ]
    }
   ],
   "source": [
    "lemmas_split = [lemma.split() for lemma in tqdm(emb_subs_df['pp_text'])]"
   ]
  },
  {
   "cell_type": "code",
   "execution_count": 69,
   "metadata": {},
   "outputs": [],
   "source": [
    "cores = multiprocessing.cpu_count()\n",
    "n_features = 300\n",
    "min_word_count = 10\n",
    "n_workers = cores\n",
    "window = 5\n",
    "downsampling = 1e-2\n",
    "seed = 1\n",
    "sg = 1\n",
    "epochs = 20 \n",
    "model_emb_subs = Word2Vec(\n",
    "    sentences=lemmas_split_subs,\n",
    "    workers=n_workers,\n",
    "    vector_size=n_features,\n",
    "    min_count=min_word_count,\n",
    "    window=window,\n",
    "    sample=downsampling,\n",
    "    seed=seed,\n",
    "    sg=sg)"
   ]
  },
  {
   "cell_type": "code",
   "execution_count": 70,
   "metadata": {},
   "outputs": [],
   "source": [
    "model_emb_subs.save('Word Embeddings/subs.emb')"
   ]
  },
  {
   "cell_type": "code",
   "execution_count": 71,
   "metadata": {},
   "outputs": [],
   "source": [
    "model_emb_subs = Word2Vec.load('Word Embeddings/subs.emb')"
   ]
  },
  {
   "cell_type": "markdown",
   "metadata": {},
   "source": [
    "### Word Similarity"
   ]
  },
  {
   "cell_type": "code",
   "execution_count": 72,
   "metadata": {},
   "outputs": [],
   "source": [
    "def get_most_similar_terms(model_emb_subs, token, topn=20):\n",
    "    for word, similarity in model_emb_subs.wv.most_similar(positive=[token], topn=topn):\n",
    "        print(f\"{word}: {round(similarity, 3)}\")"
   ]
  },
  {
   "cell_type": "code",
   "execution_count": 73,
   "metadata": {},
   "outputs": [
    {
     "name": "stdout",
     "output_type": "stream",
     "text": [
      "woman: 0.552\n",
      "empower: 0.511\n",
      "womens: 0.511\n",
      "stigmatized: 0.494\n",
      "backgrounds: 0.49\n",
      "girls: 0.488\n",
      "people: 0.485\n",
      "ladies: 0.48\n",
      "advocate: 0.478\n",
      "females: 0.477\n",
      "norm: 0.473\n",
      "platform: 0.471\n",
      "equality: 0.468\n",
      "firsthand: 0.467\n",
      "propaganda: 0.466\n",
      "statistics: 0.465\n",
      "admire: 0.462\n",
      "judgements: 0.462\n",
      "uteruses: 0.455\n",
      "advocating: 0.454\n"
     ]
    }
   ],
   "source": [
    "get_most_similar_terms(model_emb_subs, 'women')"
   ]
  },
  {
   "cell_type": "code",
   "execution_count": 74,
   "metadata": {},
   "outputs": [
    {
     "name": "stdout",
     "output_type": "stream",
     "text": [
      "guy: 0.621\n",
      "soulmate: 0.59\n",
      "madly: 0.578\n",
      "faithful: 0.577\n",
      "marry: 0.575\n",
      "compatible: 0.565\n",
      "eachother: 0.559\n",
      "dude: 0.558\n",
      "manipulated: 0.557\n",
      "impregnated: 0.557\n",
      "divorced: 0.555\n",
      "coparenting: 0.549\n",
      "marrying: 0.547\n",
      "rebound: 0.546\n",
      "narcissist: 0.544\n",
      "consensual: 0.542\n",
      "despise: 0.539\n",
      "fiancee: 0.539\n",
      "hypothetically: 0.538\n",
      "grandchildren: 0.537\n"
     ]
    }
   ],
   "source": [
    "get_most_similar_terms(model_emb_subs, 'man')"
   ]
  },
  {
   "cell_type": "code",
   "execution_count": 75,
   "metadata": {},
   "outputs": [
    {
     "name": "stdout",
     "output_type": "stream",
     "text": [
      "perceived: 0.617\n",
      "politicians: 0.597\n",
      "guns: 0.596\n",
      "generation: 0.58\n",
      "constitution: 0.577\n",
      "equality: 0.576\n",
      "arguments: 0.571\n",
      "bodies: 0.569\n",
      "rights: 0.569\n",
      "revolution: 0.567\n",
      "agenda: 0.567\n",
      "wives: 0.565\n",
      "shaming: 0.565\n",
      "empower: 0.565\n",
      "humans: 0.563\n",
      "irresponsibility: 0.563\n",
      "fueled: 0.562\n",
      "females: 0.561\n",
      "bourgeois: 0.56\n",
      "civil: 0.559\n"
     ]
    }
   ],
   "source": [
    "get_most_similar_terms(model_emb_subs, 'men')"
   ]
  },
  {
   "cell_type": "markdown",
   "metadata": {},
   "source": [
    "The first word closest to \"man\" is \"soulmate\" which tells me that when women are discussing men in a more general sense, they use harsher language than one man in particular. Likely this is because women have a weaker tie to wanting to protect their opinions of men in general than one man they know and are discussing. I have noticed in my life that I sometimes see behaivor in my male friends or family members that I do would group into to the ***bullshit*** and ***shaming*** category of similarity to \"men\" but don't call them out for it because in the back of my head I cut the men I know already in my life much more slack than I do strangers. It's also worth noting that \"bodies\" is used similarly to men, likely in the context of men controlling women's bodies through restricting abortion."
   ]
  },
  {
   "cell_type": "markdown",
   "metadata": {},
   "source": [
    "### Visualizing Similarity of Words"
   ]
  },
  {
   "cell_type": "code",
   "execution_count": 76,
   "metadata": {},
   "outputs": [],
   "source": [
    "words_subs = ['men', 'narcissist', 'shaming',\n",
    "         'manipulate','cheater','divorced','toxic','husband','father','brother','boyfriend','heartbroken','abortion',]\n",
    "word_vectors_subs = np.array([model_emb_subs.wv[word] for word in words_subs])"
   ]
  },
  {
   "cell_type": "code",
   "execution_count": 77,
   "metadata": {},
   "outputs": [],
   "source": [
    "tsne = TSNE(n_components=2, random_state=2, perplexity=2)\n",
    "reduced_vectors_subs = tsne.fit_transform(word_vectors_subs)"
   ]
  },
  {
   "cell_type": "code",
   "execution_count": 78,
   "metadata": {},
   "outputs": [],
   "source": [
    "words_df_subs = pd.DataFrame(reduced_vectors_subs,\n",
    "                            index=pd.Index([word for word in words_subs]),\n",
    "                            columns=['x', 'y'])"
   ]
  },
  {
   "cell_type": "code",
   "execution_count": 79,
   "metadata": {},
   "outputs": [
    {
     "data": {
      "text/html": [
       "\n",
       "  <div id=\"cdb1cbb3-4ba5-4d2e-b484-85c7dada567f\" data-root-id=\"p1057\" style=\"display: contents;\"></div>\n"
      ]
     },
     "metadata": {},
     "output_type": "display_data"
    },
    {
     "data": {
      "application/javascript": [
       "(function(root) {\n",
       "  function embed_document(root) {\n",
       "  const docs_json = {\"091bc007-bebc-4d40-a36f-cb041f1b47a6\":{\"version\":\"3.3.4\",\"title\":\"Bokeh Application\",\"roots\":[{\"type\":\"object\",\"name\":\"Figure\",\"id\":\"p1057\",\"attributes\":{\"x_range\":{\"type\":\"object\",\"name\":\"DataRange1d\",\"id\":\"p1058\"},\"y_range\":{\"type\":\"object\",\"name\":\"DataRange1d\",\"id\":\"p1059\"},\"x_scale\":{\"type\":\"object\",\"name\":\"LinearScale\",\"id\":\"p1067\"},\"y_scale\":{\"type\":\"object\",\"name\":\"LinearScale\",\"id\":\"p1068\"},\"title\":{\"type\":\"object\",\"name\":\"Title\",\"id\":\"p1060\",\"attributes\":{\"text\":\"t-SNE Word Embeddings Submissions\"}},\"renderers\":[{\"type\":\"object\",\"name\":\"GlyphRenderer\",\"id\":\"p1098\",\"attributes\":{\"data_source\":{\"type\":\"object\",\"name\":\"ColumnDataSource\",\"id\":\"p1054\",\"attributes\":{\"selected\":{\"type\":\"object\",\"name\":\"Selection\",\"id\":\"p1055\",\"attributes\":{\"indices\":[],\"line_indices\":[]}},\"selection_policy\":{\"type\":\"object\",\"name\":\"UnionRenderers\",\"id\":\"p1056\"},\"data\":{\"type\":\"map\",\"entries\":[[\"index\",{\"type\":\"ndarray\",\"array\":[\"men\",\"narcissist\",\"shaming\",\"manipulate\",\"cheater\",\"divorced\",\"toxic\",\"husband\",\"father\",\"brother\",\"boyfriend\",\"heartbroken\",\"abortion\"],\"shape\":[13],\"dtype\":\"object\",\"order\":\"little\"}],[\"x\",{\"type\":\"ndarray\",\"array\":{\"type\":\"bytes\",\"data\":\"VS2uQrQyCkJRkJ1CrCWSQtMFLkJ9SbpBTtW+QUChiEJhBxhCcyayQKTugkKXczpCg6psQg==\"},\"shape\":[13],\"dtype\":\"float32\",\"order\":\"little\"}],[\"y\",{\"type\":\"ndarray\",\"array\":{\"type\":\"bytes\",\"data\":\"SopZQiQcSEHlTy9CxmsSQqR8BkGhoZtBwC7Sv/VcDsLUfvNB2oeMQdkNzMENUrfA/fZVQQ==\"},\"shape\":[13],\"dtype\":\"float32\",\"order\":\"little\"}]]}}},\"view\":{\"type\":\"object\",\"name\":\"CDSView\",\"id\":\"p1099\",\"attributes\":{\"filter\":{\"type\":\"object\",\"name\":\"AllIndices\",\"id\":\"p1100\"}}},\"glyph\":{\"type\":\"object\",\"name\":\"Circle\",\"id\":\"p1094\",\"attributes\":{\"x\":{\"type\":\"field\",\"field\":\"x\"},\"y\":{\"type\":\"field\",\"field\":\"y\"},\"size\":{\"type\":\"value\",\"value\":8},\"line_color\":{\"type\":\"value\",\"value\":\"blue\"},\"fill_color\":{\"type\":\"value\",\"value\":\"blue\"},\"hatch_color\":{\"type\":\"value\",\"value\":\"blue\"}}},\"nonselection_glyph\":{\"type\":\"object\",\"name\":\"Circle\",\"id\":\"p1095\",\"attributes\":{\"x\":{\"type\":\"field\",\"field\":\"x\"},\"y\":{\"type\":\"field\",\"field\":\"y\"},\"size\":{\"type\":\"value\",\"value\":8},\"line_color\":{\"type\":\"value\",\"value\":\"blue\"},\"line_alpha\":{\"type\":\"value\",\"value\":0.1},\"fill_color\":{\"type\":\"value\",\"value\":\"blue\"},\"fill_alpha\":{\"type\":\"value\",\"value\":0.1},\"hatch_color\":{\"type\":\"value\",\"value\":\"blue\"},\"hatch_alpha\":{\"type\":\"value\",\"value\":0.1}}},\"hover_glyph\":{\"type\":\"object\",\"name\":\"Circle\",\"id\":\"p1096\",\"attributes\":{\"x\":{\"type\":\"field\",\"field\":\"x\"},\"y\":{\"type\":\"field\",\"field\":\"y\"},\"size\":{\"type\":\"value\",\"value\":8},\"fill_color\":{\"type\":\"value\",\"value\":\"blue\"},\"hatch_color\":{\"type\":\"value\",\"value\":\"blue\"}}},\"muted_glyph\":{\"type\":\"object\",\"name\":\"Circle\",\"id\":\"p1097\",\"attributes\":{\"x\":{\"type\":\"field\",\"field\":\"x\"},\"y\":{\"type\":\"field\",\"field\":\"y\"},\"size\":{\"type\":\"value\",\"value\":8},\"line_color\":{\"type\":\"value\",\"value\":\"blue\"},\"line_alpha\":{\"type\":\"value\",\"value\":0.2},\"fill_color\":{\"type\":\"value\",\"value\":\"blue\"},\"fill_alpha\":{\"type\":\"value\",\"value\":0.2},\"hatch_color\":{\"type\":\"value\",\"value\":\"blue\"},\"hatch_alpha\":{\"type\":\"value\",\"value\":0.2}}}}}],\"toolbar\":{\"type\":\"object\",\"name\":\"Toolbar\",\"id\":\"p1066\",\"attributes\":{\"tools\":[{\"type\":\"object\",\"name\":\"PanTool\",\"id\":\"p1079\"},{\"type\":\"object\",\"name\":\"WheelZoomTool\",\"id\":\"p1080\",\"attributes\":{\"renderers\":\"auto\"}},{\"type\":\"object\",\"name\":\"BoxZoomTool\",\"id\":\"p1081\",\"attributes\":{\"overlay\":{\"type\":\"object\",\"name\":\"BoxAnnotation\",\"id\":\"p1082\",\"attributes\":{\"syncable\":false,\"level\":\"overlay\",\"visible\":false,\"left\":{\"type\":\"number\",\"value\":\"nan\"},\"right\":{\"type\":\"number\",\"value\":\"nan\"},\"top\":{\"type\":\"number\",\"value\":\"nan\"},\"bottom\":{\"type\":\"number\",\"value\":\"nan\"},\"left_units\":\"canvas\",\"right_units\":\"canvas\",\"top_units\":\"canvas\",\"bottom_units\":\"canvas\",\"line_color\":\"black\",\"line_alpha\":1.0,\"line_width\":2,\"line_dash\":[4,4],\"fill_color\":\"lightgrey\",\"fill_alpha\":0.5}}}},{\"type\":\"object\",\"name\":\"SaveTool\",\"id\":\"p1087\"},{\"type\":\"object\",\"name\":\"ResetTool\",\"id\":\"p1088\"},{\"type\":\"object\",\"name\":\"HelpTool\",\"id\":\"p1089\"},{\"type\":\"object\",\"name\":\"HoverTool\",\"id\":\"p1090\",\"attributes\":{\"renderers\":\"auto\",\"tooltips\":\"@index\"}}]}},\"left\":[{\"type\":\"object\",\"name\":\"LinearAxis\",\"id\":\"p1074\",\"attributes\":{\"ticker\":{\"type\":\"object\",\"name\":\"BasicTicker\",\"id\":\"p1075\",\"attributes\":{\"mantissas\":[1,2,5]}},\"formatter\":{\"type\":\"object\",\"name\":\"BasicTickFormatter\",\"id\":\"p1076\"},\"major_label_policy\":{\"type\":\"object\",\"name\":\"AllLabels\",\"id\":\"p1077\"}}}],\"below\":[{\"type\":\"object\",\"name\":\"LinearAxis\",\"id\":\"p1069\",\"attributes\":{\"ticker\":{\"type\":\"object\",\"name\":\"BasicTicker\",\"id\":\"p1070\",\"attributes\":{\"mantissas\":[1,2,5]}},\"formatter\":{\"type\":\"object\",\"name\":\"BasicTickFormatter\",\"id\":\"p1071\"},\"major_label_policy\":{\"type\":\"object\",\"name\":\"AllLabels\",\"id\":\"p1072\"}}}],\"center\":[{\"type\":\"object\",\"name\":\"Grid\",\"id\":\"p1073\",\"attributes\":{\"axis\":{\"id\":\"p1069\"}}},{\"type\":\"object\",\"name\":\"Grid\",\"id\":\"p1078\",\"attributes\":{\"dimension\":1,\"axis\":{\"id\":\"p1074\"}}},{\"type\":\"object\",\"name\":\"LabelSet\",\"id\":\"p1101\",\"attributes\":{\"level\":\"glyph\",\"source\":{\"id\":\"p1054\"},\"x\":{\"type\":\"field\",\"field\":\"x\"},\"y\":{\"type\":\"field\",\"field\":\"y\"},\"text\":{\"type\":\"field\",\"field\":\"index\"},\"x_offset\":{\"type\":\"value\",\"value\":5},\"y_offset\":{\"type\":\"value\",\"value\":5}}}]}}]}};\n",
       "  const render_items = [{\"docid\":\"091bc007-bebc-4d40-a36f-cb041f1b47a6\",\"roots\":{\"p1057\":\"cdb1cbb3-4ba5-4d2e-b484-85c7dada567f\"},\"root_ids\":[\"p1057\"]}];\n",
       "  root.Bokeh.embed.embed_items_notebook(docs_json, render_items);\n",
       "  }\n",
       "  if (root.Bokeh !== undefined) {\n",
       "    embed_document(root);\n",
       "  } else {\n",
       "    let attempts = 0;\n",
       "    const timer = setInterval(function(root) {\n",
       "      if (root.Bokeh !== undefined) {\n",
       "        clearInterval(timer);\n",
       "        embed_document(root);\n",
       "      } else {\n",
       "        attempts++;\n",
       "        if (attempts > 100) {\n",
       "          clearInterval(timer);\n",
       "          console.log(\"Bokeh: ERROR: Unable to run BokehJS code because BokehJS library is missing\");\n",
       "        }\n",
       "      }\n",
       "    }, 10, root)\n",
       "  }\n",
       "})(window);"
      ],
      "application/vnd.bokehjs_exec.v0+json": ""
     },
     "metadata": {
      "application/vnd.bokehjs_exec.v0+json": {
       "id": "p1057"
      }
     },
     "output_type": "display_data"
    }
   ],
   "source": [
    "plot_data = ColumnDataSource(words_df_subs)\n",
    "tsne_plot_subs = figure(title='t-SNE Word Embeddings Submissions')\n",
    "tsne_plot_subs.add_tools(HoverTool(tooltips='@index'))\n",
    "tsne_plot_subs.circle('x', 'y',\n",
    "                 source=plot_data,\n",
    "                 color='blue',\n",
    "                 size=8,\n",
    "                 hover_line_color='black')\n",
    "labels = LabelSet(x='x', y='y', text='index', level='glyph',\n",
    "                  x_offset=5, y_offset=5, source=plot_data)\n",
    "tsne_plot_subs.add_layout(labels)\n",
    "show(tsne_plot_subs)"
   ]
  },
  {
   "cell_type": "markdown",
   "metadata": {},
   "source": [
    "Interestingly, using a similar word set as I did for the comments embedding model, the results are less conclusive from submissions. \"Brother\" is still closely related to \"cheater\" which I did not expect because when a woman is discussing cheating, in my experience, it's normally in regards to their boyfriend or husband, because we don't date our brothers and therefore can't be cheated on by them. Although, I haven't yet considered that \"cheater\" could be used in a different context than a relationship betrayal, it could be referencing a brother cheating at a game, which makes sense generally speaking but not so much within the context of r/abortion. Another note about this model is that \"father\" is much much closer to \"toxic.\" It seems as though both datasets tend to discuss fathers in a more negative light. \"Boyfriend\" and \"husband\" are found closer to \"narcissist\" and \"cheater\" in the submissions model than the comments, likely because the submissions are personal stories and delve deeper into interpersonal relationships, and the comments just respond to the experience initially submitted. Similar to the comments, \"boyfriend\" and \"husband\" are further away in similarity to harsh language than \"father\" and \"brother\"."
   ]
  },
  {
   "cell_type": "markdown",
   "metadata": {},
   "source": [
    "## Language Bias: Comments"
   ]
  },
  {
   "cell_type": "code",
   "execution_count": 80,
   "metadata": {},
   "outputs": [],
   "source": [
    "target1 = ['partner', 'ex', 'boyfriend', 'stable', \n",
    "           'abusive', 'marriage', 'resent', 'breakup' \n",
    "           'unstable', 'divorce', 'husband','wife']\n",
    "target2 = ['family', 'father', 'brother', 'mother', 'son', 'daughter', \n",
    "           'sister', 'related', 'dad', 'mom','parents','aunt',\n",
    "           'siblings', 'cousin','uncle']"
   ]
  },
  {
   "cell_type": "code",
   "execution_count": 81,
   "metadata": {},
   "outputs": [],
   "source": [
    "model_bias_comments = Word2Vec.load('Word Embeddings/comments.emb')"
   ]
  },
  {
   "cell_type": "code",
   "execution_count": 82,
   "metadata": {},
   "outputs": [],
   "source": [
    "[b1, b2] = calculate_biased_words(model_bias_comments, target1, target2, 4)"
   ]
  },
  {
   "cell_type": "code",
   "execution_count": 83,
   "metadata": {},
   "outputs": [
    {
     "name": "stdout",
     "output_type": "stream",
     "text": [
      "Biased words in comments towards romantic relationships:\n",
      "['relationship', 'man', 'guy', 'therapy', 'bf', 'leaving', 'relationships', 'pressured', 'toxic', 'vasectomy', 'behavior', 'resentment', 'communication', 'goals', 'manipulative', 'communicate', 'committed', 'unsupportive', 'flag', 'unstable', 'pressuring', 'coercion', 'flags', 'intimacy', 'engage', 'damaging', 'resenting']\n"
     ]
    }
   ],
   "source": [
    "print('Biased words in comments towards romantic relationships:')\n",
    "print([word for word in b1.keys()])"
   ]
  },
  {
   "cell_type": "code",
   "execution_count": 84,
   "metadata": {},
   "outputs": [
    {
     "name": "stdout",
     "output_type": "stream",
     "text": [
      "Biased words in comments towards familial relationships\n",
      "['friend', 'friends', 'called', 'california', 'groups', 'minor', 'bunch', 'random', 'special', 'company', 'sites', 'member', 'mum', 'tons', 'died', 'younger', 'birthday', 'teen', 'facebook', 'adopted', 'papers', 'ireland', 'named', 'code', 'photos', 'grandma', 'grandmother', 'announced', 'grandparents', 'niece']\n"
     ]
    }
   ],
   "source": [
    "print('Biased words in comments towards familial relationships')\n",
    "print([word for word in b2.keys()])"
   ]
  },
  {
   "cell_type": "markdown",
   "metadata": {},
   "source": [
    "### Visualizing Bias"
   ]
  },
  {
   "cell_type": "code",
   "execution_count": 85,
   "metadata": {},
   "outputs": [],
   "source": [
    "tsne_path_comments = '../../data/tsne_model'\n",
    "tsne_df_path_comments = '../../data/tsne_df.pkl'\n",
    "with open(tsne_path_comments, 'rb') as f:\n",
    "    X_tsne_comments = pickle.load(f)   \n",
    "tsne_df_comments = pd.read_pickle(tsne_df_path_comments)"
   ]
  },
  {
   "cell_type": "code",
   "execution_count": 86,
   "metadata": {},
   "outputs": [],
   "source": [
    "target1_idx = np.array([model_bias_comments.wv.key_to_index[key] for key in b1.keys()])\n",
    "target2_idx = np.array([model_bias_comments.wv.key_to_index[key] for key in b2.keys()])"
   ]
  },
  {
   "cell_type": "code",
   "execution_count": 87,
   "metadata": {},
   "outputs": [],
   "source": [
    "X_target1 = X_tsne_comments[target1_idx]\n",
    "X_target2 = X_tsne_comments[target2_idx]"
   ]
  },
  {
   "cell_type": "code",
   "execution_count": 88,
   "metadata": {},
   "outputs": [
    {
     "data": {
      "text/html": [
       "    <style>\n",
       "        .bk-notebook-logo {\n",
       "            display: block;\n",
       "            width: 20px;\n",
       "            height: 20px;\n",
       "            background-image: url(data:image/png;base64,iVBORw0KGgoAAAANSUhEUgAAABQAAAAUCAYAAACNiR0NAAAABHNCSVQICAgIfAhkiAAAAAlwSFlzAAALEgAACxIB0t1+/AAAABx0RVh0U29mdHdhcmUAQWRvYmUgRmlyZXdvcmtzIENTNui8sowAAAOkSURBVDiNjZRtaJVlGMd/1/08zzln5zjP1LWcU9N0NkN8m2CYjpgQYQXqSs0I84OLIC0hkEKoPtiH3gmKoiJDU7QpLgoLjLIQCpEsNJ1vqUOdO7ppbuec5+V+rj4ctwzd8IIbbi6u+8f1539dt3A78eXC7QizUF7gyV1fD1Yqg4JWz84yffhm0qkFqBogB9rM8tZdtwVsPUhWhGcFJngGeWrPzHm5oaMmkfEg1usvLFyc8jLRqDOMru7AyC8saQr7GG7f5fvDeH7Ej8CM66nIF+8yngt6HWaKh7k49Soy9nXurCi1o3qUbS3zWfrYeQDTB/Qj6kX6Ybhw4B+bOYoLKCC9H3Nu/leUTZ1JdRWkkn2ldcCamzrcf47KKXdAJllSlxAOkRgyHsGC/zRday5Qld9DyoM4/q/rUoy/CXh3jzOu3bHUVZeU+DEn8FInkPBFlu3+nW3Nw0mk6vCDiWg8CeJaxEwuHS3+z5RgY+YBR6V1Z1nxSOfoaPa4LASWxxdNp+VWTk7+4vzaou8v8PN+xo+KY2xsw6une2frhw05CTYOmQvsEhjhWjn0bmXPjpE1+kplmmkP3suftwTubK9Vq22qKmrBhpY4jvd5afdRA3wGjFAgcnTK2s4hY0/GPNIb0nErGMCRxWOOX64Z8RAC4oCXdklmEvcL8o0BfkNK4lUg9HTl+oPlQxdNo3Mg4Nv175e/1LDGzZen30MEjRUtmXSfiTVu1kK8W4txyV6BMKlbgk3lMwYCiusNy9fVfvvwMxv8Ynl6vxoByANLTWplvuj/nF9m2+PDtt1eiHPBr1oIfhCChQMBw6Aw0UulqTKZdfVvfG7VcfIqLG9bcldL/+pdWTLxLUy8Qq38heUIjh4XlzZxzQm19lLFlr8vdQ97rjZVOLf8nclzckbcD4wxXMidpX30sFd37Fv/GtwwhzhxGVAprjbg0gCAEeIgwCZyTV2Z1REEW8O4py0wsjeloKoMr6iCY6dP92H6Vw/oTyICIthibxjm/DfN9lVz8IqtqKYLUXfoKVMVQVVJOElGjrnnUt9T9wbgp8AyYKaGlqingHZU/uG2NTZSVqwHQTWkx9hxjkpWDaCg6Ckj5qebgBVbT3V3NNXMSiWSDdGV3hrtzla7J+duwPOToIg42ChPQOQjspnSlp1V+Gjdged7+8UN5CRAV7a5EdFNwCjEaBR27b3W890TE7g24NAP/mMDXRWrGoFPQI9ls/MWO2dWFAar/xcOIImbbpA3zgAAAABJRU5ErkJggg==);\n",
       "        }\n",
       "    </style>\n",
       "    <div>\n",
       "        <a href=\"https://bokeh.org\" target=\"_blank\" class=\"bk-notebook-logo\"></a>\n",
       "        <span id=\"b5c22c1c-012a-444b-b55c-b803a4758d98\">Loading BokehJS ...</span>\n",
       "    </div>\n"
      ]
     },
     "metadata": {},
     "output_type": "display_data"
    },
    {
     "data": {
      "application/javascript": [
       "(function(root) {\n",
       "  function now() {\n",
       "    return new Date();\n",
       "  }\n",
       "\n",
       "  const force = true;\n",
       "\n",
       "  if (typeof root._bokeh_onload_callbacks === \"undefined\" || force === true) {\n",
       "    root._bokeh_onload_callbacks = [];\n",
       "    root._bokeh_is_loading = undefined;\n",
       "  }\n",
       "\n",
       "const JS_MIME_TYPE = 'application/javascript';\n",
       "  const HTML_MIME_TYPE = 'text/html';\n",
       "  const EXEC_MIME_TYPE = 'application/vnd.bokehjs_exec.v0+json';\n",
       "  const CLASS_NAME = 'output_bokeh rendered_html';\n",
       "\n",
       "  /**\n",
       "   * Render data to the DOM node\n",
       "   */\n",
       "  function render(props, node) {\n",
       "    const script = document.createElement(\"script\");\n",
       "    node.appendChild(script);\n",
       "  }\n",
       "\n",
       "  /**\n",
       "   * Handle when an output is cleared or removed\n",
       "   */\n",
       "  function handleClearOutput(event, handle) {\n",
       "    function drop(id) {\n",
       "      const view = Bokeh.index.get_by_id(id)\n",
       "      if (view != null) {\n",
       "        view.model.document.clear()\n",
       "        Bokeh.index.delete(view)\n",
       "      }\n",
       "    }\n",
       "\n",
       "    const cell = handle.cell;\n",
       "\n",
       "    const id = cell.output_area._bokeh_element_id;\n",
       "    const server_id = cell.output_area._bokeh_server_id;\n",
       "\n",
       "    // Clean up Bokeh references\n",
       "    if (id != null) {\n",
       "      drop(id)\n",
       "    }\n",
       "\n",
       "    if (server_id !== undefined) {\n",
       "      // Clean up Bokeh references\n",
       "      const cmd_clean = \"from bokeh.io.state import curstate; print(curstate().uuid_to_server['\" + server_id + \"'].get_sessions()[0].document.roots[0]._id)\";\n",
       "      cell.notebook.kernel.execute(cmd_clean, {\n",
       "        iopub: {\n",
       "          output: function(msg) {\n",
       "            const id = msg.content.text.trim()\n",
       "            drop(id)\n",
       "          }\n",
       "        }\n",
       "      });\n",
       "      // Destroy server and session\n",
       "      const cmd_destroy = \"import bokeh.io.notebook as ion; ion.destroy_server('\" + server_id + \"')\";\n",
       "      cell.notebook.kernel.execute(cmd_destroy);\n",
       "    }\n",
       "  }\n",
       "\n",
       "  /**\n",
       "   * Handle when a new output is added\n",
       "   */\n",
       "  function handleAddOutput(event, handle) {\n",
       "    const output_area = handle.output_area;\n",
       "    const output = handle.output;\n",
       "\n",
       "    // limit handleAddOutput to display_data with EXEC_MIME_TYPE content only\n",
       "    if ((output.output_type != \"display_data\") || (!Object.prototype.hasOwnProperty.call(output.data, EXEC_MIME_TYPE))) {\n",
       "      return\n",
       "    }\n",
       "\n",
       "    const toinsert = output_area.element.find(\".\" + CLASS_NAME.split(' ')[0]);\n",
       "\n",
       "    if (output.metadata[EXEC_MIME_TYPE][\"id\"] !== undefined) {\n",
       "      toinsert[toinsert.length - 1].firstChild.textContent = output.data[JS_MIME_TYPE];\n",
       "      // store reference to embed id on output_area\n",
       "      output_area._bokeh_element_id = output.metadata[EXEC_MIME_TYPE][\"id\"];\n",
       "    }\n",
       "    if (output.metadata[EXEC_MIME_TYPE][\"server_id\"] !== undefined) {\n",
       "      const bk_div = document.createElement(\"div\");\n",
       "      bk_div.innerHTML = output.data[HTML_MIME_TYPE];\n",
       "      const script_attrs = bk_div.children[0].attributes;\n",
       "      for (let i = 0; i < script_attrs.length; i++) {\n",
       "        toinsert[toinsert.length - 1].firstChild.setAttribute(script_attrs[i].name, script_attrs[i].value);\n",
       "        toinsert[toinsert.length - 1].firstChild.textContent = bk_div.children[0].textContent\n",
       "      }\n",
       "      // store reference to server id on output_area\n",
       "      output_area._bokeh_server_id = output.metadata[EXEC_MIME_TYPE][\"server_id\"];\n",
       "    }\n",
       "  }\n",
       "\n",
       "  function register_renderer(events, OutputArea) {\n",
       "\n",
       "    function append_mime(data, metadata, element) {\n",
       "      // create a DOM node to render to\n",
       "      const toinsert = this.create_output_subarea(\n",
       "        metadata,\n",
       "        CLASS_NAME,\n",
       "        EXEC_MIME_TYPE\n",
       "      );\n",
       "      this.keyboard_manager.register_events(toinsert);\n",
       "      // Render to node\n",
       "      const props = {data: data, metadata: metadata[EXEC_MIME_TYPE]};\n",
       "      render(props, toinsert[toinsert.length - 1]);\n",
       "      element.append(toinsert);\n",
       "      return toinsert\n",
       "    }\n",
       "\n",
       "    /* Handle when an output is cleared or removed */\n",
       "    events.on('clear_output.CodeCell', handleClearOutput);\n",
       "    events.on('delete.Cell', handleClearOutput);\n",
       "\n",
       "    /* Handle when a new output is added */\n",
       "    events.on('output_added.OutputArea', handleAddOutput);\n",
       "\n",
       "    /**\n",
       "     * Register the mime type and append_mime function with output_area\n",
       "     */\n",
       "    OutputArea.prototype.register_mime_type(EXEC_MIME_TYPE, append_mime, {\n",
       "      /* Is output safe? */\n",
       "      safe: true,\n",
       "      /* Index of renderer in `output_area.display_order` */\n",
       "      index: 0\n",
       "    });\n",
       "  }\n",
       "\n",
       "  // register the mime type if in Jupyter Notebook environment and previously unregistered\n",
       "  if (root.Jupyter !== undefined) {\n",
       "    const events = require('base/js/events');\n",
       "    const OutputArea = require('notebook/js/outputarea').OutputArea;\n",
       "\n",
       "    if (OutputArea.prototype.mime_types().indexOf(EXEC_MIME_TYPE) == -1) {\n",
       "      register_renderer(events, OutputArea);\n",
       "    }\n",
       "  }\n",
       "  if (typeof (root._bokeh_timeout) === \"undefined\" || force === true) {\n",
       "    root._bokeh_timeout = Date.now() + 5000;\n",
       "    root._bokeh_failed_load = false;\n",
       "  }\n",
       "\n",
       "  const NB_LOAD_WARNING = {'data': {'text/html':\n",
       "     \"<div style='background-color: #fdd'>\\n\"+\n",
       "     \"<p>\\n\"+\n",
       "     \"BokehJS does not appear to have successfully loaded. If loading BokehJS from CDN, this \\n\"+\n",
       "     \"may be due to a slow or bad network connection. Possible fixes:\\n\"+\n",
       "     \"</p>\\n\"+\n",
       "     \"<ul>\\n\"+\n",
       "     \"<li>re-rerun `output_notebook()` to attempt to load from CDN again, or</li>\\n\"+\n",
       "     \"<li>use INLINE resources instead, as so:</li>\\n\"+\n",
       "     \"</ul>\\n\"+\n",
       "     \"<code>\\n\"+\n",
       "     \"from bokeh.resources import INLINE\\n\"+\n",
       "     \"output_notebook(resources=INLINE)\\n\"+\n",
       "     \"</code>\\n\"+\n",
       "     \"</div>\"}};\n",
       "\n",
       "  function display_loaded() {\n",
       "    const el = document.getElementById(\"b5c22c1c-012a-444b-b55c-b803a4758d98\");\n",
       "    if (el != null) {\n",
       "      el.textContent = \"BokehJS is loading...\";\n",
       "    }\n",
       "    if (root.Bokeh !== undefined) {\n",
       "      if (el != null) {\n",
       "        el.textContent = \"BokehJS \" + root.Bokeh.version + \" successfully loaded.\";\n",
       "      }\n",
       "    } else if (Date.now() < root._bokeh_timeout) {\n",
       "      setTimeout(display_loaded, 100)\n",
       "    }\n",
       "  }\n",
       "\n",
       "  function run_callbacks() {\n",
       "    try {\n",
       "      root._bokeh_onload_callbacks.forEach(function(callback) {\n",
       "        if (callback != null)\n",
       "          callback();\n",
       "      });\n",
       "    } finally {\n",
       "      delete root._bokeh_onload_callbacks\n",
       "    }\n",
       "    console.debug(\"Bokeh: all callbacks have finished\");\n",
       "  }\n",
       "\n",
       "  function load_libs(css_urls, js_urls, callback) {\n",
       "    if (css_urls == null) css_urls = [];\n",
       "    if (js_urls == null) js_urls = [];\n",
       "\n",
       "    root._bokeh_onload_callbacks.push(callback);\n",
       "    if (root._bokeh_is_loading > 0) {\n",
       "      console.debug(\"Bokeh: BokehJS is being loaded, scheduling callback at\", now());\n",
       "      return null;\n",
       "    }\n",
       "    if (js_urls == null || js_urls.length === 0) {\n",
       "      run_callbacks();\n",
       "      return null;\n",
       "    }\n",
       "    console.debug(\"Bokeh: BokehJS not loaded, scheduling load and callback at\", now());\n",
       "    root._bokeh_is_loading = css_urls.length + js_urls.length;\n",
       "\n",
       "    function on_load() {\n",
       "      root._bokeh_is_loading--;\n",
       "      if (root._bokeh_is_loading === 0) {\n",
       "        console.debug(\"Bokeh: all BokehJS libraries/stylesheets loaded\");\n",
       "        run_callbacks()\n",
       "      }\n",
       "    }\n",
       "\n",
       "    function on_error(url) {\n",
       "      console.error(\"failed to load \" + url);\n",
       "    }\n",
       "\n",
       "    for (let i = 0; i < css_urls.length; i++) {\n",
       "      const url = css_urls[i];\n",
       "      const element = document.createElement(\"link\");\n",
       "      element.onload = on_load;\n",
       "      element.onerror = on_error.bind(null, url);\n",
       "      element.rel = \"stylesheet\";\n",
       "      element.type = \"text/css\";\n",
       "      element.href = url;\n",
       "      console.debug(\"Bokeh: injecting link tag for BokehJS stylesheet: \", url);\n",
       "      document.body.appendChild(element);\n",
       "    }\n",
       "\n",
       "    for (let i = 0; i < js_urls.length; i++) {\n",
       "      const url = js_urls[i];\n",
       "      const element = document.createElement('script');\n",
       "      element.onload = on_load;\n",
       "      element.onerror = on_error.bind(null, url);\n",
       "      element.async = false;\n",
       "      element.src = url;\n",
       "      console.debug(\"Bokeh: injecting script tag for BokehJS library: \", url);\n",
       "      document.head.appendChild(element);\n",
       "    }\n",
       "  };\n",
       "\n",
       "  function inject_raw_css(css) {\n",
       "    const element = document.createElement(\"style\");\n",
       "    element.appendChild(document.createTextNode(css));\n",
       "    document.body.appendChild(element);\n",
       "  }\n",
       "\n",
       "  const js_urls = [\"https://cdn.bokeh.org/bokeh/release/bokeh-3.3.4.min.js\", \"https://cdn.bokeh.org/bokeh/release/bokeh-gl-3.3.4.min.js\", \"https://cdn.bokeh.org/bokeh/release/bokeh-widgets-3.3.4.min.js\", \"https://cdn.bokeh.org/bokeh/release/bokeh-tables-3.3.4.min.js\", \"https://cdn.bokeh.org/bokeh/release/bokeh-mathjax-3.3.4.min.js\"];\n",
       "  const css_urls = [];\n",
       "\n",
       "  const inline_js = [    function(Bokeh) {\n",
       "      Bokeh.set_log_level(\"info\");\n",
       "    },\n",
       "function(Bokeh) {\n",
       "    }\n",
       "  ];\n",
       "\n",
       "  function run_inline_js() {\n",
       "    if (root.Bokeh !== undefined || force === true) {\n",
       "          for (let i = 0; i < inline_js.length; i++) {\n",
       "      inline_js[i].call(root, root.Bokeh);\n",
       "    }\n",
       "if (force === true) {\n",
       "        display_loaded();\n",
       "      }} else if (Date.now() < root._bokeh_timeout) {\n",
       "      setTimeout(run_inline_js, 100);\n",
       "    } else if (!root._bokeh_failed_load) {\n",
       "      console.log(\"Bokeh: BokehJS failed to load within specified timeout.\");\n",
       "      root._bokeh_failed_load = true;\n",
       "    } else if (force !== true) {\n",
       "      const cell = $(document.getElementById(\"b5c22c1c-012a-444b-b55c-b803a4758d98\")).parents('.cell').data().cell;\n",
       "      cell.output_area.append_execute_result(NB_LOAD_WARNING)\n",
       "    }\n",
       "  }\n",
       "\n",
       "  if (root._bokeh_is_loading === 0) {\n",
       "    console.debug(\"Bokeh: BokehJS loaded, going straight to plotting\");\n",
       "    run_inline_js();\n",
       "  } else {\n",
       "    load_libs(css_urls, js_urls, function() {\n",
       "      console.debug(\"Bokeh: BokehJS plotting callback run at\", now());\n",
       "      run_inline_js();\n",
       "    });\n",
       "  }\n",
       "}(window));"
      ],
      "application/vnd.bokehjs_load.v0+json": "(function(root) {\n  function now() {\n    return new Date();\n  }\n\n  const force = true;\n\n  if (typeof root._bokeh_onload_callbacks === \"undefined\" || force === true) {\n    root._bokeh_onload_callbacks = [];\n    root._bokeh_is_loading = undefined;\n  }\n\n\n  if (typeof (root._bokeh_timeout) === \"undefined\" || force === true) {\n    root._bokeh_timeout = Date.now() + 5000;\n    root._bokeh_failed_load = false;\n  }\n\n  const NB_LOAD_WARNING = {'data': {'text/html':\n     \"<div style='background-color: #fdd'>\\n\"+\n     \"<p>\\n\"+\n     \"BokehJS does not appear to have successfully loaded. If loading BokehJS from CDN, this \\n\"+\n     \"may be due to a slow or bad network connection. Possible fixes:\\n\"+\n     \"</p>\\n\"+\n     \"<ul>\\n\"+\n     \"<li>re-rerun `output_notebook()` to attempt to load from CDN again, or</li>\\n\"+\n     \"<li>use INLINE resources instead, as so:</li>\\n\"+\n     \"</ul>\\n\"+\n     \"<code>\\n\"+\n     \"from bokeh.resources import INLINE\\n\"+\n     \"output_notebook(resources=INLINE)\\n\"+\n     \"</code>\\n\"+\n     \"</div>\"}};\n\n  function display_loaded() {\n    const el = document.getElementById(\"b5c22c1c-012a-444b-b55c-b803a4758d98\");\n    if (el != null) {\n      el.textContent = \"BokehJS is loading...\";\n    }\n    if (root.Bokeh !== undefined) {\n      if (el != null) {\n        el.textContent = \"BokehJS \" + root.Bokeh.version + \" successfully loaded.\";\n      }\n    } else if (Date.now() < root._bokeh_timeout) {\n      setTimeout(display_loaded, 100)\n    }\n  }\n\n  function run_callbacks() {\n    try {\n      root._bokeh_onload_callbacks.forEach(function(callback) {\n        if (callback != null)\n          callback();\n      });\n    } finally {\n      delete root._bokeh_onload_callbacks\n    }\n    console.debug(\"Bokeh: all callbacks have finished\");\n  }\n\n  function load_libs(css_urls, js_urls, callback) {\n    if (css_urls == null) css_urls = [];\n    if (js_urls == null) js_urls = [];\n\n    root._bokeh_onload_callbacks.push(callback);\n    if (root._bokeh_is_loading > 0) {\n      console.debug(\"Bokeh: BokehJS is being loaded, scheduling callback at\", now());\n      return null;\n    }\n    if (js_urls == null || js_urls.length === 0) {\n      run_callbacks();\n      return null;\n    }\n    console.debug(\"Bokeh: BokehJS not loaded, scheduling load and callback at\", now());\n    root._bokeh_is_loading = css_urls.length + js_urls.length;\n\n    function on_load() {\n      root._bokeh_is_loading--;\n      if (root._bokeh_is_loading === 0) {\n        console.debug(\"Bokeh: all BokehJS libraries/stylesheets loaded\");\n        run_callbacks()\n      }\n    }\n\n    function on_error(url) {\n      console.error(\"failed to load \" + url);\n    }\n\n    for (let i = 0; i < css_urls.length; i++) {\n      const url = css_urls[i];\n      const element = document.createElement(\"link\");\n      element.onload = on_load;\n      element.onerror = on_error.bind(null, url);\n      element.rel = \"stylesheet\";\n      element.type = \"text/css\";\n      element.href = url;\n      console.debug(\"Bokeh: injecting link tag for BokehJS stylesheet: \", url);\n      document.body.appendChild(element);\n    }\n\n    for (let i = 0; i < js_urls.length; i++) {\n      const url = js_urls[i];\n      const element = document.createElement('script');\n      element.onload = on_load;\n      element.onerror = on_error.bind(null, url);\n      element.async = false;\n      element.src = url;\n      console.debug(\"Bokeh: injecting script tag for BokehJS library: \", url);\n      document.head.appendChild(element);\n    }\n  };\n\n  function inject_raw_css(css) {\n    const element = document.createElement(\"style\");\n    element.appendChild(document.createTextNode(css));\n    document.body.appendChild(element);\n  }\n\n  const js_urls = [\"https://cdn.bokeh.org/bokeh/release/bokeh-3.3.4.min.js\", \"https://cdn.bokeh.org/bokeh/release/bokeh-gl-3.3.4.min.js\", \"https://cdn.bokeh.org/bokeh/release/bokeh-widgets-3.3.4.min.js\", \"https://cdn.bokeh.org/bokeh/release/bokeh-tables-3.3.4.min.js\", \"https://cdn.bokeh.org/bokeh/release/bokeh-mathjax-3.3.4.min.js\"];\n  const css_urls = [];\n\n  const inline_js = [    function(Bokeh) {\n      Bokeh.set_log_level(\"info\");\n    },\nfunction(Bokeh) {\n    }\n  ];\n\n  function run_inline_js() {\n    if (root.Bokeh !== undefined || force === true) {\n          for (let i = 0; i < inline_js.length; i++) {\n      inline_js[i].call(root, root.Bokeh);\n    }\nif (force === true) {\n        display_loaded();\n      }} else if (Date.now() < root._bokeh_timeout) {\n      setTimeout(run_inline_js, 100);\n    } else if (!root._bokeh_failed_load) {\n      console.log(\"Bokeh: BokehJS failed to load within specified timeout.\");\n      root._bokeh_failed_load = true;\n    } else if (force !== true) {\n      const cell = $(document.getElementById(\"b5c22c1c-012a-444b-b55c-b803a4758d98\")).parents('.cell').data().cell;\n      cell.output_area.append_execute_result(NB_LOAD_WARNING)\n    }\n  }\n\n  if (root._bokeh_is_loading === 0) {\n    console.debug(\"Bokeh: BokehJS loaded, going straight to plotting\");\n    run_inline_js();\n  } else {\n    load_libs(css_urls, js_urls, function() {\n      console.debug(\"Bokeh: BokehJS plotting callback run at\", now());\n      run_inline_js();\n    });\n  }\n}(window));"
     },
     "metadata": {},
     "output_type": "display_data"
    },
    {
     "data": {
      "text/html": [
       "\n",
       "  <div id=\"c8feae1a-51eb-4e8f-add3-f6e1235fd515\" data-root-id=\"p1107\" style=\"display: contents;\"></div>\n"
      ]
     },
     "metadata": {},
     "output_type": "display_data"
    },
    {
     "data": {
      "application/javascript": [
       "(function(root) {\n",
       "  function embed_document(root) {\n",
       "  const docs_json = {\"61955050-8c56-4661-b349-6d09394b4934\":{\"version\":\"3.3.4\",\"title\":\"Bokeh Application\",\"roots\":[{\"type\":\"object\",\"name\":\"Figure\",\"id\":\"p1107\",\"attributes\":{\"x_range\":{\"type\":\"object\",\"name\":\"DataRange1d\",\"id\":\"p1108\"},\"y_range\":{\"type\":\"object\",\"name\":\"DataRange1d\",\"id\":\"p1109\"},\"x_scale\":{\"type\":\"object\",\"name\":\"LinearScale\",\"id\":\"p1116\"},\"y_scale\":{\"type\":\"object\",\"name\":\"LinearScale\",\"id\":\"p1117\"},\"title\":{\"type\":\"object\",\"name\":\"Title\",\"id\":\"p1114\"},\"renderers\":[{\"type\":\"object\",\"name\":\"GlyphRenderer\",\"id\":\"p1151\",\"attributes\":{\"data_source\":{\"type\":\"object\",\"name\":\"ColumnDataSource\",\"id\":\"p1139\",\"attributes\":{\"selected\":{\"type\":\"object\",\"name\":\"Selection\",\"id\":\"p1140\",\"attributes\":{\"indices\":[],\"line_indices\":[]}},\"selection_policy\":{\"type\":\"object\",\"name\":\"UnionRenderers\",\"id\":\"p1141\"},\"data\":{\"type\":\"map\",\"entries\":[[\"x\",{\"type\":\"ndarray\",\"array\":{\"type\":\"bytes\",\"data\":\"b/MBQTJ2SkLIUinCmW0MwnpJ2sAcqBpAR7t9QXsaC0Jgc/1By+30QA1xWMFIHpVBvM7iQNJxl0FaNxzCOBX9wYUg1D+ZuZTA6MhYQaLescE4fy5C72dOwlCPj0EH19LBtDppwnaYH0AA0cdB\"},\"shape\":[27],\"dtype\":\"float32\",\"order\":\"little\"}],[\"y\",{\"type\":\"ndarray\",\"array\":{\"type\":\"bytes\",\"data\":\"v1uIwVLX+0BYWY5BFM2ewR4fCkCk32HBq3RPwKhHwsAwIkVBeg1Awjw3GMF/lNVAQFinQZPQQUJnpTfBlE0jwnGbX8A3reZBjOqoQT5gHMIoGo3B8XlNQUcTLcGZ+1bBW7/HwU1hO0IM7dDA\"},\"shape\":[27],\"dtype\":\"float32\",\"order\":\"little\"}],[\"label\",[\"relationship\",\"man\",\"guy\",\"therapy\",\"bf\",\"leaving\",\"relationships\",\"pressured\",\"toxic\",\"vasectomy\",\"behavior\",\"resentment\",\"communication\",\"goals\",\"manipulative\",\"communicate\",\"committed\",\"unsupportive\",\"flag\",\"unstable\",\"pressuring\",\"coercion\",\"flags\",\"intimacy\",\"engage\",\"damaging\",\"resenting\"]]]}}},\"view\":{\"type\":\"object\",\"name\":\"CDSView\",\"id\":\"p1152\",\"attributes\":{\"filter\":{\"type\":\"object\",\"name\":\"AllIndices\",\"id\":\"p1153\"}}},\"glyph\":{\"type\":\"object\",\"name\":\"Scatter\",\"id\":\"p1148\",\"attributes\":{\"x\":{\"type\":\"field\",\"field\":\"x\"},\"y\":{\"type\":\"field\",\"field\":\"y\"},\"size\":{\"type\":\"value\",\"value\":8},\"line_color\":{\"type\":\"value\",\"value\":\"lightgreen\"},\"fill_color\":{\"type\":\"value\",\"value\":\"lightgreen\"},\"hatch_color\":{\"type\":\"value\",\"value\":\"lightgreen\"}}},\"nonselection_glyph\":{\"type\":\"object\",\"name\":\"Scatter\",\"id\":\"p1149\",\"attributes\":{\"x\":{\"type\":\"field\",\"field\":\"x\"},\"y\":{\"type\":\"field\",\"field\":\"y\"},\"size\":{\"type\":\"value\",\"value\":8},\"line_color\":{\"type\":\"value\",\"value\":\"lightgreen\"},\"line_alpha\":{\"type\":\"value\",\"value\":0.1},\"fill_color\":{\"type\":\"value\",\"value\":\"lightgreen\"},\"fill_alpha\":{\"type\":\"value\",\"value\":0.1},\"hatch_color\":{\"type\":\"value\",\"value\":\"lightgreen\"},\"hatch_alpha\":{\"type\":\"value\",\"value\":0.1}}},\"muted_glyph\":{\"type\":\"object\",\"name\":\"Scatter\",\"id\":\"p1150\",\"attributes\":{\"x\":{\"type\":\"field\",\"field\":\"x\"},\"y\":{\"type\":\"field\",\"field\":\"y\"},\"size\":{\"type\":\"value\",\"value\":8},\"line_color\":{\"type\":\"value\",\"value\":\"lightgreen\"},\"line_alpha\":{\"type\":\"value\",\"value\":0.2},\"fill_color\":{\"type\":\"value\",\"value\":\"lightgreen\"},\"fill_alpha\":{\"type\":\"value\",\"value\":0.2},\"hatch_color\":{\"type\":\"value\",\"value\":\"lightgreen\"},\"hatch_alpha\":{\"type\":\"value\",\"value\":0.2}}}}},{\"type\":\"object\",\"name\":\"GlyphRenderer\",\"id\":\"p1160\",\"attributes\":{\"data_source\":{\"type\":\"object\",\"name\":\"ColumnDataSource\",\"id\":\"p1142\",\"attributes\":{\"selected\":{\"type\":\"object\",\"name\":\"Selection\",\"id\":\"p1143\",\"attributes\":{\"indices\":[],\"line_indices\":[]}},\"selection_policy\":{\"type\":\"object\",\"name\":\"UnionRenderers\",\"id\":\"p1144\"},\"data\":{\"type\":\"map\",\"entries\":[[\"x\",{\"type\":\"ndarray\",\"array\":{\"type\":\"bytes\",\"data\":\"OzhgQrZ5kUHTgtrAcEWeQXWrvUEBtIxBuK6IQRggKcLKhh/CYFDwwMTy48AYNwRAHs43QkYnFULGd0DCimBTQTBoosGg56XBeh8iwuRMQkLdks/BqL8NQk100sEAgElCoNgpQvCXMMKCy/7BB67HQL7XLEF0eJhB\"},\"shape\":[30],\"dtype\":\"float32\",\"order\":\"little\"}],[\"y\",{\"type\":\"ndarray\",\"array\":{\"type\":\"bytes\",\"data\":\"uX7dwTECasH1841BhhvTwTfqCEJMJEhCp3/fQZxsGcHXeF3ANc2ZwYhWUsH4qZlB97UvwUUPu0HOtrBAZQZSv1BRC8IqwsDBNUkNwvVFTUGipcjBK/ogwu3VFcLjDQhBoX+zwbexvcEwL5jAwgXJQSFJ7EFHaiNC\"},\"shape\":[30],\"dtype\":\"float32\",\"order\":\"little\"}],[\"label\",[\"friend\",\"friends\",\"called\",\"california\",\"groups\",\"minor\",\"bunch\",\"random\",\"special\",\"company\",\"sites\",\"member\",\"mum\",\"tons\",\"died\",\"younger\",\"birthday\",\"teen\",\"facebook\",\"adopted\",\"papers\",\"ireland\",\"named\",\"code\",\"photos\",\"grandma\",\"grandmother\",\"announced\",\"grandparents\",\"niece\"]]]}}},\"view\":{\"type\":\"object\",\"name\":\"CDSView\",\"id\":\"p1161\",\"attributes\":{\"filter\":{\"type\":\"object\",\"name\":\"AllIndices\",\"id\":\"p1162\"}}},\"glyph\":{\"type\":\"object\",\"name\":\"Scatter\",\"id\":\"p1157\",\"attributes\":{\"x\":{\"type\":\"field\",\"field\":\"x\"},\"y\":{\"type\":\"field\",\"field\":\"y\"},\"size\":{\"type\":\"value\",\"value\":8},\"line_color\":{\"type\":\"value\",\"value\":\"purple\"},\"fill_color\":{\"type\":\"value\",\"value\":\"purple\"},\"hatch_color\":{\"type\":\"value\",\"value\":\"purple\"}}},\"nonselection_glyph\":{\"type\":\"object\",\"name\":\"Scatter\",\"id\":\"p1158\",\"attributes\":{\"x\":{\"type\":\"field\",\"field\":\"x\"},\"y\":{\"type\":\"field\",\"field\":\"y\"},\"size\":{\"type\":\"value\",\"value\":8},\"line_color\":{\"type\":\"value\",\"value\":\"purple\"},\"line_alpha\":{\"type\":\"value\",\"value\":0.1},\"fill_color\":{\"type\":\"value\",\"value\":\"purple\"},\"fill_alpha\":{\"type\":\"value\",\"value\":0.1},\"hatch_color\":{\"type\":\"value\",\"value\":\"purple\"},\"hatch_alpha\":{\"type\":\"value\",\"value\":0.1}}},\"muted_glyph\":{\"type\":\"object\",\"name\":\"Scatter\",\"id\":\"p1159\",\"attributes\":{\"x\":{\"type\":\"field\",\"field\":\"x\"},\"y\":{\"type\":\"field\",\"field\":\"y\"},\"size\":{\"type\":\"value\",\"value\":8},\"line_color\":{\"type\":\"value\",\"value\":\"purple\"},\"line_alpha\":{\"type\":\"value\",\"value\":0.2},\"fill_color\":{\"type\":\"value\",\"value\":\"purple\"},\"fill_alpha\":{\"type\":\"value\",\"value\":0.2},\"hatch_color\":{\"type\":\"value\",\"value\":\"purple\"},\"hatch_alpha\":{\"type\":\"value\",\"value\":0.2}}}}}],\"toolbar\":{\"type\":\"object\",\"name\":\"Toolbar\",\"id\":\"p1115\",\"attributes\":{\"tools\":[{\"type\":\"object\",\"name\":\"PanTool\",\"id\":\"p1128\"},{\"type\":\"object\",\"name\":\"WheelZoomTool\",\"id\":\"p1129\",\"attributes\":{\"renderers\":\"auto\"}},{\"type\":\"object\",\"name\":\"BoxZoomTool\",\"id\":\"p1130\",\"attributes\":{\"overlay\":{\"type\":\"object\",\"name\":\"BoxAnnotation\",\"id\":\"p1131\",\"attributes\":{\"syncable\":false,\"level\":\"overlay\",\"visible\":false,\"left\":{\"type\":\"number\",\"value\":\"nan\"},\"right\":{\"type\":\"number\",\"value\":\"nan\"},\"top\":{\"type\":\"number\",\"value\":\"nan\"},\"bottom\":{\"type\":\"number\",\"value\":\"nan\"},\"left_units\":\"canvas\",\"right_units\":\"canvas\",\"top_units\":\"canvas\",\"bottom_units\":\"canvas\",\"line_color\":\"black\",\"line_alpha\":1.0,\"line_width\":2,\"line_dash\":[4,4],\"fill_color\":\"lightgrey\",\"fill_alpha\":0.5}}}},{\"type\":\"object\",\"name\":\"SaveTool\",\"id\":\"p1136\"},{\"type\":\"object\",\"name\":\"ResetTool\",\"id\":\"p1137\"},{\"type\":\"object\",\"name\":\"HelpTool\",\"id\":\"p1138\"}]}},\"left\":[{\"type\":\"object\",\"name\":\"LinearAxis\",\"id\":\"p1123\",\"attributes\":{\"ticker\":{\"type\":\"object\",\"name\":\"BasicTicker\",\"id\":\"p1124\",\"attributes\":{\"mantissas\":[1,2,5]}},\"formatter\":{\"type\":\"object\",\"name\":\"BasicTickFormatter\",\"id\":\"p1125\"},\"major_label_policy\":{\"type\":\"object\",\"name\":\"AllLabels\",\"id\":\"p1126\"}}}],\"below\":[{\"type\":\"object\",\"name\":\"LinearAxis\",\"id\":\"p1118\",\"attributes\":{\"ticker\":{\"type\":\"object\",\"name\":\"BasicTicker\",\"id\":\"p1119\",\"attributes\":{\"mantissas\":[1,2,5]}},\"formatter\":{\"type\":\"object\",\"name\":\"BasicTickFormatter\",\"id\":\"p1120\"},\"major_label_policy\":{\"type\":\"object\",\"name\":\"AllLabels\",\"id\":\"p1121\"}}}],\"center\":[{\"type\":\"object\",\"name\":\"Grid\",\"id\":\"p1122\",\"attributes\":{\"axis\":{\"id\":\"p1118\"}}},{\"type\":\"object\",\"name\":\"Grid\",\"id\":\"p1127\",\"attributes\":{\"dimension\":1,\"axis\":{\"id\":\"p1123\"}}},{\"type\":\"object\",\"name\":\"LabelSet\",\"id\":\"p1163\",\"attributes\":{\"source\":{\"id\":\"p1139\"},\"x\":{\"type\":\"field\",\"field\":\"x\"},\"y\":{\"type\":\"field\",\"field\":\"y\"},\"text\":{\"type\":\"field\",\"field\":\"label\"},\"x_offset\":{\"type\":\"value\",\"value\":6},\"y_offset\":{\"type\":\"value\",\"value\":3}}},{\"type\":\"object\",\"name\":\"LabelSet\",\"id\":\"p1167\",\"attributes\":{\"source\":{\"id\":\"p1142\"},\"x\":{\"type\":\"field\",\"field\":\"x\"},\"y\":{\"type\":\"field\",\"field\":\"y\"},\"text\":{\"type\":\"field\",\"field\":\"label\"},\"x_offset\":{\"type\":\"value\",\"value\":6},\"y_offset\":{\"type\":\"value\",\"value\":3}}}]}}]}};\n",
       "  const render_items = [{\"docid\":\"61955050-8c56-4661-b349-6d09394b4934\",\"roots\":{\"p1107\":\"c8feae1a-51eb-4e8f-add3-f6e1235fd515\"},\"root_ids\":[\"p1107\"]}];\n",
       "  root.Bokeh.embed.embed_items_notebook(docs_json, render_items);\n",
       "  }\n",
       "  if (root.Bokeh !== undefined) {\n",
       "    embed_document(root);\n",
       "  } else {\n",
       "    let attempts = 0;\n",
       "    const timer = setInterval(function(root) {\n",
       "      if (root.Bokeh !== undefined) {\n",
       "        clearInterval(timer);\n",
       "        embed_document(root);\n",
       "      } else {\n",
       "        attempts++;\n",
       "        if (attempts > 100) {\n",
       "          clearInterval(timer);\n",
       "          console.log(\"Bokeh: ERROR: Unable to run BokehJS code because BokehJS library is missing\");\n",
       "        }\n",
       "      }\n",
       "    }, 10, root)\n",
       "  }\n",
       "})(window);"
      ],
      "application/vnd.bokehjs_exec.v0+json": ""
     },
     "metadata": {
      "application/vnd.bokehjs_exec.v0+json": {
       "id": "p1107"
      }
     },
     "output_type": "display_data"
    }
   ],
   "source": [
    "output_notebook()\n",
    "p = figure()\n",
    "source1 = ColumnDataSource(data=dict(x=X_target1[:, 0], y=X_target1[:, 1], label=[model_bias_comments.wv.index_to_key[idx] for idx in target1_idx]))\n",
    "source2 = ColumnDataSource(data=dict(x=X_target2[:, 0], y=X_target2[:, 1], label=[model_bias_comments.wv.index_to_key[idx] for idx in target2_idx]))\n",
    "p.scatter(x='x', y='y', color='lightgreen', size=8, source=source1)\n",
    "p.scatter(x='x', y='y', color='purple', size=8, source=source2)\n",
    "labels1 = LabelSet(x='x', y='y', text='label', x_offset=6, y_offset=3, source=source1)\n",
    "p.add_layout(labels1)\n",
    "labels2 = LabelSet(x='x', y='y', text='label', x_offset=6, y_offset=3, source=source2)\n",
    "p.add_layout(labels2)\n",
    "show(p)"
   ]
  },
  {
   "cell_type": "markdown",
   "metadata": {},
   "source": [
    "The words accompanied with purple dots in the model above demonstrate language bias towards familial relationships (parents, siblings, etc.) in the comments data of r/abortion while the green dots highlight words biased toward romantic partners. A few noticeable points in this model include:\n",
    "\n",
    "   - \"Blaming\", \"dick\", and \"boundaries\" (all romantic biased words) fall very close to \"grandma\" and \"birthday\" (family leaning words.) My guess is that this is because ***birthdays*** are a sensitive time for most people, and there is often overlap between ***family*** and ***romantic partners*** crossing ***boundaries*** on birthdays because that is often when family and couples engage with eachother. Another word close by that backs this theory up is \"handful,\" which likely is referencing when relatives and in laws from both sides of the family can be a lot to deal with, or a ***handful*** when they ***visit*** for ***birthdays***.\n",
    "    \n",
    "   - \"Unsupportive\" and \"resentment\" are both categorized as a language biases towards romantic partners (not family), which is interesting because I could have seen that word going either way. The language used negatively towards family and romantic partners seems to vary, understandably so, and I hope to further explore exactly what the difference is through this project. \n",
    "    \n",
    "   - Both \"communicate\" and \"communication\" are marked as romantic relationship bias but are in different spots (far away) in the model. \"Communicate\" is closest to \"justified\" (romantic), \"handful\" (familial), \"birthday\" (familial), and \"blaming\" (romantic) whereas \"communication\" is surrounded by \"older\", \"member\", \"called\", and \"announced\"--all of which are biased towards familial relationships. My first thought is that \"communication\" is used more generally, referring to the broader level of sharing and openness between two individuals, or many. For instance when a woman ***announces*** their pregnancy by ***calling*** some ***members*** of their family, they conducted a general act of ***communication***. On the other hand, \"communicate\" can be used on more of a situational basis to discuss an act happening in the moment. A partner can ***communicate*** with their romantic counterpart that they understand that their family is being a ***handful*** while ***visiting*** for a ***birthday***, thus making the individual feel more ***justifed***.\n",
    "    \n",
    "   - \"Pressuring\" is marked as a romantic bias, but is closest in proximity on the model to \"mum\" and \"friends\" which are both familial. In terms of abortion and romantic relationships, it makes sense that \"pressuring\" is categorized as such because it's not uncommon for a romantic partner to ***pressure*** their girlfriend into sex or having/not having an abortion. However, it is interesting that \"mum\" is so close to the \"pressuring\" in the model, indicating that a large amount of pressure women feel when discussing abortion may also stem from our relationships with our mothers."
   ]
  },
  {
   "cell_type": "markdown",
   "metadata": {},
   "source": [
    "## Conclusions\n",
    "   1. The predominant topics of discussion within this subreddit are requests for medical advice/resources, struggles with decision making, and rants about emotional repercussions of an abortion. \n",
    "   2. My research and models show that within the realm of abortion discussions in a pro-choice space,  language biased towards men is harsher surrounding close romantic relationships than familial ones. \n",
    "   3. However, there is a lot of negative sentiment towards fathers. Throughout the subreddit the bias towards men is evidently a lot stronger in a negative sense towards men than women, although that makes sense since the only biological gender able to get abortions are women, so the page is predominantly written by and for women, minimizing the negative language towards women. \n",
    "   4. Pressure and shame surrounding abortion discussions can stem from both familial relationships as well as romantic\n",
    "   5. \"bodies\" is a term embedded most similarly to \"men\"--indicating that women discuss their bodies within the context of men controlling them via abortion laws."
   ]
  },
  {
   "cell_type": "markdown",
   "metadata": {},
   "source": [
    "## References\n",
    "\n",
    "Figure 1: “Abortion Laws by State.” Center for Reproductive Rights, https://reproductiverights.org/maps/abortion-laws-by-state/. Accessed 10 Aug. 2024.\n",
    "\n",
    "Figure 2: “Abortion.” n.d. Accessed August 14, 2024. https://www.reddit.com/r/abortion/wiki/rules/."
   ]
  },
  {
   "cell_type": "code",
   "execution_count": 93,
   "metadata": {},
   "outputs": [
    {
     "name": "stdout",
     "output_type": "stream",
     "text": [
      "3061\n"
     ]
    }
   ],
   "source": [
    "# This code cell will give you a word count, in case you need it. \n",
    "# Note that this opens the file you are currently in, so make sure to save it first to get an accurate word count.\n",
    "\n",
    "with open('DIGHUM160_essay_morrisbenedict.ipynb',encoding='utf-8') as json_file:\n",
    "    data = json.load(json_file)\n",
    "\n",
    "wordCount = 0\n",
    "for each in data['cells']:\n",
    "    cellType = each['cell_type']\n",
    "    if cellType == \"markdown\":\n",
    "        content = each['source']\n",
    "        for line in content:\n",
    "            # you might want to filter for more markdown keywords here\n",
    "            temp = [word for word in line.split() if \"#\" not in word] \n",
    "            wordCount = wordCount + len(temp)\n",
    "            \n",
    "print(wordCount)"
   ]
  }
 ],
 "metadata": {
  "kernelspec": {
   "display_name": "Python 3 (ipykernel)",
   "language": "python",
   "name": "python3"
  },
  "language_info": {
   "codemirror_mode": {
    "name": "ipython",
    "version": 3
   },
   "file_extension": ".py",
   "mimetype": "text/x-python",
   "name": "python",
   "nbconvert_exporter": "python",
   "pygments_lexer": "ipython3",
   "version": "3.11.7"
  }
 },
 "nbformat": 4,
 "nbformat_minor": 4
}
